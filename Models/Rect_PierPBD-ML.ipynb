{
 "cells": [
  {
   "cell_type": "markdown",
   "metadata": {},
   "source": [
    "## Import libraries"
   ]
  },
  {
   "cell_type": "code",
   "execution_count": 1,
   "metadata": {},
   "outputs": [],
   "source": [
    "#from tensorflow.compat.v1.keras.models import Sequential\n",
    "#from tensorflow.compat.v1.keras.layers import Dense\n",
    "#from tensorflow.compat.v1.keras.wrappers.scikit_learn import KerasClassifier, KerasRegressor\n",
    "from tensorflow.keras.models import Sequential\n",
    "from tensorflow.keras.layers import Dense\n",
    "from tensorflow.keras.wrappers.scikit_learn import KerasClassifier, KerasRegressor\n",
    "\n",
    "import pandas as pd\n",
    "import numpy as np\n",
    "from six import string_types\n",
    "from six.moves import xrange as range\n",
    "from numpy import nan\n",
    "import xlrd\n",
    "\n",
    "import matplotlib.pyplot as plt \n",
    "import seaborn as sns\n",
    "import pylab\n",
    "from pylab import *\n",
    "\n",
    "import sklearn\n",
    "from sklearn.model_selection import cross_val_score, KFold\n",
    "from sklearn.preprocessing import StandardScaler, MinMaxScaler\n",
    "from sklearn.metrics import f1_score, SCORERS, r2_score\n",
    "from sklearn import linear_model, neighbors, tree\n",
    "from sklearn.linear_model import LinearRegression\n",
    "from sklearn.tree import DecisionTreeRegressor\n",
    "from sklearn.ensemble import RandomForestRegressor\n",
    "from scipy.stats import kendalltau, spearmanr, pearsonr, variation\n",
    "from sklearn.svm import SVR\n",
    "from sklearn.pipeline import Pipeline\n",
    "\n",
    "import time\n",
    "from tqdm.notebook import trange, tqdm\n",
    "from time import sleep\n",
    "\n",
    "RESULT_PATH = \"results/\"\n",
    "FILE_PATH = 'Rect_Dataset.xlsx'\n",
    "\n",
    "# fix random seed for reproducibility, random to be called before permutations in following blocks\n",
    "seed = 4191995\n"
   ]
  },
  {
   "cell_type": "markdown",
   "metadata": {},
   "source": [
    "## Dataset import and pre-process"
   ]
  },
  {
   "cell_type": "code",
   "execution_count": 2,
   "metadata": {},
   "outputs": [],
   "source": [
    "# split into input (X) and output (Y) variables\n",
    "DATA = np.array(pd.read_excel(FILE_PATH))\n",
    "X = DATA[:,1:8]\n",
    "Y = DATA[:,8:11]\n",
    "Y = np.where(Y==0,np.nan,Y) \n",
    "\n",
    "#X = pd.DataFrame(X)\n",
    "#print(X.info())\n",
    "#Y = pd.DataFrame(Y)\n",
    "#print(Y.info())\n",
    "\n",
    "# Shuffle data\n",
    "np.random.seed(seed)\n",
    "p = np.random.permutation(len(X))\n",
    "X = X[p]\n",
    "np.random.seed(seed)\n",
    "p = np.random.permutation(len(X))\n",
    "Y = Y[p]\n",
    "\n",
    "DATA = DATA[p]\n",
    "\n",
    "# Normalize data\n",
    "scaler = MinMaxScaler()\n",
    "scaler.fit(X)\n",
    "X_ = scaler.transform(X)\n"
   ]
  },
  {
   "cell_type": "code",
   "execution_count": 3,
   "metadata": {},
   "outputs": [
    {
     "name": "stdout",
     "output_type": "stream",
     "text": [
      "[[3.03571429 4.96428571        nan]\n",
      " [       nan        nan 7.28346457]\n",
      " [1.21121718        nan        nan]\n",
      " [2.01284797        nan 5.2248394 ]\n",
      " [3.63961814        nan 4.85083532]\n",
      " [2.                nan 4.99696049]\n",
      " [0.625      1.25       3.125     ]\n",
      " [2.                nan 4.        ]\n",
      " [       nan        nan 9.48275862]\n",
      " [       nan        nan 4.70852018]]\n"
     ]
    }
   ],
   "source": [
    "print((Y[:10])) # only display first 10 rows"
   ]
  },
  {
   "cell_type": "code",
   "execution_count": 4,
   "metadata": {},
   "outputs": [
    {
     "name": "stdout",
     "output_type": "stream",
     "text": [
      "(82, 7)\n",
      "(82, 3)\n",
      "(82, 10)\n"
     ]
    }
   ],
   "source": [
    "print(X.shape)\n",
    "print(Y.shape)\n",
    "Z = np.zeros([X.shape[0], X.shape[1]+Y.shape[1]])\n",
    "print(Z.shape)\n",
    "\n",
    "# Combine X and Y into Z\n",
    "Z[:,:7] = X[:,:]\n",
    "Z[:,7:] = Y[:,:]"
   ]
  },
  {
   "cell_type": "markdown",
   "metadata": {},
   "source": [
    "## Impute Output Values"
   ]
  },
  {
   "cell_type": "code",
   "execution_count": 5,
   "metadata": {},
   "outputs": [
    {
     "name": "stdout",
     "output_type": "stream",
     "text": [
      "(82, 10)\n",
      "(82, 3)\n",
      "[[3.03571429 4.96428571 4.80157923]\n",
      " [0.39087948 4.48571429 7.28346457]\n",
      " [1.21121718 2.26348376 2.66375835]\n",
      " [2.01284797 4.48571429 5.2248394 ]\n",
      " [3.63961814 2.14176664 4.85083532]\n",
      " [2.         4.48571429 4.99696049]\n",
      " [0.625      1.25       3.125     ]\n",
      " [2.         4.48571429 4.        ]\n",
      " [1.99104873 4.50714286 9.48275862]\n",
      " [0.87       1.75       4.70852018]]\n"
     ]
    }
   ],
   "source": [
    "from sklearn.impute import SimpleImputer\n",
    "from sklearn.impute import KNNImputer\n",
    "\n",
    "#imp_mean = SimpleImputer(missing_values=np.nan, strategy='mean')\n",
    "imp_mean = KNNImputer(missing_values=np.nan, n_neighbors=5, weights='uniform', metric='nan_euclidean')\n",
    "imp_mean.fit(Z)\n",
    "SimpleImputer()\n",
    "Z_ = imp_mean.transform(Z)\n",
    "print(Z_.shape)\n",
    "\n",
    "Y_ = Z_[:,7:]\n",
    "print(Y_.shape)\n",
    "print(Y_[:10])  # only display first 10 rows"
   ]
  },
  {
   "cell_type": "code",
   "execution_count": 6,
   "metadata": {},
   "outputs": [
    {
     "name": "stdout",
     "output_type": "stream",
     "text": [
      "Total training data points:  65\n",
      "Total testing data points:  17\n"
     ]
    }
   ],
   "source": [
    "# Split into training and testing\n",
    "train_all_ratio = 80/100\n",
    "train_x = X_[:int(len(X)*train_all_ratio)]\n",
    "test_x = X_[int(len(X)*train_all_ratio):]\n",
    "test_x_original = X[int(len(X)*train_all_ratio):]\n",
    "train_y = Y_[:int(len(X)*train_all_ratio)] # training targets contains inputed targets\n",
    "test_y = Y[int(len(X)*train_all_ratio):] # testing targets are original targets\n",
    "\n",
    "print('Total training data points: ', len(train_x))\n",
    "print('Total testing data points: ', len(test_x))"
   ]
  },
  {
   "cell_type": "code",
   "execution_count": 7,
   "metadata": {},
   "outputs": [
    {
     "name": "stdout",
     "output_type": "stream",
     "text": [
      "           0         1         2\n",
      "0   3.031026       NaN       NaN\n",
      "1   1.000000  2.125000  3.687500\n",
      "2   0.380022       NaN  1.085776\n",
      "3   2.000000       NaN       NaN\n",
      "4   2.642857  4.500000       NaN\n",
      "5        NaN       NaN  5.481799\n",
      "6   0.583333  1.166667       NaN\n",
      "7   2.450000  3.675000  4.900000\n",
      "8   2.137500  2.137500  4.275000\n",
      "9        NaN       NaN  9.251969\n",
      "10  2.000000       NaN       NaN\n",
      "11  1.333333  2.787879  4.472727\n",
      "12  1.187500  1.250000  3.625000\n",
      "13  1.151515  1.757576  4.993939\n",
      "14  2.012848       NaN  6.852248\n",
      "15  1.912500  1.912500  2.806250\n",
      "16  1.107872       NaN       NaN\n"
     ]
    }
   ],
   "source": [
    "print(pd.DataFrame(test_y))"
   ]
  },
  {
   "cell_type": "markdown",
   "metadata": {},
   "source": [
    "## Define Reference Index proc"
   ]
  },
  {
   "cell_type": "code",
   "execution_count": 8,
   "metadata": {},
   "outputs": [],
   "source": [
    "#Add 4 normalized columns to array\n",
    "def Ref_IDX(GSA_array, num_desc):\n",
    "    r, r2, SMAPE, RMSE, ref_idx = [],[],[],[],[]\n",
    "    #replace possible pearson r errors (nan) with 0\n",
    "    GSA_array = np.nan_to_num(GSA_array, nan=0.0)\n",
    "    #iterate through all columns and normalize metric scores\n",
    "    for i in range(len(GSA_array)):\n",
    "        r.append((float(GSA_array[i,num_desc+0] - min(GSA_array[:,num_desc+0]))/float(max(GSA_array[:,num_desc+0])-min(GSA_array[:,num_desc+0]))))\n",
    "        r2.append(float(GSA_array[i,num_desc+1] - min(GSA_array[:,num_desc+1]))/float(max(GSA_array[:,num_desc+1])-min(GSA_array[:,num_desc+1])))\n",
    "        SMAPE.append(1-float(GSA_array[i,num_desc+2] - min(GSA_array[:,num_desc+2]))/float(max(GSA_array[:,num_desc+2])-min(GSA_array[:,num_desc+2])))\n",
    "        RMSE.append(1-float(GSA_array[i,num_desc+3] - min(GSA_array[:,num_desc+3]))/float(max(GSA_array[:,num_desc+3])-min(GSA_array[:,num_desc+3])))\n",
    "    #concatenate variables into a single array\n",
    "    r = np.vstack(r)\n",
    "    r2 = np.vstack(r2)\n",
    "    SMAPE = np.vstack(SMAPE)\n",
    "    RMSE = np.vstack(RMSE)\n",
    "    norms = np.hstack((r, r2, SMAPE, RMSE))\n",
    "    GSA_array = np.hstack((GSA_array,norms))\n",
    "    #average normalized values to produce reference index\n",
    "    for i in range(len(GSA_array)):\n",
    "        ref_idx.append(((0.1*GSA_array[i,num_desc+4])+(0.3*GSA_array[i,num_desc+5])+(0.3*GSA_array[i,num_desc+6])+(0.3*GSA_array[i,num_desc+7])))\n",
    "    ref_idx = np.vstack(ref_idx)\n",
    "    GSA_array = np.hstack((GSA_array,ref_idx))\n",
    "    #sort array in descending order ( higher ref_idx = better performance)\n",
    "    GSA_array = GSA_array[np.argsort(-GSA_array[:, num_desc+8])]\n",
    "    return GSA_array"
   ]
  },
  {
   "cell_type": "code",
   "execution_count": 9,
   "metadata": {},
   "outputs": [],
   "source": [
    "import warnings\n",
    "warnings.filterwarnings(\"ignore\")"
   ]
  },
  {
   "cell_type": "markdown",
   "metadata": {},
   "source": [
    "## Define ML Model processing functions"
   ]
  },
  {
   "cell_type": "code",
   "execution_count": 10,
   "metadata": {},
   "outputs": [],
   "source": [
    "def RemoveNan(test, pred):\n",
    "    trimmed_test = []\n",
    "    trimmed_pred = []\n",
    "    for i in range(len(test)):\n",
    "        if np.isnan(test[i]) == False:\n",
    "            trimmed_test.append(test[i])\n",
    "            trimmed_pred.append(pred[i])\n",
    "    trimmed_test = np.array(trimmed_test, dtype='float')\n",
    "    trimmed_pred = np.array(trimmed_pred, dtype='float')\n",
    "    return trimmed_test, trimmed_pred\n",
    "\n",
    "def ML_MAE(test, pred):\n",
    "    MAE = 0\n",
    "    for i in range(len(test)):\n",
    "        MAE += abs(test[i] - pred[i])\n",
    "    MAE = MAE/len(test)    \n",
    "    return MAE\n",
    "\n",
    "def ML_RMSE(test, pred):\n",
    "    MSE = 0\n",
    "    for i in range(len(test)):\n",
    "        MSE += (test[i] - pred[i])**2\n",
    "    RMSE = (MSE/len(test))**0.5\n",
    "    return RMSE\n",
    "\n",
    "def ML_SMAPE(test, pred):\n",
    "    SMAPE = 0\n",
    "    for i in range(len(test)):\n",
    "        SMAPE += abs(test[i] - pred[i])/((abs(test[i])+abs(pred[i]))/2)\n",
    "    SMAPE = (100/len(test))*SMAPE\n",
    "    return SMAPE"
   ]
  },
  {
   "cell_type": "markdown",
   "metadata": {},
   "source": [
    "### Establish Neural Network Model"
   ]
  },
  {
   "cell_type": "code",
   "execution_count": 11,
   "metadata": {
    "scrolled": false
   },
   "outputs": [],
   "source": [
    "def train_and_test_NN(train_X, train_Y, test_X, test_Y, neur1, neur2, neur3, activ, splits, GSA_BEST):\n",
    "\n",
    "    activ_funcs = {1: 'sigmoid', 2: 'relu', 3: 'tanh' }\n",
    "    \n",
    "    # Define Sequential Keras base model\n",
    "    model = Sequential()\n",
    "    model.add(Dense(neur1, input_dim=7, kernel_initializer='normal', activation= activ_funcs.get(activ)))\n",
    "    if neur2 != 0: #functionality for single hidden layer grid search\n",
    "        model.add(Dense(neur2, kernel_initializer='normal', activation= activ_funcs.get(activ)))\n",
    "    if neur3 != 0: #functionality for two hidden layer grid search\n",
    "        model.add(Dense(neur3, kernel_initializer='normal', activation= activ_funcs.get(activ)))\n",
    "    model.add(Dense(1, kernel_initializer='normal', activation='linear'))\n",
    "    model.compile(optimizer='rmsprop', loss='mse', metrics=['mse'])\n",
    "\n",
    "    if splits == 0 or splits == 1: #does not perform KFold CV\n",
    "            \n",
    "        model.fit(train_X, train_Y, epochs=300, batch_size=8,  verbose=0)\n",
    "        pred_y_nn = model.predict(test_X)\n",
    "        pred_y_nn = np.hstack(pred_y_nn)\n",
    "        test_y_, pred_y_  =  RemoveNan(test_Y,pred_y_nn)\n",
    "        MAE = ML_MAE(test = test_y_, pred = pred_y_)\n",
    "        RMSE = ML_RMSE(test = test_y_, pred = pred_y_)\n",
    "        SMAPE = ML_SMAPE(test = test_y_, pred = pred_y_)\n",
    "        r = pearsonr(pred_y_, test_y_)[0]\n",
    "        r2 = r2_score(test_y_, pred_y_)\n",
    "        GSA_BEST.append([neur1, neur2, neur3, activ, r, r2, SMAPE, RMSE])\n",
    "        return pred_y_, test_y_, GSA_BEST\n",
    "    else:\n",
    "        kf = KFold(n_splits=splits)\n",
    "        kf.get_n_splits(train_X)\n",
    "        r, r2, SMAPE, RMSE = [],[],[],[]\n",
    "        for train_index, test_index in kf.split(train_X):\n",
    "            CV_train_X, CV_test_X = train_X[train_index], train_X[test_index]\n",
    "            CV_train_Y, CV_test_Y = train_Y[train_index], train_Y[test_index]\n",
    "            model.fit(CV_train_X, CV_train_Y, epochs=300, batch_size=8,  verbose=0)\n",
    "            pred_y_nn = model.predict(CV_test_X)\n",
    "            pred_y_nn = np.hstack(pred_y_nn)\n",
    "            CV_test_y_, CV_pred_y_  =  RemoveNan(CV_test_Y,pred_y_nn)\n",
    "            \n",
    "            RMSE.append(ML_RMSE(test = CV_test_y_, pred = CV_pred_y_))\n",
    "            SMAPE.append(ML_SMAPE(test = CV_test_y_, pred = CV_pred_y_))\n",
    "            r.append(pearsonr(CV_pred_y_, CV_test_y_)[0])\n",
    "            r2.append(r2_score(CV_test_y_, CV_pred_y_))\n",
    "            \n",
    "        RMSE = sum(RMSE)/len(RMSE) \n",
    "        SMAPE = sum(SMAPE)/len(SMAPE) \n",
    "        r = sum(r)/len(r) \n",
    "        r2 = sum(r2)/len(r2) \n",
    "        GSA_BEST.append([neur1, neur2, neur3, activ, r, r2, SMAPE, RMSE])\n",
    "        return CV_pred_y_, CV_test_y_, GSA_BEST\n"
   ]
  },
  {
   "cell_type": "markdown",
   "metadata": {},
   "source": [
    "### Establish Linear Regression Model"
   ]
  },
  {
   "cell_type": "code",
   "execution_count": 12,
   "metadata": {
    "scrolled": true
   },
   "outputs": [],
   "source": [
    "def train_and_test_LR(train_X, train_Y, test_X, test_Y, splits, GSA_BEST):\n",
    "    linear_regression = LinearRegression()\n",
    "\n",
    "    if splits == 0 or splits == 1: #does not perform KFold CV\n",
    "        linear_regression.fit(train_X, train_Y)\n",
    "        pred_y_regression = linear_regression.predict(test_X)\n",
    "        test_y_, pred_y_  =  RemoveNan(test_Y,pred_y_regression)\n",
    "        MAE = ML_MAE(test = test_y_, pred = pred_y_)\n",
    "        RMSE = ML_RMSE(test = test_y_, pred = pred_y_)\n",
    "        SMAPE = ML_SMAPE(test = test_y_, pred = pred_y_)\n",
    "        r = pearsonr(pred_y_, test_y_)[0]\n",
    "        r2 = r2_score(test_y_, pred_y_)\n",
    "        GSA_BEST.append([r, r2, SMAPE, RMSE])\n",
    "        return pred_y_, test_y_, GSA_BEST\n",
    "    else:\n",
    "        kf = KFold(n_splits=splits)\n",
    "        kf.get_n_splits(train_X)\n",
    "        r, r2, SMAPE, RMSE = [],[],[],[]\n",
    "        for train_index, test_index in kf.split(train_X):\n",
    "            CV_train_X, CV_test_X = train_X[train_index], train_X[test_index]\n",
    "            CV_train_Y, CV_test_Y = train_Y[train_index], train_Y[test_index]\n",
    "            linear_regression.fit(CV_train_X, CV_train_Y)\n",
    "            pred_y_regression = linear_regression.predict(CV_test_X)\n",
    "            CV_test_y_, CV_pred_y_  =  RemoveNan(CV_test_Y,pred_y_regression)\n",
    "            \n",
    "            RMSE.append(ML_RMSE(test = CV_test_y_, pred = CV_pred_y_))\n",
    "            SMAPE.append(ML_SMAPE(test = CV_test_y_, pred = CV_pred_y_))\n",
    "            r.append(pearsonr(CV_pred_y_, CV_test_y_)[0])\n",
    "            r2.append(r2_score(CV_test_y_, CV_pred_y_))\n",
    "            \n",
    "        RMSE = sum(RMSE)/len(RMSE) \n",
    "        SMAPE = sum(SMAPE)/len(SMAPE) \n",
    "        r = sum(r)/len(r) \n",
    "        r2 = sum(r2)/len(r2) \n",
    "        GSA_BEST.append([r, r2, SMAPE, RMSE])\n",
    "        return CV_pred_y_, CV_test_y_, GSA_BEST"
   ]
  },
  {
   "cell_type": "markdown",
   "metadata": {},
   "source": [
    "### Establish Ridge Regression Model"
   ]
  },
  {
   "cell_type": "code",
   "execution_count": 13,
   "metadata": {},
   "outputs": [],
   "source": [
    "def train_and_test_RR(train_X, train_Y, test_X, test_Y, RR_Alpha, splits, GSA_BEST):\n",
    "    RR = linear_model.Ridge(RR_Alpha)\n",
    "\n",
    "    if splits == 0 or splits == 1: #does not perform KFold CV\n",
    "        RR.fit(train_X, train_Y)\n",
    "        pred_y_RR = RR.predict(test_X)\n",
    "        test_y_, pred_y_  =  RemoveNan(test_Y,pred_y_RR)\n",
    "        MAE = ML_MAE(test = test_y_, pred = pred_y_)\n",
    "        RMSE = ML_RMSE(test = test_y_, pred = pred_y_)\n",
    "        SMAPE = ML_SMAPE(test = test_y_, pred = pred_y_)\n",
    "        r = pearsonr(pred_y_, test_y_)[0]\n",
    "        r2 = r2_score(test_y_, pred_y_)\n",
    "        GSA_BEST.append([RR_Alpha, r, r2, SMAPE, RMSE])\n",
    "        return pred_y_, test_y_, GSA_BEST\n",
    "    else:\n",
    "        kf = KFold(n_splits=splits)\n",
    "        kf.get_n_splits(train_X)\n",
    "        r, r2, SMAPE, RMSE = [],[],[],[]\n",
    "        for train_index, test_index in kf.split(train_X):\n",
    "            CV_train_X, CV_test_X = train_X[train_index], train_X[test_index]\n",
    "            CV_train_Y, CV_test_Y = train_Y[train_index], train_Y[test_index]\n",
    "            RR.fit(CV_train_X, CV_train_Y)\n",
    "            pred_y_RR = RR.predict(CV_test_X)\n",
    "            CV_test_y_, CV_pred_y_  =  RemoveNan(CV_test_Y,pred_y_RR)\n",
    "            \n",
    "            RMSE.append(ML_RMSE(test = CV_test_y_, pred = CV_pred_y_))\n",
    "            SMAPE.append(ML_SMAPE(test = CV_test_y_, pred = CV_pred_y_))\n",
    "            r.append(pearsonr(CV_pred_y_, CV_test_y_)[0])\n",
    "            r2.append(r2_score(CV_test_y_, CV_pred_y_))\n",
    "            \n",
    "        RMSE = sum(RMSE)/len(RMSE) \n",
    "        SMAPE = sum(SMAPE)/len(SMAPE) \n",
    "        r = sum(r)/len(r) \n",
    "        r2 = sum(r2)/len(r2) \n",
    "        GSA_BEST.append([RR_Alpha, r, r2, SMAPE, RMSE])\n",
    "        return CV_pred_y_, CV_test_y_, GSA_BEST"
   ]
  },
  {
   "cell_type": "markdown",
   "metadata": {},
   "source": [
    "### Establish Lasso Regression Model"
   ]
  },
  {
   "cell_type": "code",
   "execution_count": 14,
   "metadata": {},
   "outputs": [],
   "source": [
    "def train_and_test_lasso(train_X, train_Y, test_X, test_Y, Lasso_Alpha, splits, GSA_BEST):\n",
    "    Lasso = linear_model.Lasso(Lasso_Alpha)\n",
    "\n",
    "    if splits == 0 or splits == 1: #does not perform KFold CV\n",
    "        Lasso.fit(train_X, train_Y)\n",
    "        pred_y_Lasso = Lasso.predict(test_X)\n",
    "        test_y_, pred_y_  =  RemoveNan(test_Y,pred_y_Lasso)\n",
    "        MAE = ML_MAE(test = test_y_, pred = pred_y_)\n",
    "        RMSE = ML_RMSE(test = test_y_, pred = pred_y_)\n",
    "        SMAPE = ML_SMAPE(test = test_y_, pred = pred_y_)\n",
    "        r = pearsonr(pred_y_, test_y_)[0]\n",
    "        r2 = r2_score(test_y_, pred_y_)\n",
    "        GSA_BEST.append([Lasso_Alpha, r, r2, SMAPE, RMSE])\n",
    "        return pred_y_, test_y_, GSA_BEST\n",
    "    else:\n",
    "        kf = KFold(n_splits=splits)\n",
    "        kf.get_n_splits(train_X)\n",
    "        r, r2, SMAPE, RMSE = [],[],[],[]\n",
    "        for train_index, test_index in kf.split(train_X):\n",
    "            CV_train_X, CV_test_X = train_X[train_index], train_X[test_index]\n",
    "            CV_train_Y, CV_test_Y = train_Y[train_index], train_Y[test_index]\n",
    "            Lasso.fit(CV_train_X, CV_train_Y)\n",
    "            pred_y_Lasso = Lasso.predict(CV_test_X)\n",
    "            CV_test_y_, CV_pred_y_  =  RemoveNan(CV_test_Y,pred_y_Lasso)\n",
    "            \n",
    "            RMSE.append(ML_RMSE(test = CV_test_y_, pred = CV_pred_y_))\n",
    "            SMAPE.append(ML_SMAPE(test = CV_test_y_, pred = CV_pred_y_))\n",
    "            r.append(pearsonr(CV_pred_y_, CV_test_y_)[0])\n",
    "            r2.append(r2_score(CV_test_y_, CV_pred_y_))\n",
    "            \n",
    "        RMSE = sum(RMSE)/len(RMSE) \n",
    "        SMAPE = sum(SMAPE)/len(SMAPE) \n",
    "        r = sum(r)/len(r) \n",
    "        r2 = sum(r2)/len(r2) \n",
    "        GSA_BEST.append([Lasso_Alpha, r, r2, SMAPE, RMSE])\n",
    "        return CV_pred_y_, CV_test_y_, GSA_BEST"
   ]
  },
  {
   "cell_type": "markdown",
   "metadata": {},
   "source": [
    "### Establish K-Nearest Neighbours Model"
   ]
  },
  {
   "cell_type": "code",
   "execution_count": 15,
   "metadata": {},
   "outputs": [],
   "source": [
    "def train_and_test_KNN(train_X, train_Y, test_X, test_Y, N_neighbors, splits, GSA_BEST):\n",
    "    knn = neighbors.KNeighborsRegressor(N_neighbors, weights=\"distance\") # \"uniform\" or \"distance\"\n",
    "\n",
    "    if splits == 0 or splits == 1: #does not perform KFold CV\n",
    "        knn.fit(train_X, train_Y)\n",
    "        pred_y_KNN = knn.predict(test_X)\n",
    "        test_y_, pred_y_  =  RemoveNan(test_Y,pred_y_KNN)\n",
    "        MAE = ML_MAE(test = test_y_, pred = pred_y_)\n",
    "        RMSE = ML_RMSE(test = test_y_, pred = pred_y_)\n",
    "        SMAPE = ML_SMAPE(test = test_y_, pred = pred_y_)\n",
    "        r = pearsonr(pred_y_, test_y_)[0]\n",
    "        r2 = r2_score(test_y_, pred_y_)\n",
    "        GSA_BEST.append([N_neighbors, r, r2, SMAPE, RMSE])\n",
    "        return pred_y_, test_y_, GSA_BEST\n",
    "    else:\n",
    "        kf = KFold(n_splits=splits)\n",
    "        kf.get_n_splits(train_X)\n",
    "        r, r2, SMAPE, RMSE = [],[],[],[]\n",
    "        for train_index, test_index in kf.split(train_X):\n",
    "            CV_train_X, CV_test_X = train_X[train_index], train_X[test_index]\n",
    "            CV_train_Y, CV_test_Y = train_Y[train_index], train_Y[test_index]\n",
    "            knn.fit(CV_train_X, CV_train_Y)\n",
    "            pred_y_KNN = knn.predict(CV_test_X)\n",
    "            CV_test_y_, CV_pred_y_  =  RemoveNan(CV_test_Y,pred_y_KNN)\n",
    "            \n",
    "            RMSE.append(ML_RMSE(test = CV_test_y_, pred = CV_pred_y_))\n",
    "            SMAPE.append(ML_SMAPE(test = CV_test_y_, pred = CV_pred_y_))\n",
    "            r.append(pearsonr(CV_pred_y_, CV_test_y_)[0])\n",
    "            r2.append(r2_score(CV_test_y_, CV_pred_y_))\n",
    "            \n",
    "        RMSE = sum(RMSE)/len(RMSE) \n",
    "        SMAPE = sum(SMAPE)/len(SMAPE) \n",
    "        r = sum(r)/len(r) \n",
    "        r2 = sum(r2)/len(r2) \n",
    "        GSA_BEST.append([N_neighbors, r, r2, SMAPE, RMSE])\n",
    "        return CV_pred_y_, CV_test_y_, GSA_BEST"
   ]
  },
  {
   "cell_type": "markdown",
   "metadata": {},
   "source": [
    "### Establish Decision Tree Model"
   ]
  },
  {
   "cell_type": "code",
   "execution_count": 16,
   "metadata": {},
   "outputs": [],
   "source": [
    "def train_and_test_DT(train_X, train_Y, test_X, test_Y, GSA_depth, splits, GSA_BEST):\n",
    "    if GSA_depth == 0:\n",
    "        GSA_depth = None\n",
    "    DecisionTree = DecisionTreeRegressor(max_depth = GSA_depth, random_state = seed)\n",
    "\n",
    "    if splits == 0 or splits == 1: #does not perform KFold CV\n",
    "        DecisionTree.fit(train_X, train_Y)\n",
    "        pred_y_DT = DecisionTree.predict(test_X)\n",
    "        test_y_, pred_y_  =  RemoveNan(test_Y,pred_y_DT)\n",
    "        MAE = ML_MAE(test = test_y_, pred = pred_y_)\n",
    "        RMSE = ML_RMSE(test = test_y_, pred = pred_y_)\n",
    "        SMAPE = ML_SMAPE(test = test_y_, pred = pred_y_)\n",
    "        r = pearsonr(pred_y_, test_y_)[0]\n",
    "        r2 = r2_score(test_y_, pred_y_)\n",
    "        GSA_BEST.append([GSA_depth, r, r2, SMAPE, RMSE])\n",
    "        return pred_y_, test_y_, GSA_BEST\n",
    "    else:\n",
    "        kf = KFold(n_splits=splits)\n",
    "        kf.get_n_splits(train_X)\n",
    "        r, r2, SMAPE, RMSE = [],[],[],[]\n",
    "        for train_index, test_index in kf.split(train_X):\n",
    "            CV_train_X, CV_test_X = train_X[train_index], train_X[test_index]\n",
    "            CV_train_Y, CV_test_Y = train_Y[train_index], train_Y[test_index]\n",
    "            DecisionTree.fit(CV_train_X, CV_train_Y)\n",
    "            pred_y_DT = DecisionTree.predict(CV_test_X)\n",
    "            CV_test_y_, CV_pred_y_  =  RemoveNan(CV_test_Y,pred_y_DT)\n",
    "            \n",
    "            RMSE.append(ML_RMSE(test = CV_test_y_, pred = CV_pred_y_))\n",
    "            SMAPE.append(ML_SMAPE(test = CV_test_y_, pred = CV_pred_y_))\n",
    "            r.append(pearsonr(CV_pred_y_, CV_test_y_)[0])\n",
    "            r2.append(r2_score(CV_test_y_, CV_pred_y_))\n",
    "            \n",
    "        RMSE = sum(RMSE)/len(RMSE) \n",
    "        SMAPE = sum(SMAPE)/len(SMAPE) \n",
    "        r = sum(r)/len(r) \n",
    "        r2 = sum(r2)/len(r2) \n",
    "        GSA_BEST.append([GSA_depth, r, r2, SMAPE, RMSE])\n",
    "        return CV_pred_y_, CV_test_y_, GSA_BEST"
   ]
  },
  {
   "cell_type": "markdown",
   "metadata": {},
   "source": [
    "### Establish Random Forest Model"
   ]
  },
  {
   "cell_type": "code",
   "execution_count": 17,
   "metadata": {},
   "outputs": [],
   "source": [
    "def train_and_test_RF(train_X, train_Y, test_X, test_Y, M_Bootstrap, Estimators, splits, GSA_BEST):\n",
    "    RandomForest = RandomForestRegressor(n_estimators = Estimators, random_state = seed, max_samples= M_Bootstrap) \n",
    "\n",
    "    if splits == 0 or splits == 1: #does not perform KFold CV\n",
    "        RandomForest.fit(train_X, train_Y)\n",
    "        pred_y_RF = RandomForest.predict(test_X)\n",
    "        test_y_, pred_y_  =  RemoveNan(test_Y,pred_y_RF)\n",
    "        MAE = ML_MAE(test = test_y_, pred = pred_y_)\n",
    "        RMSE = ML_RMSE(test = test_y_, pred = pred_y_)\n",
    "        SMAPE = ML_SMAPE(test = test_y_, pred = pred_y_)\n",
    "        r = pearsonr(pred_y_, test_y_)[0]\n",
    "        r2 = r2_score(test_y_, pred_y_)\n",
    "        GSA_BEST.append([M_Bootstrap, Estimators, r, r2, SMAPE, RMSE])\n",
    "        return pred_y_, test_y_, GSA_BEST\n",
    "    else:\n",
    "        kf = KFold(n_splits=splits)\n",
    "        kf.get_n_splits(train_X)\n",
    "        r, r2, SMAPE, RMSE = [],[],[],[]\n",
    "        for train_index, test_index in kf.split(train_X):\n",
    "            CV_train_X, CV_test_X = train_X[train_index], train_X[test_index]\n",
    "            CV_train_Y, CV_test_Y = train_Y[train_index], train_Y[test_index]\n",
    "            RandomForest.fit(CV_train_X, CV_train_Y)\n",
    "            pred_y_RF = RandomForest.predict(CV_test_X)\n",
    "            CV_test_y_, CV_pred_y_  =  RemoveNan(CV_test_Y,pred_y_RF)\n",
    "            \n",
    "            RMSE.append(ML_RMSE(test = CV_test_y_, pred = CV_pred_y_))\n",
    "            SMAPE.append(ML_SMAPE(test = CV_test_y_, pred = CV_pred_y_))\n",
    "            r.append(pearsonr(CV_pred_y_, CV_test_y_)[0])\n",
    "            r2.append(r2_score(CV_test_y_, CV_pred_y_))\n",
    "            \n",
    "        RMSE = sum(RMSE)/len(RMSE) \n",
    "        SMAPE = sum(SMAPE)/len(SMAPE) \n",
    "        r = sum(r)/len(r) \n",
    "        r2 = sum(r2)/len(r2) \n",
    "        GSA_BEST.append([M_Bootstrap, Estimators, r, r2, SMAPE, RMSE])\n",
    "        return CV_pred_y_, CV_test_y_, GSA_BEST"
   ]
  },
  {
   "cell_type": "markdown",
   "metadata": {},
   "source": [
    "### Establish Support Vector Machine Model"
   ]
  },
  {
   "cell_type": "code",
   "execution_count": 18,
   "metadata": {},
   "outputs": [],
   "source": [
    "def train_and_test_SVR(train_X, train_Y, test_X, test_Y, kern, SVR_C, degr, SV_epsilon, splits, GSA_BEST):\n",
    "    \n",
    "    kern_funcs = {1: 'linear', 2: 'poly', 3: 'rbf', 4: 'sigmoid' }\n",
    "    SVMR = SVR(kernel=kern_funcs.get(kern), C=SVR_C, gamma='auto', degree=degr, epsilon=SV_epsilon) \n",
    "    \n",
    "    if splits == 0 or splits == 1: #does not perform KFold CV\n",
    "        SVMR.fit(train_X, train_Y)\n",
    "        pred_y_SVMR = SVMR.predict(test_X)\n",
    "        test_y_, pred_y_  =  RemoveNan(test_Y,pred_y_SVMR)\n",
    "        MAE = ML_MAE(test = test_y_, pred = pred_y_)\n",
    "        RMSE = ML_RMSE(test = test_y_, pred = pred_y_)\n",
    "        SMAPE = ML_SMAPE(test = test_y_, pred = pred_y_)\n",
    "        r = pearsonr(pred_y_, test_y_)[0]\n",
    "        r2 = r2_score(test_y_, pred_y_)\n",
    "        GSA_BEST.append([kern, SVR_C, degr, SV_epsilon, r, r2, SMAPE, RMSE])\n",
    "        return pred_y_, test_y_, GSA_BEST\n",
    "    else:\n",
    "        kf = KFold(n_splits=splits)\n",
    "        kf.get_n_splits(train_X)\n",
    "        r, r2, SMAPE, RMSE = [],[],[],[]\n",
    "        for train_index, test_index in kf.split(train_X):\n",
    "            CV_train_X, CV_test_X = train_X[train_index], train_X[test_index]\n",
    "            CV_train_Y, CV_test_Y = train_Y[train_index], train_Y[test_index]\n",
    "            SVMR.fit(CV_train_X, CV_train_Y)\n",
    "            pred_y_SVMR = SVMR.predict(CV_test_X)\n",
    "            CV_test_y_, CV_pred_y_  =  RemoveNan(CV_test_Y,pred_y_SVMR)\n",
    "            \n",
    "            RMSE.append(ML_RMSE(test = CV_test_y_, pred = CV_pred_y_))\n",
    "            SMAPE.append(ML_SMAPE(test = CV_test_y_, pred = CV_pred_y_))\n",
    "            r.append(pearsonr(CV_pred_y_, CV_test_y_)[0])\n",
    "            r2.append(r2_score(CV_test_y_, CV_pred_y_))\n",
    "            \n",
    "        RMSE = sum(RMSE)/len(RMSE) \n",
    "        SMAPE = sum(SMAPE)/len(SMAPE) \n",
    "        r = sum(r)/len(r) \n",
    "        r2 = sum(r2)/len(r2) \n",
    "        GSA_BEST.append([kern, SVR_C, degr, SV_epsilon, r, r2, SMAPE, RMSE])\n",
    "        return CV_pred_y_, CV_test_y_, GSA_BEST"
   ]
  },
  {
   "cell_type": "markdown",
   "metadata": {},
   "source": [
    "# 5-Fold CV Grid Search All Models"
   ]
  },
  {
   "cell_type": "code",
   "execution_count": 19,
   "metadata": {
    "scrolled": true
   },
   "outputs": [
    {
     "data": {
      "application/vnd.jupyter.widget-view+json": {
       "model_id": "ca1a93de57e542cf9aa9fc0d38ef9211",
       "version_major": 2,
       "version_minor": 0
      },
      "text/plain": [
       "HBox(children=(FloatProgress(value=0.0, description='GSA Loop 1', max=9.0, style=ProgressStyle(description_wid…"
      ]
     },
     "metadata": {},
     "output_type": "display_data"
    },
    {
     "data": {
      "application/vnd.jupyter.widget-view+json": {
       "model_id": "",
       "version_major": 2,
       "version_minor": 0
      },
      "text/plain": [
       "HBox(children=(FloatProgress(value=0.0, description='GSA Loop 2', max=9.0, style=ProgressStyle(description_wid…"
      ]
     },
     "metadata": {},
     "output_type": "display_data"
    },
    {
     "data": {
      "application/vnd.jupyter.widget-view+json": {
       "model_id": "",
       "version_major": 2,
       "version_minor": 0
      },
      "text/plain": [
       "HBox(children=(FloatProgress(value=0.0, description='GSA Loop 3', max=9.0, style=ProgressStyle(description_wid…"
      ]
     },
     "metadata": {},
     "output_type": "display_data"
    },
    {
     "data": {
      "application/vnd.jupyter.widget-view+json": {
       "model_id": "",
       "version_major": 2,
       "version_minor": 0
      },
      "text/plain": [
       "HBox(children=(FloatProgress(value=0.0, description='GSA Loop 3', max=9.0, style=ProgressStyle(description_wid…"
      ]
     },
     "metadata": {},
     "output_type": "display_data"
    },
    {
     "data": {
      "application/vnd.jupyter.widget-view+json": {
       "model_id": "",
       "version_major": 2,
       "version_minor": 0
      },
      "text/plain": [
       "HBox(children=(FloatProgress(value=0.0, description='GSA Loop 3', max=9.0, style=ProgressStyle(description_wid…"
      ]
     },
     "metadata": {},
     "output_type": "display_data"
    },
    {
     "data": {
      "application/vnd.jupyter.widget-view+json": {
       "model_id": "",
       "version_major": 2,
       "version_minor": 0
      },
      "text/plain": [
       "HBox(children=(FloatProgress(value=0.0, description='GSA Loop 3', max=9.0, style=ProgressStyle(description_wid…"
      ]
     },
     "metadata": {},
     "output_type": "display_data"
    },
    {
     "data": {
      "application/vnd.jupyter.widget-view+json": {
       "model_id": "",
       "version_major": 2,
       "version_minor": 0
      },
      "text/plain": [
       "HBox(children=(FloatProgress(value=0.0, description='GSA Loop 3', max=9.0, style=ProgressStyle(description_wid…"
      ]
     },
     "metadata": {},
     "output_type": "display_data"
    },
    {
     "data": {
      "application/vnd.jupyter.widget-view+json": {
       "model_id": "",
       "version_major": 2,
       "version_minor": 0
      },
      "text/plain": [
       "HBox(children=(FloatProgress(value=0.0, description='GSA Loop 3', max=9.0, style=ProgressStyle(description_wid…"
      ]
     },
     "metadata": {},
     "output_type": "display_data"
    },
    {
     "data": {
      "application/vnd.jupyter.widget-view+json": {
       "model_id": "",
       "version_major": 2,
       "version_minor": 0
      },
      "text/plain": [
       "HBox(children=(FloatProgress(value=0.0, description='GSA Loop 3', max=9.0, style=ProgressStyle(description_wid…"
      ]
     },
     "metadata": {},
     "output_type": "display_data"
    },
    {
     "data": {
      "application/vnd.jupyter.widget-view+json": {
       "model_id": "",
       "version_major": 2,
       "version_minor": 0
      },
      "text/plain": [
       "HBox(children=(FloatProgress(value=0.0, description='GSA Loop 3', max=9.0, style=ProgressStyle(description_wid…"
      ]
     },
     "metadata": {},
     "output_type": "display_data"
    },
    {
     "data": {
      "application/vnd.jupyter.widget-view+json": {
       "model_id": "",
       "version_major": 2,
       "version_minor": 0
      },
      "text/plain": [
       "HBox(children=(FloatProgress(value=0.0, description='GSA Loop 3', max=9.0, style=ProgressStyle(description_wid…"
      ]
     },
     "metadata": {},
     "output_type": "display_data"
    },
    {
     "data": {
      "application/vnd.jupyter.widget-view+json": {
       "model_id": "",
       "version_major": 2,
       "version_minor": 0
      },
      "text/plain": [
       "HBox(children=(FloatProgress(value=0.0, description='GSA Loop 2', max=9.0, style=ProgressStyle(description_wid…"
      ]
     },
     "metadata": {},
     "output_type": "display_data"
    },
    {
     "data": {
      "application/vnd.jupyter.widget-view+json": {
       "model_id": "",
       "version_major": 2,
       "version_minor": 0
      },
      "text/plain": [
       "HBox(children=(FloatProgress(value=0.0, description='GSA Loop 3', max=9.0, style=ProgressStyle(description_wid…"
      ]
     },
     "metadata": {},
     "output_type": "display_data"
    },
    {
     "data": {
      "application/vnd.jupyter.widget-view+json": {
       "model_id": "",
       "version_major": 2,
       "version_minor": 0
      },
      "text/plain": [
       "HBox(children=(FloatProgress(value=0.0, description='GSA Loop 3', max=9.0, style=ProgressStyle(description_wid…"
      ]
     },
     "metadata": {},
     "output_type": "display_data"
    },
    {
     "data": {
      "application/vnd.jupyter.widget-view+json": {
       "model_id": "",
       "version_major": 2,
       "version_minor": 0
      },
      "text/plain": [
       "HBox(children=(FloatProgress(value=0.0, description='GSA Loop 3', max=9.0, style=ProgressStyle(description_wid…"
      ]
     },
     "metadata": {},
     "output_type": "display_data"
    },
    {
     "data": {
      "application/vnd.jupyter.widget-view+json": {
       "model_id": "",
       "version_major": 2,
       "version_minor": 0
      },
      "text/plain": [
       "HBox(children=(FloatProgress(value=0.0, description='GSA Loop 3', max=9.0, style=ProgressStyle(description_wid…"
      ]
     },
     "metadata": {},
     "output_type": "display_data"
    },
    {
     "data": {
      "application/vnd.jupyter.widget-view+json": {
       "model_id": "",
       "version_major": 2,
       "version_minor": 0
      },
      "text/plain": [
       "HBox(children=(FloatProgress(value=0.0, description='GSA Loop 3', max=9.0, style=ProgressStyle(description_wid…"
      ]
     },
     "metadata": {},
     "output_type": "display_data"
    },
    {
     "data": {
      "application/vnd.jupyter.widget-view+json": {
       "model_id": "",
       "version_major": 2,
       "version_minor": 0
      },
      "text/plain": [
       "HBox(children=(FloatProgress(value=0.0, description='GSA Loop 3', max=9.0, style=ProgressStyle(description_wid…"
      ]
     },
     "metadata": {},
     "output_type": "display_data"
    },
    {
     "data": {
      "application/vnd.jupyter.widget-view+json": {
       "model_id": "",
       "version_major": 2,
       "version_minor": 0
      },
      "text/plain": [
       "HBox(children=(FloatProgress(value=0.0, description='GSA Loop 3', max=9.0, style=ProgressStyle(description_wid…"
      ]
     },
     "metadata": {},
     "output_type": "display_data"
    },
    {
     "data": {
      "application/vnd.jupyter.widget-view+json": {
       "model_id": "",
       "version_major": 2,
       "version_minor": 0
      },
      "text/plain": [
       "HBox(children=(FloatProgress(value=0.0, description='GSA Loop 3', max=9.0, style=ProgressStyle(description_wid…"
      ]
     },
     "metadata": {},
     "output_type": "display_data"
    },
    {
     "data": {
      "application/vnd.jupyter.widget-view+json": {
       "model_id": "",
       "version_major": 2,
       "version_minor": 0
      },
      "text/plain": [
       "HBox(children=(FloatProgress(value=0.0, description='GSA Loop 3', max=9.0, style=ProgressStyle(description_wid…"
      ]
     },
     "metadata": {},
     "output_type": "display_data"
    },
    {
     "data": {
      "application/vnd.jupyter.widget-view+json": {
       "model_id": "",
       "version_major": 2,
       "version_minor": 0
      },
      "text/plain": [
       "HBox(children=(FloatProgress(value=0.0, description='GSA Loop 2', max=9.0, style=ProgressStyle(description_wid…"
      ]
     },
     "metadata": {},
     "output_type": "display_data"
    },
    {
     "data": {
      "application/vnd.jupyter.widget-view+json": {
       "model_id": "",
       "version_major": 2,
       "version_minor": 0
      },
      "text/plain": [
       "HBox(children=(FloatProgress(value=0.0, description='GSA Loop 3', max=9.0, style=ProgressStyle(description_wid…"
      ]
     },
     "metadata": {},
     "output_type": "display_data"
    },
    {
     "data": {
      "application/vnd.jupyter.widget-view+json": {
       "model_id": "",
       "version_major": 2,
       "version_minor": 0
      },
      "text/plain": [
       "HBox(children=(FloatProgress(value=0.0, description='GSA Loop 3', max=9.0, style=ProgressStyle(description_wid…"
      ]
     },
     "metadata": {},
     "output_type": "display_data"
    },
    {
     "data": {
      "application/vnd.jupyter.widget-view+json": {
       "model_id": "",
       "version_major": 2,
       "version_minor": 0
      },
      "text/plain": [
       "HBox(children=(FloatProgress(value=0.0, description='GSA Loop 3', max=9.0, style=ProgressStyle(description_wid…"
      ]
     },
     "metadata": {},
     "output_type": "display_data"
    },
    {
     "data": {
      "application/vnd.jupyter.widget-view+json": {
       "model_id": "",
       "version_major": 2,
       "version_minor": 0
      },
      "text/plain": [
       "HBox(children=(FloatProgress(value=0.0, description='GSA Loop 3', max=9.0, style=ProgressStyle(description_wid…"
      ]
     },
     "metadata": {},
     "output_type": "display_data"
    },
    {
     "data": {
      "application/vnd.jupyter.widget-view+json": {
       "model_id": "",
       "version_major": 2,
       "version_minor": 0
      },
      "text/plain": [
       "HBox(children=(FloatProgress(value=0.0, description='GSA Loop 3', max=9.0, style=ProgressStyle(description_wid…"
      ]
     },
     "metadata": {},
     "output_type": "display_data"
    },
    {
     "data": {
      "application/vnd.jupyter.widget-view+json": {
       "model_id": "",
       "version_major": 2,
       "version_minor": 0
      },
      "text/plain": [
       "HBox(children=(FloatProgress(value=0.0, description='GSA Loop 3', max=9.0, style=ProgressStyle(description_wid…"
      ]
     },
     "metadata": {},
     "output_type": "display_data"
    },
    {
     "data": {
      "application/vnd.jupyter.widget-view+json": {
       "model_id": "",
       "version_major": 2,
       "version_minor": 0
      },
      "text/plain": [
       "HBox(children=(FloatProgress(value=0.0, description='GSA Loop 3', max=9.0, style=ProgressStyle(description_wid…"
      ]
     },
     "metadata": {},
     "output_type": "display_data"
    },
    {
     "data": {
      "application/vnd.jupyter.widget-view+json": {
       "model_id": "",
       "version_major": 2,
       "version_minor": 0
      },
      "text/plain": [
       "HBox(children=(FloatProgress(value=0.0, description='GSA Loop 3', max=9.0, style=ProgressStyle(description_wid…"
      ]
     },
     "metadata": {},
     "output_type": "display_data"
    },
    {
     "data": {
      "application/vnd.jupyter.widget-view+json": {
       "model_id": "",
       "version_major": 2,
       "version_minor": 0
      },
      "text/plain": [
       "HBox(children=(FloatProgress(value=0.0, description='GSA Loop 3', max=9.0, style=ProgressStyle(description_wid…"
      ]
     },
     "metadata": {},
     "output_type": "display_data"
    },
    {
     "data": {
      "application/vnd.jupyter.widget-view+json": {
       "model_id": "",
       "version_major": 2,
       "version_minor": 0
      },
      "text/plain": [
       "HBox(children=(FloatProgress(value=0.0, description='GSA Loop 2', max=9.0, style=ProgressStyle(description_wid…"
      ]
     },
     "metadata": {},
     "output_type": "display_data"
    },
    {
     "data": {
      "application/vnd.jupyter.widget-view+json": {
       "model_id": "",
       "version_major": 2,
       "version_minor": 0
      },
      "text/plain": [
       "HBox(children=(FloatProgress(value=0.0, description='GSA Loop 3', max=9.0, style=ProgressStyle(description_wid…"
      ]
     },
     "metadata": {},
     "output_type": "display_data"
    },
    {
     "data": {
      "application/vnd.jupyter.widget-view+json": {
       "model_id": "",
       "version_major": 2,
       "version_minor": 0
      },
      "text/plain": [
       "HBox(children=(FloatProgress(value=0.0, description='GSA Loop 3', max=9.0, style=ProgressStyle(description_wid…"
      ]
     },
     "metadata": {},
     "output_type": "display_data"
    },
    {
     "data": {
      "application/vnd.jupyter.widget-view+json": {
       "model_id": "",
       "version_major": 2,
       "version_minor": 0
      },
      "text/plain": [
       "HBox(children=(FloatProgress(value=0.0, description='GSA Loop 3', max=9.0, style=ProgressStyle(description_wid…"
      ]
     },
     "metadata": {},
     "output_type": "display_data"
    },
    {
     "data": {
      "application/vnd.jupyter.widget-view+json": {
       "model_id": "",
       "version_major": 2,
       "version_minor": 0
      },
      "text/plain": [
       "HBox(children=(FloatProgress(value=0.0, description='GSA Loop 3', max=9.0, style=ProgressStyle(description_wid…"
      ]
     },
     "metadata": {},
     "output_type": "display_data"
    },
    {
     "data": {
      "application/vnd.jupyter.widget-view+json": {
       "model_id": "",
       "version_major": 2,
       "version_minor": 0
      },
      "text/plain": [
       "HBox(children=(FloatProgress(value=0.0, description='GSA Loop 3', max=9.0, style=ProgressStyle(description_wid…"
      ]
     },
     "metadata": {},
     "output_type": "display_data"
    },
    {
     "data": {
      "application/vnd.jupyter.widget-view+json": {
       "model_id": "",
       "version_major": 2,
       "version_minor": 0
      },
      "text/plain": [
       "HBox(children=(FloatProgress(value=0.0, description='GSA Loop 3', max=9.0, style=ProgressStyle(description_wid…"
      ]
     },
     "metadata": {},
     "output_type": "display_data"
    },
    {
     "data": {
      "application/vnd.jupyter.widget-view+json": {
       "model_id": "",
       "version_major": 2,
       "version_minor": 0
      },
      "text/plain": [
       "HBox(children=(FloatProgress(value=0.0, description='GSA Loop 3', max=9.0, style=ProgressStyle(description_wid…"
      ]
     },
     "metadata": {},
     "output_type": "display_data"
    },
    {
     "data": {
      "application/vnd.jupyter.widget-view+json": {
       "model_id": "",
       "version_major": 2,
       "version_minor": 0
      },
      "text/plain": [
       "HBox(children=(FloatProgress(value=0.0, description='GSA Loop 3', max=9.0, style=ProgressStyle(description_wid…"
      ]
     },
     "metadata": {},
     "output_type": "display_data"
    },
    {
     "data": {
      "application/vnd.jupyter.widget-view+json": {
       "model_id": "",
       "version_major": 2,
       "version_minor": 0
      },
      "text/plain": [
       "HBox(children=(FloatProgress(value=0.0, description='GSA Loop 3', max=9.0, style=ProgressStyle(description_wid…"
      ]
     },
     "metadata": {},
     "output_type": "display_data"
    },
    {
     "data": {
      "application/vnd.jupyter.widget-view+json": {
       "model_id": "",
       "version_major": 2,
       "version_minor": 0
      },
      "text/plain": [
       "HBox(children=(FloatProgress(value=0.0, description='GSA Loop 2', max=9.0, style=ProgressStyle(description_wid…"
      ]
     },
     "metadata": {},
     "output_type": "display_data"
    },
    {
     "data": {
      "application/vnd.jupyter.widget-view+json": {
       "model_id": "",
       "version_major": 2,
       "version_minor": 0
      },
      "text/plain": [
       "HBox(children=(FloatProgress(value=0.0, description='GSA Loop 3', max=9.0, style=ProgressStyle(description_wid…"
      ]
     },
     "metadata": {},
     "output_type": "display_data"
    },
    {
     "data": {
      "application/vnd.jupyter.widget-view+json": {
       "model_id": "",
       "version_major": 2,
       "version_minor": 0
      },
      "text/plain": [
       "HBox(children=(FloatProgress(value=0.0, description='GSA Loop 3', max=9.0, style=ProgressStyle(description_wid…"
      ]
     },
     "metadata": {},
     "output_type": "display_data"
    },
    {
     "data": {
      "application/vnd.jupyter.widget-view+json": {
       "model_id": "",
       "version_major": 2,
       "version_minor": 0
      },
      "text/plain": [
       "HBox(children=(FloatProgress(value=0.0, description='GSA Loop 3', max=9.0, style=ProgressStyle(description_wid…"
      ]
     },
     "metadata": {},
     "output_type": "display_data"
    },
    {
     "data": {
      "application/vnd.jupyter.widget-view+json": {
       "model_id": "",
       "version_major": 2,
       "version_minor": 0
      },
      "text/plain": [
       "HBox(children=(FloatProgress(value=0.0, description='GSA Loop 3', max=9.0, style=ProgressStyle(description_wid…"
      ]
     },
     "metadata": {},
     "output_type": "display_data"
    },
    {
     "data": {
      "application/vnd.jupyter.widget-view+json": {
       "model_id": "",
       "version_major": 2,
       "version_minor": 0
      },
      "text/plain": [
       "HBox(children=(FloatProgress(value=0.0, description='GSA Loop 3', max=9.0, style=ProgressStyle(description_wid…"
      ]
     },
     "metadata": {},
     "output_type": "display_data"
    },
    {
     "data": {
      "application/vnd.jupyter.widget-view+json": {
       "model_id": "",
       "version_major": 2,
       "version_minor": 0
      },
      "text/plain": [
       "HBox(children=(FloatProgress(value=0.0, description='GSA Loop 3', max=9.0, style=ProgressStyle(description_wid…"
      ]
     },
     "metadata": {},
     "output_type": "display_data"
    },
    {
     "data": {
      "application/vnd.jupyter.widget-view+json": {
       "model_id": "",
       "version_major": 2,
       "version_minor": 0
      },
      "text/plain": [
       "HBox(children=(FloatProgress(value=0.0, description='GSA Loop 3', max=9.0, style=ProgressStyle(description_wid…"
      ]
     },
     "metadata": {},
     "output_type": "display_data"
    },
    {
     "data": {
      "application/vnd.jupyter.widget-view+json": {
       "model_id": "",
       "version_major": 2,
       "version_minor": 0
      },
      "text/plain": [
       "HBox(children=(FloatProgress(value=0.0, description='GSA Loop 3', max=9.0, style=ProgressStyle(description_wid…"
      ]
     },
     "metadata": {},
     "output_type": "display_data"
    },
    {
     "data": {
      "application/vnd.jupyter.widget-view+json": {
       "model_id": "",
       "version_major": 2,
       "version_minor": 0
      },
      "text/plain": [
       "HBox(children=(FloatProgress(value=0.0, description='GSA Loop 3', max=9.0, style=ProgressStyle(description_wid…"
      ]
     },
     "metadata": {},
     "output_type": "display_data"
    },
    {
     "data": {
      "application/vnd.jupyter.widget-view+json": {
       "model_id": "",
       "version_major": 2,
       "version_minor": 0
      },
      "text/plain": [
       "HBox(children=(FloatProgress(value=0.0, description='GSA Loop 2', max=9.0, style=ProgressStyle(description_wid…"
      ]
     },
     "metadata": {},
     "output_type": "display_data"
    },
    {
     "data": {
      "application/vnd.jupyter.widget-view+json": {
       "model_id": "",
       "version_major": 2,
       "version_minor": 0
      },
      "text/plain": [
       "HBox(children=(FloatProgress(value=0.0, description='GSA Loop 3', max=9.0, style=ProgressStyle(description_wid…"
      ]
     },
     "metadata": {},
     "output_type": "display_data"
    },
    {
     "data": {
      "application/vnd.jupyter.widget-view+json": {
       "model_id": "",
       "version_major": 2,
       "version_minor": 0
      },
      "text/plain": [
       "HBox(children=(FloatProgress(value=0.0, description='GSA Loop 3', max=9.0, style=ProgressStyle(description_wid…"
      ]
     },
     "metadata": {},
     "output_type": "display_data"
    },
    {
     "data": {
      "application/vnd.jupyter.widget-view+json": {
       "model_id": "",
       "version_major": 2,
       "version_minor": 0
      },
      "text/plain": [
       "HBox(children=(FloatProgress(value=0.0, description='GSA Loop 3', max=9.0, style=ProgressStyle(description_wid…"
      ]
     },
     "metadata": {},
     "output_type": "display_data"
    },
    {
     "data": {
      "application/vnd.jupyter.widget-view+json": {
       "model_id": "",
       "version_major": 2,
       "version_minor": 0
      },
      "text/plain": [
       "HBox(children=(FloatProgress(value=0.0, description='GSA Loop 3', max=9.0, style=ProgressStyle(description_wid…"
      ]
     },
     "metadata": {},
     "output_type": "display_data"
    },
    {
     "data": {
      "application/vnd.jupyter.widget-view+json": {
       "model_id": "",
       "version_major": 2,
       "version_minor": 0
      },
      "text/plain": [
       "HBox(children=(FloatProgress(value=0.0, description='GSA Loop 3', max=9.0, style=ProgressStyle(description_wid…"
      ]
     },
     "metadata": {},
     "output_type": "display_data"
    },
    {
     "data": {
      "application/vnd.jupyter.widget-view+json": {
       "model_id": "",
       "version_major": 2,
       "version_minor": 0
      },
      "text/plain": [
       "HBox(children=(FloatProgress(value=0.0, description='GSA Loop 3', max=9.0, style=ProgressStyle(description_wid…"
      ]
     },
     "metadata": {},
     "output_type": "display_data"
    },
    {
     "data": {
      "application/vnd.jupyter.widget-view+json": {
       "model_id": "",
       "version_major": 2,
       "version_minor": 0
      },
      "text/plain": [
       "HBox(children=(FloatProgress(value=0.0, description='GSA Loop 3', max=9.0, style=ProgressStyle(description_wid…"
      ]
     },
     "metadata": {},
     "output_type": "display_data"
    },
    {
     "data": {
      "application/vnd.jupyter.widget-view+json": {
       "model_id": "",
       "version_major": 2,
       "version_minor": 0
      },
      "text/plain": [
       "HBox(children=(FloatProgress(value=0.0, description='GSA Loop 3', max=9.0, style=ProgressStyle(description_wid…"
      ]
     },
     "metadata": {},
     "output_type": "display_data"
    },
    {
     "data": {
      "application/vnd.jupyter.widget-view+json": {
       "model_id": "",
       "version_major": 2,
       "version_minor": 0
      },
      "text/plain": [
       "HBox(children=(FloatProgress(value=0.0, description='GSA Loop 3', max=9.0, style=ProgressStyle(description_wid…"
      ]
     },
     "metadata": {},
     "output_type": "display_data"
    },
    {
     "data": {
      "application/vnd.jupyter.widget-view+json": {
       "model_id": "",
       "version_major": 2,
       "version_minor": 0
      },
      "text/plain": [
       "HBox(children=(FloatProgress(value=0.0, description='GSA Loop 2', max=9.0, style=ProgressStyle(description_wid…"
      ]
     },
     "metadata": {},
     "output_type": "display_data"
    },
    {
     "data": {
      "application/vnd.jupyter.widget-view+json": {
       "model_id": "",
       "version_major": 2,
       "version_minor": 0
      },
      "text/plain": [
       "HBox(children=(FloatProgress(value=0.0, description='GSA Loop 3', max=9.0, style=ProgressStyle(description_wid…"
      ]
     },
     "metadata": {},
     "output_type": "display_data"
    },
    {
     "data": {
      "application/vnd.jupyter.widget-view+json": {
       "model_id": "",
       "version_major": 2,
       "version_minor": 0
      },
      "text/plain": [
       "HBox(children=(FloatProgress(value=0.0, description='GSA Loop 3', max=9.0, style=ProgressStyle(description_wid…"
      ]
     },
     "metadata": {},
     "output_type": "display_data"
    },
    {
     "data": {
      "application/vnd.jupyter.widget-view+json": {
       "model_id": "",
       "version_major": 2,
       "version_minor": 0
      },
      "text/plain": [
       "HBox(children=(FloatProgress(value=0.0, description='GSA Loop 3', max=9.0, style=ProgressStyle(description_wid…"
      ]
     },
     "metadata": {},
     "output_type": "display_data"
    },
    {
     "data": {
      "application/vnd.jupyter.widget-view+json": {
       "model_id": "",
       "version_major": 2,
       "version_minor": 0
      },
      "text/plain": [
       "HBox(children=(FloatProgress(value=0.0, description='GSA Loop 3', max=9.0, style=ProgressStyle(description_wid…"
      ]
     },
     "metadata": {},
     "output_type": "display_data"
    },
    {
     "data": {
      "application/vnd.jupyter.widget-view+json": {
       "model_id": "",
       "version_major": 2,
       "version_minor": 0
      },
      "text/plain": [
       "HBox(children=(FloatProgress(value=0.0, description='GSA Loop 3', max=9.0, style=ProgressStyle(description_wid…"
      ]
     },
     "metadata": {},
     "output_type": "display_data"
    },
    {
     "data": {
      "application/vnd.jupyter.widget-view+json": {
       "model_id": "",
       "version_major": 2,
       "version_minor": 0
      },
      "text/plain": [
       "HBox(children=(FloatProgress(value=0.0, description='GSA Loop 3', max=9.0, style=ProgressStyle(description_wid…"
      ]
     },
     "metadata": {},
     "output_type": "display_data"
    },
    {
     "data": {
      "application/vnd.jupyter.widget-view+json": {
       "model_id": "",
       "version_major": 2,
       "version_minor": 0
      },
      "text/plain": [
       "HBox(children=(FloatProgress(value=0.0, description='GSA Loop 3', max=9.0, style=ProgressStyle(description_wid…"
      ]
     },
     "metadata": {},
     "output_type": "display_data"
    },
    {
     "data": {
      "application/vnd.jupyter.widget-view+json": {
       "model_id": "",
       "version_major": 2,
       "version_minor": 0
      },
      "text/plain": [
       "HBox(children=(FloatProgress(value=0.0, description='GSA Loop 3', max=9.0, style=ProgressStyle(description_wid…"
      ]
     },
     "metadata": {},
     "output_type": "display_data"
    },
    {
     "data": {
      "application/vnd.jupyter.widget-view+json": {
       "model_id": "",
       "version_major": 2,
       "version_minor": 0
      },
      "text/plain": [
       "HBox(children=(FloatProgress(value=0.0, description='GSA Loop 3', max=9.0, style=ProgressStyle(description_wid…"
      ]
     },
     "metadata": {},
     "output_type": "display_data"
    },
    {
     "data": {
      "application/vnd.jupyter.widget-view+json": {
       "model_id": "",
       "version_major": 2,
       "version_minor": 0
      },
      "text/plain": [
       "HBox(children=(FloatProgress(value=0.0, description='GSA Loop 2', max=9.0, style=ProgressStyle(description_wid…"
      ]
     },
     "metadata": {},
     "output_type": "display_data"
    },
    {
     "data": {
      "application/vnd.jupyter.widget-view+json": {
       "model_id": "",
       "version_major": 2,
       "version_minor": 0
      },
      "text/plain": [
       "HBox(children=(FloatProgress(value=0.0, description='GSA Loop 3', max=9.0, style=ProgressStyle(description_wid…"
      ]
     },
     "metadata": {},
     "output_type": "display_data"
    },
    {
     "data": {
      "application/vnd.jupyter.widget-view+json": {
       "model_id": "",
       "version_major": 2,
       "version_minor": 0
      },
      "text/plain": [
       "HBox(children=(FloatProgress(value=0.0, description='GSA Loop 3', max=9.0, style=ProgressStyle(description_wid…"
      ]
     },
     "metadata": {},
     "output_type": "display_data"
    },
    {
     "data": {
      "application/vnd.jupyter.widget-view+json": {
       "model_id": "",
       "version_major": 2,
       "version_minor": 0
      },
      "text/plain": [
       "HBox(children=(FloatProgress(value=0.0, description='GSA Loop 3', max=9.0, style=ProgressStyle(description_wid…"
      ]
     },
     "metadata": {},
     "output_type": "display_data"
    },
    {
     "data": {
      "application/vnd.jupyter.widget-view+json": {
       "model_id": "",
       "version_major": 2,
       "version_minor": 0
      },
      "text/plain": [
       "HBox(children=(FloatProgress(value=0.0, description='GSA Loop 3', max=9.0, style=ProgressStyle(description_wid…"
      ]
     },
     "metadata": {},
     "output_type": "display_data"
    },
    {
     "data": {
      "application/vnd.jupyter.widget-view+json": {
       "model_id": "",
       "version_major": 2,
       "version_minor": 0
      },
      "text/plain": [
       "HBox(children=(FloatProgress(value=0.0, description='GSA Loop 3', max=9.0, style=ProgressStyle(description_wid…"
      ]
     },
     "metadata": {},
     "output_type": "display_data"
    },
    {
     "data": {
      "application/vnd.jupyter.widget-view+json": {
       "model_id": "",
       "version_major": 2,
       "version_minor": 0
      },
      "text/plain": [
       "HBox(children=(FloatProgress(value=0.0, description='GSA Loop 3', max=9.0, style=ProgressStyle(description_wid…"
      ]
     },
     "metadata": {},
     "output_type": "display_data"
    },
    {
     "data": {
      "application/vnd.jupyter.widget-view+json": {
       "model_id": "",
       "version_major": 2,
       "version_minor": 0
      },
      "text/plain": [
       "HBox(children=(FloatProgress(value=0.0, description='GSA Loop 3', max=9.0, style=ProgressStyle(description_wid…"
      ]
     },
     "metadata": {},
     "output_type": "display_data"
    },
    {
     "data": {
      "application/vnd.jupyter.widget-view+json": {
       "model_id": "",
       "version_major": 2,
       "version_minor": 0
      },
      "text/plain": [
       "HBox(children=(FloatProgress(value=0.0, description='GSA Loop 3', max=9.0, style=ProgressStyle(description_wid…"
      ]
     },
     "metadata": {},
     "output_type": "display_data"
    },
    {
     "data": {
      "application/vnd.jupyter.widget-view+json": {
       "model_id": "",
       "version_major": 2,
       "version_minor": 0
      },
      "text/plain": [
       "HBox(children=(FloatProgress(value=0.0, description='GSA Loop 3', max=9.0, style=ProgressStyle(description_wid…"
      ]
     },
     "metadata": {},
     "output_type": "display_data"
    },
    {
     "data": {
      "application/vnd.jupyter.widget-view+json": {
       "model_id": "",
       "version_major": 2,
       "version_minor": 0
      },
      "text/plain": [
       "HBox(children=(FloatProgress(value=0.0, description='GSA Loop 2', max=9.0, style=ProgressStyle(description_wid…"
      ]
     },
     "metadata": {},
     "output_type": "display_data"
    },
    {
     "data": {
      "application/vnd.jupyter.widget-view+json": {
       "model_id": "",
       "version_major": 2,
       "version_minor": 0
      },
      "text/plain": [
       "HBox(children=(FloatProgress(value=0.0, description='GSA Loop 3', max=9.0, style=ProgressStyle(description_wid…"
      ]
     },
     "metadata": {},
     "output_type": "display_data"
    },
    {
     "data": {
      "application/vnd.jupyter.widget-view+json": {
       "model_id": "",
       "version_major": 2,
       "version_minor": 0
      },
      "text/plain": [
       "HBox(children=(FloatProgress(value=0.0, description='GSA Loop 3', max=9.0, style=ProgressStyle(description_wid…"
      ]
     },
     "metadata": {},
     "output_type": "display_data"
    },
    {
     "data": {
      "application/vnd.jupyter.widget-view+json": {
       "model_id": "",
       "version_major": 2,
       "version_minor": 0
      },
      "text/plain": [
       "HBox(children=(FloatProgress(value=0.0, description='GSA Loop 3', max=9.0, style=ProgressStyle(description_wid…"
      ]
     },
     "metadata": {},
     "output_type": "display_data"
    },
    {
     "data": {
      "application/vnd.jupyter.widget-view+json": {
       "model_id": "",
       "version_major": 2,
       "version_minor": 0
      },
      "text/plain": [
       "HBox(children=(FloatProgress(value=0.0, description='GSA Loop 3', max=9.0, style=ProgressStyle(description_wid…"
      ]
     },
     "metadata": {},
     "output_type": "display_data"
    },
    {
     "data": {
      "application/vnd.jupyter.widget-view+json": {
       "model_id": "",
       "version_major": 2,
       "version_minor": 0
      },
      "text/plain": [
       "HBox(children=(FloatProgress(value=0.0, description='GSA Loop 3', max=9.0, style=ProgressStyle(description_wid…"
      ]
     },
     "metadata": {},
     "output_type": "display_data"
    },
    {
     "data": {
      "application/vnd.jupyter.widget-view+json": {
       "model_id": "",
       "version_major": 2,
       "version_minor": 0
      },
      "text/plain": [
       "HBox(children=(FloatProgress(value=0.0, description='GSA Loop 3', max=9.0, style=ProgressStyle(description_wid…"
      ]
     },
     "metadata": {},
     "output_type": "display_data"
    },
    {
     "data": {
      "application/vnd.jupyter.widget-view+json": {
       "model_id": "",
       "version_major": 2,
       "version_minor": 0
      },
      "text/plain": [
       "HBox(children=(FloatProgress(value=0.0, description='GSA Loop 3', max=9.0, style=ProgressStyle(description_wid…"
      ]
     },
     "metadata": {},
     "output_type": "display_data"
    },
    {
     "data": {
      "application/vnd.jupyter.widget-view+json": {
       "model_id": "",
       "version_major": 2,
       "version_minor": 0
      },
      "text/plain": [
       "HBox(children=(FloatProgress(value=0.0, description='GSA Loop 3', max=9.0, style=ProgressStyle(description_wid…"
      ]
     },
     "metadata": {},
     "output_type": "display_data"
    },
    {
     "data": {
      "application/vnd.jupyter.widget-view+json": {
       "model_id": "",
       "version_major": 2,
       "version_minor": 0
      },
      "text/plain": [
       "HBox(children=(FloatProgress(value=0.0, description='GSA Loop 3', max=9.0, style=ProgressStyle(description_wid…"
      ]
     },
     "metadata": {},
     "output_type": "display_data"
    },
    {
     "name": "stdout",
     "output_type": "stream",
     "text": [
      "\n",
      "NOTE: for Activ column, 1 = sigmoid || 2 = relu || 3 = tanh\n"
     ]
    },
    {
     "data": {
      "text/html": [
       "<div>\n",
       "<style scoped>\n",
       "    .dataframe tbody tr th:only-of-type {\n",
       "        vertical-align: middle;\n",
       "    }\n",
       "\n",
       "    .dataframe tbody tr th {\n",
       "        vertical-align: top;\n",
       "    }\n",
       "\n",
       "    .dataframe thead th {\n",
       "        text-align: right;\n",
       "    }\n",
       "</style>\n",
       "<table border=\"1\" class=\"dataframe\">\n",
       "  <thead>\n",
       "    <tr style=\"text-align: right;\">\n",
       "      <th></th>\n",
       "      <th>Neur1</th>\n",
       "      <th>Neur2</th>\n",
       "      <th>Neur3</th>\n",
       "      <th>Activ</th>\n",
       "      <th>r</th>\n",
       "      <th>r2</th>\n",
       "      <th>SMAPE</th>\n",
       "      <th>RMSE</th>\n",
       "      <th>norm-r</th>\n",
       "      <th>norm-r2</th>\n",
       "      <th>norm-SMAPE</th>\n",
       "      <th>norm-RMSE</th>\n",
       "      <th>INDEX</th>\n",
       "    </tr>\n",
       "  </thead>\n",
       "  <tbody>\n",
       "    <tr>\n",
       "      <th>0</th>\n",
       "      <td>112.000</td>\n",
       "      <td>32.000</td>\n",
       "      <td>16.000</td>\n",
       "      <td>2.000</td>\n",
       "      <td>0.891</td>\n",
       "      <td>0.704</td>\n",
       "      <td>17.683</td>\n",
       "      <td>0.460</td>\n",
       "      <td>0.999</td>\n",
       "      <td>0.986</td>\n",
       "      <td>1.000</td>\n",
       "      <td>1.000</td>\n",
       "      <td>0.996</td>\n",
       "    </tr>\n",
       "    <tr>\n",
       "      <th>1</th>\n",
       "      <td>128.000</td>\n",
       "      <td>64.000</td>\n",
       "      <td>16.000</td>\n",
       "      <td>2.000</td>\n",
       "      <td>0.891</td>\n",
       "      <td>0.719</td>\n",
       "      <td>19.270</td>\n",
       "      <td>0.476</td>\n",
       "      <td>1.000</td>\n",
       "      <td>1.000</td>\n",
       "      <td>0.954</td>\n",
       "      <td>0.972</td>\n",
       "      <td>0.978</td>\n",
       "    </tr>\n",
       "    <tr>\n",
       "      <th>2</th>\n",
       "      <td>64.000</td>\n",
       "      <td>64.000</td>\n",
       "      <td>48.000</td>\n",
       "      <td>2.000</td>\n",
       "      <td>0.889</td>\n",
       "      <td>0.656</td>\n",
       "      <td>19.363</td>\n",
       "      <td>0.460</td>\n",
       "      <td>0.991</td>\n",
       "      <td>0.944</td>\n",
       "      <td>0.951</td>\n",
       "      <td>1.000</td>\n",
       "      <td>0.968</td>\n",
       "    </tr>\n",
       "  </tbody>\n",
       "</table>\n",
       "</div>"
      ],
      "text/plain": [
       "    Neur1  Neur2  Neur3  Activ     r    r2  SMAPE  RMSE  norm-r  norm-r2  norm-SMAPE  norm-RMSE  INDEX\n",
       "0 112.000 32.000 16.000  2.000 0.891 0.704 17.683 0.460   0.999    0.986       1.000      1.000  0.996\n",
       "1 128.000 64.000 16.000  2.000 0.891 0.719 19.270 0.476   1.000    1.000       0.954      0.972  0.978\n",
       "2  64.000 64.000 48.000  2.000 0.889 0.656 19.363 0.460   0.991    0.944       0.951      1.000  0.968"
      ]
     },
     "execution_count": 19,
     "metadata": {},
     "output_type": "execute_result"
    }
   ],
   "source": [
    "best_nn_1 = []\n",
    "Neurons = range(0, 136,16)\n",
    "Activations = list(range(1,4)) #see dictionary definition in above function.\n",
    "for GSA_neur1 in tqdm(Neurons,desc='GSA Loop 1'): \n",
    "    for GSA_neur2 in tqdm(Neurons,desc='GSA Loop 2',leave = False):\n",
    "        for GSA_neur3 in tqdm(Neurons,desc='GSA Loop 3',leave = False): \n",
    "            for GSA_activ in Activations: \n",
    "                if GSA_neur3 > GSA_neur2 or GSA_neur2 > GSA_neur1 or GSA_neur1 == 0:\n",
    "                    continue\n",
    "                pred_y_nn_1, test_y_nn_1, best_nn_1 = train_and_test_NN(train_X = train_x, train_Y = train_y[:,0], test_X = test_x, test_Y = test_y[:,0], neur1 = GSA_neur1, neur2 = GSA_neur2, neur3 = GSA_neur3, activ = GSA_activ, splits = 5, GSA_BEST = best_nn_1)\n",
    "                \n",
    "#Convert returned GSA results to np array\n",
    "best_nn_1=np.vstack(best_nn_1)\n",
    "\n",
    "#Normalize metrics and compute reference index\n",
    "best_nn_1 = Ref_IDX(GSA_array = best_nn_1, num_desc = 4)    \n",
    "\n",
    "#Print 3 best configurations of each model\n",
    "pd.set_option('expand_frame_repr', False)\n",
    "pd.options.display.float_format = \"{:,.3f}\".format\n",
    "print('NOTE: for Activ column, 1 = sigmoid || 2 = relu || 3 = tanh')\n",
    "headings = ['Neur1', 'Neur2', 'Neur3', 'Activ','r','r2','SMAPE','RMSE','norm-r','norm-r2','norm-SMAPE','norm-RMSE','INDEX']\n",
    "best_nn_1 = pd.DataFrame(best_nn_1[:3],columns = headings)\n",
    "best_nn_1"
   ]
  },
  {
   "cell_type": "code",
   "execution_count": 20,
   "metadata": {},
   "outputs": [
    {
     "data": {
      "application/vnd.jupyter.widget-view+json": {
       "model_id": "84b039e64d7e40df80b61f611be00d1d",
       "version_major": 2,
       "version_minor": 0
      },
      "text/plain": [
       "HBox(children=(FloatProgress(value=0.0, description='GSA Loop 1', max=9.0, style=ProgressStyle(description_wid…"
      ]
     },
     "metadata": {},
     "output_type": "display_data"
    },
    {
     "data": {
      "application/vnd.jupyter.widget-view+json": {
       "model_id": "",
       "version_major": 2,
       "version_minor": 0
      },
      "text/plain": [
       "HBox(children=(FloatProgress(value=0.0, description='GSA Loop 2', max=9.0, style=ProgressStyle(description_wid…"
      ]
     },
     "metadata": {},
     "output_type": "display_data"
    },
    {
     "data": {
      "application/vnd.jupyter.widget-view+json": {
       "model_id": "",
       "version_major": 2,
       "version_minor": 0
      },
      "text/plain": [
       "HBox(children=(FloatProgress(value=0.0, description='GSA Loop 3', max=9.0, style=ProgressStyle(description_wid…"
      ]
     },
     "metadata": {},
     "output_type": "display_data"
    },
    {
     "data": {
      "application/vnd.jupyter.widget-view+json": {
       "model_id": "",
       "version_major": 2,
       "version_minor": 0
      },
      "text/plain": [
       "HBox(children=(FloatProgress(value=0.0, description='GSA Loop 3', max=9.0, style=ProgressStyle(description_wid…"
      ]
     },
     "metadata": {},
     "output_type": "display_data"
    },
    {
     "data": {
      "application/vnd.jupyter.widget-view+json": {
       "model_id": "",
       "version_major": 2,
       "version_minor": 0
      },
      "text/plain": [
       "HBox(children=(FloatProgress(value=0.0, description='GSA Loop 3', max=9.0, style=ProgressStyle(description_wid…"
      ]
     },
     "metadata": {},
     "output_type": "display_data"
    },
    {
     "data": {
      "application/vnd.jupyter.widget-view+json": {
       "model_id": "",
       "version_major": 2,
       "version_minor": 0
      },
      "text/plain": [
       "HBox(children=(FloatProgress(value=0.0, description='GSA Loop 3', max=9.0, style=ProgressStyle(description_wid…"
      ]
     },
     "metadata": {},
     "output_type": "display_data"
    },
    {
     "data": {
      "application/vnd.jupyter.widget-view+json": {
       "model_id": "",
       "version_major": 2,
       "version_minor": 0
      },
      "text/plain": [
       "HBox(children=(FloatProgress(value=0.0, description='GSA Loop 3', max=9.0, style=ProgressStyle(description_wid…"
      ]
     },
     "metadata": {},
     "output_type": "display_data"
    },
    {
     "data": {
      "application/vnd.jupyter.widget-view+json": {
       "model_id": "",
       "version_major": 2,
       "version_minor": 0
      },
      "text/plain": [
       "HBox(children=(FloatProgress(value=0.0, description='GSA Loop 3', max=9.0, style=ProgressStyle(description_wid…"
      ]
     },
     "metadata": {},
     "output_type": "display_data"
    },
    {
     "data": {
      "application/vnd.jupyter.widget-view+json": {
       "model_id": "",
       "version_major": 2,
       "version_minor": 0
      },
      "text/plain": [
       "HBox(children=(FloatProgress(value=0.0, description='GSA Loop 3', max=9.0, style=ProgressStyle(description_wid…"
      ]
     },
     "metadata": {},
     "output_type": "display_data"
    },
    {
     "data": {
      "application/vnd.jupyter.widget-view+json": {
       "model_id": "",
       "version_major": 2,
       "version_minor": 0
      },
      "text/plain": [
       "HBox(children=(FloatProgress(value=0.0, description='GSA Loop 3', max=9.0, style=ProgressStyle(description_wid…"
      ]
     },
     "metadata": {},
     "output_type": "display_data"
    },
    {
     "data": {
      "application/vnd.jupyter.widget-view+json": {
       "model_id": "",
       "version_major": 2,
       "version_minor": 0
      },
      "text/plain": [
       "HBox(children=(FloatProgress(value=0.0, description='GSA Loop 3', max=9.0, style=ProgressStyle(description_wid…"
      ]
     },
     "metadata": {},
     "output_type": "display_data"
    },
    {
     "data": {
      "application/vnd.jupyter.widget-view+json": {
       "model_id": "",
       "version_major": 2,
       "version_minor": 0
      },
      "text/plain": [
       "HBox(children=(FloatProgress(value=0.0, description='GSA Loop 2', max=9.0, style=ProgressStyle(description_wid…"
      ]
     },
     "metadata": {},
     "output_type": "display_data"
    },
    {
     "data": {
      "application/vnd.jupyter.widget-view+json": {
       "model_id": "",
       "version_major": 2,
       "version_minor": 0
      },
      "text/plain": [
       "HBox(children=(FloatProgress(value=0.0, description='GSA Loop 3', max=9.0, style=ProgressStyle(description_wid…"
      ]
     },
     "metadata": {},
     "output_type": "display_data"
    },
    {
     "data": {
      "application/vnd.jupyter.widget-view+json": {
       "model_id": "",
       "version_major": 2,
       "version_minor": 0
      },
      "text/plain": [
       "HBox(children=(FloatProgress(value=0.0, description='GSA Loop 3', max=9.0, style=ProgressStyle(description_wid…"
      ]
     },
     "metadata": {},
     "output_type": "display_data"
    },
    {
     "data": {
      "application/vnd.jupyter.widget-view+json": {
       "model_id": "",
       "version_major": 2,
       "version_minor": 0
      },
      "text/plain": [
       "HBox(children=(FloatProgress(value=0.0, description='GSA Loop 3', max=9.0, style=ProgressStyle(description_wid…"
      ]
     },
     "metadata": {},
     "output_type": "display_data"
    },
    {
     "data": {
      "application/vnd.jupyter.widget-view+json": {
       "model_id": "",
       "version_major": 2,
       "version_minor": 0
      },
      "text/plain": [
       "HBox(children=(FloatProgress(value=0.0, description='GSA Loop 3', max=9.0, style=ProgressStyle(description_wid…"
      ]
     },
     "metadata": {},
     "output_type": "display_data"
    },
    {
     "data": {
      "application/vnd.jupyter.widget-view+json": {
       "model_id": "",
       "version_major": 2,
       "version_minor": 0
      },
      "text/plain": [
       "HBox(children=(FloatProgress(value=0.0, description='GSA Loop 3', max=9.0, style=ProgressStyle(description_wid…"
      ]
     },
     "metadata": {},
     "output_type": "display_data"
    },
    {
     "data": {
      "application/vnd.jupyter.widget-view+json": {
       "model_id": "",
       "version_major": 2,
       "version_minor": 0
      },
      "text/plain": [
       "HBox(children=(FloatProgress(value=0.0, description='GSA Loop 3', max=9.0, style=ProgressStyle(description_wid…"
      ]
     },
     "metadata": {},
     "output_type": "display_data"
    },
    {
     "data": {
      "application/vnd.jupyter.widget-view+json": {
       "model_id": "",
       "version_major": 2,
       "version_minor": 0
      },
      "text/plain": [
       "HBox(children=(FloatProgress(value=0.0, description='GSA Loop 3', max=9.0, style=ProgressStyle(description_wid…"
      ]
     },
     "metadata": {},
     "output_type": "display_data"
    },
    {
     "data": {
      "application/vnd.jupyter.widget-view+json": {
       "model_id": "",
       "version_major": 2,
       "version_minor": 0
      },
      "text/plain": [
       "HBox(children=(FloatProgress(value=0.0, description='GSA Loop 3', max=9.0, style=ProgressStyle(description_wid…"
      ]
     },
     "metadata": {},
     "output_type": "display_data"
    },
    {
     "data": {
      "application/vnd.jupyter.widget-view+json": {
       "model_id": "",
       "version_major": 2,
       "version_minor": 0
      },
      "text/plain": [
       "HBox(children=(FloatProgress(value=0.0, description='GSA Loop 3', max=9.0, style=ProgressStyle(description_wid…"
      ]
     },
     "metadata": {},
     "output_type": "display_data"
    },
    {
     "data": {
      "application/vnd.jupyter.widget-view+json": {
       "model_id": "",
       "version_major": 2,
       "version_minor": 0
      },
      "text/plain": [
       "HBox(children=(FloatProgress(value=0.0, description='GSA Loop 2', max=9.0, style=ProgressStyle(description_wid…"
      ]
     },
     "metadata": {},
     "output_type": "display_data"
    },
    {
     "data": {
      "application/vnd.jupyter.widget-view+json": {
       "model_id": "",
       "version_major": 2,
       "version_minor": 0
      },
      "text/plain": [
       "HBox(children=(FloatProgress(value=0.0, description='GSA Loop 3', max=9.0, style=ProgressStyle(description_wid…"
      ]
     },
     "metadata": {},
     "output_type": "display_data"
    },
    {
     "data": {
      "application/vnd.jupyter.widget-view+json": {
       "model_id": "",
       "version_major": 2,
       "version_minor": 0
      },
      "text/plain": [
       "HBox(children=(FloatProgress(value=0.0, description='GSA Loop 3', max=9.0, style=ProgressStyle(description_wid…"
      ]
     },
     "metadata": {},
     "output_type": "display_data"
    },
    {
     "data": {
      "application/vnd.jupyter.widget-view+json": {
       "model_id": "",
       "version_major": 2,
       "version_minor": 0
      },
      "text/plain": [
       "HBox(children=(FloatProgress(value=0.0, description='GSA Loop 3', max=9.0, style=ProgressStyle(description_wid…"
      ]
     },
     "metadata": {},
     "output_type": "display_data"
    },
    {
     "data": {
      "application/vnd.jupyter.widget-view+json": {
       "model_id": "",
       "version_major": 2,
       "version_minor": 0
      },
      "text/plain": [
       "HBox(children=(FloatProgress(value=0.0, description='GSA Loop 3', max=9.0, style=ProgressStyle(description_wid…"
      ]
     },
     "metadata": {},
     "output_type": "display_data"
    },
    {
     "data": {
      "application/vnd.jupyter.widget-view+json": {
       "model_id": "",
       "version_major": 2,
       "version_minor": 0
      },
      "text/plain": [
       "HBox(children=(FloatProgress(value=0.0, description='GSA Loop 3', max=9.0, style=ProgressStyle(description_wid…"
      ]
     },
     "metadata": {},
     "output_type": "display_data"
    },
    {
     "data": {
      "application/vnd.jupyter.widget-view+json": {
       "model_id": "",
       "version_major": 2,
       "version_minor": 0
      },
      "text/plain": [
       "HBox(children=(FloatProgress(value=0.0, description='GSA Loop 3', max=9.0, style=ProgressStyle(description_wid…"
      ]
     },
     "metadata": {},
     "output_type": "display_data"
    },
    {
     "data": {
      "application/vnd.jupyter.widget-view+json": {
       "model_id": "",
       "version_major": 2,
       "version_minor": 0
      },
      "text/plain": [
       "HBox(children=(FloatProgress(value=0.0, description='GSA Loop 3', max=9.0, style=ProgressStyle(description_wid…"
      ]
     },
     "metadata": {},
     "output_type": "display_data"
    },
    {
     "data": {
      "application/vnd.jupyter.widget-view+json": {
       "model_id": "",
       "version_major": 2,
       "version_minor": 0
      },
      "text/plain": [
       "HBox(children=(FloatProgress(value=0.0, description='GSA Loop 3', max=9.0, style=ProgressStyle(description_wid…"
      ]
     },
     "metadata": {},
     "output_type": "display_data"
    },
    {
     "data": {
      "application/vnd.jupyter.widget-view+json": {
       "model_id": "",
       "version_major": 2,
       "version_minor": 0
      },
      "text/plain": [
       "HBox(children=(FloatProgress(value=0.0, description='GSA Loop 3', max=9.0, style=ProgressStyle(description_wid…"
      ]
     },
     "metadata": {},
     "output_type": "display_data"
    },
    {
     "data": {
      "application/vnd.jupyter.widget-view+json": {
       "model_id": "",
       "version_major": 2,
       "version_minor": 0
      },
      "text/plain": [
       "HBox(children=(FloatProgress(value=0.0, description='GSA Loop 2', max=9.0, style=ProgressStyle(description_wid…"
      ]
     },
     "metadata": {},
     "output_type": "display_data"
    },
    {
     "data": {
      "application/vnd.jupyter.widget-view+json": {
       "model_id": "",
       "version_major": 2,
       "version_minor": 0
      },
      "text/plain": [
       "HBox(children=(FloatProgress(value=0.0, description='GSA Loop 3', max=9.0, style=ProgressStyle(description_wid…"
      ]
     },
     "metadata": {},
     "output_type": "display_data"
    },
    {
     "data": {
      "application/vnd.jupyter.widget-view+json": {
       "model_id": "",
       "version_major": 2,
       "version_minor": 0
      },
      "text/plain": [
       "HBox(children=(FloatProgress(value=0.0, description='GSA Loop 3', max=9.0, style=ProgressStyle(description_wid…"
      ]
     },
     "metadata": {},
     "output_type": "display_data"
    },
    {
     "data": {
      "application/vnd.jupyter.widget-view+json": {
       "model_id": "",
       "version_major": 2,
       "version_minor": 0
      },
      "text/plain": [
       "HBox(children=(FloatProgress(value=0.0, description='GSA Loop 3', max=9.0, style=ProgressStyle(description_wid…"
      ]
     },
     "metadata": {},
     "output_type": "display_data"
    },
    {
     "data": {
      "application/vnd.jupyter.widget-view+json": {
       "model_id": "",
       "version_major": 2,
       "version_minor": 0
      },
      "text/plain": [
       "HBox(children=(FloatProgress(value=0.0, description='GSA Loop 3', max=9.0, style=ProgressStyle(description_wid…"
      ]
     },
     "metadata": {},
     "output_type": "display_data"
    },
    {
     "data": {
      "application/vnd.jupyter.widget-view+json": {
       "model_id": "",
       "version_major": 2,
       "version_minor": 0
      },
      "text/plain": [
       "HBox(children=(FloatProgress(value=0.0, description='GSA Loop 3', max=9.0, style=ProgressStyle(description_wid…"
      ]
     },
     "metadata": {},
     "output_type": "display_data"
    },
    {
     "data": {
      "application/vnd.jupyter.widget-view+json": {
       "model_id": "",
       "version_major": 2,
       "version_minor": 0
      },
      "text/plain": [
       "HBox(children=(FloatProgress(value=0.0, description='GSA Loop 3', max=9.0, style=ProgressStyle(description_wid…"
      ]
     },
     "metadata": {},
     "output_type": "display_data"
    },
    {
     "data": {
      "application/vnd.jupyter.widget-view+json": {
       "model_id": "",
       "version_major": 2,
       "version_minor": 0
      },
      "text/plain": [
       "HBox(children=(FloatProgress(value=0.0, description='GSA Loop 3', max=9.0, style=ProgressStyle(description_wid…"
      ]
     },
     "metadata": {},
     "output_type": "display_data"
    },
    {
     "data": {
      "application/vnd.jupyter.widget-view+json": {
       "model_id": "",
       "version_major": 2,
       "version_minor": 0
      },
      "text/plain": [
       "HBox(children=(FloatProgress(value=0.0, description='GSA Loop 3', max=9.0, style=ProgressStyle(description_wid…"
      ]
     },
     "metadata": {},
     "output_type": "display_data"
    },
    {
     "data": {
      "application/vnd.jupyter.widget-view+json": {
       "model_id": "",
       "version_major": 2,
       "version_minor": 0
      },
      "text/plain": [
       "HBox(children=(FloatProgress(value=0.0, description='GSA Loop 3', max=9.0, style=ProgressStyle(description_wid…"
      ]
     },
     "metadata": {},
     "output_type": "display_data"
    },
    {
     "data": {
      "application/vnd.jupyter.widget-view+json": {
       "model_id": "",
       "version_major": 2,
       "version_minor": 0
      },
      "text/plain": [
       "HBox(children=(FloatProgress(value=0.0, description='GSA Loop 2', max=9.0, style=ProgressStyle(description_wid…"
      ]
     },
     "metadata": {},
     "output_type": "display_data"
    },
    {
     "data": {
      "application/vnd.jupyter.widget-view+json": {
       "model_id": "",
       "version_major": 2,
       "version_minor": 0
      },
      "text/plain": [
       "HBox(children=(FloatProgress(value=0.0, description='GSA Loop 3', max=9.0, style=ProgressStyle(description_wid…"
      ]
     },
     "metadata": {},
     "output_type": "display_data"
    },
    {
     "data": {
      "application/vnd.jupyter.widget-view+json": {
       "model_id": "",
       "version_major": 2,
       "version_minor": 0
      },
      "text/plain": [
       "HBox(children=(FloatProgress(value=0.0, description='GSA Loop 3', max=9.0, style=ProgressStyle(description_wid…"
      ]
     },
     "metadata": {},
     "output_type": "display_data"
    },
    {
     "data": {
      "application/vnd.jupyter.widget-view+json": {
       "model_id": "",
       "version_major": 2,
       "version_minor": 0
      },
      "text/plain": [
       "HBox(children=(FloatProgress(value=0.0, description='GSA Loop 3', max=9.0, style=ProgressStyle(description_wid…"
      ]
     },
     "metadata": {},
     "output_type": "display_data"
    },
    {
     "data": {
      "application/vnd.jupyter.widget-view+json": {
       "model_id": "",
       "version_major": 2,
       "version_minor": 0
      },
      "text/plain": [
       "HBox(children=(FloatProgress(value=0.0, description='GSA Loop 3', max=9.0, style=ProgressStyle(description_wid…"
      ]
     },
     "metadata": {},
     "output_type": "display_data"
    },
    {
     "data": {
      "application/vnd.jupyter.widget-view+json": {
       "model_id": "",
       "version_major": 2,
       "version_minor": 0
      },
      "text/plain": [
       "HBox(children=(FloatProgress(value=0.0, description='GSA Loop 3', max=9.0, style=ProgressStyle(description_wid…"
      ]
     },
     "metadata": {},
     "output_type": "display_data"
    },
    {
     "data": {
      "application/vnd.jupyter.widget-view+json": {
       "model_id": "",
       "version_major": 2,
       "version_minor": 0
      },
      "text/plain": [
       "HBox(children=(FloatProgress(value=0.0, description='GSA Loop 3', max=9.0, style=ProgressStyle(description_wid…"
      ]
     },
     "metadata": {},
     "output_type": "display_data"
    },
    {
     "data": {
      "application/vnd.jupyter.widget-view+json": {
       "model_id": "",
       "version_major": 2,
       "version_minor": 0
      },
      "text/plain": [
       "HBox(children=(FloatProgress(value=0.0, description='GSA Loop 3', max=9.0, style=ProgressStyle(description_wid…"
      ]
     },
     "metadata": {},
     "output_type": "display_data"
    },
    {
     "data": {
      "application/vnd.jupyter.widget-view+json": {
       "model_id": "",
       "version_major": 2,
       "version_minor": 0
      },
      "text/plain": [
       "HBox(children=(FloatProgress(value=0.0, description='GSA Loop 3', max=9.0, style=ProgressStyle(description_wid…"
      ]
     },
     "metadata": {},
     "output_type": "display_data"
    },
    {
     "data": {
      "application/vnd.jupyter.widget-view+json": {
       "model_id": "",
       "version_major": 2,
       "version_minor": 0
      },
      "text/plain": [
       "HBox(children=(FloatProgress(value=0.0, description='GSA Loop 3', max=9.0, style=ProgressStyle(description_wid…"
      ]
     },
     "metadata": {},
     "output_type": "display_data"
    },
    {
     "data": {
      "application/vnd.jupyter.widget-view+json": {
       "model_id": "",
       "version_major": 2,
       "version_minor": 0
      },
      "text/plain": [
       "HBox(children=(FloatProgress(value=0.0, description='GSA Loop 2', max=9.0, style=ProgressStyle(description_wid…"
      ]
     },
     "metadata": {},
     "output_type": "display_data"
    },
    {
     "data": {
      "application/vnd.jupyter.widget-view+json": {
       "model_id": "",
       "version_major": 2,
       "version_minor": 0
      },
      "text/plain": [
       "HBox(children=(FloatProgress(value=0.0, description='GSA Loop 3', max=9.0, style=ProgressStyle(description_wid…"
      ]
     },
     "metadata": {},
     "output_type": "display_data"
    },
    {
     "data": {
      "application/vnd.jupyter.widget-view+json": {
       "model_id": "",
       "version_major": 2,
       "version_minor": 0
      },
      "text/plain": [
       "HBox(children=(FloatProgress(value=0.0, description='GSA Loop 3', max=9.0, style=ProgressStyle(description_wid…"
      ]
     },
     "metadata": {},
     "output_type": "display_data"
    },
    {
     "data": {
      "application/vnd.jupyter.widget-view+json": {
       "model_id": "",
       "version_major": 2,
       "version_minor": 0
      },
      "text/plain": [
       "HBox(children=(FloatProgress(value=0.0, description='GSA Loop 3', max=9.0, style=ProgressStyle(description_wid…"
      ]
     },
     "metadata": {},
     "output_type": "display_data"
    },
    {
     "data": {
      "application/vnd.jupyter.widget-view+json": {
       "model_id": "",
       "version_major": 2,
       "version_minor": 0
      },
      "text/plain": [
       "HBox(children=(FloatProgress(value=0.0, description='GSA Loop 3', max=9.0, style=ProgressStyle(description_wid…"
      ]
     },
     "metadata": {},
     "output_type": "display_data"
    },
    {
     "data": {
      "application/vnd.jupyter.widget-view+json": {
       "model_id": "",
       "version_major": 2,
       "version_minor": 0
      },
      "text/plain": [
       "HBox(children=(FloatProgress(value=0.0, description='GSA Loop 3', max=9.0, style=ProgressStyle(description_wid…"
      ]
     },
     "metadata": {},
     "output_type": "display_data"
    },
    {
     "data": {
      "application/vnd.jupyter.widget-view+json": {
       "model_id": "",
       "version_major": 2,
       "version_minor": 0
      },
      "text/plain": [
       "HBox(children=(FloatProgress(value=0.0, description='GSA Loop 3', max=9.0, style=ProgressStyle(description_wid…"
      ]
     },
     "metadata": {},
     "output_type": "display_data"
    },
    {
     "data": {
      "application/vnd.jupyter.widget-view+json": {
       "model_id": "",
       "version_major": 2,
       "version_minor": 0
      },
      "text/plain": [
       "HBox(children=(FloatProgress(value=0.0, description='GSA Loop 3', max=9.0, style=ProgressStyle(description_wid…"
      ]
     },
     "metadata": {},
     "output_type": "display_data"
    },
    {
     "data": {
      "application/vnd.jupyter.widget-view+json": {
       "model_id": "",
       "version_major": 2,
       "version_minor": 0
      },
      "text/plain": [
       "HBox(children=(FloatProgress(value=0.0, description='GSA Loop 3', max=9.0, style=ProgressStyle(description_wid…"
      ]
     },
     "metadata": {},
     "output_type": "display_data"
    },
    {
     "data": {
      "application/vnd.jupyter.widget-view+json": {
       "model_id": "",
       "version_major": 2,
       "version_minor": 0
      },
      "text/plain": [
       "HBox(children=(FloatProgress(value=0.0, description='GSA Loop 3', max=9.0, style=ProgressStyle(description_wid…"
      ]
     },
     "metadata": {},
     "output_type": "display_data"
    },
    {
     "data": {
      "application/vnd.jupyter.widget-view+json": {
       "model_id": "",
       "version_major": 2,
       "version_minor": 0
      },
      "text/plain": [
       "HBox(children=(FloatProgress(value=0.0, description='GSA Loop 2', max=9.0, style=ProgressStyle(description_wid…"
      ]
     },
     "metadata": {},
     "output_type": "display_data"
    },
    {
     "data": {
      "application/vnd.jupyter.widget-view+json": {
       "model_id": "",
       "version_major": 2,
       "version_minor": 0
      },
      "text/plain": [
       "HBox(children=(FloatProgress(value=0.0, description='GSA Loop 3', max=9.0, style=ProgressStyle(description_wid…"
      ]
     },
     "metadata": {},
     "output_type": "display_data"
    },
    {
     "data": {
      "application/vnd.jupyter.widget-view+json": {
       "model_id": "",
       "version_major": 2,
       "version_minor": 0
      },
      "text/plain": [
       "HBox(children=(FloatProgress(value=0.0, description='GSA Loop 3', max=9.0, style=ProgressStyle(description_wid…"
      ]
     },
     "metadata": {},
     "output_type": "display_data"
    },
    {
     "data": {
      "application/vnd.jupyter.widget-view+json": {
       "model_id": "",
       "version_major": 2,
       "version_minor": 0
      },
      "text/plain": [
       "HBox(children=(FloatProgress(value=0.0, description='GSA Loop 3', max=9.0, style=ProgressStyle(description_wid…"
      ]
     },
     "metadata": {},
     "output_type": "display_data"
    },
    {
     "data": {
      "application/vnd.jupyter.widget-view+json": {
       "model_id": "",
       "version_major": 2,
       "version_minor": 0
      },
      "text/plain": [
       "HBox(children=(FloatProgress(value=0.0, description='GSA Loop 3', max=9.0, style=ProgressStyle(description_wid…"
      ]
     },
     "metadata": {},
     "output_type": "display_data"
    },
    {
     "data": {
      "application/vnd.jupyter.widget-view+json": {
       "model_id": "",
       "version_major": 2,
       "version_minor": 0
      },
      "text/plain": [
       "HBox(children=(FloatProgress(value=0.0, description='GSA Loop 3', max=9.0, style=ProgressStyle(description_wid…"
      ]
     },
     "metadata": {},
     "output_type": "display_data"
    },
    {
     "data": {
      "application/vnd.jupyter.widget-view+json": {
       "model_id": "",
       "version_major": 2,
       "version_minor": 0
      },
      "text/plain": [
       "HBox(children=(FloatProgress(value=0.0, description='GSA Loop 3', max=9.0, style=ProgressStyle(description_wid…"
      ]
     },
     "metadata": {},
     "output_type": "display_data"
    },
    {
     "data": {
      "application/vnd.jupyter.widget-view+json": {
       "model_id": "",
       "version_major": 2,
       "version_minor": 0
      },
      "text/plain": [
       "HBox(children=(FloatProgress(value=0.0, description='GSA Loop 3', max=9.0, style=ProgressStyle(description_wid…"
      ]
     },
     "metadata": {},
     "output_type": "display_data"
    },
    {
     "data": {
      "application/vnd.jupyter.widget-view+json": {
       "model_id": "",
       "version_major": 2,
       "version_minor": 0
      },
      "text/plain": [
       "HBox(children=(FloatProgress(value=0.0, description='GSA Loop 3', max=9.0, style=ProgressStyle(description_wid…"
      ]
     },
     "metadata": {},
     "output_type": "display_data"
    },
    {
     "data": {
      "application/vnd.jupyter.widget-view+json": {
       "model_id": "",
       "version_major": 2,
       "version_minor": 0
      },
      "text/plain": [
       "HBox(children=(FloatProgress(value=0.0, description='GSA Loop 3', max=9.0, style=ProgressStyle(description_wid…"
      ]
     },
     "metadata": {},
     "output_type": "display_data"
    },
    {
     "data": {
      "application/vnd.jupyter.widget-view+json": {
       "model_id": "",
       "version_major": 2,
       "version_minor": 0
      },
      "text/plain": [
       "HBox(children=(FloatProgress(value=0.0, description='GSA Loop 2', max=9.0, style=ProgressStyle(description_wid…"
      ]
     },
     "metadata": {},
     "output_type": "display_data"
    },
    {
     "data": {
      "application/vnd.jupyter.widget-view+json": {
       "model_id": "",
       "version_major": 2,
       "version_minor": 0
      },
      "text/plain": [
       "HBox(children=(FloatProgress(value=0.0, description='GSA Loop 3', max=9.0, style=ProgressStyle(description_wid…"
      ]
     },
     "metadata": {},
     "output_type": "display_data"
    },
    {
     "data": {
      "application/vnd.jupyter.widget-view+json": {
       "model_id": "",
       "version_major": 2,
       "version_minor": 0
      },
      "text/plain": [
       "HBox(children=(FloatProgress(value=0.0, description='GSA Loop 3', max=9.0, style=ProgressStyle(description_wid…"
      ]
     },
     "metadata": {},
     "output_type": "display_data"
    },
    {
     "data": {
      "application/vnd.jupyter.widget-view+json": {
       "model_id": "",
       "version_major": 2,
       "version_minor": 0
      },
      "text/plain": [
       "HBox(children=(FloatProgress(value=0.0, description='GSA Loop 3', max=9.0, style=ProgressStyle(description_wid…"
      ]
     },
     "metadata": {},
     "output_type": "display_data"
    },
    {
     "data": {
      "application/vnd.jupyter.widget-view+json": {
       "model_id": "",
       "version_major": 2,
       "version_minor": 0
      },
      "text/plain": [
       "HBox(children=(FloatProgress(value=0.0, description='GSA Loop 3', max=9.0, style=ProgressStyle(description_wid…"
      ]
     },
     "metadata": {},
     "output_type": "display_data"
    },
    {
     "data": {
      "application/vnd.jupyter.widget-view+json": {
       "model_id": "",
       "version_major": 2,
       "version_minor": 0
      },
      "text/plain": [
       "HBox(children=(FloatProgress(value=0.0, description='GSA Loop 3', max=9.0, style=ProgressStyle(description_wid…"
      ]
     },
     "metadata": {},
     "output_type": "display_data"
    },
    {
     "data": {
      "application/vnd.jupyter.widget-view+json": {
       "model_id": "",
       "version_major": 2,
       "version_minor": 0
      },
      "text/plain": [
       "HBox(children=(FloatProgress(value=0.0, description='GSA Loop 3', max=9.0, style=ProgressStyle(description_wid…"
      ]
     },
     "metadata": {},
     "output_type": "display_data"
    },
    {
     "data": {
      "application/vnd.jupyter.widget-view+json": {
       "model_id": "",
       "version_major": 2,
       "version_minor": 0
      },
      "text/plain": [
       "HBox(children=(FloatProgress(value=0.0, description='GSA Loop 3', max=9.0, style=ProgressStyle(description_wid…"
      ]
     },
     "metadata": {},
     "output_type": "display_data"
    },
    {
     "data": {
      "application/vnd.jupyter.widget-view+json": {
       "model_id": "",
       "version_major": 2,
       "version_minor": 0
      },
      "text/plain": [
       "HBox(children=(FloatProgress(value=0.0, description='GSA Loop 3', max=9.0, style=ProgressStyle(description_wid…"
      ]
     },
     "metadata": {},
     "output_type": "display_data"
    },
    {
     "data": {
      "application/vnd.jupyter.widget-view+json": {
       "model_id": "",
       "version_major": 2,
       "version_minor": 0
      },
      "text/plain": [
       "HBox(children=(FloatProgress(value=0.0, description='GSA Loop 3', max=9.0, style=ProgressStyle(description_wid…"
      ]
     },
     "metadata": {},
     "output_type": "display_data"
    },
    {
     "data": {
      "application/vnd.jupyter.widget-view+json": {
       "model_id": "",
       "version_major": 2,
       "version_minor": 0
      },
      "text/plain": [
       "HBox(children=(FloatProgress(value=0.0, description='GSA Loop 2', max=9.0, style=ProgressStyle(description_wid…"
      ]
     },
     "metadata": {},
     "output_type": "display_data"
    },
    {
     "data": {
      "application/vnd.jupyter.widget-view+json": {
       "model_id": "",
       "version_major": 2,
       "version_minor": 0
      },
      "text/plain": [
       "HBox(children=(FloatProgress(value=0.0, description='GSA Loop 3', max=9.0, style=ProgressStyle(description_wid…"
      ]
     },
     "metadata": {},
     "output_type": "display_data"
    },
    {
     "data": {
      "application/vnd.jupyter.widget-view+json": {
       "model_id": "",
       "version_major": 2,
       "version_minor": 0
      },
      "text/plain": [
       "HBox(children=(FloatProgress(value=0.0, description='GSA Loop 3', max=9.0, style=ProgressStyle(description_wid…"
      ]
     },
     "metadata": {},
     "output_type": "display_data"
    },
    {
     "data": {
      "application/vnd.jupyter.widget-view+json": {
       "model_id": "",
       "version_major": 2,
       "version_minor": 0
      },
      "text/plain": [
       "HBox(children=(FloatProgress(value=0.0, description='GSA Loop 3', max=9.0, style=ProgressStyle(description_wid…"
      ]
     },
     "metadata": {},
     "output_type": "display_data"
    },
    {
     "data": {
      "application/vnd.jupyter.widget-view+json": {
       "model_id": "",
       "version_major": 2,
       "version_minor": 0
      },
      "text/plain": [
       "HBox(children=(FloatProgress(value=0.0, description='GSA Loop 3', max=9.0, style=ProgressStyle(description_wid…"
      ]
     },
     "metadata": {},
     "output_type": "display_data"
    },
    {
     "data": {
      "application/vnd.jupyter.widget-view+json": {
       "model_id": "",
       "version_major": 2,
       "version_minor": 0
      },
      "text/plain": [
       "HBox(children=(FloatProgress(value=0.0, description='GSA Loop 3', max=9.0, style=ProgressStyle(description_wid…"
      ]
     },
     "metadata": {},
     "output_type": "display_data"
    },
    {
     "data": {
      "application/vnd.jupyter.widget-view+json": {
       "model_id": "",
       "version_major": 2,
       "version_minor": 0
      },
      "text/plain": [
       "HBox(children=(FloatProgress(value=0.0, description='GSA Loop 3', max=9.0, style=ProgressStyle(description_wid…"
      ]
     },
     "metadata": {},
     "output_type": "display_data"
    },
    {
     "data": {
      "application/vnd.jupyter.widget-view+json": {
       "model_id": "",
       "version_major": 2,
       "version_minor": 0
      },
      "text/plain": [
       "HBox(children=(FloatProgress(value=0.0, description='GSA Loop 3', max=9.0, style=ProgressStyle(description_wid…"
      ]
     },
     "metadata": {},
     "output_type": "display_data"
    },
    {
     "data": {
      "application/vnd.jupyter.widget-view+json": {
       "model_id": "",
       "version_major": 2,
       "version_minor": 0
      },
      "text/plain": [
       "HBox(children=(FloatProgress(value=0.0, description='GSA Loop 3', max=9.0, style=ProgressStyle(description_wid…"
      ]
     },
     "metadata": {},
     "output_type": "display_data"
    },
    {
     "data": {
      "application/vnd.jupyter.widget-view+json": {
       "model_id": "",
       "version_major": 2,
       "version_minor": 0
      },
      "text/plain": [
       "HBox(children=(FloatProgress(value=0.0, description='GSA Loop 3', max=9.0, style=ProgressStyle(description_wid…"
      ]
     },
     "metadata": {},
     "output_type": "display_data"
    },
    {
     "name": "stdout",
     "output_type": "stream",
     "text": [
      "\n",
      "NOTE: for Activ column, 1 = sigmoid || 2 = relu || 3 = tanh\n"
     ]
    },
    {
     "data": {
      "text/html": [
       "<div>\n",
       "<style scoped>\n",
       "    .dataframe tbody tr th:only-of-type {\n",
       "        vertical-align: middle;\n",
       "    }\n",
       "\n",
       "    .dataframe tbody tr th {\n",
       "        vertical-align: top;\n",
       "    }\n",
       "\n",
       "    .dataframe thead th {\n",
       "        text-align: right;\n",
       "    }\n",
       "</style>\n",
       "<table border=\"1\" class=\"dataframe\">\n",
       "  <thead>\n",
       "    <tr style=\"text-align: right;\">\n",
       "      <th></th>\n",
       "      <th>Neur1</th>\n",
       "      <th>Neur2</th>\n",
       "      <th>Neur3</th>\n",
       "      <th>Activ</th>\n",
       "      <th>r</th>\n",
       "      <th>r2</th>\n",
       "      <th>SMAPE</th>\n",
       "      <th>RMSE</th>\n",
       "      <th>norm-r</th>\n",
       "      <th>norm-r2</th>\n",
       "      <th>norm-SMAPE</th>\n",
       "      <th>norm-RMSE</th>\n",
       "      <th>INDEX</th>\n",
       "    </tr>\n",
       "  </thead>\n",
       "  <tbody>\n",
       "    <tr>\n",
       "      <th>0</th>\n",
       "      <td>112.000</td>\n",
       "      <td>96.000</td>\n",
       "      <td>96.000</td>\n",
       "      <td>2.000</td>\n",
       "      <td>0.985</td>\n",
       "      <td>0.959</td>\n",
       "      <td>7.496</td>\n",
       "      <td>0.251</td>\n",
       "      <td>0.974</td>\n",
       "      <td>1.000</td>\n",
       "      <td>0.996</td>\n",
       "      <td>1.000</td>\n",
       "      <td>0.996</td>\n",
       "    </tr>\n",
       "    <tr>\n",
       "      <th>1</th>\n",
       "      <td>128.000</td>\n",
       "      <td>96.000</td>\n",
       "      <td>16.000</td>\n",
       "      <td>2.000</td>\n",
       "      <td>0.985</td>\n",
       "      <td>0.952</td>\n",
       "      <td>7.438</td>\n",
       "      <td>0.260</td>\n",
       "      <td>0.972</td>\n",
       "      <td>0.981</td>\n",
       "      <td>1.000</td>\n",
       "      <td>0.985</td>\n",
       "      <td>0.987</td>\n",
       "    </tr>\n",
       "    <tr>\n",
       "      <th>2</th>\n",
       "      <td>128.000</td>\n",
       "      <td>128.000</td>\n",
       "      <td>128.000</td>\n",
       "      <td>2.000</td>\n",
       "      <td>0.985</td>\n",
       "      <td>0.957</td>\n",
       "      <td>7.857</td>\n",
       "      <td>0.252</td>\n",
       "      <td>0.973</td>\n",
       "      <td>0.995</td>\n",
       "      <td>0.970</td>\n",
       "      <td>1.000</td>\n",
       "      <td>0.987</td>\n",
       "    </tr>\n",
       "  </tbody>\n",
       "</table>\n",
       "</div>"
      ],
      "text/plain": [
       "    Neur1   Neur2   Neur3  Activ     r    r2  SMAPE  RMSE  norm-r  norm-r2  norm-SMAPE  norm-RMSE  INDEX\n",
       "0 112.000  96.000  96.000  2.000 0.985 0.959  7.496 0.251   0.974    1.000       0.996      1.000  0.996\n",
       "1 128.000  96.000  16.000  2.000 0.985 0.952  7.438 0.260   0.972    0.981       1.000      0.985  0.987\n",
       "2 128.000 128.000 128.000  2.000 0.985 0.957  7.857 0.252   0.973    0.995       0.970      1.000  0.987"
      ]
     },
     "execution_count": 20,
     "metadata": {},
     "output_type": "execute_result"
    }
   ],
   "source": [
    "best_nn_2 = []\n",
    "Neurons = range(0, 136,16)\n",
    "Activations = list(range(1,4)) #see dictionary definition in above function.\n",
    "for GSA_neur1 in tqdm(Neurons,desc='GSA Loop 1'): \n",
    "    for GSA_neur2 in tqdm(Neurons,desc='GSA Loop 2',leave = False):\n",
    "        for GSA_neur3 in tqdm(Neurons,desc='GSA Loop 3',leave = False): \n",
    "            for GSA_activ in Activations: \n",
    "                if GSA_neur3 > GSA_neur2 or GSA_neur2 > GSA_neur1 or GSA_neur1 == 0:\n",
    "                    continue\n",
    "                pred_y_nn_2, test_y_nn_2, best_nn_2 = train_and_test_NN(train_X = train_x, train_Y = train_y[:,1], test_X = test_x, test_Y = test_y[:,1], neur1 = GSA_neur1, neur2 = GSA_neur2, neur3 = GSA_neur3, activ = GSA_activ, splits = 5, GSA_BEST = best_nn_2)\n",
    "                \n",
    "#Convert returned GSA results to np array\n",
    "best_nn_2=np.vstack(best_nn_2)\n",
    "\n",
    "#Normalize metrics and compute reference index\n",
    "best_nn_2 = Ref_IDX(GSA_array = best_nn_2, num_desc = 4)     \n",
    "\n",
    "#Print 3 best configurations of each model\n",
    "pd.set_option('expand_frame_repr', False)\n",
    "pd.options.display.float_format = \"{:,.3f}\".format\n",
    "print('NOTE: for Activ column, 1 = sigmoid || 2 = relu || 3 = tanh')\n",
    "headings = ['Neur1', 'Neur2', 'Neur3', 'Activ','r','r2','SMAPE','RMSE','norm-r','norm-r2','norm-SMAPE','norm-RMSE','INDEX']\n",
    "best_nn_2 = pd.DataFrame(best_nn_2[:3],columns = headings)\n",
    "best_nn_2"
   ]
  },
  {
   "cell_type": "code",
   "execution_count": 21,
   "metadata": {},
   "outputs": [
    {
     "data": {
      "application/vnd.jupyter.widget-view+json": {
       "model_id": "9561b8e9fe2642a49e5c2383d26e8ebb",
       "version_major": 2,
       "version_minor": 0
      },
      "text/plain": [
       "HBox(children=(FloatProgress(value=0.0, description='GSA Loop 1', max=9.0, style=ProgressStyle(description_wid…"
      ]
     },
     "metadata": {},
     "output_type": "display_data"
    },
    {
     "data": {
      "application/vnd.jupyter.widget-view+json": {
       "model_id": "",
       "version_major": 2,
       "version_minor": 0
      },
      "text/plain": [
       "HBox(children=(FloatProgress(value=0.0, description='GSA Loop 2', max=9.0, style=ProgressStyle(description_wid…"
      ]
     },
     "metadata": {},
     "output_type": "display_data"
    },
    {
     "data": {
      "application/vnd.jupyter.widget-view+json": {
       "model_id": "",
       "version_major": 2,
       "version_minor": 0
      },
      "text/plain": [
       "HBox(children=(FloatProgress(value=0.0, description='GSA Loop 3', max=9.0, style=ProgressStyle(description_wid…"
      ]
     },
     "metadata": {},
     "output_type": "display_data"
    },
    {
     "data": {
      "application/vnd.jupyter.widget-view+json": {
       "model_id": "",
       "version_major": 2,
       "version_minor": 0
      },
      "text/plain": [
       "HBox(children=(FloatProgress(value=0.0, description='GSA Loop 3', max=9.0, style=ProgressStyle(description_wid…"
      ]
     },
     "metadata": {},
     "output_type": "display_data"
    },
    {
     "data": {
      "application/vnd.jupyter.widget-view+json": {
       "model_id": "",
       "version_major": 2,
       "version_minor": 0
      },
      "text/plain": [
       "HBox(children=(FloatProgress(value=0.0, description='GSA Loop 3', max=9.0, style=ProgressStyle(description_wid…"
      ]
     },
     "metadata": {},
     "output_type": "display_data"
    },
    {
     "data": {
      "application/vnd.jupyter.widget-view+json": {
       "model_id": "",
       "version_major": 2,
       "version_minor": 0
      },
      "text/plain": [
       "HBox(children=(FloatProgress(value=0.0, description='GSA Loop 3', max=9.0, style=ProgressStyle(description_wid…"
      ]
     },
     "metadata": {},
     "output_type": "display_data"
    },
    {
     "data": {
      "application/vnd.jupyter.widget-view+json": {
       "model_id": "",
       "version_major": 2,
       "version_minor": 0
      },
      "text/plain": [
       "HBox(children=(FloatProgress(value=0.0, description='GSA Loop 3', max=9.0, style=ProgressStyle(description_wid…"
      ]
     },
     "metadata": {},
     "output_type": "display_data"
    },
    {
     "data": {
      "application/vnd.jupyter.widget-view+json": {
       "model_id": "",
       "version_major": 2,
       "version_minor": 0
      },
      "text/plain": [
       "HBox(children=(FloatProgress(value=0.0, description='GSA Loop 3', max=9.0, style=ProgressStyle(description_wid…"
      ]
     },
     "metadata": {},
     "output_type": "display_data"
    },
    {
     "data": {
      "application/vnd.jupyter.widget-view+json": {
       "model_id": "",
       "version_major": 2,
       "version_minor": 0
      },
      "text/plain": [
       "HBox(children=(FloatProgress(value=0.0, description='GSA Loop 3', max=9.0, style=ProgressStyle(description_wid…"
      ]
     },
     "metadata": {},
     "output_type": "display_data"
    },
    {
     "data": {
      "application/vnd.jupyter.widget-view+json": {
       "model_id": "",
       "version_major": 2,
       "version_minor": 0
      },
      "text/plain": [
       "HBox(children=(FloatProgress(value=0.0, description='GSA Loop 3', max=9.0, style=ProgressStyle(description_wid…"
      ]
     },
     "metadata": {},
     "output_type": "display_data"
    },
    {
     "data": {
      "application/vnd.jupyter.widget-view+json": {
       "model_id": "",
       "version_major": 2,
       "version_minor": 0
      },
      "text/plain": [
       "HBox(children=(FloatProgress(value=0.0, description='GSA Loop 3', max=9.0, style=ProgressStyle(description_wid…"
      ]
     },
     "metadata": {},
     "output_type": "display_data"
    },
    {
     "data": {
      "application/vnd.jupyter.widget-view+json": {
       "model_id": "",
       "version_major": 2,
       "version_minor": 0
      },
      "text/plain": [
       "HBox(children=(FloatProgress(value=0.0, description='GSA Loop 2', max=9.0, style=ProgressStyle(description_wid…"
      ]
     },
     "metadata": {},
     "output_type": "display_data"
    },
    {
     "data": {
      "application/vnd.jupyter.widget-view+json": {
       "model_id": "",
       "version_major": 2,
       "version_minor": 0
      },
      "text/plain": [
       "HBox(children=(FloatProgress(value=0.0, description='GSA Loop 3', max=9.0, style=ProgressStyle(description_wid…"
      ]
     },
     "metadata": {},
     "output_type": "display_data"
    },
    {
     "data": {
      "application/vnd.jupyter.widget-view+json": {
       "model_id": "",
       "version_major": 2,
       "version_minor": 0
      },
      "text/plain": [
       "HBox(children=(FloatProgress(value=0.0, description='GSA Loop 3', max=9.0, style=ProgressStyle(description_wid…"
      ]
     },
     "metadata": {},
     "output_type": "display_data"
    },
    {
     "data": {
      "application/vnd.jupyter.widget-view+json": {
       "model_id": "",
       "version_major": 2,
       "version_minor": 0
      },
      "text/plain": [
       "HBox(children=(FloatProgress(value=0.0, description='GSA Loop 3', max=9.0, style=ProgressStyle(description_wid…"
      ]
     },
     "metadata": {},
     "output_type": "display_data"
    },
    {
     "data": {
      "application/vnd.jupyter.widget-view+json": {
       "model_id": "",
       "version_major": 2,
       "version_minor": 0
      },
      "text/plain": [
       "HBox(children=(FloatProgress(value=0.0, description='GSA Loop 3', max=9.0, style=ProgressStyle(description_wid…"
      ]
     },
     "metadata": {},
     "output_type": "display_data"
    },
    {
     "data": {
      "application/vnd.jupyter.widget-view+json": {
       "model_id": "",
       "version_major": 2,
       "version_minor": 0
      },
      "text/plain": [
       "HBox(children=(FloatProgress(value=0.0, description='GSA Loop 3', max=9.0, style=ProgressStyle(description_wid…"
      ]
     },
     "metadata": {},
     "output_type": "display_data"
    },
    {
     "data": {
      "application/vnd.jupyter.widget-view+json": {
       "model_id": "",
       "version_major": 2,
       "version_minor": 0
      },
      "text/plain": [
       "HBox(children=(FloatProgress(value=0.0, description='GSA Loop 3', max=9.0, style=ProgressStyle(description_wid…"
      ]
     },
     "metadata": {},
     "output_type": "display_data"
    },
    {
     "data": {
      "application/vnd.jupyter.widget-view+json": {
       "model_id": "",
       "version_major": 2,
       "version_minor": 0
      },
      "text/plain": [
       "HBox(children=(FloatProgress(value=0.0, description='GSA Loop 3', max=9.0, style=ProgressStyle(description_wid…"
      ]
     },
     "metadata": {},
     "output_type": "display_data"
    },
    {
     "data": {
      "application/vnd.jupyter.widget-view+json": {
       "model_id": "",
       "version_major": 2,
       "version_minor": 0
      },
      "text/plain": [
       "HBox(children=(FloatProgress(value=0.0, description='GSA Loop 3', max=9.0, style=ProgressStyle(description_wid…"
      ]
     },
     "metadata": {},
     "output_type": "display_data"
    },
    {
     "data": {
      "application/vnd.jupyter.widget-view+json": {
       "model_id": "",
       "version_major": 2,
       "version_minor": 0
      },
      "text/plain": [
       "HBox(children=(FloatProgress(value=0.0, description='GSA Loop 3', max=9.0, style=ProgressStyle(description_wid…"
      ]
     },
     "metadata": {},
     "output_type": "display_data"
    },
    {
     "data": {
      "application/vnd.jupyter.widget-view+json": {
       "model_id": "",
       "version_major": 2,
       "version_minor": 0
      },
      "text/plain": [
       "HBox(children=(FloatProgress(value=0.0, description='GSA Loop 2', max=9.0, style=ProgressStyle(description_wid…"
      ]
     },
     "metadata": {},
     "output_type": "display_data"
    },
    {
     "data": {
      "application/vnd.jupyter.widget-view+json": {
       "model_id": "",
       "version_major": 2,
       "version_minor": 0
      },
      "text/plain": [
       "HBox(children=(FloatProgress(value=0.0, description='GSA Loop 3', max=9.0, style=ProgressStyle(description_wid…"
      ]
     },
     "metadata": {},
     "output_type": "display_data"
    },
    {
     "data": {
      "application/vnd.jupyter.widget-view+json": {
       "model_id": "",
       "version_major": 2,
       "version_minor": 0
      },
      "text/plain": [
       "HBox(children=(FloatProgress(value=0.0, description='GSA Loop 3', max=9.0, style=ProgressStyle(description_wid…"
      ]
     },
     "metadata": {},
     "output_type": "display_data"
    },
    {
     "data": {
      "application/vnd.jupyter.widget-view+json": {
       "model_id": "",
       "version_major": 2,
       "version_minor": 0
      },
      "text/plain": [
       "HBox(children=(FloatProgress(value=0.0, description='GSA Loop 3', max=9.0, style=ProgressStyle(description_wid…"
      ]
     },
     "metadata": {},
     "output_type": "display_data"
    },
    {
     "data": {
      "application/vnd.jupyter.widget-view+json": {
       "model_id": "",
       "version_major": 2,
       "version_minor": 0
      },
      "text/plain": [
       "HBox(children=(FloatProgress(value=0.0, description='GSA Loop 3', max=9.0, style=ProgressStyle(description_wid…"
      ]
     },
     "metadata": {},
     "output_type": "display_data"
    },
    {
     "data": {
      "application/vnd.jupyter.widget-view+json": {
       "model_id": "",
       "version_major": 2,
       "version_minor": 0
      },
      "text/plain": [
       "HBox(children=(FloatProgress(value=0.0, description='GSA Loop 3', max=9.0, style=ProgressStyle(description_wid…"
      ]
     },
     "metadata": {},
     "output_type": "display_data"
    },
    {
     "data": {
      "application/vnd.jupyter.widget-view+json": {
       "model_id": "",
       "version_major": 2,
       "version_minor": 0
      },
      "text/plain": [
       "HBox(children=(FloatProgress(value=0.0, description='GSA Loop 3', max=9.0, style=ProgressStyle(description_wid…"
      ]
     },
     "metadata": {},
     "output_type": "display_data"
    },
    {
     "data": {
      "application/vnd.jupyter.widget-view+json": {
       "model_id": "",
       "version_major": 2,
       "version_minor": 0
      },
      "text/plain": [
       "HBox(children=(FloatProgress(value=0.0, description='GSA Loop 3', max=9.0, style=ProgressStyle(description_wid…"
      ]
     },
     "metadata": {},
     "output_type": "display_data"
    },
    {
     "data": {
      "application/vnd.jupyter.widget-view+json": {
       "model_id": "",
       "version_major": 2,
       "version_minor": 0
      },
      "text/plain": [
       "HBox(children=(FloatProgress(value=0.0, description='GSA Loop 3', max=9.0, style=ProgressStyle(description_wid…"
      ]
     },
     "metadata": {},
     "output_type": "display_data"
    },
    {
     "data": {
      "application/vnd.jupyter.widget-view+json": {
       "model_id": "",
       "version_major": 2,
       "version_minor": 0
      },
      "text/plain": [
       "HBox(children=(FloatProgress(value=0.0, description='GSA Loop 3', max=9.0, style=ProgressStyle(description_wid…"
      ]
     },
     "metadata": {},
     "output_type": "display_data"
    },
    {
     "data": {
      "application/vnd.jupyter.widget-view+json": {
       "model_id": "",
       "version_major": 2,
       "version_minor": 0
      },
      "text/plain": [
       "HBox(children=(FloatProgress(value=0.0, description='GSA Loop 2', max=9.0, style=ProgressStyle(description_wid…"
      ]
     },
     "metadata": {},
     "output_type": "display_data"
    },
    {
     "data": {
      "application/vnd.jupyter.widget-view+json": {
       "model_id": "",
       "version_major": 2,
       "version_minor": 0
      },
      "text/plain": [
       "HBox(children=(FloatProgress(value=0.0, description='GSA Loop 3', max=9.0, style=ProgressStyle(description_wid…"
      ]
     },
     "metadata": {},
     "output_type": "display_data"
    },
    {
     "data": {
      "application/vnd.jupyter.widget-view+json": {
       "model_id": "",
       "version_major": 2,
       "version_minor": 0
      },
      "text/plain": [
       "HBox(children=(FloatProgress(value=0.0, description='GSA Loop 3', max=9.0, style=ProgressStyle(description_wid…"
      ]
     },
     "metadata": {},
     "output_type": "display_data"
    },
    {
     "data": {
      "application/vnd.jupyter.widget-view+json": {
       "model_id": "",
       "version_major": 2,
       "version_minor": 0
      },
      "text/plain": [
       "HBox(children=(FloatProgress(value=0.0, description='GSA Loop 3', max=9.0, style=ProgressStyle(description_wid…"
      ]
     },
     "metadata": {},
     "output_type": "display_data"
    },
    {
     "data": {
      "application/vnd.jupyter.widget-view+json": {
       "model_id": "",
       "version_major": 2,
       "version_minor": 0
      },
      "text/plain": [
       "HBox(children=(FloatProgress(value=0.0, description='GSA Loop 3', max=9.0, style=ProgressStyle(description_wid…"
      ]
     },
     "metadata": {},
     "output_type": "display_data"
    },
    {
     "data": {
      "application/vnd.jupyter.widget-view+json": {
       "model_id": "",
       "version_major": 2,
       "version_minor": 0
      },
      "text/plain": [
       "HBox(children=(FloatProgress(value=0.0, description='GSA Loop 3', max=9.0, style=ProgressStyle(description_wid…"
      ]
     },
     "metadata": {},
     "output_type": "display_data"
    },
    {
     "data": {
      "application/vnd.jupyter.widget-view+json": {
       "model_id": "",
       "version_major": 2,
       "version_minor": 0
      },
      "text/plain": [
       "HBox(children=(FloatProgress(value=0.0, description='GSA Loop 3', max=9.0, style=ProgressStyle(description_wid…"
      ]
     },
     "metadata": {},
     "output_type": "display_data"
    },
    {
     "data": {
      "application/vnd.jupyter.widget-view+json": {
       "model_id": "",
       "version_major": 2,
       "version_minor": 0
      },
      "text/plain": [
       "HBox(children=(FloatProgress(value=0.0, description='GSA Loop 3', max=9.0, style=ProgressStyle(description_wid…"
      ]
     },
     "metadata": {},
     "output_type": "display_data"
    },
    {
     "data": {
      "application/vnd.jupyter.widget-view+json": {
       "model_id": "",
       "version_major": 2,
       "version_minor": 0
      },
      "text/plain": [
       "HBox(children=(FloatProgress(value=0.0, description='GSA Loop 3', max=9.0, style=ProgressStyle(description_wid…"
      ]
     },
     "metadata": {},
     "output_type": "display_data"
    },
    {
     "data": {
      "application/vnd.jupyter.widget-view+json": {
       "model_id": "",
       "version_major": 2,
       "version_minor": 0
      },
      "text/plain": [
       "HBox(children=(FloatProgress(value=0.0, description='GSA Loop 3', max=9.0, style=ProgressStyle(description_wid…"
      ]
     },
     "metadata": {},
     "output_type": "display_data"
    },
    {
     "data": {
      "application/vnd.jupyter.widget-view+json": {
       "model_id": "",
       "version_major": 2,
       "version_minor": 0
      },
      "text/plain": [
       "HBox(children=(FloatProgress(value=0.0, description='GSA Loop 2', max=9.0, style=ProgressStyle(description_wid…"
      ]
     },
     "metadata": {},
     "output_type": "display_data"
    },
    {
     "data": {
      "application/vnd.jupyter.widget-view+json": {
       "model_id": "",
       "version_major": 2,
       "version_minor": 0
      },
      "text/plain": [
       "HBox(children=(FloatProgress(value=0.0, description='GSA Loop 3', max=9.0, style=ProgressStyle(description_wid…"
      ]
     },
     "metadata": {},
     "output_type": "display_data"
    },
    {
     "data": {
      "application/vnd.jupyter.widget-view+json": {
       "model_id": "",
       "version_major": 2,
       "version_minor": 0
      },
      "text/plain": [
       "HBox(children=(FloatProgress(value=0.0, description='GSA Loop 3', max=9.0, style=ProgressStyle(description_wid…"
      ]
     },
     "metadata": {},
     "output_type": "display_data"
    },
    {
     "data": {
      "application/vnd.jupyter.widget-view+json": {
       "model_id": "",
       "version_major": 2,
       "version_minor": 0
      },
      "text/plain": [
       "HBox(children=(FloatProgress(value=0.0, description='GSA Loop 3', max=9.0, style=ProgressStyle(description_wid…"
      ]
     },
     "metadata": {},
     "output_type": "display_data"
    },
    {
     "data": {
      "application/vnd.jupyter.widget-view+json": {
       "model_id": "",
       "version_major": 2,
       "version_minor": 0
      },
      "text/plain": [
       "HBox(children=(FloatProgress(value=0.0, description='GSA Loop 3', max=9.0, style=ProgressStyle(description_wid…"
      ]
     },
     "metadata": {},
     "output_type": "display_data"
    },
    {
     "data": {
      "application/vnd.jupyter.widget-view+json": {
       "model_id": "",
       "version_major": 2,
       "version_minor": 0
      },
      "text/plain": [
       "HBox(children=(FloatProgress(value=0.0, description='GSA Loop 3', max=9.0, style=ProgressStyle(description_wid…"
      ]
     },
     "metadata": {},
     "output_type": "display_data"
    },
    {
     "data": {
      "application/vnd.jupyter.widget-view+json": {
       "model_id": "",
       "version_major": 2,
       "version_minor": 0
      },
      "text/plain": [
       "HBox(children=(FloatProgress(value=0.0, description='GSA Loop 3', max=9.0, style=ProgressStyle(description_wid…"
      ]
     },
     "metadata": {},
     "output_type": "display_data"
    },
    {
     "data": {
      "application/vnd.jupyter.widget-view+json": {
       "model_id": "",
       "version_major": 2,
       "version_minor": 0
      },
      "text/plain": [
       "HBox(children=(FloatProgress(value=0.0, description='GSA Loop 3', max=9.0, style=ProgressStyle(description_wid…"
      ]
     },
     "metadata": {},
     "output_type": "display_data"
    },
    {
     "data": {
      "application/vnd.jupyter.widget-view+json": {
       "model_id": "",
       "version_major": 2,
       "version_minor": 0
      },
      "text/plain": [
       "HBox(children=(FloatProgress(value=0.0, description='GSA Loop 3', max=9.0, style=ProgressStyle(description_wid…"
      ]
     },
     "metadata": {},
     "output_type": "display_data"
    },
    {
     "data": {
      "application/vnd.jupyter.widget-view+json": {
       "model_id": "",
       "version_major": 2,
       "version_minor": 0
      },
      "text/plain": [
       "HBox(children=(FloatProgress(value=0.0, description='GSA Loop 3', max=9.0, style=ProgressStyle(description_wid…"
      ]
     },
     "metadata": {},
     "output_type": "display_data"
    },
    {
     "data": {
      "application/vnd.jupyter.widget-view+json": {
       "model_id": "",
       "version_major": 2,
       "version_minor": 0
      },
      "text/plain": [
       "HBox(children=(FloatProgress(value=0.0, description='GSA Loop 2', max=9.0, style=ProgressStyle(description_wid…"
      ]
     },
     "metadata": {},
     "output_type": "display_data"
    },
    {
     "data": {
      "application/vnd.jupyter.widget-view+json": {
       "model_id": "",
       "version_major": 2,
       "version_minor": 0
      },
      "text/plain": [
       "HBox(children=(FloatProgress(value=0.0, description='GSA Loop 3', max=9.0, style=ProgressStyle(description_wid…"
      ]
     },
     "metadata": {},
     "output_type": "display_data"
    },
    {
     "data": {
      "application/vnd.jupyter.widget-view+json": {
       "model_id": "",
       "version_major": 2,
       "version_minor": 0
      },
      "text/plain": [
       "HBox(children=(FloatProgress(value=0.0, description='GSA Loop 3', max=9.0, style=ProgressStyle(description_wid…"
      ]
     },
     "metadata": {},
     "output_type": "display_data"
    },
    {
     "data": {
      "application/vnd.jupyter.widget-view+json": {
       "model_id": "",
       "version_major": 2,
       "version_minor": 0
      },
      "text/plain": [
       "HBox(children=(FloatProgress(value=0.0, description='GSA Loop 3', max=9.0, style=ProgressStyle(description_wid…"
      ]
     },
     "metadata": {},
     "output_type": "display_data"
    },
    {
     "data": {
      "application/vnd.jupyter.widget-view+json": {
       "model_id": "",
       "version_major": 2,
       "version_minor": 0
      },
      "text/plain": [
       "HBox(children=(FloatProgress(value=0.0, description='GSA Loop 3', max=9.0, style=ProgressStyle(description_wid…"
      ]
     },
     "metadata": {},
     "output_type": "display_data"
    },
    {
     "data": {
      "application/vnd.jupyter.widget-view+json": {
       "model_id": "",
       "version_major": 2,
       "version_minor": 0
      },
      "text/plain": [
       "HBox(children=(FloatProgress(value=0.0, description='GSA Loop 3', max=9.0, style=ProgressStyle(description_wid…"
      ]
     },
     "metadata": {},
     "output_type": "display_data"
    },
    {
     "data": {
      "application/vnd.jupyter.widget-view+json": {
       "model_id": "",
       "version_major": 2,
       "version_minor": 0
      },
      "text/plain": [
       "HBox(children=(FloatProgress(value=0.0, description='GSA Loop 3', max=9.0, style=ProgressStyle(description_wid…"
      ]
     },
     "metadata": {},
     "output_type": "display_data"
    },
    {
     "data": {
      "application/vnd.jupyter.widget-view+json": {
       "model_id": "",
       "version_major": 2,
       "version_minor": 0
      },
      "text/plain": [
       "HBox(children=(FloatProgress(value=0.0, description='GSA Loop 3', max=9.0, style=ProgressStyle(description_wid…"
      ]
     },
     "metadata": {},
     "output_type": "display_data"
    },
    {
     "data": {
      "application/vnd.jupyter.widget-view+json": {
       "model_id": "",
       "version_major": 2,
       "version_minor": 0
      },
      "text/plain": [
       "HBox(children=(FloatProgress(value=0.0, description='GSA Loop 3', max=9.0, style=ProgressStyle(description_wid…"
      ]
     },
     "metadata": {},
     "output_type": "display_data"
    },
    {
     "data": {
      "application/vnd.jupyter.widget-view+json": {
       "model_id": "",
       "version_major": 2,
       "version_minor": 0
      },
      "text/plain": [
       "HBox(children=(FloatProgress(value=0.0, description='GSA Loop 3', max=9.0, style=ProgressStyle(description_wid…"
      ]
     },
     "metadata": {},
     "output_type": "display_data"
    },
    {
     "data": {
      "application/vnd.jupyter.widget-view+json": {
       "model_id": "",
       "version_major": 2,
       "version_minor": 0
      },
      "text/plain": [
       "HBox(children=(FloatProgress(value=0.0, description='GSA Loop 2', max=9.0, style=ProgressStyle(description_wid…"
      ]
     },
     "metadata": {},
     "output_type": "display_data"
    },
    {
     "data": {
      "application/vnd.jupyter.widget-view+json": {
       "model_id": "",
       "version_major": 2,
       "version_minor": 0
      },
      "text/plain": [
       "HBox(children=(FloatProgress(value=0.0, description='GSA Loop 3', max=9.0, style=ProgressStyle(description_wid…"
      ]
     },
     "metadata": {},
     "output_type": "display_data"
    },
    {
     "data": {
      "application/vnd.jupyter.widget-view+json": {
       "model_id": "",
       "version_major": 2,
       "version_minor": 0
      },
      "text/plain": [
       "HBox(children=(FloatProgress(value=0.0, description='GSA Loop 3', max=9.0, style=ProgressStyle(description_wid…"
      ]
     },
     "metadata": {},
     "output_type": "display_data"
    },
    {
     "data": {
      "application/vnd.jupyter.widget-view+json": {
       "model_id": "",
       "version_major": 2,
       "version_minor": 0
      },
      "text/plain": [
       "HBox(children=(FloatProgress(value=0.0, description='GSA Loop 3', max=9.0, style=ProgressStyle(description_wid…"
      ]
     },
     "metadata": {},
     "output_type": "display_data"
    },
    {
     "data": {
      "application/vnd.jupyter.widget-view+json": {
       "model_id": "",
       "version_major": 2,
       "version_minor": 0
      },
      "text/plain": [
       "HBox(children=(FloatProgress(value=0.0, description='GSA Loop 3', max=9.0, style=ProgressStyle(description_wid…"
      ]
     },
     "metadata": {},
     "output_type": "display_data"
    },
    {
     "data": {
      "application/vnd.jupyter.widget-view+json": {
       "model_id": "",
       "version_major": 2,
       "version_minor": 0
      },
      "text/plain": [
       "HBox(children=(FloatProgress(value=0.0, description='GSA Loop 3', max=9.0, style=ProgressStyle(description_wid…"
      ]
     },
     "metadata": {},
     "output_type": "display_data"
    },
    {
     "data": {
      "application/vnd.jupyter.widget-view+json": {
       "model_id": "",
       "version_major": 2,
       "version_minor": 0
      },
      "text/plain": [
       "HBox(children=(FloatProgress(value=0.0, description='GSA Loop 3', max=9.0, style=ProgressStyle(description_wid…"
      ]
     },
     "metadata": {},
     "output_type": "display_data"
    },
    {
     "data": {
      "application/vnd.jupyter.widget-view+json": {
       "model_id": "",
       "version_major": 2,
       "version_minor": 0
      },
      "text/plain": [
       "HBox(children=(FloatProgress(value=0.0, description='GSA Loop 3', max=9.0, style=ProgressStyle(description_wid…"
      ]
     },
     "metadata": {},
     "output_type": "display_data"
    },
    {
     "data": {
      "application/vnd.jupyter.widget-view+json": {
       "model_id": "",
       "version_major": 2,
       "version_minor": 0
      },
      "text/plain": [
       "HBox(children=(FloatProgress(value=0.0, description='GSA Loop 3', max=9.0, style=ProgressStyle(description_wid…"
      ]
     },
     "metadata": {},
     "output_type": "display_data"
    },
    {
     "data": {
      "application/vnd.jupyter.widget-view+json": {
       "model_id": "",
       "version_major": 2,
       "version_minor": 0
      },
      "text/plain": [
       "HBox(children=(FloatProgress(value=0.0, description='GSA Loop 3', max=9.0, style=ProgressStyle(description_wid…"
      ]
     },
     "metadata": {},
     "output_type": "display_data"
    },
    {
     "data": {
      "application/vnd.jupyter.widget-view+json": {
       "model_id": "",
       "version_major": 2,
       "version_minor": 0
      },
      "text/plain": [
       "HBox(children=(FloatProgress(value=0.0, description='GSA Loop 2', max=9.0, style=ProgressStyle(description_wid…"
      ]
     },
     "metadata": {},
     "output_type": "display_data"
    },
    {
     "data": {
      "application/vnd.jupyter.widget-view+json": {
       "model_id": "",
       "version_major": 2,
       "version_minor": 0
      },
      "text/plain": [
       "HBox(children=(FloatProgress(value=0.0, description='GSA Loop 3', max=9.0, style=ProgressStyle(description_wid…"
      ]
     },
     "metadata": {},
     "output_type": "display_data"
    },
    {
     "data": {
      "application/vnd.jupyter.widget-view+json": {
       "model_id": "",
       "version_major": 2,
       "version_minor": 0
      },
      "text/plain": [
       "HBox(children=(FloatProgress(value=0.0, description='GSA Loop 3', max=9.0, style=ProgressStyle(description_wid…"
      ]
     },
     "metadata": {},
     "output_type": "display_data"
    },
    {
     "data": {
      "application/vnd.jupyter.widget-view+json": {
       "model_id": "",
       "version_major": 2,
       "version_minor": 0
      },
      "text/plain": [
       "HBox(children=(FloatProgress(value=0.0, description='GSA Loop 3', max=9.0, style=ProgressStyle(description_wid…"
      ]
     },
     "metadata": {},
     "output_type": "display_data"
    },
    {
     "data": {
      "application/vnd.jupyter.widget-view+json": {
       "model_id": "",
       "version_major": 2,
       "version_minor": 0
      },
      "text/plain": [
       "HBox(children=(FloatProgress(value=0.0, description='GSA Loop 3', max=9.0, style=ProgressStyle(description_wid…"
      ]
     },
     "metadata": {},
     "output_type": "display_data"
    },
    {
     "data": {
      "application/vnd.jupyter.widget-view+json": {
       "model_id": "",
       "version_major": 2,
       "version_minor": 0
      },
      "text/plain": [
       "HBox(children=(FloatProgress(value=0.0, description='GSA Loop 3', max=9.0, style=ProgressStyle(description_wid…"
      ]
     },
     "metadata": {},
     "output_type": "display_data"
    },
    {
     "data": {
      "application/vnd.jupyter.widget-view+json": {
       "model_id": "",
       "version_major": 2,
       "version_minor": 0
      },
      "text/plain": [
       "HBox(children=(FloatProgress(value=0.0, description='GSA Loop 3', max=9.0, style=ProgressStyle(description_wid…"
      ]
     },
     "metadata": {},
     "output_type": "display_data"
    },
    {
     "data": {
      "application/vnd.jupyter.widget-view+json": {
       "model_id": "",
       "version_major": 2,
       "version_minor": 0
      },
      "text/plain": [
       "HBox(children=(FloatProgress(value=0.0, description='GSA Loop 3', max=9.0, style=ProgressStyle(description_wid…"
      ]
     },
     "metadata": {},
     "output_type": "display_data"
    },
    {
     "data": {
      "application/vnd.jupyter.widget-view+json": {
       "model_id": "",
       "version_major": 2,
       "version_minor": 0
      },
      "text/plain": [
       "HBox(children=(FloatProgress(value=0.0, description='GSA Loop 3', max=9.0, style=ProgressStyle(description_wid…"
      ]
     },
     "metadata": {},
     "output_type": "display_data"
    },
    {
     "data": {
      "application/vnd.jupyter.widget-view+json": {
       "model_id": "",
       "version_major": 2,
       "version_minor": 0
      },
      "text/plain": [
       "HBox(children=(FloatProgress(value=0.0, description='GSA Loop 3', max=9.0, style=ProgressStyle(description_wid…"
      ]
     },
     "metadata": {},
     "output_type": "display_data"
    },
    {
     "data": {
      "application/vnd.jupyter.widget-view+json": {
       "model_id": "",
       "version_major": 2,
       "version_minor": 0
      },
      "text/plain": [
       "HBox(children=(FloatProgress(value=0.0, description='GSA Loop 2', max=9.0, style=ProgressStyle(description_wid…"
      ]
     },
     "metadata": {},
     "output_type": "display_data"
    },
    {
     "data": {
      "application/vnd.jupyter.widget-view+json": {
       "model_id": "",
       "version_major": 2,
       "version_minor": 0
      },
      "text/plain": [
       "HBox(children=(FloatProgress(value=0.0, description='GSA Loop 3', max=9.0, style=ProgressStyle(description_wid…"
      ]
     },
     "metadata": {},
     "output_type": "display_data"
    },
    {
     "data": {
      "application/vnd.jupyter.widget-view+json": {
       "model_id": "",
       "version_major": 2,
       "version_minor": 0
      },
      "text/plain": [
       "HBox(children=(FloatProgress(value=0.0, description='GSA Loop 3', max=9.0, style=ProgressStyle(description_wid…"
      ]
     },
     "metadata": {},
     "output_type": "display_data"
    },
    {
     "data": {
      "application/vnd.jupyter.widget-view+json": {
       "model_id": "",
       "version_major": 2,
       "version_minor": 0
      },
      "text/plain": [
       "HBox(children=(FloatProgress(value=0.0, description='GSA Loop 3', max=9.0, style=ProgressStyle(description_wid…"
      ]
     },
     "metadata": {},
     "output_type": "display_data"
    },
    {
     "data": {
      "application/vnd.jupyter.widget-view+json": {
       "model_id": "",
       "version_major": 2,
       "version_minor": 0
      },
      "text/plain": [
       "HBox(children=(FloatProgress(value=0.0, description='GSA Loop 3', max=9.0, style=ProgressStyle(description_wid…"
      ]
     },
     "metadata": {},
     "output_type": "display_data"
    },
    {
     "data": {
      "application/vnd.jupyter.widget-view+json": {
       "model_id": "",
       "version_major": 2,
       "version_minor": 0
      },
      "text/plain": [
       "HBox(children=(FloatProgress(value=0.0, description='GSA Loop 3', max=9.0, style=ProgressStyle(description_wid…"
      ]
     },
     "metadata": {},
     "output_type": "display_data"
    },
    {
     "data": {
      "application/vnd.jupyter.widget-view+json": {
       "model_id": "",
       "version_major": 2,
       "version_minor": 0
      },
      "text/plain": [
       "HBox(children=(FloatProgress(value=0.0, description='GSA Loop 3', max=9.0, style=ProgressStyle(description_wid…"
      ]
     },
     "metadata": {},
     "output_type": "display_data"
    },
    {
     "data": {
      "application/vnd.jupyter.widget-view+json": {
       "model_id": "",
       "version_major": 2,
       "version_minor": 0
      },
      "text/plain": [
       "HBox(children=(FloatProgress(value=0.0, description='GSA Loop 3', max=9.0, style=ProgressStyle(description_wid…"
      ]
     },
     "metadata": {},
     "output_type": "display_data"
    },
    {
     "data": {
      "application/vnd.jupyter.widget-view+json": {
       "model_id": "",
       "version_major": 2,
       "version_minor": 0
      },
      "text/plain": [
       "HBox(children=(FloatProgress(value=0.0, description='GSA Loop 3', max=9.0, style=ProgressStyle(description_wid…"
      ]
     },
     "metadata": {},
     "output_type": "display_data"
    },
    {
     "data": {
      "application/vnd.jupyter.widget-view+json": {
       "model_id": "",
       "version_major": 2,
       "version_minor": 0
      },
      "text/plain": [
       "HBox(children=(FloatProgress(value=0.0, description='GSA Loop 3', max=9.0, style=ProgressStyle(description_wid…"
      ]
     },
     "metadata": {},
     "output_type": "display_data"
    },
    {
     "name": "stdout",
     "output_type": "stream",
     "text": [
      "\n",
      "NOTE: for Activ column, 1 = sigmoid || 2 = relu || 3 = tanh\n"
     ]
    },
    {
     "data": {
      "text/html": [
       "<div>\n",
       "<style scoped>\n",
       "    .dataframe tbody tr th:only-of-type {\n",
       "        vertical-align: middle;\n",
       "    }\n",
       "\n",
       "    .dataframe tbody tr th {\n",
       "        vertical-align: top;\n",
       "    }\n",
       "\n",
       "    .dataframe thead th {\n",
       "        text-align: right;\n",
       "    }\n",
       "</style>\n",
       "<table border=\"1\" class=\"dataframe\">\n",
       "  <thead>\n",
       "    <tr style=\"text-align: right;\">\n",
       "      <th></th>\n",
       "      <th>Neur1</th>\n",
       "      <th>Neur2</th>\n",
       "      <th>Neur3</th>\n",
       "      <th>Activ</th>\n",
       "      <th>r</th>\n",
       "      <th>r2</th>\n",
       "      <th>SMAPE</th>\n",
       "      <th>RMSE</th>\n",
       "      <th>norm-r</th>\n",
       "      <th>norm-r2</th>\n",
       "      <th>norm-SMAPE</th>\n",
       "      <th>norm-RMSE</th>\n",
       "      <th>INDEX</th>\n",
       "    </tr>\n",
       "  </thead>\n",
       "  <tbody>\n",
       "    <tr>\n",
       "      <th>0</th>\n",
       "      <td>112.000</td>\n",
       "      <td>80.000</td>\n",
       "      <td>80.000</td>\n",
       "      <td>2.000</td>\n",
       "      <td>0.905</td>\n",
       "      <td>0.793</td>\n",
       "      <td>12.337</td>\n",
       "      <td>0.710</td>\n",
       "      <td>0.975</td>\n",
       "      <td>1.000</td>\n",
       "      <td>0.948</td>\n",
       "      <td>1.000</td>\n",
       "      <td>0.982</td>\n",
       "    </tr>\n",
       "    <tr>\n",
       "      <th>1</th>\n",
       "      <td>128.000</td>\n",
       "      <td>96.000</td>\n",
       "      <td>80.000</td>\n",
       "      <td>2.000</td>\n",
       "      <td>0.898</td>\n",
       "      <td>0.778</td>\n",
       "      <td>11.574</td>\n",
       "      <td>0.723</td>\n",
       "      <td>0.945</td>\n",
       "      <td>0.972</td>\n",
       "      <td>1.000</td>\n",
       "      <td>0.980</td>\n",
       "      <td>0.980</td>\n",
       "    </tr>\n",
       "    <tr>\n",
       "      <th>2</th>\n",
       "      <td>128.000</td>\n",
       "      <td>128.000</td>\n",
       "      <td>128.000</td>\n",
       "      <td>2.000</td>\n",
       "      <td>0.896</td>\n",
       "      <td>0.774</td>\n",
       "      <td>12.213</td>\n",
       "      <td>0.741</td>\n",
       "      <td>0.938</td>\n",
       "      <td>0.965</td>\n",
       "      <td>0.956</td>\n",
       "      <td>0.955</td>\n",
       "      <td>0.957</td>\n",
       "    </tr>\n",
       "  </tbody>\n",
       "</table>\n",
       "</div>"
      ],
      "text/plain": [
       "    Neur1   Neur2   Neur3  Activ     r    r2  SMAPE  RMSE  norm-r  norm-r2  norm-SMAPE  norm-RMSE  INDEX\n",
       "0 112.000  80.000  80.000  2.000 0.905 0.793 12.337 0.710   0.975    1.000       0.948      1.000  0.982\n",
       "1 128.000  96.000  80.000  2.000 0.898 0.778 11.574 0.723   0.945    0.972       1.000      0.980  0.980\n",
       "2 128.000 128.000 128.000  2.000 0.896 0.774 12.213 0.741   0.938    0.965       0.956      0.955  0.957"
      ]
     },
     "execution_count": 21,
     "metadata": {},
     "output_type": "execute_result"
    }
   ],
   "source": [
    "best_nn_3 = []\n",
    "Neurons = range(0, 136,16)\n",
    "Activations = list(range(1,4)) #see dictionary definition in above function.\n",
    "for GSA_neur1 in tqdm(Neurons,desc='GSA Loop 1'): \n",
    "    for GSA_neur2 in tqdm(Neurons,desc='GSA Loop 2',leave = False):\n",
    "        for GSA_neur3 in tqdm(Neurons,desc='GSA Loop 3',leave = False): \n",
    "            for GSA_activ in Activations: \n",
    "                if GSA_neur3 > GSA_neur2 or GSA_neur2 > GSA_neur1 or GSA_neur1 == 0:\n",
    "                    continue\n",
    "                pred_y_nn_3, test_y_nn_3, best_nn_3 = train_and_test_NN(train_X = train_x, train_Y = train_y[:,2], test_X = test_x, test_Y = test_y[:,2], neur1 = GSA_neur1, neur2 = GSA_neur2, neur3 = GSA_neur3, activ = GSA_activ, splits = 5, GSA_BEST = best_nn_3)\n",
    "                \n",
    "#Convert returned GSA results to np array\n",
    "best_nn_3=np.vstack(best_nn_3)\n",
    "\n",
    "#Normalize metrics and compute reference index\n",
    "best_nn_3 = Ref_IDX(GSA_array = best_nn_3, num_desc = 4)  \n",
    "\n",
    "#Print 3 best configurations of each model\n",
    "pd.set_option('expand_frame_repr', False)\n",
    "pd.options.display.float_format = \"{:,.3f}\".format\n",
    "print('NOTE: for Activ column, 1 = sigmoid || 2 = relu || 3 = tanh')\n",
    "headings = ['Neur1', 'Neur2', 'Neur3', 'Activ','r','r2','SMAPE','RMSE','norm-r','norm-r2','norm-SMAPE','norm-RMSE','INDEX']\n",
    "best_nn_3 = pd.DataFrame(best_nn_3[:3],columns = headings)\n",
    "best_nn_3"
   ]
  },
  {
   "cell_type": "code",
   "execution_count": 22,
   "metadata": {},
   "outputs": [
    {
     "name": "stdout",
     "output_type": "stream",
     "text": [
      "      r    r2  SMAPE  RMSE\n",
      "0 0.722 0.028 47.778 0.933\n",
      "      r    r2  SMAPE  RMSE\n",
      "0 0.836 0.605 19.965 0.776\n",
      "      r    r2  SMAPE  RMSE\n",
      "0 0.705 0.486 21.350 1.192\n"
     ]
    }
   ],
   "source": [
    "best_lr_1,best_lr_2, best_lr_3 = [], [], []\n",
    "pred_y_lr_1, test_y_lr_1, best_lr_1  = train_and_test_LR(train_X = train_x, train_Y = train_y[:,0], test_X = test_x, test_Y = test_y[:,0],splits = 5, GSA_BEST = best_lr_1)\n",
    "pred_y_lr_2, test_y_lr_2, best_lr_2 = train_and_test_LR(train_X = train_x, train_Y = train_y[:,1], test_X = test_x, test_Y = test_y[:,1],splits = 5, GSA_BEST = best_lr_2)\n",
    "pred_y_lr_3, test_y_lr_3, best_lr_3 = train_and_test_LR(train_X = train_x, train_Y = train_y[:,2], test_X = test_x, test_Y = test_y[:,2],splits = 5, GSA_BEST = best_lr_3)\n",
    "\n",
    "#Convert returned GSA results to np array\n",
    "best_lr_1=np.vstack(best_lr_1)\n",
    "best_lr_2=np.vstack(best_lr_2)\n",
    "best_lr_3=np.vstack(best_lr_3)\n",
    "\n",
    "#Print best configuration of each model\n",
    "pd.set_option('expand_frame_repr', False)\n",
    "pd.options.display.float_format = \"{:,.3f}\".format\n",
    "headings = ['r','r2','SMAPE','RMSE']\n",
    "best_lr_1 = pd.DataFrame(best_lr_1[:1],columns = headings)\n",
    "print(best_lr_1)\n",
    "best_lr_2 = pd.DataFrame(best_lr_2[:1],columns = headings)\n",
    "print(best_lr_2)\n",
    "best_lr_3 = pd.DataFrame(best_lr_3[:1],columns = headings)\n",
    "print(best_lr_3)\n"
   ]
  },
  {
   "cell_type": "code",
   "execution_count": 23,
   "metadata": {},
   "outputs": [
    {
     "name": "stdout",
     "output_type": "stream",
     "text": [
      "   RR_Alpha        r       r2     SMAPE     RMSE   norm-r  norm-r2  norm-SMAPE  norm-RMSE    INDEX\n",
      "0  1.000000 0.707518 0.235137 45.282973 0.881811 0.872999 1.000000    1.000000   1.000000 0.987300\n",
      "1  0.100000 0.720944 0.079489 47.466559 0.917253 0.993728 0.697376    0.822402   0.859282 0.813091\n",
      "2  0.010000 0.721605 0.033977 47.742849 0.930731 0.999671 0.608889    0.799931   0.805771 0.764344\n",
      "   RR_Alpha        r       r2     SMAPE     RMSE   norm-r  norm-r2  norm-SMAPE  norm-RMSE    INDEX\n",
      "0  0.100000 0.837416 0.618067 20.158079 0.767078 1.000000 0.992495    0.990815   1.000000 0.994993\n",
      "1  0.010000 0.836229 0.606760 19.970520 0.775240 0.975318 0.976463    0.999744   0.984981 0.985888\n",
      "2  0.001000 0.836060 0.605293 19.965670 0.776318 0.971798 0.974383    0.999975   0.982998 0.984386\n",
      "   RR_Alpha        r       r2     SMAPE     RMSE   norm-r  norm-r2  norm-SMAPE  norm-RMSE    INDEX\n",
      "0  0.100000 0.706525 0.490099 21.085697 1.189872 1.000000 1.000000    1.000000   1.000000 1.000000\n",
      "1  0.010000 0.704815 0.486916 21.317999 1.191260 0.971573 0.994835    0.980736   0.997595 0.989107\n",
      "2  0.001000 0.704537 0.486292 21.346395 1.191712 0.966965 0.993823    0.978381   0.996813 0.987402\n"
     ]
    }
   ],
   "source": [
    "best_rr_1,best_rr_2, best_rr_3 = [], [], []\n",
    "# Train and test 3 models, GSA Alpha Values from 10^-6 to 10^6\n",
    "for GSA_Alpha in [0.00001, 0.0001, 0.001, 0.01, 0.1, 1, 10, 100, 1000, 10000, 100000, 1000000]: \n",
    "    pred_y_rr_1, test_y_rr_1, best_rr_1  = train_and_test_RR(train_X = train_x, train_Y = train_y[:,0], test_X = test_x, test_Y = test_y[:,0],RR_Alpha = GSA_Alpha, splits = 5, GSA_BEST = best_rr_1)\n",
    "    pred_y_rr_2, test_y_rr_2, best_rr_2 = train_and_test_RR(train_X = train_x, train_Y = train_y[:,1], test_X = test_x, test_Y = test_y[:,1],RR_Alpha = GSA_Alpha, splits = 5, GSA_BEST = best_rr_2)\n",
    "    pred_y_rr_3, test_y_rr_3, best_rr_3 = train_and_test_RR(train_X = train_x, train_Y = train_y[:,2], test_X = test_x, test_Y = test_y[:,2],RR_Alpha = GSA_Alpha, splits = 5, GSA_BEST = best_rr_3)\n",
    "    \n",
    "#Convert returned GSA results to np array\n",
    "best_rr_1=np.vstack(best_rr_1)\n",
    "best_rr_2=np.vstack(best_rr_2)\n",
    "best_rr_3=np.vstack(best_rr_3)\n",
    "\n",
    "#Normalize metrics and compute reference index\n",
    "best_rr_1 = Ref_IDX(GSA_array = best_rr_1, num_desc = 1)    \n",
    "best_rr_2 = Ref_IDX(GSA_array = best_rr_2, num_desc = 1)     \n",
    "best_rr_3 = Ref_IDX(GSA_array = best_rr_3, num_desc = 1)  \n",
    "\n",
    "#Print 3 best configurations of each model\n",
    "pd.set_option('expand_frame_repr', False)\n",
    "pd.options.display.float_format = \"{:,.6f}\".format\n",
    "headings = ['RR_Alpha','r', 'r2','SMAPE','RMSE','norm-r', 'norm-r2','norm-SMAPE','norm-RMSE','INDEX']\n",
    "best_rr_1 = pd.DataFrame(best_rr_1[:3],columns = headings)\n",
    "print(best_rr_1)\n",
    "best_rr_2 = pd.DataFrame(best_rr_2[:3],columns = headings)\n",
    "print(best_rr_2)\n",
    "best_rr_3 = pd.DataFrame(best_rr_3[:3],columns = headings)\n",
    "print(best_rr_3)"
   ]
  },
  {
   "cell_type": "code",
   "execution_count": 24,
   "metadata": {},
   "outputs": [
    {
     "name": "stdout",
     "output_type": "stream",
     "text": [
      "   Lasso_Alpha        r       r2     SMAPE     RMSE   norm-r  norm-r2  norm-SMAPE  norm-RMSE    INDEX\n",
      "0     0.010000 0.709259 0.115695 47.703264 0.911353 0.982852 1.000000    0.998610   1.000000 0.997868\n",
      "1     0.001000 0.720757 0.039133 47.689515 0.929147 0.998785 0.806121    1.000000   0.919965 0.917704\n",
      "2     0.000100 0.721560 0.029189 47.766580 0.932170 0.999898 0.780939    0.992207   0.906367 0.903843\n",
      "   Lasso_Alpha        r       r2     SMAPE     RMSE   norm-r  norm-r2  norm-SMAPE  norm-RMSE    INDEX\n",
      "0     0.010000 0.837802 0.615459 20.129372 0.768822 0.990291 1.000000    0.992189   1.000000 0.996686\n",
      "1     0.001000 0.836110 0.606855 19.984053 0.775174 0.988290 0.987662    0.999107   0.988274 0.991342\n",
      "2     0.000100 0.836044 0.605292 19.966876 0.776318 0.988212 0.985421    0.999925   0.986163 0.990274\n",
      "   Lasso_Alpha        r       r2     SMAPE     RMSE   norm-r  norm-r2  norm-SMAPE  norm-RMSE    INDEX\n",
      "0     0.001000 0.704021 0.485841 21.272412 1.192719 0.999320 0.999388    0.985723   0.998359 0.994973\n",
      "1     0.000100 0.704461 0.486194 21.341864 1.191847 0.999944 0.999964    0.979956   0.999875 0.993933\n",
      "2     0.000010 0.704500 0.486216 21.348808 1.191775 1.000000 1.000000    0.979380   1.000000 0.993814\n"
     ]
    }
   ],
   "source": [
    "best_lasso_1,best_lasso_2, best_lasso_3 = [], [], []\n",
    "# Train and test 3 models, GSA Alpha Values from 10^-6 to 10^6\n",
    "for GSA_Alpha in [0.00001, 0.0001, 0.001, 0.01, 0.1, 1, 10, 100, 1000, 10000, 100000, 1000000]: \n",
    "    pred_y_Lasso_1, test_y_Lasso_1, best_lasso_1  = train_and_test_lasso(train_X = train_x, train_Y = train_y[:,0], test_X = test_x, test_Y = test_y[:,0],Lasso_Alpha = GSA_Alpha, splits = 5, GSA_BEST = best_lasso_1)\n",
    "    pred_y_Lasso_2, test_y_Lasso_2, best_lasso_2 = train_and_test_lasso(train_X = train_x, train_Y = train_y[:,1], test_X = test_x, test_Y = test_y[:,1],Lasso_Alpha = GSA_Alpha, splits = 5, GSA_BEST = best_lasso_2)\n",
    "    pred_y_Lasso_3, test_y_Lasso_3, best_lasso_3 = train_and_test_lasso(train_X = train_x, train_Y = train_y[:,2], test_X = test_x, test_Y = test_y[:,2],Lasso_Alpha = GSA_Alpha, splits = 5, GSA_BEST = best_lasso_3)\n",
    "    \n",
    "#Convert returned GSA results to np array\n",
    "best_lasso_1=np.vstack(best_lasso_1)\n",
    "best_lasso_2=np.vstack(best_lasso_2)\n",
    "best_lasso_3=np.vstack(best_lasso_3)\n",
    "\n",
    "#Normalize metrics and compute reference index\n",
    "best_lasso_1 = Ref_IDX(GSA_array = best_lasso_1, num_desc = 1)    \n",
    "best_lasso_2 = Ref_IDX(GSA_array = best_lasso_2, num_desc = 1)     \n",
    "best_lasso_3 = Ref_IDX(GSA_array = best_lasso_3, num_desc = 1)  \n",
    "\n",
    "#Print 3 best configurations of each model\n",
    "pd.set_option('expand_frame_repr', False)\n",
    "pd.options.display.float_format = \"{:,.6f}\".format\n",
    "headings = ['Lasso_Alpha','r', 'r2','SMAPE','RMSE','norm-r', 'norm-r2','norm-SMAPE','norm-RMSE','INDEX']\n",
    "best_lasso_1 = pd.DataFrame(best_lasso_1[:3],columns = headings)\n",
    "print(best_lasso_1)\n",
    "best_lasso_2 = pd.DataFrame(best_lasso_2[:3],columns = headings)\n",
    "print(best_lasso_2)\n",
    "best_lasso_3 = pd.DataFrame(best_lasso_3[:3],columns = headings)\n",
    "print(best_lasso_3)"
   ]
  },
  {
   "cell_type": "code",
   "execution_count": 25,
   "metadata": {},
   "outputs": [
    {
     "name": "stdout",
     "output_type": "stream",
     "text": [
      "    #NN     r    r2  SMAPE  RMSE  norm-r  norm-r2  norm-SMAPE  norm-RMSE  INDEX\n",
      "0 5.000 0.744 0.313 31.655 0.874   1.000    0.887       0.810      0.868  0.870\n",
      "1 8.000 0.733 0.355 36.780 0.860   0.795    0.977       0.532      0.969  0.823\n",
      "2 7.000 0.725 0.340 35.284 0.869   0.657    0.945       0.613      0.906  0.805\n",
      "    #NN     r    r2  SMAPE  RMSE  norm-r  norm-r2  norm-SMAPE  norm-RMSE  INDEX\n",
      "0 3.000 0.964 0.922 10.076 0.346   1.000    1.000       1.000      1.000  1.000\n",
      "1 2.000 0.954 0.900 10.496 0.391   0.868    0.916       0.964      0.883  0.916\n",
      "2 4.000 0.956 0.896 11.085 0.395   0.901    0.903       0.913      0.874  0.897\n",
      "    #NN     r    r2  SMAPE  RMSE  norm-r  norm-r2  norm-SMAPE  norm-RMSE  INDEX\n",
      "0 5.000 0.804 0.561 17.387 1.044   1.000    0.946       1.000      1.000  0.984\n",
      "1 7.000 0.803 0.571 18.401 1.047   0.979    1.000       0.828      0.988  0.943\n",
      "2 6.000 0.799 0.560 18.013 1.049   0.928    0.940       0.894      0.973  0.935\n"
     ]
    }
   ],
   "source": [
    "best_knn_1,best_knn_2, best_knn_3 = [], [], []\n",
    "# Train and test 3 models, GSA Neighbour Amounts from 2 to 25\n",
    "for GSA_NN in range(2,26): \n",
    "    pred_y_knn_1, test_y_knn_1,best_knn_1 = train_and_test_KNN(train_X = train_x, train_Y = train_y[:,0], test_X = test_x, test_Y = test_y[:,0], N_neighbors = GSA_NN, splits = 5, GSA_BEST = best_knn_1 )\n",
    "    pred_y_knn_2, test_y_knn_2,best_knn_2 = train_and_test_KNN(train_X = train_x, train_Y = train_y[:,1], test_X = test_x, test_Y = test_y[:,1], N_neighbors = GSA_NN, splits = 5, GSA_BEST = best_knn_2 )\n",
    "    pred_y_knn_3, test_y_knn_3,best_knn_3 = train_and_test_KNN(train_X = train_x, train_Y = train_y[:,2], test_X = test_x, test_Y = test_y[:,2], N_neighbors = GSA_NN, splits = 5, GSA_BEST = best_knn_3 )\n",
    "\n",
    "#Convert returned GSA results to np array\n",
    "best_knn_1=np.vstack(best_knn_1)\n",
    "best_knn_2=np.vstack(best_knn_2)\n",
    "best_knn_3=np.vstack(best_knn_3)\n",
    "\n",
    "#Normalize metrics and compute reference index\n",
    "best_knn_1 = Ref_IDX(GSA_array = best_knn_1, num_desc = 1)    \n",
    "best_knn_2 = Ref_IDX(GSA_array = best_knn_2, num_desc = 1)     \n",
    "best_knn_3 = Ref_IDX(GSA_array = best_knn_3, num_desc = 1)  \n",
    "\n",
    "#Print 3 best configurations of each model\n",
    "pd.set_option('expand_frame_repr', False)\n",
    "pd.options.display.float_format = \"{:,.3f}\".format\n",
    "headings = ['#NN','r', 'r2','SMAPE','RMSE','norm-r', 'norm-r2','norm-SMAPE','norm-RMSE','INDEX']\n",
    "best_knn_1 = pd.DataFrame(best_knn_1[:3],columns = headings)\n",
    "print(best_knn_1)\n",
    "best_knn_2 = pd.DataFrame(best_knn_2[:3],columns = headings)\n",
    "print(best_knn_2)\n",
    "best_knn_3 = pd.DataFrame(best_knn_3[:3],columns = headings)\n",
    "print(best_knn_3)"
   ]
  },
  {
   "cell_type": "code",
   "execution_count": 26,
   "metadata": {},
   "outputs": [
    {
     "name": "stdout",
     "output_type": "stream",
     "text": [
      "  Max_Depth     r     r2  SMAPE  RMSE norm-r norm-r2 norm-SMAPE norm-RMSE INDEX\n",
      "0      None 0.619 -0.580 34.341 1.115  0.668   0.071      0.951     0.251 0.449\n",
      "1     1.000   NaN -0.539 57.714 1.173    NaN   0.156      0.000     0.000   NaN\n",
      "2     4.000 0.678 -0.133 33.129 0.945  1.000   1.000      1.000     1.000 1.000\n",
      "  Max_Depth     r    r2 SMAPE  RMSE norm-r norm-r2 norm-SMAPE norm-RMSE INDEX\n",
      "0     7.000 0.966 0.927 9.502 0.327  1.000   1.000      0.930     1.000 0.979\n",
      "1     8.000 0.965 0.924 9.550 0.341  0.912   0.844      0.909     0.706 0.829\n",
      "2     9.000 0.964 0.922 9.468 0.347  0.857   0.765      0.945     0.588 0.775\n",
      "  Max_Depth     r    r2  SMAPE  RMSE norm-r norm-r2 norm-SMAPE norm-RMSE INDEX\n",
      "0     6.000 0.731 0.256 20.716 1.297  1.000   0.897      1.000     0.930 0.948\n",
      "1     3.000 0.708 0.306 22.486 1.260  0.950   1.000      0.820     1.000 0.941\n",
      "2     4.000 0.712 0.256 21.740 1.272  0.959   0.897      0.896     0.977 0.927\n"
     ]
    }
   ],
   "source": [
    "best_dt_1,best_dt_2, best_dt_3 = [], [], []\n",
    "# Train and test 3 models, GSA max_depths Amounts from 0 (None) to 10\n",
    "for Depths in range(0,11): \n",
    "    pred_y_dt_1, test_y_dt_1,best_dt_1 = train_and_test_DT(train_X = train_x, train_Y = train_y[:,0], test_X = test_x, test_Y = test_y[:,0], GSA_depth = Depths, splits = 5, GSA_BEST = best_dt_1 )\n",
    "    pred_y_dt_2, test_y_dt_2,best_dt_2 = train_and_test_DT(train_X = train_x, train_Y = train_y[:,1], test_X = test_x, test_Y = test_y[:,1], GSA_depth = Depths, splits = 5, GSA_BEST = best_dt_2 )\n",
    "    pred_y_dt_3, test_y_dt_3,best_dt_3 = train_and_test_DT(train_X = train_x, train_Y = train_y[:,2], test_X = test_x, test_Y = test_y[:,2], GSA_depth = Depths, splits = 5, GSA_BEST = best_dt_3 )\n",
    "\n",
    "#Convert returned GSA results to np array\n",
    "best_dt_1=np.vstack(best_dt_1)\n",
    "best_dt_2=np.vstack(best_dt_2)\n",
    "best_dt_3=np.vstack(best_dt_3)\n",
    "\n",
    "#Normalize metrics and compute reference index\n",
    "best_dt_1 = Ref_IDX(GSA_array = best_dt_1, num_desc = 1)    \n",
    "best_dt_2 = Ref_IDX(GSA_array = best_dt_2, num_desc = 1)     \n",
    "best_dt_3 = Ref_IDX(GSA_array = best_dt_3, num_desc = 1)  \n",
    "\n",
    "#Print 3 best configurations of each model\n",
    "pd.set_option('expand_frame_repr', False)\n",
    "pd.options.display.float_format = \"{:,.3f}\".format\n",
    "headings = ['Max_Depth','r', 'r2','SMAPE','RMSE','norm-r', 'norm-r2','norm-SMAPE','norm-RMSE','INDEX']\n",
    "best_dt_1 = pd.DataFrame(best_dt_1[:3],columns = headings)\n",
    "print(best_dt_1)\n",
    "best_dt_2 = pd.DataFrame(best_dt_2[:3],columns = headings)\n",
    "print(best_dt_2)\n",
    "best_dt_3 = pd.DataFrame(best_dt_3[:3],columns = headings)\n",
    "print(best_dt_3)"
   ]
  },
  {
   "cell_type": "code",
   "execution_count": 27,
   "metadata": {},
   "outputs": [
    {
     "data": {
      "application/vnd.jupyter.widget-view+json": {
       "model_id": "2a7d2c3e30c64c9483d90452c3a98fec",
       "version_major": 2,
       "version_minor": 0
      },
      "text/plain": [
       "HBox(children=(FloatProgress(value=0.0, description='GSA Loop 1', max=5.0, style=ProgressStyle(description_wid…"
      ]
     },
     "metadata": {},
     "output_type": "display_data"
    },
    {
     "data": {
      "application/vnd.jupyter.widget-view+json": {
       "model_id": "",
       "version_major": 2,
       "version_minor": 0
      },
      "text/plain": [
       "HBox(children=(FloatProgress(value=0.0, description='GSA Loop 2', max=20.0, style=ProgressStyle(description_wi…"
      ]
     },
     "metadata": {},
     "output_type": "display_data"
    },
    {
     "data": {
      "application/vnd.jupyter.widget-view+json": {
       "model_id": "",
       "version_major": 2,
       "version_minor": 0
      },
      "text/plain": [
       "HBox(children=(FloatProgress(value=0.0, description='GSA Loop 2', max=20.0, style=ProgressStyle(description_wi…"
      ]
     },
     "metadata": {},
     "output_type": "display_data"
    },
    {
     "data": {
      "application/vnd.jupyter.widget-view+json": {
       "model_id": "",
       "version_major": 2,
       "version_minor": 0
      },
      "text/plain": [
       "HBox(children=(FloatProgress(value=0.0, description='GSA Loop 2', max=20.0, style=ProgressStyle(description_wi…"
      ]
     },
     "metadata": {},
     "output_type": "display_data"
    },
    {
     "data": {
      "application/vnd.jupyter.widget-view+json": {
       "model_id": "",
       "version_major": 2,
       "version_minor": 0
      },
      "text/plain": [
       "HBox(children=(FloatProgress(value=0.0, description='GSA Loop 2', max=20.0, style=ProgressStyle(description_wi…"
      ]
     },
     "metadata": {},
     "output_type": "display_data"
    },
    {
     "data": {
      "application/vnd.jupyter.widget-view+json": {
       "model_id": "",
       "version_major": 2,
       "version_minor": 0
      },
      "text/plain": [
       "HBox(children=(FloatProgress(value=0.0, description='GSA Loop 2', max=20.0, style=ProgressStyle(description_wi…"
      ]
     },
     "metadata": {},
     "output_type": "display_data"
    },
    {
     "name": "stdout",
     "output_type": "stream",
     "text": [
      "\n",
      "      m   Trees     r    r2  SMAPE  RMSE  norm-r  norm-r2  norm-SMAPE  norm-RMSE  INDEX\n",
      "0 5.000 150.000 0.648 0.102 50.318 0.969   0.913    1.000       1.000      0.998  0.991\n",
      "1 5.000 350.000 0.687 0.092 50.796 0.969   0.968    0.974       0.939      1.000  0.971\n",
      "2 5.000 100.000 0.626 0.093 50.533 0.975   0.883    0.976       0.972      0.961  0.961\n",
      "      m   Trees     r    r2  SMAPE  RMSE  norm-r  norm-r2  norm-SMAPE  norm-RMSE  INDEX\n",
      "0 5.000  50.000 0.945 0.707 20.722 0.677   1.000    1.000       1.000      1.000  1.000\n",
      "1 5.000 100.000 0.936 0.689 21.459 0.699   0.990    0.978       0.964      0.966  0.971\n",
      "2 5.000 150.000 0.935 0.666 22.446 0.725   0.989    0.950       0.916      0.924  0.936\n",
      "      m   Trees     r    r2  SMAPE  RMSE  norm-r  norm-r2  norm-SMAPE  norm-RMSE  INDEX\n",
      "0 5.000  50.000 0.660 0.258 25.524 1.443   0.941    1.000       1.000      1.000  0.994\n",
      "1 4.000  50.000 0.701 0.224 26.482 1.466   1.000    0.914       0.878      0.930  0.917\n",
      "2 5.000 100.000 0.677 0.220 26.282 1.476   0.966    0.904       0.903      0.902  0.909\n"
     ]
    }
   ],
   "source": [
    "best_rf_1,best_rf_2, best_rf_3 = [], [], []\n",
    "# Train and test 3 models, GSA Tree amount Values from 50 to 1500, m values = 2,3,4,5\n",
    "\n",
    "m_values = range(1,6)\n",
    "tree_amounts = range(50,1050,50)\n",
    "\n",
    "for GSA_m in tqdm(m_values,desc='GSA Loop 1'): \n",
    "    for GSA_trees in tqdm(tree_amounts,desc='GSA Loop 2',leave = False): \n",
    "        pred_y_rf_1, test_y_rf_1, best_rf_1 = train_and_test_RF(train_X = train_x, train_Y = train_y[:,0], test_X = test_x, test_Y = test_y[:,0],M_Bootstrap = GSA_m, Estimators = GSA_trees, splits = 5, GSA_BEST = best_rf_1)\n",
    "        pred_y_rf_2, test_y_rf_2, best_rf_2 = train_and_test_RF(train_X = train_x, train_Y = train_y[:,1], test_X = test_x, test_Y = test_y[:,1],M_Bootstrap = GSA_m, Estimators = GSA_trees, splits = 5, GSA_BEST = best_rf_2)\n",
    "        pred_y_rf_3, test_y_rf_3, best_rf_3 = train_and_test_RF(train_X = train_x, train_Y = train_y[:,2], test_X = test_x, test_Y = test_y[:,2],M_Bootstrap = GSA_m, Estimators = GSA_trees, splits = 5, GSA_BEST = best_rf_3)\n",
    "    \n",
    "#Convert returned GSA results to np array\n",
    "best_rf_1=np.vstack(best_rf_1)\n",
    "best_rf_2=np.vstack(best_rf_2)\n",
    "best_rf_3=np.vstack(best_rf_3)\n",
    "\n",
    "#Normalize metrics and compute reference index\n",
    "best_rf_1 = Ref_IDX(GSA_array = best_rf_1, num_desc = 2)    \n",
    "best_rf_2 = Ref_IDX(GSA_array = best_rf_2, num_desc = 2)     \n",
    "best_rf_3 = Ref_IDX(GSA_array = best_rf_3, num_desc = 2)  \n",
    "\n",
    "#Print 3 best configurations of each model\n",
    "pd.set_option('expand_frame_repr', False)\n",
    "pd.options.display.float_format = \"{:,.3f}\".format\n",
    "headings = ['m','Trees','r', 'r2','SMAPE','RMSE','norm-r', 'norm-r2','norm-SMAPE','norm-RMSE','INDEX']\n",
    "best_rf_1 = pd.DataFrame(best_rf_1[:3],columns = headings)\n",
    "print(best_rf_1)\n",
    "best_rf_2 = pd.DataFrame(best_rf_2[:3],columns = headings)\n",
    "print(best_rf_2)\n",
    "best_rf_3 = pd.DataFrame(best_rf_3[:3],columns = headings)\n",
    "print(best_rf_3)"
   ]
  },
  {
   "cell_type": "code",
   "execution_count": 41,
   "metadata": {},
   "outputs": [
    {
     "name": "stdout",
     "output_type": "stream",
     "text": [
      "     Kern         C    degr     eps       r       r2    SMAPE    RMSE  norm-r  norm-r2  norm-SMAPE  norm-RMSE   INDEX\n",
      "0 3.00000 800.00000 5.00000 0.00010 0.75162 -0.03856 32.45958 0.91088 0.95994  0.99298     0.99917    0.97738 0.98685\n",
      "1 3.00000 800.00000 5.00000 0.00001 0.75156 -0.03865 32.46867 0.91092 0.95988  0.99297     0.99907    0.97738 0.98681\n",
      "2 3.00000 850.00000 5.00000 0.00001 0.75102 -0.05551 32.39046 0.91408 0.95936  0.99276     0.99992    0.97691 0.98681\n",
      "     Kern        C    degr     eps       r      r2    SMAPE    RMSE  norm-r  norm-r2  norm-SMAPE  norm-RMSE   INDEX\n",
      "0 3.00000 50.00000 5.00000 0.10000 0.94903 0.87645 12.77880 0.43980 0.99964  1.00000     0.99889    0.99992 0.99961\n",
      "1 3.00000 50.00000 5.00000 0.00010 0.94573 0.87397 12.67780 0.44574 0.99617  0.99994     1.00000    0.99914 0.99934\n",
      "2 3.00000 50.00000 5.00000 0.00001 0.94571 0.87396 12.67784 0.44575 0.99615  0.99994     1.00000    0.99914 0.99934\n",
      "     Kern         C    degr     eps       r      r2    SMAPE    RMSE  norm-r  norm-r2  norm-SMAPE  norm-RMSE   INDEX\n",
      "0 3.00000 300.00000 5.00000 0.00001 0.80593 0.61920 14.92322 1.02616 0.99735  0.99991     1.00000    0.99950 0.99956\n",
      "1 3.00000 300.00000 5.00000 0.00100 0.80599 0.61932 14.93070 1.02603 0.99741  0.99991     0.99991    0.99952 0.99954\n",
      "2 3.00000 300.00000 5.00000 0.00010 0.80594 0.61920 14.92744 1.02618 0.99736  0.99991     0.99995    0.99950 0.99954\n"
     ]
    }
   ],
   "source": [
    "best_svmr_1,best_svmr_2, best_svmr_3 = [], [], []\n",
    "# Train and test 3 models, Various GSA parameters (This takes a while)\n",
    "Kernels = list(range(1,5)) #see dictionary definition in above function.\n",
    "C_list = [*range(1,11)] + [*range(50,1050,50)]\n",
    "Degrees = list(range(3,6))\n",
    "Epsilons = [0.00001, 0.0001, 0.001, 0.01, 0.1, 1, 10, 100, 1000, 10000, 100000, 1000000]\n",
    "\n",
    "for GSA_kern in Kernels: \n",
    "    for GSA_C in C_list: \n",
    "        for GSA_degr in Degrees: \n",
    "            for GSA_eps in Epsilons: \n",
    "                if GSA_kern != 2 and GSA_degr != 5:\n",
    "                    continue\n",
    "                pred_y_svmr_1, test_y_svmr_1, best_svmr_1 = train_and_test_SVR(train_X = train_x, train_Y = train_y[:,0], test_X = test_x, test_Y = test_y[:,0], kern = GSA_kern, SVR_C = GSA_C, degr = GSA_degr, SV_epsilon = GSA_eps, splits = 5, GSA_BEST = best_svmr_1)\n",
    "                pred_y_svmr_2, test_y_svmr_2, best_svmr_2 = train_and_test_SVR(train_X = train_x, train_Y = train_y[:,1], test_X = test_x, test_Y = test_y[:,1], kern = GSA_kern, SVR_C = GSA_C, degr = GSA_degr, SV_epsilon = GSA_eps, splits = 5, GSA_BEST = best_svmr_2)\n",
    "                pred_y_svmr_3, test_y_svmr_3, best_svmr_3 = train_and_test_SVR(train_X = train_x, train_Y = train_y[:,2], test_X = test_x, test_Y = test_y[:,2], kern = GSA_kern, SVR_C = GSA_C, degr = GSA_degr, SV_epsilon = GSA_eps, splits = 5, GSA_BEST = best_svmr_3)\n",
    "                \n",
    "#Convert returned GSA results to np array\n",
    "best_svmr_1=np.vstack(best_svmr_1)\n",
    "best_svmr_2=np.vstack(best_svmr_2)\n",
    "best_svmr_3=np.vstack(best_svmr_3)\n",
    "\n",
    "#Normalize metrics and compute reference index\n",
    "best_svmr_1 = Ref_IDX(GSA_array = best_svmr_1, num_desc = 4)    \n",
    "best_svmr_2 = Ref_IDX(GSA_array = best_svmr_2, num_desc = 4)     \n",
    "best_svmr_3 = Ref_IDX(GSA_array = best_svmr_3, num_desc = 4)  \n",
    "\n",
    "#Print 3 best configurations of each model\n",
    "pd.set_option('expand_frame_repr', False)\n",
    "pd.options.display.float_format = \"{:,.5f}\".format\n",
    "headings = ['Kern', 'C', 'degr', 'eps','r', 'r2','SMAPE','RMSE','norm-r', 'norm-r2','norm-SMAPE','norm-RMSE','INDEX']\n",
    "best_svmr_1 = pd.DataFrame(best_svmr_1[:3],columns = headings)\n",
    "print(best_svmr_1)\n",
    "best_svmr_2 = pd.DataFrame(best_svmr_2[:3],columns = headings)\n",
    "print(best_svmr_2)\n",
    "best_svmr_3 = pd.DataFrame(best_svmr_3[:3],columns = headings)\n",
    "print(best_svmr_3)"
   ]
  },
  {
   "cell_type": "markdown",
   "metadata": {},
   "source": [
    "## Optimal Model Configurations"
   ]
  },
  {
   "cell_type": "code",
   "execution_count": 19,
   "metadata": {},
   "outputs": [],
   "source": [
    "best_nn_1,best_nn_2, best_nn_3 = [], [], []\n",
    "pred_y_nn_1, test_y_nn_1, best_nn_1 = train_and_test_NN(train_X = train_x, train_Y = train_y[:,0], test_X = test_x, test_Y = test_y[:,0], neur1 = 112, neur2 = 32, neur3 = 16, activ = 2, splits = 1, GSA_BEST = best_nn_1)\n",
    "pred_y_nn_2, test_y_nn_2, best_nn_2 = train_and_test_NN(train_X = train_x, train_Y = train_y[:,1], test_X = test_x, test_Y = test_y[:,1], neur1 = 112, neur2 = 96, neur3 = 96, activ = 2, splits = 1, GSA_BEST = best_nn_2)\n",
    "pred_y_nn_3, test_y_nn_3, best_nn_3 = train_and_test_NN(train_X = train_x, train_Y = train_y[:,2], test_X = test_x, test_Y = test_y[:,2], neur1 = 112, neur2 = 80, neur3 = 80, activ = 2, splits = 1, GSA_BEST = best_nn_3)\n",
    "headings = ['Neur1', 'Neur2', 'Neur3', 'Activ','r','r2','SMAPE','RMSE']\n",
    "best_nn_1 = pd.DataFrame(best_nn_1,columns = headings)\n",
    "best_nn_2 = pd.DataFrame(best_nn_2,columns = headings)\n",
    "best_nn_3 = pd.DataFrame(best_nn_3,columns = headings)\n",
    "\n",
    "best_lr_1,best_lr_2, best_lr_3 = [], [], []\n",
    "pred_y_lr_1, test_y_lr_1, best_lr_1  = train_and_test_LR(train_X = train_x, train_Y = train_y[:,0], test_X = test_x, test_Y = test_y[:,0],splits = 1, GSA_BEST = best_lr_1)\n",
    "pred_y_lr_2, test_y_lr_2, best_lr_2 = train_and_test_LR(train_X = train_x, train_Y = train_y[:,1], test_X = test_x, test_Y = test_y[:,1],splits = 1, GSA_BEST = best_lr_2)\n",
    "pred_y_lr_3, test_y_lr_3, best_lr_3 = train_and_test_LR(train_X = train_x, train_Y = train_y[:,2], test_X = test_x, test_Y = test_y[:,2],splits = 1, GSA_BEST = best_lr_3)\n",
    "headings = ['r','r2','SMAPE','RMSE']\n",
    "best_lr_1 = pd.DataFrame(best_lr_1,columns = headings)\n",
    "best_lr_2 = pd.DataFrame(best_lr_2,columns = headings)\n",
    "best_lr_3 = pd.DataFrame(best_lr_3,columns = headings)\n",
    "\n",
    "best_rr_1,best_rr_2, best_rr_3 = [], [], []\n",
    "pred_y_rr_1, test_y_rr_1, best_rr_1 = train_and_test_RR(train_X = train_x, train_Y = train_y[:,0], test_X = test_x, test_Y = test_y[:,0],RR_Alpha = 1.000000, splits = 1, GSA_BEST = best_rr_1)\n",
    "pred_y_rr_2, test_y_rr_2, best_rr_2 = train_and_test_RR(train_X = train_x, train_Y = train_y[:,1], test_X = test_x, test_Y = test_y[:,1],RR_Alpha = 0.100000, splits = 1, GSA_BEST = best_rr_2)\n",
    "pred_y_rr_3, test_y_rr_3, best_rr_3 = train_and_test_RR(train_X = train_x, train_Y = train_y[:,2], test_X = test_x, test_Y = test_y[:,2],RR_Alpha = 0.100000 , splits = 1, GSA_BEST = best_rr_3)\n",
    "headings = ['RR_Alpha','r','r2','SMAPE','RMSE']\n",
    "best_rr_1 = pd.DataFrame(best_rr_1,columns = headings)\n",
    "best_rr_2 = pd.DataFrame(best_rr_2,columns = headings)\n",
    "best_rr_3 = pd.DataFrame(best_rr_3,columns = headings)\n",
    "\n",
    "best_lasso_1,best_lasso_2, best_lasso_3 = [], [], []\n",
    "pred_y_Lasso_1, test_y_Lasso_1, best_lasso_1  = train_and_test_lasso(train_X = train_x, train_Y = train_y[:,0], test_X = test_x, test_Y = test_y[:,0],Lasso_Alpha = 0.010000  , splits = 1, GSA_BEST = best_lasso_1)\n",
    "pred_y_Lasso_2, test_y_Lasso_2, best_lasso_2 = train_and_test_lasso(train_X = train_x, train_Y = train_y[:,1], test_X = test_x, test_Y = test_y[:,1],Lasso_Alpha = 0.010000  , splits = 1, GSA_BEST = best_lasso_2)\n",
    "pred_y_Lasso_3, test_y_Lasso_3, best_lasso_3 = train_and_test_lasso(train_X = train_x, train_Y = train_y[:,2], test_X = test_x, test_Y = test_y[:,2],Lasso_Alpha = 0.001000  , splits = 1, GSA_BEST = best_lasso_3)\n",
    "headings = ['Lasso_Alpha','r','r2','SMAPE','RMSE']\n",
    "best_lasso_1 = pd.DataFrame(best_lasso_1,columns = headings)\n",
    "best_lasso_2 = pd.DataFrame(best_lasso_2,columns = headings)\n",
    "best_lasso_3 = pd.DataFrame(best_lasso_3,columns = headings)\n",
    "\n",
    "best_knn_1,best_knn_2, best_knn_3 = [], [], []\n",
    "pred_y_knn_1, test_y_knn_1,best_knn_1 = train_and_test_KNN(train_X = train_x, train_Y = train_y[:,0], test_X = test_x, test_Y = test_y[:,0], N_neighbors = 5, splits = 1, GSA_BEST = best_knn_1 )\n",
    "pred_y_knn_2, test_y_knn_2,best_knn_2 = train_and_test_KNN(train_X = train_x, train_Y = train_y[:,1], test_X = test_x, test_Y = test_y[:,1], N_neighbors = 3, splits = 1, GSA_BEST = best_knn_2 )\n",
    "pred_y_knn_3, test_y_knn_3,best_knn_3 = train_and_test_KNN(train_X = train_x, train_Y = train_y[:,2], test_X = test_x, test_Y = test_y[:,2], N_neighbors = 5, splits = 1, GSA_BEST = best_knn_3 )\n",
    "headings = ['# NN','r','r2','SMAPE','RMSE']\n",
    "best_knn_1 = pd.DataFrame(best_knn_1,columns = headings)\n",
    "best_knn_2 = pd.DataFrame(best_knn_2,columns = headings)\n",
    "best_knn_3 = pd.DataFrame(best_knn_3,columns = headings)\n",
    "\n",
    "best_dt_1,best_dt_2, best_dt_3 = [], [], []\n",
    "pred_y_dt_1, test_y_dt_1,best_dt_1 = train_and_test_DT(train_X = train_x, train_Y = train_y[:,0], test_X = test_x, test_Y = test_y[:,0], GSA_depth = 4, splits = 1, GSA_BEST = best_dt_1 )\n",
    "pred_y_dt_2, test_y_dt_2,best_dt_2 = train_and_test_DT(train_X = train_x, train_Y = train_y[:,1], test_X = test_x, test_Y = test_y[:,1], GSA_depth = 7, splits = 1, GSA_BEST = best_dt_2 )\n",
    "pred_y_dt_3, test_y_dt_3,best_dt_3 = train_and_test_DT(train_X = train_x, train_Y = train_y[:,2], test_X = test_x, test_Y = test_y[:,2], GSA_depth = 6, splits = 1, GSA_BEST = best_dt_3 )\n",
    "headings = ['Max_Depth','r','r2','SMAPE','RMSE']\n",
    "best_dt_1 = pd.DataFrame(best_dt_1[:5],columns = headings)\n",
    "best_dt_2 = pd.DataFrame(best_dt_2[:5],columns = headings)\n",
    "best_dt_3 = pd.DataFrame(best_dt_3[:5],columns = headings)\n",
    "\n",
    "best_rf_1,best_rf_2, best_rf_3 = [], [], []\n",
    "pred_y_rf_1, test_y_rf_1, best_rf_1 = train_and_test_RF(train_X = train_x, train_Y = train_y[:,0], test_X = test_x, test_Y = test_y[:,0],M_Bootstrap = 5, Estimators = 150, splits = 1, GSA_BEST = best_rf_1)\n",
    "pred_y_rf_2, test_y_rf_2, best_rf_2 = train_and_test_RF(train_X = train_x, train_Y = train_y[:,1], test_X = test_x, test_Y = test_y[:,1],M_Bootstrap = 5, Estimators = 50, splits = 1, GSA_BEST = best_rf_2)\n",
    "pred_y_rf_3, test_y_rf_3, best_rf_3 = train_and_test_RF(train_X = train_x, train_Y = train_y[:,2], test_X = test_x, test_Y = test_y[:,2],M_Bootstrap = 5, Estimators = 50, splits = 1, GSA_BEST = best_rf_3)\n",
    "headings = ['m','# Estimators','r','r2','SMAPE','RMSE']\n",
    "best_rf_1 = pd.DataFrame(best_rf_1,columns = headings)\n",
    "best_rf_2 = pd.DataFrame(best_rf_2,columns = headings)\n",
    "best_rf_3 = pd.DataFrame(best_rf_3,columns = headings)\n",
    "\n",
    "best_svmr_1,best_svmr_2, best_svmr_3 = [], [], []\n",
    "pred_y_svmr_1, test_y_svmr_1, best_svmr_1 = train_and_test_SVR(train_X = train_x, train_Y = train_y[:,0], test_X = test_x, test_Y = test_y[:,0], kern = 3, SVR_C = 800, degr = 5, SV_epsilon = 0.00010, splits = 1, GSA_BEST = best_svmr_1)\n",
    "pred_y_svmr_2, test_y_svmr_2, best_svmr_2 = train_and_test_SVR(train_X = train_x, train_Y = train_y[:,1], test_X = test_x, test_Y = test_y[:,1], kern = 3, SVR_C = 50, degr = 5, SV_epsilon = 0.10000, splits = 1, GSA_BEST = best_svmr_2)\n",
    "pred_y_svmr_3, test_y_svmr_3, best_svmr_3 = train_and_test_SVR(train_X = train_x, train_Y = train_y[:,2], test_X = test_x, test_Y = test_y[:,2], kern = 3, SVR_C = 300, degr = 5, SV_epsilon = 0.00001, splits = 1, GSA_BEST = best_svmr_3)\n",
    "headings = ['Kern', 'C', 'degr', 'eps','r','r2','SMAPE','RMSE']\n",
    "best_svmr_1 = pd.DataFrame(best_svmr_1[:5],columns = headings)\n",
    "best_svmr_2 = pd.DataFrame(best_svmr_2[:5],columns = headings)\n",
    "best_svmr_3 = pd.DataFrame(best_svmr_3[:5],columns = headings)\n"
   ]
  },
  {
   "cell_type": "markdown",
   "metadata": {},
   "source": [
    "## Split test inputs and outputs for clarity in following tables"
   ]
  },
  {
   "cell_type": "code",
   "execution_count": 20,
   "metadata": {},
   "outputs": [],
   "source": [
    "test_y_1, test_y_2, test_y_3 = [], [], []\n",
    "test_x_original_1, test_x_original_2, test_x_original_3 = pd.DataFrame(test_x_original), pd.DataFrame(test_x_original), pd.DataFrame(test_x_original)\n",
    "\n",
    "for i in range(len(test_y)):\n",
    "    if np.isnan(test_y[:,0][i]) == False:\n",
    "        test_y_1.append(test_y[:,0][i])\n",
    "    else:\n",
    "        test_x_original_1 = test_x_original_1.drop(labels = i, axis = 0)\n",
    "    if np.isnan(test_y[:,1][i]) == False:\n",
    "        test_y_2.append(test_y[:,1][i])\n",
    "    else:\n",
    "        test_x_original_2 = test_x_original_2.drop(labels = i, axis = 0)\n",
    "    if np.isnan(test_y[:,2][i]) == False:\n",
    "        test_y_3.append(test_y[:,2][i])\n",
    "    else:\n",
    "        test_x_original_3 = test_x_original_3.drop(labels = i, axis = 0)\n",
    "test_y_1 = np.array(test_y_1)\n",
    "test_y_2 = np.array(test_y_2)\n",
    "test_y_3 = np.array(test_y_3)    "
   ]
  },
  {
   "cell_type": "markdown",
   "metadata": {},
   "source": [
    "## Define Normalizing func for results"
   ]
  },
  {
   "cell_type": "code",
   "execution_count": 21,
   "metadata": {},
   "outputs": [],
   "source": [
    "#Add 4 normalized columns to array\n",
    "def Norm(Array):\n",
    "    norm_array = []\n",
    "    #iterate through column and normalize metric scores\n",
    "    for i in range(len(Array)):\n",
    "        norm_array.append((Array[i]-min(Array))/(max(Array)-min(Array)))\n",
    "    #Force list\n",
    "    norm_array = list(norm_array)\n",
    "    return norm_array\n",
    "\n",
    "def Norm_inv(Array):\n",
    "    invnorm_array = []\n",
    "    #iterate through column and normalize metric scores\n",
    "    for i in range(len(Array)):\n",
    "        invnorm_array.append(1-((Array[i]-min(Array))/(max(Array)-min(Array))))\n",
    "    #Force list\n",
    "    invnorm_array = list(invnorm_array)\n",
    "    return invnorm_array\n",
    "\n",
    "def List_AVG(var1, var2, var3, var4):\n",
    "    AVG = []\n",
    "    #iterate through column and normalize metric scores\n",
    "    for i in range(len(var1)):\n",
    "        AVG.append((0.1*var1[i])+(0.3*var2[i])+(0.3*var3[i])+(0.3*var4[i]))\n",
    "    #Force list\n",
    "    AVG = list(AVG)\n",
    "    return AVG"
   ]
  },
  {
   "cell_type": "markdown",
   "metadata": {},
   "source": [
    "## Print Core Crushing Results"
   ]
  },
  {
   "cell_type": "code",
   "execution_count": 22,
   "metadata": {},
   "outputs": [
    {
     "data": {
      "text/html": [
       "<div>\n",
       "<style scoped>\n",
       "    .dataframe tbody tr th:only-of-type {\n",
       "        vertical-align: middle;\n",
       "    }\n",
       "\n",
       "    .dataframe tbody tr th {\n",
       "        vertical-align: top;\n",
       "    }\n",
       "\n",
       "    .dataframe thead th {\n",
       "        text-align: right;\n",
       "    }\n",
       "</style>\n",
       "<table border=\"1\" class=\"dataframe\">\n",
       "  <thead>\n",
       "    <tr style=\"text-align: right;\">\n",
       "      <th></th>\n",
       "      <th>0</th>\n",
       "      <th>1</th>\n",
       "      <th>2</th>\n",
       "      <th>3</th>\n",
       "      <th>4</th>\n",
       "      <th>5</th>\n",
       "      <th>6</th>\n",
       "      <th>7</th>\n",
       "      <th>8</th>\n",
       "      <th>9</th>\n",
       "      <th>10</th>\n",
       "      <th>11</th>\n",
       "      <th>12</th>\n",
       "      <th>13</th>\n",
       "      <th>14</th>\n",
       "      <th>15</th>\n",
       "    </tr>\n",
       "  </thead>\n",
       "  <tbody>\n",
       "    <tr>\n",
       "      <th>0</th>\n",
       "      <td>Axial Load Ratio</td>\n",
       "      <td>f'c (MPa)</td>\n",
       "      <td>Aspect Ratio</td>\n",
       "      <td>fy, Longitudinal Bars (Mpa)</td>\n",
       "      <td>rho Long (%)</td>\n",
       "      <td>fy, Transverse Bars (Mpa)</td>\n",
       "      <td>rho Trans (%)</td>\n",
       "      <td>Core Crushing Drift (%)</td>\n",
       "      <td>ANN Prediction</td>\n",
       "      <td>Linear Regression Prediction</td>\n",
       "      <td>Ridge Regression Prediction</td>\n",
       "      <td>Lasso Regression Prediction</td>\n",
       "      <td>KNN Prediction</td>\n",
       "      <td>Decision Tree Prediction</td>\n",
       "      <td>Random Forest Prediction</td>\n",
       "      <td>Support Vector Prediction</td>\n",
       "    </tr>\n",
       "    <tr>\n",
       "      <th>1</th>\n",
       "      <td>0.195</td>\n",
       "      <td>29.4</td>\n",
       "      <td>5.49508</td>\n",
       "      <td>429</td>\n",
       "      <td>1.63</td>\n",
       "      <td>392</td>\n",
       "      <td>1.5</td>\n",
       "      <td>3.03103</td>\n",
       "      <td>2.52331</td>\n",
       "      <td>2.10151</td>\n",
       "      <td>1.96764</td>\n",
       "      <td>1.96378</td>\n",
       "      <td>2.91631</td>\n",
       "      <td>2.85327</td>\n",
       "      <td>1.87647</td>\n",
       "      <td>1.99281</td>\n",
       "    </tr>\n",
       "    <tr>\n",
       "      <th>2</th>\n",
       "      <td>0.2</td>\n",
       "      <td>25.6</td>\n",
       "      <td>4</td>\n",
       "      <td>474</td>\n",
       "      <td>1.57</td>\n",
       "      <td>333</td>\n",
       "      <td>2.5</td>\n",
       "      <td>1</td>\n",
       "      <td>1.46938</td>\n",
       "      <td>1.34021</td>\n",
       "      <td>1.40159</td>\n",
       "      <td>1.26803</td>\n",
       "      <td>1.125</td>\n",
       "      <td>1.03722</td>\n",
       "      <td>1.68687</td>\n",
       "      <td>0.999918</td>\n",
       "    </tr>\n",
       "    <tr>\n",
       "      <th>3</th>\n",
       "      <td>0.47</td>\n",
       "      <td>102.2</td>\n",
       "      <td>6.03934</td>\n",
       "      <td>454</td>\n",
       "      <td>2.58</td>\n",
       "      <td>463</td>\n",
       "      <td>4.3</td>\n",
       "      <td>0.380022</td>\n",
       "      <td>0.363691</td>\n",
       "      <td>0.0580147</td>\n",
       "      <td>0.446932</td>\n",
       "      <td>0.298937</td>\n",
       "      <td>0.30741</td>\n",
       "      <td>0.406205</td>\n",
       "      <td>1.3487</td>\n",
       "      <td>0.321095</td>\n",
       "    </tr>\n",
       "    <tr>\n",
       "      <th>4</th>\n",
       "      <td>0.462</td>\n",
       "      <td>34</td>\n",
       "      <td>4.7</td>\n",
       "      <td>455.6</td>\n",
       "      <td>2.93</td>\n",
       "      <td>580</td>\n",
       "      <td>1.3</td>\n",
       "      <td>2</td>\n",
       "      <td>2.46504</td>\n",
       "      <td>1.99869</td>\n",
       "      <td>1.8724</td>\n",
       "      <td>1.93807</td>\n",
       "      <td>2</td>\n",
       "      <td>1.82714</td>\n",
       "      <td>1.7928</td>\n",
       "      <td>2.04418</td>\n",
       "    </tr>\n",
       "    <tr>\n",
       "      <th>5</th>\n",
       "      <td>0.111</td>\n",
       "      <td>25.3</td>\n",
       "      <td>3.5</td>\n",
       "      <td>497</td>\n",
       "      <td>2.14</td>\n",
       "      <td>459.5</td>\n",
       "      <td>0</td>\n",
       "      <td>2.64286</td>\n",
       "      <td>3.2087</td>\n",
       "      <td>2.75207</td>\n",
       "      <td>2.59742</td>\n",
       "      <td>2.64464</td>\n",
       "      <td>2.94946</td>\n",
       "      <td>2.85327</td>\n",
       "      <td>2.47058</td>\n",
       "      <td>2.756</td>\n",
       "    </tr>\n",
       "    <tr>\n",
       "      <th>6</th>\n",
       "      <td>0.42</td>\n",
       "      <td>21.4</td>\n",
       "      <td>2.18182</td>\n",
       "      <td>375</td>\n",
       "      <td>1.79</td>\n",
       "      <td>297</td>\n",
       "      <td>2</td>\n",
       "      <td>0.583333</td>\n",
       "      <td>0.666715</td>\n",
       "      <td>0.346644</td>\n",
       "      <td>0.624446</td>\n",
       "      <td>0.51995</td>\n",
       "      <td>0.749</td>\n",
       "      <td>1.15422</td>\n",
       "      <td>1.55884</td>\n",
       "      <td>0.703581</td>\n",
       "    </tr>\n",
       "    <tr>\n",
       "      <th>7</th>\n",
       "      <td>0.1</td>\n",
       "      <td>46.5</td>\n",
       "      <td>4</td>\n",
       "      <td>446</td>\n",
       "      <td>1.51</td>\n",
       "      <td>364</td>\n",
       "      <td>0.9</td>\n",
       "      <td>2.45</td>\n",
       "      <td>1.98001</td>\n",
       "      <td>1.9901</td>\n",
       "      <td>1.99319</td>\n",
       "      <td>1.98678</td>\n",
       "      <td>2.07886</td>\n",
       "      <td>1.63396</td>\n",
       "      <td>1.89717</td>\n",
       "      <td>1.58961</td>\n",
       "    </tr>\n",
       "    <tr>\n",
       "      <th>8</th>\n",
       "      <td>0.3</td>\n",
       "      <td>44</td>\n",
       "      <td>4</td>\n",
       "      <td>446</td>\n",
       "      <td>1.51</td>\n",
       "      <td>360</td>\n",
       "      <td>1.2</td>\n",
       "      <td>2.1375</td>\n",
       "      <td>0.97268</td>\n",
       "      <td>1.39135</td>\n",
       "      <td>1.46579</td>\n",
       "      <td>1.41426</td>\n",
       "      <td>1.5459</td>\n",
       "      <td>1.15422</td>\n",
       "      <td>1.53542</td>\n",
       "      <td>0.978124</td>\n",
       "    </tr>\n",
       "    <tr>\n",
       "      <th>9</th>\n",
       "      <td>0.462</td>\n",
       "      <td>34</td>\n",
       "      <td>4.7</td>\n",
       "      <td>427.8</td>\n",
       "      <td>3.28</td>\n",
       "      <td>570</td>\n",
       "      <td>2.7</td>\n",
       "      <td>2</td>\n",
       "      <td>2.04189</td>\n",
       "      <td>1.43945</td>\n",
       "      <td>1.43076</td>\n",
       "      <td>1.44711</td>\n",
       "      <td>2</td>\n",
       "      <td>2</td>\n",
       "      <td>1.4838</td>\n",
       "      <td>2.11763</td>\n",
       "    </tr>\n",
       "    <tr>\n",
       "      <th>10</th>\n",
       "      <td>0.1</td>\n",
       "      <td>32</td>\n",
       "      <td>3</td>\n",
       "      <td>511</td>\n",
       "      <td>1.25</td>\n",
       "      <td>325</td>\n",
       "      <td>1.7</td>\n",
       "      <td>1.33333</td>\n",
       "      <td>1.69537</td>\n",
       "      <td>1.6707</td>\n",
       "      <td>1.7121</td>\n",
       "      <td>1.5949</td>\n",
       "      <td>1.15152</td>\n",
       "      <td>1.63396</td>\n",
       "      <td>2.00497</td>\n",
       "      <td>1.15155</td>\n",
       "    </tr>\n",
       "    <tr>\n",
       "      <th>11</th>\n",
       "      <td>0.21</td>\n",
       "      <td>25</td>\n",
       "      <td>4</td>\n",
       "      <td>427</td>\n",
       "      <td>1.51</td>\n",
       "      <td>280</td>\n",
       "      <td>2.2</td>\n",
       "      <td>1.1875</td>\n",
       "      <td>1.26601</td>\n",
       "      <td>1.09</td>\n",
       "      <td>1.23689</td>\n",
       "      <td>1.10541</td>\n",
       "      <td>0.972487</td>\n",
       "      <td>1.03722</td>\n",
       "      <td>1.59715</td>\n",
       "      <td>1.23115</td>\n",
       "    </tr>\n",
       "    <tr>\n",
       "      <th>12</th>\n",
       "      <td>0.3</td>\n",
       "      <td>32.1</td>\n",
       "      <td>3</td>\n",
       "      <td>511</td>\n",
       "      <td>1.25</td>\n",
       "      <td>325</td>\n",
       "      <td>2.1</td>\n",
       "      <td>1.15152</td>\n",
       "      <td>1.11377</td>\n",
       "      <td>1.0393</td>\n",
       "      <td>1.15751</td>\n",
       "      <td>0.995226</td>\n",
       "      <td>0.787879</td>\n",
       "      <td>1.03722</td>\n",
       "      <td>1.58927</td>\n",
       "      <td>0.788257</td>\n",
       "    </tr>\n",
       "    <tr>\n",
       "      <th>13</th>\n",
       "      <td>0.092</td>\n",
       "      <td>28.1</td>\n",
       "      <td>3.82787</td>\n",
       "      <td>448</td>\n",
       "      <td>2.22</td>\n",
       "      <td>428</td>\n",
       "      <td>0.5</td>\n",
       "      <td>2.01285</td>\n",
       "      <td>2.72539</td>\n",
       "      <td>2.45126</td>\n",
       "      <td>2.3733</td>\n",
       "      <td>2.41491</td>\n",
       "      <td>2.16422</td>\n",
       "      <td>2.85327</td>\n",
       "      <td>2.13342</td>\n",
       "      <td>2.10441</td>\n",
       "    </tr>\n",
       "    <tr>\n",
       "      <th>14</th>\n",
       "      <td>0.3</td>\n",
       "      <td>44</td>\n",
       "      <td>4</td>\n",
       "      <td>446</td>\n",
       "      <td>1.51</td>\n",
       "      <td>364</td>\n",
       "      <td>0.8</td>\n",
       "      <td>1.9125</td>\n",
       "      <td>1.08185</td>\n",
       "      <td>1.52363</td>\n",
       "      <td>1.58087</td>\n",
       "      <td>1.54739</td>\n",
       "      <td>1.14186</td>\n",
       "      <td>1.15422</td>\n",
       "      <td>1.58493</td>\n",
       "      <td>1.06607</td>\n",
       "    </tr>\n",
       "    <tr>\n",
       "      <th>15</th>\n",
       "      <td>0.31</td>\n",
       "      <td>39.8</td>\n",
       "      <td>3.00219</td>\n",
       "      <td>439</td>\n",
       "      <td>1.94</td>\n",
       "      <td>616</td>\n",
       "      <td>1.3</td>\n",
       "      <td>1.10787</td>\n",
       "      <td>2.14517</td>\n",
       "      <td>2.56005</td>\n",
       "      <td>2.18444</td>\n",
       "      <td>2.36535</td>\n",
       "      <td>1.79052</td>\n",
       "      <td>1.15422</td>\n",
       "      <td>1.63404</td>\n",
       "      <td>2.01698</td>\n",
       "    </tr>\n",
       "  </tbody>\n",
       "</table>\n",
       "</div>"
      ],
      "text/plain": [
       "                   0           1             2                            3  \\\n",
       "0   Axial Load Ratio  f'c (MPa)   Aspect Ratio  fy, Longitudinal Bars (Mpa)   \n",
       "1              0.195        29.4       5.49508                          429   \n",
       "2                0.2        25.6             4                          474   \n",
       "3               0.47       102.2       6.03934                          454   \n",
       "4              0.462          34           4.7                        455.6   \n",
       "5              0.111        25.3           3.5                          497   \n",
       "6               0.42        21.4       2.18182                          375   \n",
       "7                0.1        46.5             4                          446   \n",
       "8                0.3          44             4                          446   \n",
       "9              0.462          34           4.7                        427.8   \n",
       "10               0.1          32             3                          511   \n",
       "11              0.21          25             4                          427   \n",
       "12               0.3        32.1             3                          511   \n",
       "13             0.092        28.1       3.82787                          448   \n",
       "14               0.3          44             4                          446   \n",
       "15              0.31        39.8       3.00219                          439   \n",
       "\n",
       "               4                          5              6  \\\n",
       "0   rho Long (%)  fy, Transverse Bars (Mpa)  rho Trans (%)   \n",
       "1           1.63                        392            1.5   \n",
       "2           1.57                        333            2.5   \n",
       "3           2.58                        463            4.3   \n",
       "4           2.93                        580            1.3   \n",
       "5           2.14                      459.5              0   \n",
       "6           1.79                        297              2   \n",
       "7           1.51                        364            0.9   \n",
       "8           1.51                        360            1.2   \n",
       "9           3.28                        570            2.7   \n",
       "10          1.25                        325            1.7   \n",
       "11          1.51                        280            2.2   \n",
       "12          1.25                        325            2.1   \n",
       "13          2.22                        428            0.5   \n",
       "14          1.51                        364            0.8   \n",
       "15          1.94                        616            1.3   \n",
       "\n",
       "                          7               8                             9  \\\n",
       "0   Core Crushing Drift (%)  ANN Prediction  Linear Regression Prediction   \n",
       "1                   3.03103         2.52331                       2.10151   \n",
       "2                         1         1.46938                       1.34021   \n",
       "3                  0.380022        0.363691                     0.0580147   \n",
       "4                         2         2.46504                       1.99869   \n",
       "5                   2.64286          3.2087                       2.75207   \n",
       "6                  0.583333        0.666715                      0.346644   \n",
       "7                      2.45         1.98001                        1.9901   \n",
       "8                    2.1375         0.97268                       1.39135   \n",
       "9                         2         2.04189                       1.43945   \n",
       "10                  1.33333         1.69537                        1.6707   \n",
       "11                   1.1875         1.26601                          1.09   \n",
       "12                  1.15152         1.11377                        1.0393   \n",
       "13                  2.01285         2.72539                       2.45126   \n",
       "14                   1.9125         1.08185                       1.52363   \n",
       "15                  1.10787         2.14517                       2.56005   \n",
       "\n",
       "                             10                           11              12  \\\n",
       "0   Ridge Regression Prediction  Lasso Regression Prediction  KNN Prediction   \n",
       "1                       1.96764                      1.96378         2.91631   \n",
       "2                       1.40159                      1.26803           1.125   \n",
       "3                      0.446932                     0.298937         0.30741   \n",
       "4                        1.8724                      1.93807               2   \n",
       "5                       2.59742                      2.64464         2.94946   \n",
       "6                      0.624446                      0.51995           0.749   \n",
       "7                       1.99319                      1.98678         2.07886   \n",
       "8                       1.46579                      1.41426          1.5459   \n",
       "9                       1.43076                      1.44711               2   \n",
       "10                       1.7121                       1.5949         1.15152   \n",
       "11                      1.23689                      1.10541        0.972487   \n",
       "12                      1.15751                     0.995226        0.787879   \n",
       "13                       2.3733                      2.41491         2.16422   \n",
       "14                      1.58087                      1.54739         1.14186   \n",
       "15                      2.18444                      2.36535         1.79052   \n",
       "\n",
       "                          13                        14  \\\n",
       "0   Decision Tree Prediction  Random Forest Prediction   \n",
       "1                    2.85327                   1.87647   \n",
       "2                    1.03722                   1.68687   \n",
       "3                   0.406205                    1.3487   \n",
       "4                    1.82714                    1.7928   \n",
       "5                    2.85327                   2.47058   \n",
       "6                    1.15422                   1.55884   \n",
       "7                    1.63396                   1.89717   \n",
       "8                    1.15422                   1.53542   \n",
       "9                          2                    1.4838   \n",
       "10                   1.63396                   2.00497   \n",
       "11                   1.03722                   1.59715   \n",
       "12                   1.03722                   1.58927   \n",
       "13                   2.85327                   2.13342   \n",
       "14                   1.15422                   1.58493   \n",
       "15                   1.15422                   1.63404   \n",
       "\n",
       "                           15  \n",
       "0   Support Vector Prediction  \n",
       "1                     1.99281  \n",
       "2                    0.999918  \n",
       "3                    0.321095  \n",
       "4                     2.04418  \n",
       "5                       2.756  \n",
       "6                    0.703581  \n",
       "7                     1.58961  \n",
       "8                    0.978124  \n",
       "9                     2.11763  \n",
       "10                    1.15155  \n",
       "11                    1.23115  \n",
       "12                   0.788257  \n",
       "13                    2.10441  \n",
       "14                    1.06607  \n",
       "15                    2.01698  "
      ]
     },
     "execution_count": 22,
     "metadata": {},
     "output_type": "execute_result"
    }
   ],
   "source": [
    "# show the inputs and predicted outputs\n",
    "result = []\n",
    "df = pd.read_excel(FILE_PATH)\n",
    "head = list(df.columns[:8])\n",
    "head.append(df.columns[8])\n",
    "head.append(\"ANN Prediction\")\n",
    "head.append(\"Linear Regression Prediction\")\n",
    "head.append(\"Ridge Regression Prediction\")\n",
    "head.append(\"Lasso Regression Prediction\")\n",
    "head.append(\"KNN Prediction\")\n",
    "head.append(\"Decision Tree Prediction\")\n",
    "head.append(\"Random Forest Prediction\")\n",
    "head.append(\"Support Vector Prediction\")\n",
    "result.append(head[1:])\n",
    "\n",
    "for i in range(len(test_y_1)):\n",
    "    tmp = list(test_x_original_1.to_numpy()[i])\n",
    "    tmp.append(test_y_1[i])\n",
    "    tmp.append(pred_y_nn_1[i])\n",
    "    tmp.append(pred_y_lr_1[i])\n",
    "    tmp.append(pred_y_rr_1[i])\n",
    "    tmp.append(pred_y_Lasso_1[i])\n",
    "    tmp.append(pred_y_knn_1[i])\n",
    "    tmp.append(pred_y_dt_1[i])\n",
    "    tmp.append(pred_y_rf_1[i])\n",
    "    tmp.append(pred_y_svmr_1[i])    \n",
    "    result.append(tmp)\n",
    "result = pd.DataFrame(result)\n",
    "\n",
    "result"
   ]
  },
  {
   "cell_type": "markdown",
   "metadata": {},
   "source": [
    "## Print Concrete Spalling Results"
   ]
  },
  {
   "cell_type": "code",
   "execution_count": 23,
   "metadata": {},
   "outputs": [
    {
     "data": {
      "text/html": [
       "<div>\n",
       "<style scoped>\n",
       "    .dataframe tbody tr th:only-of-type {\n",
       "        vertical-align: middle;\n",
       "    }\n",
       "\n",
       "    .dataframe tbody tr th {\n",
       "        vertical-align: top;\n",
       "    }\n",
       "\n",
       "    .dataframe thead th {\n",
       "        text-align: right;\n",
       "    }\n",
       "</style>\n",
       "<table border=\"1\" class=\"dataframe\">\n",
       "  <thead>\n",
       "    <tr style=\"text-align: right;\">\n",
       "      <th></th>\n",
       "      <th>0</th>\n",
       "      <th>1</th>\n",
       "      <th>2</th>\n",
       "      <th>3</th>\n",
       "      <th>4</th>\n",
       "      <th>5</th>\n",
       "      <th>6</th>\n",
       "      <th>7</th>\n",
       "      <th>8</th>\n",
       "      <th>9</th>\n",
       "      <th>10</th>\n",
       "      <th>11</th>\n",
       "      <th>12</th>\n",
       "      <th>13</th>\n",
       "      <th>14</th>\n",
       "      <th>15</th>\n",
       "    </tr>\n",
       "  </thead>\n",
       "  <tbody>\n",
       "    <tr>\n",
       "      <th>0</th>\n",
       "      <td>Axial Load Ratio</td>\n",
       "      <td>f'c (MPa)</td>\n",
       "      <td>Aspect Ratio</td>\n",
       "      <td>fy, Longitudinal Bars (Mpa)</td>\n",
       "      <td>rho Long (%)</td>\n",
       "      <td>fy, Transverse Bars (Mpa)</td>\n",
       "      <td>rho Trans (%)</td>\n",
       "      <td>Concrete Spalling Drift (%)</td>\n",
       "      <td>ANN Prediction</td>\n",
       "      <td>Linear Regression Prediction</td>\n",
       "      <td>Ridge Regression Prediction</td>\n",
       "      <td>Lasso Regression Prediction</td>\n",
       "      <td>KNN Prediction</td>\n",
       "      <td>Decision Tree Prediction</td>\n",
       "      <td>Random Forest Prediction</td>\n",
       "      <td>Support Vector Prediction</td>\n",
       "    </tr>\n",
       "    <tr>\n",
       "      <th>1</th>\n",
       "      <td>0.2</td>\n",
       "      <td>25.6</td>\n",
       "      <td>4</td>\n",
       "      <td>474</td>\n",
       "      <td>1.57</td>\n",
       "      <td>333</td>\n",
       "      <td>2.5</td>\n",
       "      <td>2.125</td>\n",
       "      <td>2.4366</td>\n",
       "      <td>2.8359</td>\n",
       "      <td>2.82574</td>\n",
       "      <td>2.71161</td>\n",
       "      <td>2.20833</td>\n",
       "      <td>2.0596</td>\n",
       "      <td>2.81316</td>\n",
       "      <td>2.13146</td>\n",
       "    </tr>\n",
       "    <tr>\n",
       "      <th>2</th>\n",
       "      <td>0.111</td>\n",
       "      <td>25.3</td>\n",
       "      <td>3.5</td>\n",
       "      <td>497</td>\n",
       "      <td>2.14</td>\n",
       "      <td>459.5</td>\n",
       "      <td>0</td>\n",
       "      <td>4.5</td>\n",
       "      <td>5.03276</td>\n",
       "      <td>4.05191</td>\n",
       "      <td>4.03459</td>\n",
       "      <td>3.97093</td>\n",
       "      <td>4.92399</td>\n",
       "      <td>4.96429</td>\n",
       "      <td>3.98751</td>\n",
       "      <td>4.45062</td>\n",
       "    </tr>\n",
       "    <tr>\n",
       "      <th>3</th>\n",
       "      <td>0.42</td>\n",
       "      <td>21.4</td>\n",
       "      <td>2.18182</td>\n",
       "      <td>375</td>\n",
       "      <td>1.79</td>\n",
       "      <td>297</td>\n",
       "      <td>2</td>\n",
       "      <td>1.16667</td>\n",
       "      <td>1.71103</td>\n",
       "      <td>1.55836</td>\n",
       "      <td>1.59027</td>\n",
       "      <td>1.69974</td>\n",
       "      <td>1.44932</td>\n",
       "      <td>1.75</td>\n",
       "      <td>2.54306</td>\n",
       "      <td>1.13392</td>\n",
       "    </tr>\n",
       "    <tr>\n",
       "      <th>4</th>\n",
       "      <td>0.1</td>\n",
       "      <td>46.5</td>\n",
       "      <td>4</td>\n",
       "      <td>446</td>\n",
       "      <td>1.51</td>\n",
       "      <td>364</td>\n",
       "      <td>0.9</td>\n",
       "      <td>3.675</td>\n",
       "      <td>2.98611</td>\n",
       "      <td>2.31467</td>\n",
       "      <td>2.36682</td>\n",
       "      <td>2.50576</td>\n",
       "      <td>2.90736</td>\n",
       "      <td>2.0596</td>\n",
       "      <td>2.93701</td>\n",
       "      <td>2.67524</td>\n",
       "    </tr>\n",
       "    <tr>\n",
       "      <th>5</th>\n",
       "      <td>0.3</td>\n",
       "      <td>44</td>\n",
       "      <td>4</td>\n",
       "      <td>446</td>\n",
       "      <td>1.51</td>\n",
       "      <td>360</td>\n",
       "      <td>1.2</td>\n",
       "      <td>2.1375</td>\n",
       "      <td>2.98438</td>\n",
       "      <td>2.31495</td>\n",
       "      <td>2.36005</td>\n",
       "      <td>2.49312</td>\n",
       "      <td>3.32483</td>\n",
       "      <td>1.99866</td>\n",
       "      <td>2.91904</td>\n",
       "      <td>2.5469</td>\n",
       "    </tr>\n",
       "    <tr>\n",
       "      <th>6</th>\n",
       "      <td>0.1</td>\n",
       "      <td>32</td>\n",
       "      <td>3</td>\n",
       "      <td>511</td>\n",
       "      <td>1.25</td>\n",
       "      <td>325</td>\n",
       "      <td>1.7</td>\n",
       "      <td>2.78788</td>\n",
       "      <td>2.1966</td>\n",
       "      <td>2.66201</td>\n",
       "      <td>2.6822</td>\n",
       "      <td>2.70445</td>\n",
       "      <td>1.93939</td>\n",
       "      <td>1.9072</td>\n",
       "      <td>2.91815</td>\n",
       "      <td>2.03958</td>\n",
       "    </tr>\n",
       "    <tr>\n",
       "      <th>7</th>\n",
       "      <td>0.21</td>\n",
       "      <td>25</td>\n",
       "      <td>4</td>\n",
       "      <td>427</td>\n",
       "      <td>1.51</td>\n",
       "      <td>280</td>\n",
       "      <td>2.2</td>\n",
       "      <td>1.25</td>\n",
       "      <td>1.29915</td>\n",
       "      <td>1.96055</td>\n",
       "      <td>1.98314</td>\n",
       "      <td>1.96374</td>\n",
       "      <td>1.78743</td>\n",
       "      <td>1.75</td>\n",
       "      <td>2.76921</td>\n",
       "      <td>1.30553</td>\n",
       "    </tr>\n",
       "    <tr>\n",
       "      <th>8</th>\n",
       "      <td>0.3</td>\n",
       "      <td>32.1</td>\n",
       "      <td>3</td>\n",
       "      <td>511</td>\n",
       "      <td>1.25</td>\n",
       "      <td>325</td>\n",
       "      <td>2.1</td>\n",
       "      <td>1.75758</td>\n",
       "      <td>2.13984</td>\n",
       "      <td>2.66455</td>\n",
       "      <td>2.67938</td>\n",
       "      <td>2.70412</td>\n",
       "      <td>1.51515</td>\n",
       "      <td>1.52633</td>\n",
       "      <td>2.90364</td>\n",
       "      <td>1.81399</td>\n",
       "    </tr>\n",
       "    <tr>\n",
       "      <th>9</th>\n",
       "      <td>0.3</td>\n",
       "      <td>44</td>\n",
       "      <td>4</td>\n",
       "      <td>446</td>\n",
       "      <td>1.51</td>\n",
       "      <td>364</td>\n",
       "      <td>0.8</td>\n",
       "      <td>1.9125</td>\n",
       "      <td>2.97809</td>\n",
       "      <td>2.30383</td>\n",
       "      <td>2.35479</td>\n",
       "      <td>2.51408</td>\n",
       "      <td>3.24438</td>\n",
       "      <td>1.99866</td>\n",
       "      <td>2.92081</td>\n",
       "      <td>2.61527</td>\n",
       "    </tr>\n",
       "  </tbody>\n",
       "</table>\n",
       "</div>"
      ],
      "text/plain": [
       "                  0           1             2                            3  \\\n",
       "0  Axial Load Ratio  f'c (MPa)   Aspect Ratio  fy, Longitudinal Bars (Mpa)   \n",
       "1               0.2        25.6             4                          474   \n",
       "2             0.111        25.3           3.5                          497   \n",
       "3              0.42        21.4       2.18182                          375   \n",
       "4               0.1        46.5             4                          446   \n",
       "5               0.3          44             4                          446   \n",
       "6               0.1          32             3                          511   \n",
       "7              0.21          25             4                          427   \n",
       "8               0.3        32.1             3                          511   \n",
       "9               0.3          44             4                          446   \n",
       "\n",
       "              4                          5              6  \\\n",
       "0  rho Long (%)  fy, Transverse Bars (Mpa)  rho Trans (%)   \n",
       "1          1.57                        333            2.5   \n",
       "2          2.14                      459.5              0   \n",
       "3          1.79                        297              2   \n",
       "4          1.51                        364            0.9   \n",
       "5          1.51                        360            1.2   \n",
       "6          1.25                        325            1.7   \n",
       "7          1.51                        280            2.2   \n",
       "8          1.25                        325            2.1   \n",
       "9          1.51                        364            0.8   \n",
       "\n",
       "                             7               8                             9  \\\n",
       "0  Concrete Spalling Drift (%)  ANN Prediction  Linear Regression Prediction   \n",
       "1                        2.125          2.4366                        2.8359   \n",
       "2                          4.5         5.03276                       4.05191   \n",
       "3                      1.16667         1.71103                       1.55836   \n",
       "4                        3.675         2.98611                       2.31467   \n",
       "5                       2.1375         2.98438                       2.31495   \n",
       "6                      2.78788          2.1966                       2.66201   \n",
       "7                         1.25         1.29915                       1.96055   \n",
       "8                      1.75758         2.13984                       2.66455   \n",
       "9                       1.9125         2.97809                       2.30383   \n",
       "\n",
       "                            10                           11              12  \\\n",
       "0  Ridge Regression Prediction  Lasso Regression Prediction  KNN Prediction   \n",
       "1                      2.82574                      2.71161         2.20833   \n",
       "2                      4.03459                      3.97093         4.92399   \n",
       "3                      1.59027                      1.69974         1.44932   \n",
       "4                      2.36682                      2.50576         2.90736   \n",
       "5                      2.36005                      2.49312         3.32483   \n",
       "6                       2.6822                      2.70445         1.93939   \n",
       "7                      1.98314                      1.96374         1.78743   \n",
       "8                      2.67938                      2.70412         1.51515   \n",
       "9                      2.35479                      2.51408         3.24438   \n",
       "\n",
       "                         13                        14  \\\n",
       "0  Decision Tree Prediction  Random Forest Prediction   \n",
       "1                    2.0596                   2.81316   \n",
       "2                   4.96429                   3.98751   \n",
       "3                      1.75                   2.54306   \n",
       "4                    2.0596                   2.93701   \n",
       "5                   1.99866                   2.91904   \n",
       "6                    1.9072                   2.91815   \n",
       "7                      1.75                   2.76921   \n",
       "8                   1.52633                   2.90364   \n",
       "9                   1.99866                   2.92081   \n",
       "\n",
       "                          15  \n",
       "0  Support Vector Prediction  \n",
       "1                    2.13146  \n",
       "2                    4.45062  \n",
       "3                    1.13392  \n",
       "4                    2.67524  \n",
       "5                     2.5469  \n",
       "6                    2.03958  \n",
       "7                    1.30553  \n",
       "8                    1.81399  \n",
       "9                    2.61527  "
      ]
     },
     "execution_count": 23,
     "metadata": {},
     "output_type": "execute_result"
    }
   ],
   "source": [
    "# show the inputs and predicted outputs\n",
    "result = []\n",
    "df = pd.read_excel(FILE_PATH)\n",
    "head = list(df.columns[:8])\n",
    "head.append(df.columns[9])\n",
    "head.append(\"ANN Prediction\")\n",
    "head.append(\"Linear Regression Prediction\")\n",
    "head.append(\"Ridge Regression Prediction\")\n",
    "head.append(\"Lasso Regression Prediction\")\n",
    "head.append(\"KNN Prediction\")\n",
    "head.append(\"Decision Tree Prediction\")\n",
    "head.append(\"Random Forest Prediction\")\n",
    "head.append(\"Support Vector Prediction\")\n",
    "result.append(head[1:])\n",
    "\n",
    "for i in range(len(test_y_2)):\n",
    "    tmp = list(test_x_original_2.to_numpy()[i])\n",
    "    tmp.append(test_y_2[i])\n",
    "    tmp.append(pred_y_nn_2[i])\n",
    "    tmp.append(pred_y_lr_2[i])\n",
    "    tmp.append(pred_y_rr_2[i])\n",
    "    tmp.append(pred_y_Lasso_2[i])\n",
    "    tmp.append(pred_y_knn_2[i])\n",
    "    tmp.append(pred_y_dt_2[i])\n",
    "    tmp.append(pred_y_rf_2[i])\n",
    "    tmp.append(pred_y_svmr_2[i])    \n",
    "    result.append(tmp)\n",
    "result = pd.DataFrame(result)\n",
    "\n",
    "result"
   ]
  },
  {
   "cell_type": "markdown",
   "metadata": {},
   "source": [
    "## Print Bar Buckling Results"
   ]
  },
  {
   "cell_type": "code",
   "execution_count": 24,
   "metadata": {},
   "outputs": [
    {
     "data": {
      "text/html": [
       "<div>\n",
       "<style scoped>\n",
       "    .dataframe tbody tr th:only-of-type {\n",
       "        vertical-align: middle;\n",
       "    }\n",
       "\n",
       "    .dataframe tbody tr th {\n",
       "        vertical-align: top;\n",
       "    }\n",
       "\n",
       "    .dataframe thead th {\n",
       "        text-align: right;\n",
       "    }\n",
       "</style>\n",
       "<table border=\"1\" class=\"dataframe\">\n",
       "  <thead>\n",
       "    <tr style=\"text-align: right;\">\n",
       "      <th></th>\n",
       "      <th>0</th>\n",
       "      <th>1</th>\n",
       "      <th>2</th>\n",
       "      <th>3</th>\n",
       "      <th>4</th>\n",
       "      <th>5</th>\n",
       "      <th>6</th>\n",
       "      <th>7</th>\n",
       "      <th>8</th>\n",
       "      <th>9</th>\n",
       "      <th>10</th>\n",
       "      <th>11</th>\n",
       "      <th>12</th>\n",
       "      <th>13</th>\n",
       "      <th>14</th>\n",
       "      <th>15</th>\n",
       "    </tr>\n",
       "  </thead>\n",
       "  <tbody>\n",
       "    <tr>\n",
       "      <th>0</th>\n",
       "      <td>Axial Load Ratio</td>\n",
       "      <td>f'c (MPa)</td>\n",
       "      <td>Aspect Ratio</td>\n",
       "      <td>fy, Longitudinal Bars (Mpa)</td>\n",
       "      <td>rho Long (%)</td>\n",
       "      <td>fy, Transverse Bars (Mpa)</td>\n",
       "      <td>rho Trans (%)</td>\n",
       "      <td>Bar Buckling Drift (%)</td>\n",
       "      <td>ANN Prediction</td>\n",
       "      <td>Linear Regression Prediction</td>\n",
       "      <td>Ridge Regression Prediction</td>\n",
       "      <td>Lasso Regression Prediction</td>\n",
       "      <td>KNN Prediction</td>\n",
       "      <td>Decision Tree Prediction</td>\n",
       "      <td>Random Forest Prediction</td>\n",
       "      <td>Support Vector Prediction</td>\n",
       "    </tr>\n",
       "    <tr>\n",
       "      <th>1</th>\n",
       "      <td>0.2</td>\n",
       "      <td>25.6</td>\n",
       "      <td>4</td>\n",
       "      <td>474</td>\n",
       "      <td>1.57</td>\n",
       "      <td>333</td>\n",
       "      <td>2.5</td>\n",
       "      <td>3.6875</td>\n",
       "      <td>5.10979</td>\n",
       "      <td>5.32774</td>\n",
       "      <td>5.27423</td>\n",
       "      <td>5.31284</td>\n",
       "      <td>5.98333</td>\n",
       "      <td>5.98333</td>\n",
       "      <td>4.62504</td>\n",
       "      <td>5.00029</td>\n",
       "    </tr>\n",
       "    <tr>\n",
       "      <th>2</th>\n",
       "      <td>0.47</td>\n",
       "      <td>102.2</td>\n",
       "      <td>6.03934</td>\n",
       "      <td>454</td>\n",
       "      <td>2.58</td>\n",
       "      <td>463</td>\n",
       "      <td>4.3</td>\n",
       "      <td>1.08578</td>\n",
       "      <td>1.54435</td>\n",
       "      <td>2.36554</td>\n",
       "      <td>2.47504</td>\n",
       "      <td>2.38912</td>\n",
       "      <td>1.95131</td>\n",
       "      <td>1.87296</td>\n",
       "      <td>4.01739</td>\n",
       "      <td>1.73266</td>\n",
       "    </tr>\n",
       "    <tr>\n",
       "      <th>3</th>\n",
       "      <td>0.232</td>\n",
       "      <td>28.1</td>\n",
       "      <td>3.82787</td>\n",
       "      <td>448</td>\n",
       "      <td>2.22</td>\n",
       "      <td>428</td>\n",
       "      <td>0.5</td>\n",
       "      <td>5.4818</td>\n",
       "      <td>4.69212</td>\n",
       "      <td>4.87744</td>\n",
       "      <td>4.88688</td>\n",
       "      <td>4.87805</td>\n",
       "      <td>5.13209</td>\n",
       "      <td>4.41623</td>\n",
       "      <td>4.29228</td>\n",
       "      <td>4.81188</td>\n",
       "    </tr>\n",
       "    <tr>\n",
       "      <th>4</th>\n",
       "      <td>0.1</td>\n",
       "      <td>46.5</td>\n",
       "      <td>4</td>\n",
       "      <td>446</td>\n",
       "      <td>1.51</td>\n",
       "      <td>364</td>\n",
       "      <td>0.9</td>\n",
       "      <td>4.9</td>\n",
       "      <td>2.33709</td>\n",
       "      <td>3.94588</td>\n",
       "      <td>4.0034</td>\n",
       "      <td>3.96184</td>\n",
       "      <td>4.20552</td>\n",
       "      <td>5.53839</td>\n",
       "      <td>4.4092</td>\n",
       "      <td>3.91204</td>\n",
       "    </tr>\n",
       "    <tr>\n",
       "      <th>5</th>\n",
       "      <td>0.3</td>\n",
       "      <td>44</td>\n",
       "      <td>4</td>\n",
       "      <td>446</td>\n",
       "      <td>1.51</td>\n",
       "      <td>360</td>\n",
       "      <td>1.2</td>\n",
       "      <td>4.275</td>\n",
       "      <td>3.11218</td>\n",
       "      <td>3.71974</td>\n",
       "      <td>3.76967</td>\n",
       "      <td>3.73667</td>\n",
       "      <td>3.82768</td>\n",
       "      <td>3.03189</td>\n",
       "      <td>3.94911</td>\n",
       "      <td>4.25272</td>\n",
       "    </tr>\n",
       "    <tr>\n",
       "      <th>6</th>\n",
       "      <td>0.1</td>\n",
       "      <td>76</td>\n",
       "      <td>2</td>\n",
       "      <td>510</td>\n",
       "      <td>3.55</td>\n",
       "      <td>510</td>\n",
       "      <td>3.7</td>\n",
       "      <td>9.25197</td>\n",
       "      <td>8.24905</td>\n",
       "      <td>6.8319</td>\n",
       "      <td>6.81578</td>\n",
       "      <td>6.81072</td>\n",
       "      <td>7.23424</td>\n",
       "      <td>7.87402</td>\n",
       "      <td>5.63946</td>\n",
       "      <td>8.66667</td>\n",
       "    </tr>\n",
       "    <tr>\n",
       "      <th>7</th>\n",
       "      <td>0.1</td>\n",
       "      <td>32</td>\n",
       "      <td>3</td>\n",
       "      <td>511</td>\n",
       "      <td>1.25</td>\n",
       "      <td>325</td>\n",
       "      <td>1.7</td>\n",
       "      <td>4.47273</td>\n",
       "      <td>3.32124</td>\n",
       "      <td>5.98526</td>\n",
       "      <td>5.95206</td>\n",
       "      <td>5.97932</td>\n",
       "      <td>4.07273</td>\n",
       "      <td>4.66648</td>\n",
       "      <td>4.99118</td>\n",
       "      <td>4.07271</td>\n",
       "    </tr>\n",
       "    <tr>\n",
       "      <th>8</th>\n",
       "      <td>0.21</td>\n",
       "      <td>25</td>\n",
       "      <td>4</td>\n",
       "      <td>427</td>\n",
       "      <td>1.51</td>\n",
       "      <td>280</td>\n",
       "      <td>2.2</td>\n",
       "      <td>3.625</td>\n",
       "      <td>3.50151</td>\n",
       "      <td>4.06366</td>\n",
       "      <td>4.06341</td>\n",
       "      <td>4.0613</td>\n",
       "      <td>5.1477</td>\n",
       "      <td>4.41623</td>\n",
       "      <td>3.96721</td>\n",
       "      <td>4.1175</td>\n",
       "    </tr>\n",
       "    <tr>\n",
       "      <th>9</th>\n",
       "      <td>0.3</td>\n",
       "      <td>32.1</td>\n",
       "      <td>3</td>\n",
       "      <td>511</td>\n",
       "      <td>1.25</td>\n",
       "      <td>325</td>\n",
       "      <td>2.1</td>\n",
       "      <td>4.99394</td>\n",
       "      <td>4.44931</td>\n",
       "      <td>5.71457</td>\n",
       "      <td>5.67511</td>\n",
       "      <td>5.70999</td>\n",
       "      <td>4.72727</td>\n",
       "      <td>4.66648</td>\n",
       "      <td>4.56183</td>\n",
       "      <td>4.81236</td>\n",
       "    </tr>\n",
       "    <tr>\n",
       "      <th>10</th>\n",
       "      <td>0.092</td>\n",
       "      <td>28.1</td>\n",
       "      <td>3.82787</td>\n",
       "      <td>448</td>\n",
       "      <td>2.22</td>\n",
       "      <td>428</td>\n",
       "      <td>0.5</td>\n",
       "      <td>6.85225</td>\n",
       "      <td>5.32907</td>\n",
       "      <td>5.14321</td>\n",
       "      <td>5.14551</td>\n",
       "      <td>5.1395</td>\n",
       "      <td>5.72903</td>\n",
       "      <td>5.22484</td>\n",
       "      <td>4.6627</td>\n",
       "      <td>5.08861</td>\n",
       "    </tr>\n",
       "    <tr>\n",
       "      <th>11</th>\n",
       "      <td>0.3</td>\n",
       "      <td>44</td>\n",
       "      <td>4</td>\n",
       "      <td>446</td>\n",
       "      <td>1.51</td>\n",
       "      <td>364</td>\n",
       "      <td>0.8</td>\n",
       "      <td>2.80625</td>\n",
       "      <td>2.9423</td>\n",
       "      <td>3.62987</td>\n",
       "      <td>3.69402</td>\n",
       "      <td>3.65116</td>\n",
       "      <td>3.81577</td>\n",
       "      <td>3.03189</td>\n",
       "      <td>3.9684</td>\n",
       "      <td>4.13193</td>\n",
       "    </tr>\n",
       "  </tbody>\n",
       "</table>\n",
       "</div>"
      ],
      "text/plain": [
       "                   0           1             2                            3  \\\n",
       "0   Axial Load Ratio  f'c (MPa)   Aspect Ratio  fy, Longitudinal Bars (Mpa)   \n",
       "1                0.2        25.6             4                          474   \n",
       "2               0.47       102.2       6.03934                          454   \n",
       "3              0.232        28.1       3.82787                          448   \n",
       "4                0.1        46.5             4                          446   \n",
       "5                0.3          44             4                          446   \n",
       "6                0.1          76             2                          510   \n",
       "7                0.1          32             3                          511   \n",
       "8               0.21          25             4                          427   \n",
       "9                0.3        32.1             3                          511   \n",
       "10             0.092        28.1       3.82787                          448   \n",
       "11               0.3          44             4                          446   \n",
       "\n",
       "               4                          5              6  \\\n",
       "0   rho Long (%)  fy, Transverse Bars (Mpa)  rho Trans (%)   \n",
       "1           1.57                        333            2.5   \n",
       "2           2.58                        463            4.3   \n",
       "3           2.22                        428            0.5   \n",
       "4           1.51                        364            0.9   \n",
       "5           1.51                        360            1.2   \n",
       "6           3.55                        510            3.7   \n",
       "7           1.25                        325            1.7   \n",
       "8           1.51                        280            2.2   \n",
       "9           1.25                        325            2.1   \n",
       "10          2.22                        428            0.5   \n",
       "11          1.51                        364            0.8   \n",
       "\n",
       "                         7               8                             9  \\\n",
       "0   Bar Buckling Drift (%)  ANN Prediction  Linear Regression Prediction   \n",
       "1                   3.6875         5.10979                       5.32774   \n",
       "2                  1.08578         1.54435                       2.36554   \n",
       "3                   5.4818         4.69212                       4.87744   \n",
       "4                      4.9         2.33709                       3.94588   \n",
       "5                    4.275         3.11218                       3.71974   \n",
       "6                  9.25197         8.24905                        6.8319   \n",
       "7                  4.47273         3.32124                       5.98526   \n",
       "8                    3.625         3.50151                       4.06366   \n",
       "9                  4.99394         4.44931                       5.71457   \n",
       "10                 6.85225         5.32907                       5.14321   \n",
       "11                 2.80625          2.9423                       3.62987   \n",
       "\n",
       "                             10                           11              12  \\\n",
       "0   Ridge Regression Prediction  Lasso Regression Prediction  KNN Prediction   \n",
       "1                       5.27423                      5.31284         5.98333   \n",
       "2                       2.47504                      2.38912         1.95131   \n",
       "3                       4.88688                      4.87805         5.13209   \n",
       "4                        4.0034                      3.96184         4.20552   \n",
       "5                       3.76967                      3.73667         3.82768   \n",
       "6                       6.81578                      6.81072         7.23424   \n",
       "7                       5.95206                      5.97932         4.07273   \n",
       "8                       4.06341                       4.0613          5.1477   \n",
       "9                       5.67511                      5.70999         4.72727   \n",
       "10                      5.14551                       5.1395         5.72903   \n",
       "11                      3.69402                      3.65116         3.81577   \n",
       "\n",
       "                          13                        14  \\\n",
       "0   Decision Tree Prediction  Random Forest Prediction   \n",
       "1                    5.98333                   4.62504   \n",
       "2                    1.87296                   4.01739   \n",
       "3                    4.41623                   4.29228   \n",
       "4                    5.53839                    4.4092   \n",
       "5                    3.03189                   3.94911   \n",
       "6                    7.87402                   5.63946   \n",
       "7                    4.66648                   4.99118   \n",
       "8                    4.41623                   3.96721   \n",
       "9                    4.66648                   4.56183   \n",
       "10                   5.22484                    4.6627   \n",
       "11                   3.03189                    3.9684   \n",
       "\n",
       "                           15  \n",
       "0   Support Vector Prediction  \n",
       "1                     5.00029  \n",
       "2                     1.73266  \n",
       "3                     4.81188  \n",
       "4                     3.91204  \n",
       "5                     4.25272  \n",
       "6                     8.66667  \n",
       "7                     4.07271  \n",
       "8                      4.1175  \n",
       "9                     4.81236  \n",
       "10                    5.08861  \n",
       "11                    4.13193  "
      ]
     },
     "execution_count": 24,
     "metadata": {},
     "output_type": "execute_result"
    }
   ],
   "source": [
    "# show the inputs and predicted outputs\n",
    "result = []\n",
    "df = pd.read_excel(FILE_PATH)\n",
    "head = list(df.columns[:8])\n",
    "head.append(df.columns[10])\n",
    "head.append(\"ANN Prediction\")\n",
    "head.append(\"Linear Regression Prediction\")\n",
    "head.append(\"Ridge Regression Prediction\")\n",
    "head.append(\"Lasso Regression Prediction\")\n",
    "head.append(\"KNN Prediction\")\n",
    "head.append(\"Decision Tree Prediction\")\n",
    "head.append(\"Random Forest Prediction\")\n",
    "head.append(\"Support Vector Prediction\")\n",
    "result.append(head[1:])\n",
    "\n",
    "for i in range(len(test_y_3)):\n",
    "    tmp = list(test_x_original_3.to_numpy()[i])\n",
    "    tmp.append(test_y_3[i])\n",
    "    tmp.append(pred_y_nn_3[i])\n",
    "    tmp.append(pred_y_lr_3[i])\n",
    "    tmp.append(pred_y_rr_3[i])\n",
    "    tmp.append(pred_y_Lasso_3[i])\n",
    "    tmp.append(pred_y_knn_3[i])\n",
    "    tmp.append(pred_y_dt_3[i])\n",
    "    tmp.append(pred_y_rf_3[i])\n",
    "    tmp.append(pred_y_svmr_3[i])    \n",
    "    result.append(tmp)\n",
    "result = pd.DataFrame(result)\n",
    "\n",
    "result"
   ]
  },
  {
   "cell_type": "markdown",
   "metadata": {},
   "source": [
    "## Create Polar Graphs for Manuscript"
   ]
  },
  {
   "cell_type": "code",
   "execution_count": 80,
   "metadata": {},
   "outputs": [
    {
     "name": "stdout",
     "output_type": "stream",
     "text": [
      "Best Concrete Spalling Model: SVMR\n",
      "Best Core Crushing Model: KNN\n",
      "Best Bar Buckling Model: SVMR\n"
     ]
    },
    {
     "data": {
      "text/plain": [
       "<matplotlib.legend.Legend at 0x2143950e608>"
      ]
     },
     "execution_count": 80,
     "metadata": {},
     "output_type": "execute_result"
    },
    {
     "data": {
      "image/png": "[encoded data removed]",
      "text/plain": [
       "<Figure size 1080x288 with 3 Axes>"
      ]
     },
     "metadata": {
      "needs_background": "light"
     },
     "output_type": "display_data"
    }
   ],
   "source": [
    "labels=np.array(['ANN', 'LR', 'RR', 'Lasso', 'KNN', 'DT', 'RF', 'SVMR'])\n",
    "models = {0:'ANN',1: 'LR',2: 'RR',3: 'Lasso',4: 'KNN',5: 'DT',6: 'RF',7: 'SVMR'}\n",
    "best_1, best_2, best_3 = [],[],[]\n",
    "best_model = {0: best_1,1: best_2,2: best_3}\n",
    "title_lbl= {1:'Core Crushing', 0:'Concrete Spalling', 2:'Bar Buckling'}\n",
    "legend_lbl=np.array(['Pearson r','R²','SMAPE','RMSE','Reference Index'])\n",
    "varlist_1= {0:best_nn_1, 1:best_lr_1, 2:best_rr_1, 3:best_lasso_1, 4:best_knn_1, 5:best_dt_1, 6:best_rf_1, 7:best_svmr_1}\n",
    "varlist_2= {0:best_nn_2, 1:best_lr_2, 2:best_rr_2, 3:best_lasso_2, 4:best_knn_2, 5:best_dt_2, 6:best_rf_2, 7:best_svmr_2}\n",
    "varlist_3= {0:best_nn_3, 1:best_lr_3, 2:best_rr_3, 3:best_lasso_3, 4:best_knn_3, 5:best_dt_3, 6:best_rf_3, 7:best_svmr_3}\n",
    "list_of_lists= {0:varlist_2, 1:varlist_1, 2:varlist_3}\n",
    "\n",
    "palette = [\"#264653\", \"#2a9d8f\", \"#e9c46a\", \"#f4a261\", \"#e76f51\"]\n",
    "sns.set_palette(palette)\n",
    "fig, ax = plt.subplots(1, 3, subplot_kw=dict(projection='polar'), figsize=(15,4))\n",
    "\n",
    "for i in range(len(list_of_lists)):\n",
    "    plt_title = title_lbl.get(i) \n",
    "    radial_r, radial_r2, radial_SMAPE, radial_RMSE, radial_RefIDX = [], [], [], [], []\n",
    "    angles=np.linspace(0, 2*np.pi, len(labels), endpoint=False)\n",
    "    for j in range(len(list_of_lists[i])):\n",
    "        radial_r.append(list_of_lists[i][j].at[0,'r'])\n",
    "        radial_r2.append(list_of_lists[i][j].at[0,'r2'])\n",
    "        radial_SMAPE.append(list_of_lists[i][j].at[0,'SMAPE'])\n",
    "        radial_RMSE.append(list_of_lists[i][j].at[0,'RMSE'])    \n",
    "\n",
    "    angles=np.concatenate((angles,[angles[0]]))\n",
    "    radial_r=np.concatenate((radial_r,[radial_r[0]]))\n",
    "    radial_r2=np.concatenate((radial_r2,[radial_r2[0]]))\n",
    "    radial_SMAPE=np.concatenate((radial_SMAPE,[radial_SMAPE[0]]))\n",
    "    radial_RMSE=np.concatenate((radial_RMSE,[radial_RMSE[0]]))\n",
    "    radial_r = Norm(radial_r)\n",
    "    radial_r2 = Norm(radial_r2)\n",
    "    radial_SMAPE = Norm_inv(radial_SMAPE)\n",
    "    radial_RMSE = Norm_inv(radial_RMSE)\n",
    "    radialplt= {0:radial_r, 1:radial_r2, 2:radial_SMAPE, 3:radial_RMSE}\n",
    "    radial_RefIDX = List_AVG(radial_r, radial_r2, radial_SMAPE, radial_RMSE)\n",
    "    for j in range(len(radialplt)):\n",
    "        ax[i].plot(angles, radialplt[j], marker = '.', ls = '--', lw = 1, alpha=1)\n",
    "        ax[i].fill(angles, radialplt[j], alpha=0.1)\n",
    "    \n",
    "    ax[i].plot(angles, radial_RefIDX, 'o-', alpha=1, lw = 2)\n",
    "    ax[i].fill(angles, radial_RefIDX, alpha=.5)\n",
    "    ax[i].set_thetagrids(angles * 180/np.pi, labels, fontsize = 12, y =-.025)\n",
    "    ax[i].set_title(plt_title, fontsize = 15, y=1.15)\n",
    "    best_model[i] = (radial_RefIDX[:8])\n",
    "    print(\"Best\",title_lbl[i], \"Model:\",models.get(best_model[i].index(max(best_model[i]))))\n",
    "ax[2].legend(legend_lbl,title=\"Normalized Values\", title_fontsize = 14,loc='upper center', bbox_to_anchor=(1.6, 0.8), shadow=True, ncol=1,fontsize = 14)\n"
   ]
  },
  {
   "cell_type": "code",
   "execution_count": null,
   "metadata": {},
   "outputs": [],
   "source": []
  },
  {
   "cell_type": "markdown",
   "metadata": {},
   "source": [
    "## Create Scatter Plots for Manuscript"
   ]
  },
  {
   "cell_type": "code",
   "execution_count": 87,
   "metadata": {},
   "outputs": [
    {
     "data": {
      "text/plain": [
       "<matplotlib.legend.Legend at 0x2143a7d8fc8>"
      ]
     },
     "execution_count": 87,
     "metadata": {},
     "output_type": "execute_result"
    },
    {
     "data": {
      "image/png": "[encoded data removed]",
      "text/plain": [
       "<Figure size 1080x288 with 3 Axes>"
      ]
     },
     "metadata": {
      "needs_background": "light"
     },
     "output_type": "display_data"
    }
   ],
   "source": [
    "legend_lbl=np.array(['ANN', 'LR', 'RR', 'Lasso', 'KNN', 'DT', 'RF', 'SVMR'])\n",
    "title_lbl= {0:'Concrete Spalling', 1:'Core Crushing', 2:'Bar Buckling'}\n",
    "\n",
    "y_list_1= {0:pred_y_nn_1, 1:pred_y_lr_1, 2:pred_y_rr_1, 3:pred_y_Lasso_1, 4:pred_y_knn_1, 5:pred_y_dt_1, 6:pred_y_rf_1, 7:pred_y_svmr_1}\n",
    "y_list_2= {0:pred_y_nn_2, 1:pred_y_lr_2, 2:pred_y_rr_2, 3:pred_y_Lasso_2, 4:pred_y_knn_2, 5:pred_y_dt_2, 6:pred_y_rf_2, 7:pred_y_svmr_2}\n",
    "y_list_3= {0:pred_y_nn_3, 1:pred_y_lr_3, 2:pred_y_rr_3, 3:pred_y_Lasso_3, 4:pred_y_knn_3, 5:pred_y_dt_3, 6:pred_y_rf_3, 7:pred_y_svmr_3}\n",
    "perf_fit = [[0,5],[0,4],[0,10]]\n",
    "x_list= {0:test_y_2, 1:test_y_1, 2:test_y_3}\n",
    "y_all= {0:y_list_2, 1:y_list_1, 2:y_list_3}\n",
    "\n",
    "palette = [\"#F94144\", \"#F3722C\", \"#F8961E\", \"#F9844A\", \"#F9C74F\", \"#90BE6D\", \"#43AA8B\", \"#4D908E\"]\n",
    "sns.set_palette(palette)\n",
    "fig, ax = plt.subplots(1, 3, sharey=False, figsize=(15,4))\n",
    "lgnd_h = []\n",
    "for i in range(len(y_all)):\n",
    "    plt_title = title_lbl.get(i) \n",
    "    for j in range(len(labels)):\n",
    "        ax[i].plot(x_list.get(i),y_all.get(i).get(j), marker = 'o', lw = 0)\n",
    "        if i == 0:\n",
    "            lgnd_h.append(Line2D(x_list.get(i),y_all.get(i).get(j), marker = 'o', color= palette[j], lw = 0))\n",
    "        # Display Linear Trendline for each series\n",
    "        trend_x = np.polyfit(x_list.get(i), y_all.get(i).get(j), 1)\n",
    "        trend_fit = np.poly1d(trend_x)\n",
    "        ax[i].plot([0,perf_fit[i][1]],[trend_fit(0),trend_fit(perf_fit[i][1])],ls = '--',lw = 1)\n",
    "    ax[i].plot(perf_fit[i],perf_fit[i], 'r-', lw = 1.5)\n",
    "    ax[i].set_title(plt_title, y=1, fontsize = 12)\n",
    "    ax[i].set_ylim(bottom=0); ax[i].set_xlim(left=0)\n",
    "    ax[i].grid(linestyle='-', linewidth=0.5)\n",
    "ax[0].set_ylabel('Predicted Drift (%)', fontsize=14)\n",
    "ax[1].set_xlabel('Actual Drift (%)', fontsize=14)\n",
    "ax[2].legend(handles =lgnd_h, labels = list(legend_lbl), loc='upper center', bbox_to_anchor=(1.3, .9), shadow=True, ncol=1, fontsize = 14)"
   ]
  },
  {
   "cell_type": "markdown",
   "metadata": {},
   "source": [
    "## Plot Histograms for Manuscript"
   ]
  },
  {
   "cell_type": "code",
   "execution_count": 49,
   "metadata": {},
   "outputs": [
    {
     "data": {
      "text/plain": [
       "Text(0.5, 0, 'Drift Ratio (%) \\n(c)')"
      ]
     },
     "execution_count": 49,
     "metadata": {},
     "output_type": "execute_result"
    },
    {
     "data": {
      "image/png": "[encoded data removed]",
      "text/plain": [
       "<Figure size 1080x288 with 3 Axes>"
      ]
     },
     "metadata": {
      "needs_background": "light"
     },
     "output_type": "display_data"
    }
   ],
   "source": [
    "fig, ax = plt.subplots(1, 3, tight_layout=True, figsize=(15,4))\n",
    "n_bins = 20\n",
    "ax[0].grid(linestyle='-', linewidth=0.5)\n",
    "ax[0].hist(X[:,1], bins=n_bins,edgecolor='black', linewidth=1, color = '#90BE6D')\n",
    "ax[0].set_xlabel(\"fc' (MPa) \\n(a)\", fontsize=14)\n",
    "ax[0].set_ylabel(\"frequency\", fontsize=14)\n",
    "\n",
    "ax[1].grid(linestyle='-', linewidth=0.5)\n",
    "ax[1].hist(X[:,3], bins=n_bins,edgecolor='black', linewidth=1, color = '#90BE6D')\n",
    "ax[1].set_xlabel(\"fy (MPa) \\n(b)\", fontsize=14)\n",
    "\n",
    "ax[2].grid(linestyle='-', linewidth=0.5)\n",
    "Hist_Y = np.concatenate((Y[:,0],Y[:,1],Y[:,2]))\n",
    "ax[2].hist(Hist_Y, bins=n_bins,edgecolor='black', linewidth=1, color = '#90BE6D')\n",
    "ax[2].set_xlabel(\"Drift Ratio (%) \\n(c)\", fontsize=14)\n"
   ]
  },
  {
   "cell_type": "markdown",
   "metadata": {},
   "source": [
    "## Comparison With Existing Methods"
   ]
  },
  {
   "cell_type": "code",
   "execution_count": 28,
   "metadata": {},
   "outputs": [
    {
     "name": "stdout",
     "output_type": "stream",
     "text": [
      "Rectangular Concrete Spalling Ratio:  1.0304931821442191 |  COV:  19.61426607505579\n",
      "Improvement over Berry & Eberhard (2003) Concrete Spalling Ratio:  -0.05 % |  COV:  54.39 % \n",
      "\n",
      "Rectangular Bar Buckling Ratio:  0.9882486352952402 |  COV:  22.48176297486069\n",
      "Improvement over Berry & Eberhard (2003) Bar Buckling Ratio:  -0.17 % |  COV:  10.07 % \n",
      "\n"
     ]
    }
   ],
   "source": [
    "def Method_Comparison(actual, prediction):\n",
    "    pred_ratio = []\n",
    "    for i in range(len(actual)):\n",
    "        pred_ratio.append(actual[i]/prediction[i])\n",
    "    avg_ratio = sum(pred_ratio)/len(pred_ratio)\n",
    "    std_ratio = np.std(pred_ratio)\n",
    "    avg_cov = 100*std_ratio/avg_ratio\n",
    "    return avg_ratio, avg_cov\n",
    "\n",
    "if FILE_PATH == 'Rect_Dataset.xlsx':\n",
    "    cs_ratio, cs_cov = Method_Comparison(test_y_2,pred_y_svmr_2)\n",
    "    print(\"Rectangular Concrete Spalling Ratio: \",cs_ratio, \"|  COV: \",cs_cov)\n",
    "    print(\"Improvement over Berry & Eberhard (2003) Concrete Spalling Ratio: \",round((0.03-abs(cs_ratio-1))/(0.97/100),2),\"%\", \"|  COV: \",round((43-cs_cov)/(43/100),2),\"%\",'\\n')\n",
    "    bb_ratio, bb_cov = Method_Comparison(test_y_3,pred_y_svmr_3)\n",
    "    print(\"Rectangular Bar Buckling Ratio: \",bb_ratio, \"|  COV: \",bb_cov)\n",
    "    print(\"Improvement over Berry & Eberhard (2003) Bar Buckling Ratio: \",round((0.01-abs(bb_ratio-1))/(1.01/100),2),\"%\",\"|  COV: \",round((25-bb_cov)/(25/100),2),\"%\",'\\n')\n",
    "\n",
    "if FILE_PATH == 'Circ_Dataset.xlsx':\n",
    "    cs_ratio, cs_cov = Method_Comparison(test_y_2,pred_y_nn_2)\n",
    "    print(\"Circular Concrete Spalling Ratio: \",cs_ratio, \"|  COV: \",cs_cov)\n",
    "    print(\"Improvement over Berry & Eberhard (2003) Concrete Spalling Ratio: \",round((0.07-abs(cs_ratio-1))/(1.07/100),2), \"|  COV: \",round((35-cs_cov)/(35/100),2),'\\n')\n",
    "    bb_ratio, bb_cov = Method_Comparison(test_y_3,pred_y_svmr_3)\n",
    "    print(\"Circular Bar Buckling Ratio: \",bb_ratio, \"|  COV: \",bb_cov)\n",
    "    print(\"Improvement over Berry & Eberhard (2003) Bar Buckling Ratio: \",round((0.03-abs(bb_ratio-1))/(0.97/100),2), \"|  COV: \",round((24-bb_cov)/(24/100),2),'\\n')\n",
    "    print(\"Improvement over Goodnight (2015) Bar Buckling Ratio: \",round((0.09-abs(bb_ratio-1))/(1.09/100),2), \"|  COV: \",round((24.1-bb_cov)/(24.1/100),2),'\\n')\n"
   ]
  },
  {
   "cell_type": "code",
   "execution_count": null,
   "metadata": {},
   "outputs": [],
   "source": []
  },
  {
   "cell_type": "code",
   "execution_count": null,
   "metadata": {},
   "outputs": [],
   "source": []
  },
  {
   "cell_type": "code",
   "execution_count": null,
   "metadata": {},
   "outputs": [],
   "source": []
  }
 ],
 "metadata": {
  "kernelspec": {
   "display_name": "Python 3",
   "language": "python",
   "name": "python3"
  },
  "language_info": {
   "codemirror_mode": {
    "name": "ipython",
    "version": 3
   },
   "file_extension": ".py",
   "mimetype": "text/x-python",
   "name": "python",
   "nbconvert_exporter": "python",
   "pygments_lexer": "ipython3",
   "version": "3.7.4"
  }
 },
 "nbformat": 4,
 "nbformat_minor": 2
}
