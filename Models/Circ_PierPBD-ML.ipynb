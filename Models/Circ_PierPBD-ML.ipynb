{
 "cells": [
  {
   "cell_type": "markdown",
   "metadata": {},
   "source": [
    "## Import libraries"
   ]
  },
  {
   "cell_type": "code",
   "execution_count": 2,
   "metadata": {},
   "outputs": [],
   "source": [
    "#from tensorflow.compat.v1.keras.models import Sequential\n",
    "#from tensorflow.compat.v1.keras.layers import Dense\n",
    "#from tensorflow.compat.v1.keras.wrappers.scikit_learn import KerasClassifier, KerasRegressor\n",
    "from tensorflow.keras.models import Sequential\n",
    "from tensorflow.keras.layers import Dense\n",
    "from tensorflow.keras.wrappers.scikit_learn import KerasClassifier, KerasRegressor\n",
    "\n",
    "import pandas as pd\n",
    "import numpy as np\n",
    "from six import string_types\n",
    "from six.moves import xrange as range\n",
    "from numpy import nan\n",
    "import xlrd\n",
    "\n",
    "import matplotlib.pyplot as plt \n",
    "import seaborn as sns\n",
    "import pylab\n",
    "from pylab import *\n",
    "\n",
    "import sklearn\n",
    "from sklearn.model_selection import cross_val_score, KFold\n",
    "from sklearn.preprocessing import StandardScaler, MinMaxScaler\n",
    "from sklearn.metrics import f1_score, SCORERS, r2_score\n",
    "from sklearn import linear_model, neighbors, tree\n",
    "from sklearn.linear_model import LinearRegression\n",
    "from sklearn.tree import DecisionTreeRegressor\n",
    "from sklearn.ensemble import RandomForestRegressor\n",
    "from scipy.stats import kendalltau, spearmanr, pearsonr, variation\n",
    "from sklearn.svm import SVR\n",
    "from sklearn.pipeline import Pipeline\n",
    "\n",
    "import time\n",
    "from tqdm.notebook import trange, tqdm\n",
    "from time import sleep\n",
    "\n",
    "RESULT_PATH = \"results/\"\n",
    "FILE_PATH = 'Circ_Dataset.xlsx'\n",
    "\n",
    "# fix random seed for reproducibility, random to be called before permutations in following blocks\n",
    "seed = 4191995\n"
   ]
  },
  {
   "cell_type": "markdown",
   "metadata": {},
   "source": [
    "## Dataset import and pre-process"
   ]
  },
  {
   "cell_type": "code",
   "execution_count": 3,
   "metadata": {},
   "outputs": [],
   "source": [
    "# split into input (X) and output (Y) variables\n",
    "DATA = np.array(pd.read_excel(FILE_PATH))\n",
    "X = DATA[:,1:8]\n",
    "Y = DATA[:,8:11]\n",
    "Y = np.where(Y==0,np.nan,Y) \n",
    "\n",
    "#X = pd.DataFrame(X)\n",
    "#print(X.info())\n",
    "#Y = pd.DataFrame(Y)\n",
    "#print(Y.info())\n",
    "\n",
    "# Shuffle data\n",
    "np.random.seed(seed)\n",
    "p = np.random.permutation(len(X))\n",
    "X = X[p]\n",
    "np.random.seed(seed)\n",
    "p = np.random.permutation(len(X))\n",
    "Y = Y[p]\n",
    "\n",
    "DATA = DATA[p]\n",
    "\n",
    "# Normalize data\n",
    "scaler = MinMaxScaler()\n",
    "scaler.fit(X)\n",
    "X_ = scaler.transform(X)\n"
   ]
  },
  {
   "cell_type": "code",
   "execution_count": 4,
   "metadata": {},
   "outputs": [
    {
     "name": "stdout",
     "output_type": "stream",
     "text": [
      "[[       nan 2.9154519  4.97813411]\n",
      " [       nan 1.9160105  3.13648294]\n",
      " [       nan 2.5        4.        ]\n",
      " [3.64431487 7.65306122        nan]\n",
      " [       nan 3.5               nan]\n",
      " [4.15451895 4.59183673 4.59183673]\n",
      " [1.91466083 1.91466083 5.74398249]\n",
      " [       nan 0.63125    2.26875   ]\n",
      " [       nan        nan 6.62193325]\n",
      " [0.9375            nan 3.75      ]]\n"
     ]
    }
   ],
   "source": [
    "print((Y[:10])) # only display first 10 rows"
   ]
  },
  {
   "cell_type": "code",
   "execution_count": 5,
   "metadata": {},
   "outputs": [
    {
     "name": "stdout",
     "output_type": "stream",
     "text": [
      "(73, 7)\n",
      "(73, 3)\n",
      "(73, 10)\n"
     ]
    }
   ],
   "source": [
    "print(X.shape)\n",
    "print(Y.shape)\n",
    "Z = np.zeros([X.shape[0], X.shape[1]+Y.shape[1]])\n",
    "print(Z.shape)\n",
    "\n",
    "# Combine X and Y into Z\n",
    "Z[:,:7] = X[:,:]\n",
    "Z[:,7:] = Y[:,:]"
   ]
  },
  {
   "cell_type": "markdown",
   "metadata": {},
   "source": [
    "## Impute Output Values"
   ]
  },
  {
   "cell_type": "code",
   "execution_count": 6,
   "metadata": {},
   "outputs": [
    {
     "name": "stdout",
     "output_type": "stream",
     "text": [
      "(73, 10)\n",
      "(73, 3)\n",
      "[[2.88629738 2.9154519  4.97813411]\n",
      " [2.3438447  1.9160105  3.13648294]\n",
      " [1.76744505 2.5        4.        ]\n",
      " [3.64431487 7.65306122 5.45626822]\n",
      " [2.66292891 3.5        5.33823944]\n",
      " [4.15451895 4.59183673 4.59183673]\n",
      " [1.91466083 1.91466083 5.74398249]\n",
      " [1.42504377 0.63125    2.26875   ]\n",
      " [2.3438447  2.60696256 6.62193325]\n",
      " [0.9375     2.49086081 3.75      ]]\n"
     ]
    }
   ],
   "source": [
    "from sklearn.impute import SimpleImputer\n",
    "from sklearn.impute import KNNImputer\n",
    "\n",
    "#imp_mean = SimpleImputer(missing_values=np.nan, strategy='mean')\n",
    "imp_mean = KNNImputer(missing_values=np.nan, n_neighbors=5, weights='uniform', metric='nan_euclidean')\n",
    "imp_mean.fit(Z)\n",
    "SimpleImputer()\n",
    "Z_ = imp_mean.transform(Z)\n",
    "print(Z_.shape)\n",
    "\n",
    "Y_ = Z_[:,7:]\n",
    "print(Y_.shape)\n",
    "print(Y_[:10])  # only display first 10 rows"
   ]
  },
  {
   "cell_type": "code",
   "execution_count": 7,
   "metadata": {},
   "outputs": [
    {
     "name": "stdout",
     "output_type": "stream",
     "text": [
      "Total training data points:  58\n",
      "Total testing data points:  15\n"
     ]
    }
   ],
   "source": [
    "# Split into training and testing\n",
    "train_all_ratio = 80/100\n",
    "train_x = X_[:int(len(X)*train_all_ratio)]\n",
    "test_x = X_[int(len(X)*train_all_ratio):]\n",
    "test_x_original = X[int(len(X)*train_all_ratio):]\n",
    "train_y = Y_[:int(len(X)*train_all_ratio)] # training targets contains inputed targets\n",
    "test_y = Y[int(len(X)*train_all_ratio):] # testing targets are original targets\n",
    "\n",
    "print('Total training data points: ', len(train_x))\n",
    "print('Total testing data points: ', len(test_x))"
   ]
  },
  {
   "cell_type": "code",
   "execution_count": 8,
   "metadata": {},
   "outputs": [
    {
     "name": "stdout",
     "output_type": "stream",
     "text": [
      "           0         1         2\n",
      "0        NaN  2.600000  6.068890\n",
      "1   2.840000  4.266667  7.106667\n",
      "2   1.958425  2.943107  5.886214\n",
      "3        NaN       NaN  6.835083\n",
      "4        NaN  1.968504  3.116798\n",
      "5   1.075269  2.150538       NaN\n",
      "6   0.625000  1.250000       NaN\n",
      "7        NaN  1.425000  2.850000\n",
      "8        NaN       NaN  5.208333\n",
      "9   1.967930  1.967930       NaN\n",
      "10  0.833333  1.666667       NaN\n",
      "11  1.457726  5.830904  5.830904\n",
      "12       NaN       NaN  4.498480\n",
      "13       NaN  1.181250       NaN\n",
      "14  1.562500  2.083333  7.299869\n"
     ]
    }
   ],
   "source": [
    "print(pd.DataFrame(test_y))"
   ]
  },
  {
   "cell_type": "markdown",
   "metadata": {},
   "source": [
    "## Define Reference Index proc"
   ]
  },
  {
   "cell_type": "code",
   "execution_count": 9,
   "metadata": {},
   "outputs": [],
   "source": [
    "#Add 4 normalized columns to array\n",
    "def Ref_IDX(GSA_array, num_desc):\n",
    "    r, r2, SMAPE, RMSE, ref_idx = [],[],[],[],[]\n",
    "    #replace possible pearson r errors (nan) with 0\n",
    "    GSA_array = np.nan_to_num(GSA_array, nan=0.0)\n",
    "    #iterate through all columns and normalize metric scores\n",
    "    for i in range(len(GSA_array)):\n",
    "        r.append((float(GSA_array[i,num_desc+0] - min(GSA_array[:,num_desc+0]))/float(max(GSA_array[:,num_desc+0])-min(GSA_array[:,num_desc+0]))))\n",
    "        r2.append(float(GSA_array[i,num_desc+1] - min(GSA_array[:,num_desc+1]))/float(max(GSA_array[:,num_desc+1])-min(GSA_array[:,num_desc+1])))\n",
    "        SMAPE.append(1-float(GSA_array[i,num_desc+2] - min(GSA_array[:,num_desc+2]))/float(max(GSA_array[:,num_desc+2])-min(GSA_array[:,num_desc+2])))\n",
    "        RMSE.append(1-float(GSA_array[i,num_desc+3] - min(GSA_array[:,num_desc+3]))/float(max(GSA_array[:,num_desc+3])-min(GSA_array[:,num_desc+3])))\n",
    "    #concatenate variables into a single array\n",
    "    r = np.vstack(r)\n",
    "    r2 = np.vstack(r2)\n",
    "    SMAPE = np.vstack(SMAPE)\n",
    "    RMSE = np.vstack(RMSE)\n",
    "    norms = np.hstack((r, r2, SMAPE, RMSE))\n",
    "    GSA_array = np.hstack((GSA_array,norms))\n",
    "    #average normalized values to produce reference index\n",
    "    for i in range(len(GSA_array)):\n",
    "        ref_idx.append(((0.1*GSA_array[i,num_desc+4])+(0.3*GSA_array[i,num_desc+5])+(0.3*GSA_array[i,num_desc+6])+(0.3*GSA_array[i,num_desc+7])))\n",
    "    ref_idx = np.vstack(ref_idx)\n",
    "    GSA_array = np.hstack((GSA_array,ref_idx))\n",
    "    #sort array in descending order ( higher ref_idx = better performance)\n",
    "    GSA_array = GSA_array[np.argsort(-GSA_array[:, num_desc+8])]\n",
    "    return GSA_array"
   ]
  },
  {
   "cell_type": "code",
   "execution_count": 10,
   "metadata": {},
   "outputs": [],
   "source": [
    "import warnings\n",
    "warnings.filterwarnings(\"ignore\")"
   ]
  },
  {
   "cell_type": "markdown",
   "metadata": {},
   "source": [
    "## Define ML Model processing functions"
   ]
  },
  {
   "cell_type": "code",
   "execution_count": 11,
   "metadata": {},
   "outputs": [],
   "source": [
    "def RemoveNan(test, pred):\n",
    "    trimmed_test = []\n",
    "    trimmed_pred = []\n",
    "    for i in range(len(test)):\n",
    "        if np.isnan(test[i]) == False:\n",
    "            trimmed_test.append(test[i])\n",
    "            trimmed_pred.append(pred[i])\n",
    "    trimmed_test = np.array(trimmed_test, dtype='float')\n",
    "    trimmed_pred = np.array(trimmed_pred, dtype='float')\n",
    "    return trimmed_test, trimmed_pred\n",
    "\n",
    "def ML_MAE(test, pred):\n",
    "    MAE = 0\n",
    "    for i in range(len(test)):\n",
    "        MAE += abs(test[i] - pred[i])\n",
    "    MAE = MAE/len(test)    \n",
    "    return MAE\n",
    "\n",
    "def ML_RMSE(test, pred):\n",
    "    MSE = 0\n",
    "    for i in range(len(test)):\n",
    "        MSE += (test[i] - pred[i])**2\n",
    "    RMSE = (MSE/len(test))**0.5\n",
    "    return RMSE\n",
    "\n",
    "def ML_SMAPE(test, pred):\n",
    "    SMAPE = 0\n",
    "    for i in range(len(test)):\n",
    "        SMAPE += abs(test[i] - pred[i])/((abs(test[i])+abs(pred[i]))/2)\n",
    "    SMAPE = (100/len(test))*SMAPE\n",
    "    return SMAPE"
   ]
  },
  {
   "cell_type": "markdown",
   "metadata": {},
   "source": [
    "### Establish Neural Network Model"
   ]
  },
  {
   "cell_type": "code",
   "execution_count": 12,
   "metadata": {
    "scrolled": false
   },
   "outputs": [],
   "source": [
    "def train_and_test_NN(train_X, train_Y, test_X, test_Y, neur1, neur2, neur3, activ, splits, GSA_BEST):\n",
    "\n",
    "    activ_funcs = {1: 'sigmoid', 2: 'relu', 3: 'tanh' }\n",
    "    \n",
    "    # Define Sequential Keras base model\n",
    "    model = Sequential()\n",
    "    model.add(Dense(neur1, input_dim=7, kernel_initializer='normal', activation= activ_funcs.get(activ)))\n",
    "    if neur2 != 0: #functionality for single hidden layer grid search\n",
    "        model.add(Dense(neur2, kernel_initializer='normal', activation= activ_funcs.get(activ)))\n",
    "    if neur3 != 0: #functionality for two hidden layer grid search\n",
    "        model.add(Dense(neur3, kernel_initializer='normal', activation= activ_funcs.get(activ)))\n",
    "    model.add(Dense(1, kernel_initializer='normal', activation='linear'))\n",
    "    model.compile(optimizer='rmsprop', loss='mse', metrics=['mse'])\n",
    "\n",
    "    if splits == 0 or splits == 1: #does not perform KFold CV\n",
    "            \n",
    "        model.fit(train_X, train_Y, epochs=300, batch_size=8,  verbose=0)\n",
    "        pred_y_nn = model.predict(test_X)\n",
    "        pred_y_nn = np.hstack(pred_y_nn)\n",
    "        test_y_, pred_y_  =  RemoveNan(test_Y,pred_y_nn)\n",
    "        MAE = ML_MAE(test = test_y_, pred = pred_y_)\n",
    "        RMSE = ML_RMSE(test = test_y_, pred = pred_y_)\n",
    "        SMAPE = ML_SMAPE(test = test_y_, pred = pred_y_)\n",
    "        r = pearsonr(pred_y_, test_y_)[0]\n",
    "        r2 = r2_score(test_y_, pred_y_)\n",
    "        GSA_BEST.append([neur1, neur2, neur3, activ, r, r2, SMAPE, RMSE])\n",
    "        return pred_y_, test_y_, GSA_BEST\n",
    "    else:\n",
    "        kf = KFold(n_splits=splits)\n",
    "        kf.get_n_splits(train_X)\n",
    "        r, r2, SMAPE, RMSE = [],[],[],[]\n",
    "        for train_index, test_index in kf.split(train_X):\n",
    "            CV_train_X, CV_test_X = train_X[train_index], train_X[test_index]\n",
    "            CV_train_Y, CV_test_Y = train_Y[train_index], train_Y[test_index]\n",
    "            model.fit(CV_train_X, CV_train_Y, epochs=300, batch_size=8,  verbose=0)\n",
    "            pred_y_nn = model.predict(CV_test_X)\n",
    "            pred_y_nn = np.hstack(pred_y_nn)\n",
    "            CV_test_y_, CV_pred_y_  =  RemoveNan(CV_test_Y,pred_y_nn)\n",
    "            \n",
    "            RMSE.append(ML_RMSE(test = CV_test_y_, pred = CV_pred_y_))\n",
    "            SMAPE.append(ML_SMAPE(test = CV_test_y_, pred = CV_pred_y_))\n",
    "            r.append(pearsonr(CV_pred_y_, CV_test_y_)[0])\n",
    "            r2.append(r2_score(CV_test_y_, CV_pred_y_))\n",
    "            \n",
    "        RMSE = sum(RMSE)/len(RMSE) \n",
    "        SMAPE = sum(SMAPE)/len(SMAPE) \n",
    "        r = sum(r)/len(r) \n",
    "        r2 = sum(r2)/len(r2) \n",
    "        GSA_BEST.append([neur1, neur2, neur3, activ, r, r2, SMAPE, RMSE])\n",
    "        return CV_pred_y_, CV_test_y_, GSA_BEST\n"
   ]
  },
  {
   "cell_type": "markdown",
   "metadata": {},
   "source": [
    "### Establish Linear Regression Model"
   ]
  },
  {
   "cell_type": "code",
   "execution_count": 13,
   "metadata": {
    "scrolled": true
   },
   "outputs": [],
   "source": [
    "def train_and_test_LR(train_X, train_Y, test_X, test_Y, splits, GSA_BEST):\n",
    "    linear_regression = LinearRegression()\n",
    "\n",
    "    if splits == 0 or splits == 1: #does not perform KFold CV\n",
    "        linear_regression.fit(train_X, train_Y)\n",
    "        pred_y_regression = linear_regression.predict(test_X)\n",
    "        test_y_, pred_y_  =  RemoveNan(test_Y,pred_y_regression)\n",
    "        MAE = ML_MAE(test = test_y_, pred = pred_y_)\n",
    "        RMSE = ML_RMSE(test = test_y_, pred = pred_y_)\n",
    "        SMAPE = ML_SMAPE(test = test_y_, pred = pred_y_)\n",
    "        r = pearsonr(pred_y_, test_y_)[0]\n",
    "        r2 = r2_score(test_y_, pred_y_)\n",
    "        GSA_BEST.append([r, r2, SMAPE, RMSE])\n",
    "        return pred_y_, test_y_, GSA_BEST\n",
    "    else:\n",
    "        kf = KFold(n_splits=splits)\n",
    "        kf.get_n_splits(train_X)\n",
    "        r, r2, SMAPE, RMSE = [],[],[],[]\n",
    "        for train_index, test_index in kf.split(train_X):\n",
    "            CV_train_X, CV_test_X = train_X[train_index], train_X[test_index]\n",
    "            CV_train_Y, CV_test_Y = train_Y[train_index], train_Y[test_index]\n",
    "            linear_regression.fit(CV_train_X, CV_train_Y)\n",
    "            pred_y_regression = linear_regression.predict(CV_test_X)\n",
    "            CV_test_y_, CV_pred_y_  =  RemoveNan(CV_test_Y,pred_y_regression)\n",
    "            \n",
    "            RMSE.append(ML_RMSE(test = CV_test_y_, pred = CV_pred_y_))\n",
    "            SMAPE.append(ML_SMAPE(test = CV_test_y_, pred = CV_pred_y_))\n",
    "            r.append(pearsonr(CV_pred_y_, CV_test_y_)[0])\n",
    "            r2.append(r2_score(CV_test_y_, CV_pred_y_))\n",
    "            \n",
    "        RMSE = sum(RMSE)/len(RMSE) \n",
    "        SMAPE = sum(SMAPE)/len(SMAPE) \n",
    "        r = sum(r)/len(r) \n",
    "        r2 = sum(r2)/len(r2) \n",
    "        GSA_BEST.append([r, r2, SMAPE, RMSE])\n",
    "        return CV_pred_y_, CV_test_y_, GSA_BEST"
   ]
  },
  {
   "cell_type": "markdown",
   "metadata": {},
   "source": [
    "### Establish Ridge Regression Model"
   ]
  },
  {
   "cell_type": "code",
   "execution_count": 14,
   "metadata": {},
   "outputs": [],
   "source": [
    "def train_and_test_RR(train_X, train_Y, test_X, test_Y, RR_Alpha, splits, GSA_BEST):\n",
    "    RR = linear_model.Ridge(RR_Alpha)\n",
    "\n",
    "    if splits == 0 or splits == 1: #does not perform KFold CV\n",
    "        RR.fit(train_X, train_Y)\n",
    "        pred_y_RR = RR.predict(test_X)\n",
    "        test_y_, pred_y_  =  RemoveNan(test_Y,pred_y_RR)\n",
    "        MAE = ML_MAE(test = test_y_, pred = pred_y_)\n",
    "        RMSE = ML_RMSE(test = test_y_, pred = pred_y_)\n",
    "        SMAPE = ML_SMAPE(test = test_y_, pred = pred_y_)\n",
    "        r = pearsonr(pred_y_, test_y_)[0]\n",
    "        r2 = r2_score(test_y_, pred_y_)\n",
    "        GSA_BEST.append([RR_Alpha, r, r2, SMAPE, RMSE])\n",
    "        return pred_y_, test_y_, GSA_BEST\n",
    "    else:\n",
    "        kf = KFold(n_splits=splits)\n",
    "        kf.get_n_splits(train_X)\n",
    "        r, r2, SMAPE, RMSE = [],[],[],[]\n",
    "        for train_index, test_index in kf.split(train_X):\n",
    "            CV_train_X, CV_test_X = train_X[train_index], train_X[test_index]\n",
    "            CV_train_Y, CV_test_Y = train_Y[train_index], train_Y[test_index]\n",
    "            RR.fit(CV_train_X, CV_train_Y)\n",
    "            pred_y_RR = RR.predict(CV_test_X)\n",
    "            CV_test_y_, CV_pred_y_  =  RemoveNan(CV_test_Y,pred_y_RR)\n",
    "            \n",
    "            RMSE.append(ML_RMSE(test = CV_test_y_, pred = CV_pred_y_))\n",
    "            SMAPE.append(ML_SMAPE(test = CV_test_y_, pred = CV_pred_y_))\n",
    "            r.append(pearsonr(CV_pred_y_, CV_test_y_)[0])\n",
    "            r2.append(r2_score(CV_test_y_, CV_pred_y_))\n",
    "            \n",
    "        RMSE = sum(RMSE)/len(RMSE) \n",
    "        SMAPE = sum(SMAPE)/len(SMAPE) \n",
    "        r = sum(r)/len(r) \n",
    "        r2 = sum(r2)/len(r2) \n",
    "        GSA_BEST.append([RR_Alpha, r, r2, SMAPE, RMSE])\n",
    "        return CV_pred_y_, CV_test_y_, GSA_BEST"
   ]
  },
  {
   "cell_type": "markdown",
   "metadata": {},
   "source": [
    "### Establish Lasso Regression Model"
   ]
  },
  {
   "cell_type": "code",
   "execution_count": 15,
   "metadata": {},
   "outputs": [],
   "source": [
    "def train_and_test_lasso(train_X, train_Y, test_X, test_Y, Lasso_Alpha, splits, GSA_BEST):\n",
    "    Lasso = linear_model.Lasso(Lasso_Alpha)\n",
    "\n",
    "    if splits == 0 or splits == 1: #does not perform KFold CV\n",
    "        Lasso.fit(train_X, train_Y)\n",
    "        pred_y_Lasso = Lasso.predict(test_X)\n",
    "        test_y_, pred_y_  =  RemoveNan(test_Y,pred_y_Lasso)\n",
    "        MAE = ML_MAE(test = test_y_, pred = pred_y_)\n",
    "        RMSE = ML_RMSE(test = test_y_, pred = pred_y_)\n",
    "        SMAPE = ML_SMAPE(test = test_y_, pred = pred_y_)\n",
    "        r = pearsonr(pred_y_, test_y_)[0]\n",
    "        r2 = r2_score(test_y_, pred_y_)\n",
    "        GSA_BEST.append([Lasso_Alpha, r, r2, SMAPE, RMSE])\n",
    "        return pred_y_, test_y_, GSA_BEST\n",
    "    else:\n",
    "        kf = KFold(n_splits=splits)\n",
    "        kf.get_n_splits(train_X)\n",
    "        r, r2, SMAPE, RMSE = [],[],[],[]\n",
    "        for train_index, test_index in kf.split(train_X):\n",
    "            CV_train_X, CV_test_X = train_X[train_index], train_X[test_index]\n",
    "            CV_train_Y, CV_test_Y = train_Y[train_index], train_Y[test_index]\n",
    "            Lasso.fit(CV_train_X, CV_train_Y)\n",
    "            pred_y_Lasso = Lasso.predict(CV_test_X)\n",
    "            CV_test_y_, CV_pred_y_  =  RemoveNan(CV_test_Y,pred_y_Lasso)\n",
    "            \n",
    "            RMSE.append(ML_RMSE(test = CV_test_y_, pred = CV_pred_y_))\n",
    "            SMAPE.append(ML_SMAPE(test = CV_test_y_, pred = CV_pred_y_))\n",
    "            r.append(pearsonr(CV_pred_y_, CV_test_y_)[0])\n",
    "            r2.append(r2_score(CV_test_y_, CV_pred_y_))\n",
    "            \n",
    "        RMSE = sum(RMSE)/len(RMSE) \n",
    "        SMAPE = sum(SMAPE)/len(SMAPE) \n",
    "        r = sum(r)/len(r) \n",
    "        r2 = sum(r2)/len(r2) \n",
    "        GSA_BEST.append([Lasso_Alpha, r, r2, SMAPE, RMSE])\n",
    "        return CV_pred_y_, CV_test_y_, GSA_BEST"
   ]
  },
  {
   "cell_type": "markdown",
   "metadata": {},
   "source": [
    "### Establish K-Nearest Neighbours Model"
   ]
  },
  {
   "cell_type": "code",
   "execution_count": 16,
   "metadata": {},
   "outputs": [],
   "source": [
    "def train_and_test_KNN(train_X, train_Y, test_X, test_Y, N_neighbors, splits, GSA_BEST):\n",
    "    knn = neighbors.KNeighborsRegressor(N_neighbors, weights=\"distance\") # \"uniform\" or \"distance\"\n",
    "\n",
    "    if splits == 0 or splits == 1: #does not perform KFold CV\n",
    "        knn.fit(train_X, train_Y)\n",
    "        pred_y_KNN = knn.predict(test_X)\n",
    "        test_y_, pred_y_  =  RemoveNan(test_Y,pred_y_KNN)\n",
    "        MAE = ML_MAE(test = test_y_, pred = pred_y_)\n",
    "        RMSE = ML_RMSE(test = test_y_, pred = pred_y_)\n",
    "        SMAPE = ML_SMAPE(test = test_y_, pred = pred_y_)\n",
    "        r = pearsonr(pred_y_, test_y_)[0]\n",
    "        r2 = r2_score(test_y_, pred_y_)\n",
    "        GSA_BEST.append([N_neighbors, r, r2, SMAPE, RMSE])\n",
    "        return pred_y_, test_y_, GSA_BEST\n",
    "    else:\n",
    "        kf = KFold(n_splits=splits)\n",
    "        kf.get_n_splits(train_X)\n",
    "        r, r2, SMAPE, RMSE = [],[],[],[]\n",
    "        for train_index, test_index in kf.split(train_X):\n",
    "            CV_train_X, CV_test_X = train_X[train_index], train_X[test_index]\n",
    "            CV_train_Y, CV_test_Y = train_Y[train_index], train_Y[test_index]\n",
    "            knn.fit(CV_train_X, CV_train_Y)\n",
    "            pred_y_KNN = knn.predict(CV_test_X)\n",
    "            CV_test_y_, CV_pred_y_  =  RemoveNan(CV_test_Y,pred_y_KNN)\n",
    "            \n",
    "            RMSE.append(ML_RMSE(test = CV_test_y_, pred = CV_pred_y_))\n",
    "            SMAPE.append(ML_SMAPE(test = CV_test_y_, pred = CV_pred_y_))\n",
    "            r.append(pearsonr(CV_pred_y_, CV_test_y_)[0])\n",
    "            r2.append(r2_score(CV_test_y_, CV_pred_y_))\n",
    "            \n",
    "        RMSE = sum(RMSE)/len(RMSE) \n",
    "        SMAPE = sum(SMAPE)/len(SMAPE) \n",
    "        r = sum(r)/len(r) \n",
    "        r2 = sum(r2)/len(r2) \n",
    "        GSA_BEST.append([N_neighbors, r, r2, SMAPE, RMSE])\n",
    "        return CV_pred_y_, CV_test_y_, GSA_BEST"
   ]
  },
  {
   "cell_type": "markdown",
   "metadata": {},
   "source": [
    "### Establish Decision Tree Model"
   ]
  },
  {
   "cell_type": "code",
   "execution_count": 17,
   "metadata": {},
   "outputs": [],
   "source": [
    "def train_and_test_DT(train_X, train_Y, test_X, test_Y, GSA_depth, splits, GSA_BEST):\n",
    "    if GSA_depth == 0:\n",
    "        GSA_depth = None\n",
    "    DecisionTree = DecisionTreeRegressor(max_depth = GSA_depth, random_state = seed)\n",
    "\n",
    "    if splits == 0 or splits == 1: #does not perform KFold CV\n",
    "        DecisionTree.fit(train_X, train_Y)\n",
    "        pred_y_DT = DecisionTree.predict(test_X)\n",
    "        test_y_, pred_y_  =  RemoveNan(test_Y,pred_y_DT)\n",
    "        MAE = ML_MAE(test = test_y_, pred = pred_y_)\n",
    "        RMSE = ML_RMSE(test = test_y_, pred = pred_y_)\n",
    "        SMAPE = ML_SMAPE(test = test_y_, pred = pred_y_)\n",
    "        r = pearsonr(pred_y_, test_y_)[0]\n",
    "        r2 = r2_score(test_y_, pred_y_)\n",
    "        GSA_BEST.append([GSA_depth, r, r2, SMAPE, RMSE])\n",
    "        return pred_y_, test_y_, GSA_BEST\n",
    "    else:\n",
    "        kf = KFold(n_splits=splits)\n",
    "        kf.get_n_splits(train_X)\n",
    "        r, r2, SMAPE, RMSE = [],[],[],[]\n",
    "        for train_index, test_index in kf.split(train_X):\n",
    "            CV_train_X, CV_test_X = train_X[train_index], train_X[test_index]\n",
    "            CV_train_Y, CV_test_Y = train_Y[train_index], train_Y[test_index]\n",
    "            DecisionTree.fit(CV_train_X, CV_train_Y)\n",
    "            pred_y_DT = DecisionTree.predict(CV_test_X)\n",
    "            CV_test_y_, CV_pred_y_  =  RemoveNan(CV_test_Y,pred_y_DT)\n",
    "            \n",
    "            RMSE.append(ML_RMSE(test = CV_test_y_, pred = CV_pred_y_))\n",
    "            SMAPE.append(ML_SMAPE(test = CV_test_y_, pred = CV_pred_y_))\n",
    "            r.append(pearsonr(CV_pred_y_, CV_test_y_)[0])\n",
    "            r2.append(r2_score(CV_test_y_, CV_pred_y_))\n",
    "            \n",
    "        RMSE = sum(RMSE)/len(RMSE) \n",
    "        SMAPE = sum(SMAPE)/len(SMAPE) \n",
    "        r = sum(r)/len(r) \n",
    "        r2 = sum(r2)/len(r2) \n",
    "        GSA_BEST.append([GSA_depth, r, r2, SMAPE, RMSE])\n",
    "        return CV_pred_y_, CV_test_y_, GSA_BEST"
   ]
  },
  {
   "cell_type": "markdown",
   "metadata": {},
   "source": [
    "### Establish Random Forest Model"
   ]
  },
  {
   "cell_type": "code",
   "execution_count": 18,
   "metadata": {},
   "outputs": [],
   "source": [
    "def train_and_test_RF(train_X, train_Y, test_X, test_Y, M_Bootstrap, Estimators, splits, GSA_BEST):\n",
    "    RandomForest = RandomForestRegressor(n_estimators = Estimators, random_state = seed, max_samples= M_Bootstrap) \n",
    "\n",
    "    if splits == 0 or splits == 1: #does not perform KFold CV\n",
    "        RandomForest.fit(train_X, train_Y)\n",
    "        pred_y_RF = RandomForest.predict(test_X)\n",
    "        test_y_, pred_y_  =  RemoveNan(test_Y,pred_y_RF)\n",
    "        MAE = ML_MAE(test = test_y_, pred = pred_y_)\n",
    "        RMSE = ML_RMSE(test = test_y_, pred = pred_y_)\n",
    "        SMAPE = ML_SMAPE(test = test_y_, pred = pred_y_)\n",
    "        r = pearsonr(pred_y_, test_y_)[0]\n",
    "        r2 = r2_score(test_y_, pred_y_)\n",
    "        GSA_BEST.append([M_Bootstrap, Estimators, r, r2, SMAPE, RMSE])\n",
    "        return pred_y_, test_y_, GSA_BEST\n",
    "    else:\n",
    "        kf = KFold(n_splits=splits)\n",
    "        kf.get_n_splits(train_X)\n",
    "        r, r2, SMAPE, RMSE = [],[],[],[]\n",
    "        for train_index, test_index in kf.split(train_X):\n",
    "            CV_train_X, CV_test_X = train_X[train_index], train_X[test_index]\n",
    "            CV_train_Y, CV_test_Y = train_Y[train_index], train_Y[test_index]\n",
    "            RandomForest.fit(CV_train_X, CV_train_Y)\n",
    "            pred_y_RF = RandomForest.predict(CV_test_X)\n",
    "            CV_test_y_, CV_pred_y_  =  RemoveNan(CV_test_Y,pred_y_RF)\n",
    "            \n",
    "            RMSE.append(ML_RMSE(test = CV_test_y_, pred = CV_pred_y_))\n",
    "            SMAPE.append(ML_SMAPE(test = CV_test_y_, pred = CV_pred_y_))\n",
    "            r.append(pearsonr(CV_pred_y_, CV_test_y_)[0])\n",
    "            r2.append(r2_score(CV_test_y_, CV_pred_y_))\n",
    "            \n",
    "        RMSE = sum(RMSE)/len(RMSE) \n",
    "        SMAPE = sum(SMAPE)/len(SMAPE) \n",
    "        r = sum(r)/len(r) \n",
    "        r2 = sum(r2)/len(r2) \n",
    "        GSA_BEST.append([M_Bootstrap, Estimators, r, r2, SMAPE, RMSE])\n",
    "        return CV_pred_y_, CV_test_y_, GSA_BEST"
   ]
  },
  {
   "cell_type": "markdown",
   "metadata": {},
   "source": [
    "### Establish Support Vector Machine Model"
   ]
  },
  {
   "cell_type": "code",
   "execution_count": 19,
   "metadata": {},
   "outputs": [],
   "source": [
    "def train_and_test_SVR(train_X, train_Y, test_X, test_Y, kern, SVR_C, degr, SV_epsilon, splits, GSA_BEST):\n",
    "    \n",
    "    kern_funcs = {1: 'linear', 2: 'poly', 3: 'rbf', 4: 'sigmoid' }\n",
    "    SVMR = SVR(kernel=kern_funcs.get(kern), C=SVR_C, gamma='auto', degree=degr, epsilon=SV_epsilon) \n",
    "    \n",
    "    if splits == 0 or splits == 1: #does not perform KFold CV\n",
    "        SVMR.fit(train_X, train_Y)\n",
    "        pred_y_SVMR = SVMR.predict(test_X)\n",
    "        test_y_, pred_y_  =  RemoveNan(test_Y,pred_y_SVMR)\n",
    "        MAE = ML_MAE(test = test_y_, pred = pred_y_)\n",
    "        RMSE = ML_RMSE(test = test_y_, pred = pred_y_)\n",
    "        SMAPE = ML_SMAPE(test = test_y_, pred = pred_y_)\n",
    "        r = pearsonr(pred_y_, test_y_)[0]\n",
    "        r2 = r2_score(test_y_, pred_y_)\n",
    "        GSA_BEST.append([kern, SVR_C, degr, SV_epsilon, r, r2, SMAPE, RMSE])\n",
    "        return pred_y_, test_y_, GSA_BEST\n",
    "    else:\n",
    "        kf = KFold(n_splits=splits)\n",
    "        kf.get_n_splits(train_X)\n",
    "        r, r2, SMAPE, RMSE = [],[],[],[]\n",
    "        for train_index, test_index in kf.split(train_X):\n",
    "            CV_train_X, CV_test_X = train_X[train_index], train_X[test_index]\n",
    "            CV_train_Y, CV_test_Y = train_Y[train_index], train_Y[test_index]\n",
    "            SVMR.fit(CV_train_X, CV_train_Y)\n",
    "            pred_y_SVMR = SVMR.predict(CV_test_X)\n",
    "            CV_test_y_, CV_pred_y_  =  RemoveNan(CV_test_Y,pred_y_SVMR)\n",
    "            \n",
    "            RMSE.append(ML_RMSE(test = CV_test_y_, pred = CV_pred_y_))\n",
    "            SMAPE.append(ML_SMAPE(test = CV_test_y_, pred = CV_pred_y_))\n",
    "            r.append(pearsonr(CV_pred_y_, CV_test_y_)[0])\n",
    "            r2.append(r2_score(CV_test_y_, CV_pred_y_))\n",
    "            \n",
    "        RMSE = sum(RMSE)/len(RMSE) \n",
    "        SMAPE = sum(SMAPE)/len(SMAPE) \n",
    "        r = sum(r)/len(r) \n",
    "        r2 = sum(r2)/len(r2) \n",
    "        GSA_BEST.append([kern, SVR_C, degr, SV_epsilon, r, r2, SMAPE, RMSE])\n",
    "        return CV_pred_y_, CV_test_y_, GSA_BEST"
   ]
  },
  {
   "cell_type": "markdown",
   "metadata": {},
   "source": [
    "# 5-Fold CV Grid Search All Models"
   ]
  },
  {
   "cell_type": "code",
   "execution_count": 19,
   "metadata": {
    "scrolled": true
   },
   "outputs": [
    {
     "data": {
      "application/vnd.jupyter.widget-view+json": {
       "model_id": "47f2536b2e4940718c3a90c2f5168476",
       "version_major": 2,
       "version_minor": 0
      },
      "text/plain": [
       "HBox(children=(FloatProgress(value=0.0, description='GSA Loop 1', max=9.0, style=ProgressStyle(description_wid…"
      ]
     },
     "metadata": {},
     "output_type": "display_data"
    },
    {
     "data": {
      "application/vnd.jupyter.widget-view+json": {
       "model_id": "",
       "version_major": 2,
       "version_minor": 0
      },
      "text/plain": [
       "HBox(children=(FloatProgress(value=0.0, description='GSA Loop 2', max=9.0, style=ProgressStyle(description_wid…"
      ]
     },
     "metadata": {},
     "output_type": "display_data"
    },
    {
     "data": {
      "application/vnd.jupyter.widget-view+json": {
       "model_id": "",
       "version_major": 2,
       "version_minor": 0
      },
      "text/plain": [
       "HBox(children=(FloatProgress(value=0.0, description='GSA Loop 3', max=9.0, style=ProgressStyle(description_wid…"
      ]
     },
     "metadata": {},
     "output_type": "display_data"
    },
    {
     "data": {
      "application/vnd.jupyter.widget-view+json": {
       "model_id": "",
       "version_major": 2,
       "version_minor": 0
      },
      "text/plain": [
       "HBox(children=(FloatProgress(value=0.0, description='GSA Loop 3', max=9.0, style=ProgressStyle(description_wid…"
      ]
     },
     "metadata": {},
     "output_type": "display_data"
    },
    {
     "data": {
      "application/vnd.jupyter.widget-view+json": {
       "model_id": "",
       "version_major": 2,
       "version_minor": 0
      },
      "text/plain": [
       "HBox(children=(FloatProgress(value=0.0, description='GSA Loop 3', max=9.0, style=ProgressStyle(description_wid…"
      ]
     },
     "metadata": {},
     "output_type": "display_data"
    },
    {
     "data": {
      "application/vnd.jupyter.widget-view+json": {
       "model_id": "",
       "version_major": 2,
       "version_minor": 0
      },
      "text/plain": [
       "HBox(children=(FloatProgress(value=0.0, description='GSA Loop 3', max=9.0, style=ProgressStyle(description_wid…"
      ]
     },
     "metadata": {},
     "output_type": "display_data"
    },
    {
     "data": {
      "application/vnd.jupyter.widget-view+json": {
       "model_id": "",
       "version_major": 2,
       "version_minor": 0
      },
      "text/plain": [
       "HBox(children=(FloatProgress(value=0.0, description='GSA Loop 3', max=9.0, style=ProgressStyle(description_wid…"
      ]
     },
     "metadata": {},
     "output_type": "display_data"
    },
    {
     "data": {
      "application/vnd.jupyter.widget-view+json": {
       "model_id": "",
       "version_major": 2,
       "version_minor": 0
      },
      "text/plain": [
       "HBox(children=(FloatProgress(value=0.0, description='GSA Loop 3', max=9.0, style=ProgressStyle(description_wid…"
      ]
     },
     "metadata": {},
     "output_type": "display_data"
    },
    {
     "data": {
      "application/vnd.jupyter.widget-view+json": {
       "model_id": "",
       "version_major": 2,
       "version_minor": 0
      },
      "text/plain": [
       "HBox(children=(FloatProgress(value=0.0, description='GSA Loop 3', max=9.0, style=ProgressStyle(description_wid…"
      ]
     },
     "metadata": {},
     "output_type": "display_data"
    },
    {
     "data": {
      "application/vnd.jupyter.widget-view+json": {
       "model_id": "",
       "version_major": 2,
       "version_minor": 0
      },
      "text/plain": [
       "HBox(children=(FloatProgress(value=0.0, description='GSA Loop 3', max=9.0, style=ProgressStyle(description_wid…"
      ]
     },
     "metadata": {},
     "output_type": "display_data"
    },
    {
     "data": {
      "application/vnd.jupyter.widget-view+json": {
       "model_id": "",
       "version_major": 2,
       "version_minor": 0
      },
      "text/plain": [
       "HBox(children=(FloatProgress(value=0.0, description='GSA Loop 3', max=9.0, style=ProgressStyle(description_wid…"
      ]
     },
     "metadata": {},
     "output_type": "display_data"
    },
    {
     "data": {
      "application/vnd.jupyter.widget-view+json": {
       "model_id": "",
       "version_major": 2,
       "version_minor": 0
      },
      "text/plain": [
       "HBox(children=(FloatProgress(value=0.0, description='GSA Loop 2', max=9.0, style=ProgressStyle(description_wid…"
      ]
     },
     "metadata": {},
     "output_type": "display_data"
    },
    {
     "data": {
      "application/vnd.jupyter.widget-view+json": {
       "model_id": "",
       "version_major": 2,
       "version_minor": 0
      },
      "text/plain": [
       "HBox(children=(FloatProgress(value=0.0, description='GSA Loop 3', max=9.0, style=ProgressStyle(description_wid…"
      ]
     },
     "metadata": {},
     "output_type": "display_data"
    },
    {
     "data": {
      "application/vnd.jupyter.widget-view+json": {
       "model_id": "",
       "version_major": 2,
       "version_minor": 0
      },
      "text/plain": [
       "HBox(children=(FloatProgress(value=0.0, description='GSA Loop 3', max=9.0, style=ProgressStyle(description_wid…"
      ]
     },
     "metadata": {},
     "output_type": "display_data"
    },
    {
     "data": {
      "application/vnd.jupyter.widget-view+json": {
       "model_id": "",
       "version_major": 2,
       "version_minor": 0
      },
      "text/plain": [
       "HBox(children=(FloatProgress(value=0.0, description='GSA Loop 3', max=9.0, style=ProgressStyle(description_wid…"
      ]
     },
     "metadata": {},
     "output_type": "display_data"
    },
    {
     "data": {
      "application/vnd.jupyter.widget-view+json": {
       "model_id": "",
       "version_major": 2,
       "version_minor": 0
      },
      "text/plain": [
       "HBox(children=(FloatProgress(value=0.0, description='GSA Loop 3', max=9.0, style=ProgressStyle(description_wid…"
      ]
     },
     "metadata": {},
     "output_type": "display_data"
    },
    {
     "data": {
      "application/vnd.jupyter.widget-view+json": {
       "model_id": "",
       "version_major": 2,
       "version_minor": 0
      },
      "text/plain": [
       "HBox(children=(FloatProgress(value=0.0, description='GSA Loop 3', max=9.0, style=ProgressStyle(description_wid…"
      ]
     },
     "metadata": {},
     "output_type": "display_data"
    },
    {
     "data": {
      "application/vnd.jupyter.widget-view+json": {
       "model_id": "",
       "version_major": 2,
       "version_minor": 0
      },
      "text/plain": [
       "HBox(children=(FloatProgress(value=0.0, description='GSA Loop 3', max=9.0, style=ProgressStyle(description_wid…"
      ]
     },
     "metadata": {},
     "output_type": "display_data"
    },
    {
     "data": {
      "application/vnd.jupyter.widget-view+json": {
       "model_id": "",
       "version_major": 2,
       "version_minor": 0
      },
      "text/plain": [
       "HBox(children=(FloatProgress(value=0.0, description='GSA Loop 3', max=9.0, style=ProgressStyle(description_wid…"
      ]
     },
     "metadata": {},
     "output_type": "display_data"
    },
    {
     "data": {
      "application/vnd.jupyter.widget-view+json": {
       "model_id": "",
       "version_major": 2,
       "version_minor": 0
      },
      "text/plain": [
       "HBox(children=(FloatProgress(value=0.0, description='GSA Loop 3', max=9.0, style=ProgressStyle(description_wid…"
      ]
     },
     "metadata": {},
     "output_type": "display_data"
    },
    {
     "data": {
      "application/vnd.jupyter.widget-view+json": {
       "model_id": "",
       "version_major": 2,
       "version_minor": 0
      },
      "text/plain": [
       "HBox(children=(FloatProgress(value=0.0, description='GSA Loop 3', max=9.0, style=ProgressStyle(description_wid…"
      ]
     },
     "metadata": {},
     "output_type": "display_data"
    },
    {
     "data": {
      "application/vnd.jupyter.widget-view+json": {
       "model_id": "",
       "version_major": 2,
       "version_minor": 0
      },
      "text/plain": [
       "HBox(children=(FloatProgress(value=0.0, description='GSA Loop 2', max=9.0, style=ProgressStyle(description_wid…"
      ]
     },
     "metadata": {},
     "output_type": "display_data"
    },
    {
     "data": {
      "application/vnd.jupyter.widget-view+json": {
       "model_id": "",
       "version_major": 2,
       "version_minor": 0
      },
      "text/plain": [
       "HBox(children=(FloatProgress(value=0.0, description='GSA Loop 3', max=9.0, style=ProgressStyle(description_wid…"
      ]
     },
     "metadata": {},
     "output_type": "display_data"
    },
    {
     "data": {
      "application/vnd.jupyter.widget-view+json": {
       "model_id": "",
       "version_major": 2,
       "version_minor": 0
      },
      "text/plain": [
       "HBox(children=(FloatProgress(value=0.0, description='GSA Loop 3', max=9.0, style=ProgressStyle(description_wid…"
      ]
     },
     "metadata": {},
     "output_type": "display_data"
    },
    {
     "data": {
      "application/vnd.jupyter.widget-view+json": {
       "model_id": "",
       "version_major": 2,
       "version_minor": 0
      },
      "text/plain": [
       "HBox(children=(FloatProgress(value=0.0, description='GSA Loop 3', max=9.0, style=ProgressStyle(description_wid…"
      ]
     },
     "metadata": {},
     "output_type": "display_data"
    },
    {
     "data": {
      "application/vnd.jupyter.widget-view+json": {
       "model_id": "",
       "version_major": 2,
       "version_minor": 0
      },
      "text/plain": [
       "HBox(children=(FloatProgress(value=0.0, description='GSA Loop 3', max=9.0, style=ProgressStyle(description_wid…"
      ]
     },
     "metadata": {},
     "output_type": "display_data"
    },
    {
     "data": {
      "application/vnd.jupyter.widget-view+json": {
       "model_id": "",
       "version_major": 2,
       "version_minor": 0
      },
      "text/plain": [
       "HBox(children=(FloatProgress(value=0.0, description='GSA Loop 3', max=9.0, style=ProgressStyle(description_wid…"
      ]
     },
     "metadata": {},
     "output_type": "display_data"
    },
    {
     "data": {
      "application/vnd.jupyter.widget-view+json": {
       "model_id": "",
       "version_major": 2,
       "version_minor": 0
      },
      "text/plain": [
       "HBox(children=(FloatProgress(value=0.0, description='GSA Loop 3', max=9.0, style=ProgressStyle(description_wid…"
      ]
     },
     "metadata": {},
     "output_type": "display_data"
    },
    {
     "data": {
      "application/vnd.jupyter.widget-view+json": {
       "model_id": "",
       "version_major": 2,
       "version_minor": 0
      },
      "text/plain": [
       "HBox(children=(FloatProgress(value=0.0, description='GSA Loop 3', max=9.0, style=ProgressStyle(description_wid…"
      ]
     },
     "metadata": {},
     "output_type": "display_data"
    },
    {
     "data": {
      "application/vnd.jupyter.widget-view+json": {
       "model_id": "",
       "version_major": 2,
       "version_minor": 0
      },
      "text/plain": [
       "HBox(children=(FloatProgress(value=0.0, description='GSA Loop 3', max=9.0, style=ProgressStyle(description_wid…"
      ]
     },
     "metadata": {},
     "output_type": "display_data"
    },
    {
     "data": {
      "application/vnd.jupyter.widget-view+json": {
       "model_id": "",
       "version_major": 2,
       "version_minor": 0
      },
      "text/plain": [
       "HBox(children=(FloatProgress(value=0.0, description='GSA Loop 3', max=9.0, style=ProgressStyle(description_wid…"
      ]
     },
     "metadata": {},
     "output_type": "display_data"
    },
    {
     "data": {
      "application/vnd.jupyter.widget-view+json": {
       "model_id": "",
       "version_major": 2,
       "version_minor": 0
      },
      "text/plain": [
       "HBox(children=(FloatProgress(value=0.0, description='GSA Loop 2', max=9.0, style=ProgressStyle(description_wid…"
      ]
     },
     "metadata": {},
     "output_type": "display_data"
    },
    {
     "data": {
      "application/vnd.jupyter.widget-view+json": {
       "model_id": "",
       "version_major": 2,
       "version_minor": 0
      },
      "text/plain": [
       "HBox(children=(FloatProgress(value=0.0, description='GSA Loop 3', max=9.0, style=ProgressStyle(description_wid…"
      ]
     },
     "metadata": {},
     "output_type": "display_data"
    },
    {
     "data": {
      "application/vnd.jupyter.widget-view+json": {
       "model_id": "",
       "version_major": 2,
       "version_minor": 0
      },
      "text/plain": [
       "HBox(children=(FloatProgress(value=0.0, description='GSA Loop 3', max=9.0, style=ProgressStyle(description_wid…"
      ]
     },
     "metadata": {},
     "output_type": "display_data"
    },
    {
     "data": {
      "application/vnd.jupyter.widget-view+json": {
       "model_id": "",
       "version_major": 2,
       "version_minor": 0
      },
      "text/plain": [
       "HBox(children=(FloatProgress(value=0.0, description='GSA Loop 3', max=9.0, style=ProgressStyle(description_wid…"
      ]
     },
     "metadata": {},
     "output_type": "display_data"
    },
    {
     "data": {
      "application/vnd.jupyter.widget-view+json": {
       "model_id": "",
       "version_major": 2,
       "version_minor": 0
      },
      "text/plain": [
       "HBox(children=(FloatProgress(value=0.0, description='GSA Loop 3', max=9.0, style=ProgressStyle(description_wid…"
      ]
     },
     "metadata": {},
     "output_type": "display_data"
    },
    {
     "data": {
      "application/vnd.jupyter.widget-view+json": {
       "model_id": "",
       "version_major": 2,
       "version_minor": 0
      },
      "text/plain": [
       "HBox(children=(FloatProgress(value=0.0, description='GSA Loop 3', max=9.0, style=ProgressStyle(description_wid…"
      ]
     },
     "metadata": {},
     "output_type": "display_data"
    },
    {
     "data": {
      "application/vnd.jupyter.widget-view+json": {
       "model_id": "",
       "version_major": 2,
       "version_minor": 0
      },
      "text/plain": [
       "HBox(children=(FloatProgress(value=0.0, description='GSA Loop 3', max=9.0, style=ProgressStyle(description_wid…"
      ]
     },
     "metadata": {},
     "output_type": "display_data"
    },
    {
     "data": {
      "application/vnd.jupyter.widget-view+json": {
       "model_id": "",
       "version_major": 2,
       "version_minor": 0
      },
      "text/plain": [
       "HBox(children=(FloatProgress(value=0.0, description='GSA Loop 3', max=9.0, style=ProgressStyle(description_wid…"
      ]
     },
     "metadata": {},
     "output_type": "display_data"
    },
    {
     "data": {
      "application/vnd.jupyter.widget-view+json": {
       "model_id": "",
       "version_major": 2,
       "version_minor": 0
      },
      "text/plain": [
       "HBox(children=(FloatProgress(value=0.0, description='GSA Loop 3', max=9.0, style=ProgressStyle(description_wid…"
      ]
     },
     "metadata": {},
     "output_type": "display_data"
    },
    {
     "data": {
      "application/vnd.jupyter.widget-view+json": {
       "model_id": "",
       "version_major": 2,
       "version_minor": 0
      },
      "text/plain": [
       "HBox(children=(FloatProgress(value=0.0, description='GSA Loop 3', max=9.0, style=ProgressStyle(description_wid…"
      ]
     },
     "metadata": {},
     "output_type": "display_data"
    },
    {
     "data": {
      "application/vnd.jupyter.widget-view+json": {
       "model_id": "",
       "version_major": 2,
       "version_minor": 0
      },
      "text/plain": [
       "HBox(children=(FloatProgress(value=0.0, description='GSA Loop 2', max=9.0, style=ProgressStyle(description_wid…"
      ]
     },
     "metadata": {},
     "output_type": "display_data"
    },
    {
     "data": {
      "application/vnd.jupyter.widget-view+json": {
       "model_id": "",
       "version_major": 2,
       "version_minor": 0
      },
      "text/plain": [
       "HBox(children=(FloatProgress(value=0.0, description='GSA Loop 3', max=9.0, style=ProgressStyle(description_wid…"
      ]
     },
     "metadata": {},
     "output_type": "display_data"
    },
    {
     "data": {
      "application/vnd.jupyter.widget-view+json": {
       "model_id": "",
       "version_major": 2,
       "version_minor": 0
      },
      "text/plain": [
       "HBox(children=(FloatProgress(value=0.0, description='GSA Loop 3', max=9.0, style=ProgressStyle(description_wid…"
      ]
     },
     "metadata": {},
     "output_type": "display_data"
    },
    {
     "data": {
      "application/vnd.jupyter.widget-view+json": {
       "model_id": "",
       "version_major": 2,
       "version_minor": 0
      },
      "text/plain": [
       "HBox(children=(FloatProgress(value=0.0, description='GSA Loop 3', max=9.0, style=ProgressStyle(description_wid…"
      ]
     },
     "metadata": {},
     "output_type": "display_data"
    },
    {
     "data": {
      "application/vnd.jupyter.widget-view+json": {
       "model_id": "",
       "version_major": 2,
       "version_minor": 0
      },
      "text/plain": [
       "HBox(children=(FloatProgress(value=0.0, description='GSA Loop 3', max=9.0, style=ProgressStyle(description_wid…"
      ]
     },
     "metadata": {},
     "output_type": "display_data"
    },
    {
     "data": {
      "application/vnd.jupyter.widget-view+json": {
       "model_id": "",
       "version_major": 2,
       "version_minor": 0
      },
      "text/plain": [
       "HBox(children=(FloatProgress(value=0.0, description='GSA Loop 3', max=9.0, style=ProgressStyle(description_wid…"
      ]
     },
     "metadata": {},
     "output_type": "display_data"
    },
    {
     "data": {
      "application/vnd.jupyter.widget-view+json": {
       "model_id": "",
       "version_major": 2,
       "version_minor": 0
      },
      "text/plain": [
       "HBox(children=(FloatProgress(value=0.0, description='GSA Loop 3', max=9.0, style=ProgressStyle(description_wid…"
      ]
     },
     "metadata": {},
     "output_type": "display_data"
    },
    {
     "data": {
      "application/vnd.jupyter.widget-view+json": {
       "model_id": "",
       "version_major": 2,
       "version_minor": 0
      },
      "text/plain": [
       "HBox(children=(FloatProgress(value=0.0, description='GSA Loop 3', max=9.0, style=ProgressStyle(description_wid…"
      ]
     },
     "metadata": {},
     "output_type": "display_data"
    },
    {
     "data": {
      "application/vnd.jupyter.widget-view+json": {
       "model_id": "",
       "version_major": 2,
       "version_minor": 0
      },
      "text/plain": [
       "HBox(children=(FloatProgress(value=0.0, description='GSA Loop 3', max=9.0, style=ProgressStyle(description_wid…"
      ]
     },
     "metadata": {},
     "output_type": "display_data"
    },
    {
     "data": {
      "application/vnd.jupyter.widget-view+json": {
       "model_id": "",
       "version_major": 2,
       "version_minor": 0
      },
      "text/plain": [
       "HBox(children=(FloatProgress(value=0.0, description='GSA Loop 3', max=9.0, style=ProgressStyle(description_wid…"
      ]
     },
     "metadata": {},
     "output_type": "display_data"
    },
    {
     "data": {
      "application/vnd.jupyter.widget-view+json": {
       "model_id": "",
       "version_major": 2,
       "version_minor": 0
      },
      "text/plain": [
       "HBox(children=(FloatProgress(value=0.0, description='GSA Loop 2', max=9.0, style=ProgressStyle(description_wid…"
      ]
     },
     "metadata": {},
     "output_type": "display_data"
    },
    {
     "data": {
      "application/vnd.jupyter.widget-view+json": {
       "model_id": "",
       "version_major": 2,
       "version_minor": 0
      },
      "text/plain": [
       "HBox(children=(FloatProgress(value=0.0, description='GSA Loop 3', max=9.0, style=ProgressStyle(description_wid…"
      ]
     },
     "metadata": {},
     "output_type": "display_data"
    },
    {
     "data": {
      "application/vnd.jupyter.widget-view+json": {
       "model_id": "",
       "version_major": 2,
       "version_minor": 0
      },
      "text/plain": [
       "HBox(children=(FloatProgress(value=0.0, description='GSA Loop 3', max=9.0, style=ProgressStyle(description_wid…"
      ]
     },
     "metadata": {},
     "output_type": "display_data"
    },
    {
     "data": {
      "application/vnd.jupyter.widget-view+json": {
       "model_id": "",
       "version_major": 2,
       "version_minor": 0
      },
      "text/plain": [
       "HBox(children=(FloatProgress(value=0.0, description='GSA Loop 3', max=9.0, style=ProgressStyle(description_wid…"
      ]
     },
     "metadata": {},
     "output_type": "display_data"
    },
    {
     "data": {
      "application/vnd.jupyter.widget-view+json": {
       "model_id": "",
       "version_major": 2,
       "version_minor": 0
      },
      "text/plain": [
       "HBox(children=(FloatProgress(value=0.0, description='GSA Loop 3', max=9.0, style=ProgressStyle(description_wid…"
      ]
     },
     "metadata": {},
     "output_type": "display_data"
    },
    {
     "data": {
      "application/vnd.jupyter.widget-view+json": {
       "model_id": "",
       "version_major": 2,
       "version_minor": 0
      },
      "text/plain": [
       "HBox(children=(FloatProgress(value=0.0, description='GSA Loop 3', max=9.0, style=ProgressStyle(description_wid…"
      ]
     },
     "metadata": {},
     "output_type": "display_data"
    },
    {
     "data": {
      "application/vnd.jupyter.widget-view+json": {
       "model_id": "",
       "version_major": 2,
       "version_minor": 0
      },
      "text/plain": [
       "HBox(children=(FloatProgress(value=0.0, description='GSA Loop 3', max=9.0, style=ProgressStyle(description_wid…"
      ]
     },
     "metadata": {},
     "output_type": "display_data"
    },
    {
     "data": {
      "application/vnd.jupyter.widget-view+json": {
       "model_id": "",
       "version_major": 2,
       "version_minor": 0
      },
      "text/plain": [
       "HBox(children=(FloatProgress(value=0.0, description='GSA Loop 3', max=9.0, style=ProgressStyle(description_wid…"
      ]
     },
     "metadata": {},
     "output_type": "display_data"
    },
    {
     "data": {
      "application/vnd.jupyter.widget-view+json": {
       "model_id": "",
       "version_major": 2,
       "version_minor": 0
      },
      "text/plain": [
       "HBox(children=(FloatProgress(value=0.0, description='GSA Loop 3', max=9.0, style=ProgressStyle(description_wid…"
      ]
     },
     "metadata": {},
     "output_type": "display_data"
    },
    {
     "data": {
      "application/vnd.jupyter.widget-view+json": {
       "model_id": "",
       "version_major": 2,
       "version_minor": 0
      },
      "text/plain": [
       "HBox(children=(FloatProgress(value=0.0, description='GSA Loop 3', max=9.0, style=ProgressStyle(description_wid…"
      ]
     },
     "metadata": {},
     "output_type": "display_data"
    },
    {
     "data": {
      "application/vnd.jupyter.widget-view+json": {
       "model_id": "",
       "version_major": 2,
       "version_minor": 0
      },
      "text/plain": [
       "HBox(children=(FloatProgress(value=0.0, description='GSA Loop 2', max=9.0, style=ProgressStyle(description_wid…"
      ]
     },
     "metadata": {},
     "output_type": "display_data"
    },
    {
     "data": {
      "application/vnd.jupyter.widget-view+json": {
       "model_id": "",
       "version_major": 2,
       "version_minor": 0
      },
      "text/plain": [
       "HBox(children=(FloatProgress(value=0.0, description='GSA Loop 3', max=9.0, style=ProgressStyle(description_wid…"
      ]
     },
     "metadata": {},
     "output_type": "display_data"
    },
    {
     "data": {
      "application/vnd.jupyter.widget-view+json": {
       "model_id": "",
       "version_major": 2,
       "version_minor": 0
      },
      "text/plain": [
       "HBox(children=(FloatProgress(value=0.0, description='GSA Loop 3', max=9.0, style=ProgressStyle(description_wid…"
      ]
     },
     "metadata": {},
     "output_type": "display_data"
    },
    {
     "data": {
      "application/vnd.jupyter.widget-view+json": {
       "model_id": "",
       "version_major": 2,
       "version_minor": 0
      },
      "text/plain": [
       "HBox(children=(FloatProgress(value=0.0, description='GSA Loop 3', max=9.0, style=ProgressStyle(description_wid…"
      ]
     },
     "metadata": {},
     "output_type": "display_data"
    },
    {
     "data": {
      "application/vnd.jupyter.widget-view+json": {
       "model_id": "",
       "version_major": 2,
       "version_minor": 0
      },
      "text/plain": [
       "HBox(children=(FloatProgress(value=0.0, description='GSA Loop 3', max=9.0, style=ProgressStyle(description_wid…"
      ]
     },
     "metadata": {},
     "output_type": "display_data"
    },
    {
     "data": {
      "application/vnd.jupyter.widget-view+json": {
       "model_id": "",
       "version_major": 2,
       "version_minor": 0
      },
      "text/plain": [
       "HBox(children=(FloatProgress(value=0.0, description='GSA Loop 3', max=9.0, style=ProgressStyle(description_wid…"
      ]
     },
     "metadata": {},
     "output_type": "display_data"
    },
    {
     "data": {
      "application/vnd.jupyter.widget-view+json": {
       "model_id": "",
       "version_major": 2,
       "version_minor": 0
      },
      "text/plain": [
       "HBox(children=(FloatProgress(value=0.0, description='GSA Loop 3', max=9.0, style=ProgressStyle(description_wid…"
      ]
     },
     "metadata": {},
     "output_type": "display_data"
    },
    {
     "data": {
      "application/vnd.jupyter.widget-view+json": {
       "model_id": "",
       "version_major": 2,
       "version_minor": 0
      },
      "text/plain": [
       "HBox(children=(FloatProgress(value=0.0, description='GSA Loop 3', max=9.0, style=ProgressStyle(description_wid…"
      ]
     },
     "metadata": {},
     "output_type": "display_data"
    },
    {
     "data": {
      "application/vnd.jupyter.widget-view+json": {
       "model_id": "",
       "version_major": 2,
       "version_minor": 0
      },
      "text/plain": [
       "HBox(children=(FloatProgress(value=0.0, description='GSA Loop 3', max=9.0, style=ProgressStyle(description_wid…"
      ]
     },
     "metadata": {},
     "output_type": "display_data"
    },
    {
     "data": {
      "application/vnd.jupyter.widget-view+json": {
       "model_id": "",
       "version_major": 2,
       "version_minor": 0
      },
      "text/plain": [
       "HBox(children=(FloatProgress(value=0.0, description='GSA Loop 3', max=9.0, style=ProgressStyle(description_wid…"
      ]
     },
     "metadata": {},
     "output_type": "display_data"
    },
    {
     "data": {
      "application/vnd.jupyter.widget-view+json": {
       "model_id": "",
       "version_major": 2,
       "version_minor": 0
      },
      "text/plain": [
       "HBox(children=(FloatProgress(value=0.0, description='GSA Loop 2', max=9.0, style=ProgressStyle(description_wid…"
      ]
     },
     "metadata": {},
     "output_type": "display_data"
    },
    {
     "data": {
      "application/vnd.jupyter.widget-view+json": {
       "model_id": "",
       "version_major": 2,
       "version_minor": 0
      },
      "text/plain": [
       "HBox(children=(FloatProgress(value=0.0, description='GSA Loop 3', max=9.0, style=ProgressStyle(description_wid…"
      ]
     },
     "metadata": {},
     "output_type": "display_data"
    },
    {
     "data": {
      "application/vnd.jupyter.widget-view+json": {
       "model_id": "",
       "version_major": 2,
       "version_minor": 0
      },
      "text/plain": [
       "HBox(children=(FloatProgress(value=0.0, description='GSA Loop 3', max=9.0, style=ProgressStyle(description_wid…"
      ]
     },
     "metadata": {},
     "output_type": "display_data"
    },
    {
     "data": {
      "application/vnd.jupyter.widget-view+json": {
       "model_id": "",
       "version_major": 2,
       "version_minor": 0
      },
      "text/plain": [
       "HBox(children=(FloatProgress(value=0.0, description='GSA Loop 3', max=9.0, style=ProgressStyle(description_wid…"
      ]
     },
     "metadata": {},
     "output_type": "display_data"
    },
    {
     "data": {
      "application/vnd.jupyter.widget-view+json": {
       "model_id": "",
       "version_major": 2,
       "version_minor": 0
      },
      "text/plain": [
       "HBox(children=(FloatProgress(value=0.0, description='GSA Loop 3', max=9.0, style=ProgressStyle(description_wid…"
      ]
     },
     "metadata": {},
     "output_type": "display_data"
    },
    {
     "data": {
      "application/vnd.jupyter.widget-view+json": {
       "model_id": "",
       "version_major": 2,
       "version_minor": 0
      },
      "text/plain": [
       "HBox(children=(FloatProgress(value=0.0, description='GSA Loop 3', max=9.0, style=ProgressStyle(description_wid…"
      ]
     },
     "metadata": {},
     "output_type": "display_data"
    },
    {
     "data": {
      "application/vnd.jupyter.widget-view+json": {
       "model_id": "",
       "version_major": 2,
       "version_minor": 0
      },
      "text/plain": [
       "HBox(children=(FloatProgress(value=0.0, description='GSA Loop 3', max=9.0, style=ProgressStyle(description_wid…"
      ]
     },
     "metadata": {},
     "output_type": "display_data"
    },
    {
     "data": {
      "application/vnd.jupyter.widget-view+json": {
       "model_id": "",
       "version_major": 2,
       "version_minor": 0
      },
      "text/plain": [
       "HBox(children=(FloatProgress(value=0.0, description='GSA Loop 3', max=9.0, style=ProgressStyle(description_wid…"
      ]
     },
     "metadata": {},
     "output_type": "display_data"
    },
    {
     "data": {
      "application/vnd.jupyter.widget-view+json": {
       "model_id": "",
       "version_major": 2,
       "version_minor": 0
      },
      "text/plain": [
       "HBox(children=(FloatProgress(value=0.0, description='GSA Loop 3', max=9.0, style=ProgressStyle(description_wid…"
      ]
     },
     "metadata": {},
     "output_type": "display_data"
    },
    {
     "data": {
      "application/vnd.jupyter.widget-view+json": {
       "model_id": "",
       "version_major": 2,
       "version_minor": 0
      },
      "text/plain": [
       "HBox(children=(FloatProgress(value=0.0, description='GSA Loop 3', max=9.0, style=ProgressStyle(description_wid…"
      ]
     },
     "metadata": {},
     "output_type": "display_data"
    },
    {
     "data": {
      "application/vnd.jupyter.widget-view+json": {
       "model_id": "",
       "version_major": 2,
       "version_minor": 0
      },
      "text/plain": [
       "HBox(children=(FloatProgress(value=0.0, description='GSA Loop 2', max=9.0, style=ProgressStyle(description_wid…"
      ]
     },
     "metadata": {},
     "output_type": "display_data"
    },
    {
     "data": {
      "application/vnd.jupyter.widget-view+json": {
       "model_id": "",
       "version_major": 2,
       "version_minor": 0
      },
      "text/plain": [
       "HBox(children=(FloatProgress(value=0.0, description='GSA Loop 3', max=9.0, style=ProgressStyle(description_wid…"
      ]
     },
     "metadata": {},
     "output_type": "display_data"
    },
    {
     "data": {
      "application/vnd.jupyter.widget-view+json": {
       "model_id": "",
       "version_major": 2,
       "version_minor": 0
      },
      "text/plain": [
       "HBox(children=(FloatProgress(value=0.0, description='GSA Loop 3', max=9.0, style=ProgressStyle(description_wid…"
      ]
     },
     "metadata": {},
     "output_type": "display_data"
    },
    {
     "data": {
      "application/vnd.jupyter.widget-view+json": {
       "model_id": "",
       "version_major": 2,
       "version_minor": 0
      },
      "text/plain": [
       "HBox(children=(FloatProgress(value=0.0, description='GSA Loop 3', max=9.0, style=ProgressStyle(description_wid…"
      ]
     },
     "metadata": {},
     "output_type": "display_data"
    },
    {
     "data": {
      "application/vnd.jupyter.widget-view+json": {
       "model_id": "",
       "version_major": 2,
       "version_minor": 0
      },
      "text/plain": [
       "HBox(children=(FloatProgress(value=0.0, description='GSA Loop 3', max=9.0, style=ProgressStyle(description_wid…"
      ]
     },
     "metadata": {},
     "output_type": "display_data"
    },
    {
     "data": {
      "application/vnd.jupyter.widget-view+json": {
       "model_id": "",
       "version_major": 2,
       "version_minor": 0
      },
      "text/plain": [
       "HBox(children=(FloatProgress(value=0.0, description='GSA Loop 3', max=9.0, style=ProgressStyle(description_wid…"
      ]
     },
     "metadata": {},
     "output_type": "display_data"
    },
    {
     "data": {
      "application/vnd.jupyter.widget-view+json": {
       "model_id": "",
       "version_major": 2,
       "version_minor": 0
      },
      "text/plain": [
       "HBox(children=(FloatProgress(value=0.0, description='GSA Loop 3', max=9.0, style=ProgressStyle(description_wid…"
      ]
     },
     "metadata": {},
     "output_type": "display_data"
    },
    {
     "data": {
      "application/vnd.jupyter.widget-view+json": {
       "model_id": "",
       "version_major": 2,
       "version_minor": 0
      },
      "text/plain": [
       "HBox(children=(FloatProgress(value=0.0, description='GSA Loop 3', max=9.0, style=ProgressStyle(description_wid…"
      ]
     },
     "metadata": {},
     "output_type": "display_data"
    },
    {
     "data": {
      "application/vnd.jupyter.widget-view+json": {
       "model_id": "",
       "version_major": 2,
       "version_minor": 0
      },
      "text/plain": [
       "HBox(children=(FloatProgress(value=0.0, description='GSA Loop 3', max=9.0, style=ProgressStyle(description_wid…"
      ]
     },
     "metadata": {},
     "output_type": "display_data"
    },
    {
     "data": {
      "application/vnd.jupyter.widget-view+json": {
       "model_id": "",
       "version_major": 2,
       "version_minor": 0
      },
      "text/plain": [
       "HBox(children=(FloatProgress(value=0.0, description='GSA Loop 3', max=9.0, style=ProgressStyle(description_wid…"
      ]
     },
     "metadata": {},
     "output_type": "display_data"
    },
    {
     "name": "stdout",
     "output_type": "stream",
     "text": [
      "\n",
      "NOTE: for Activ column, 1 = sigmoid || 2 = relu || 3 = tanh\n"
     ]
    },
    {
     "data": {
      "text/html": [
       "<div>\n",
       "<style scoped>\n",
       "    .dataframe tbody tr th:only-of-type {\n",
       "        vertical-align: middle;\n",
       "    }\n",
       "\n",
       "    .dataframe tbody tr th {\n",
       "        vertical-align: top;\n",
       "    }\n",
       "\n",
       "    .dataframe thead th {\n",
       "        text-align: right;\n",
       "    }\n",
       "</style>\n",
       "<table border=\"1\" class=\"dataframe\">\n",
       "  <thead>\n",
       "    <tr style=\"text-align: right;\">\n",
       "      <th></th>\n",
       "      <th>Neur1</th>\n",
       "      <th>Neur2</th>\n",
       "      <th>Neur3</th>\n",
       "      <th>Activ</th>\n",
       "      <th>r</th>\n",
       "      <th>r2</th>\n",
       "      <th>SMAPE</th>\n",
       "      <th>RMSE</th>\n",
       "      <th>norm-r</th>\n",
       "      <th>norm-r2</th>\n",
       "      <th>norm-SMAPE</th>\n",
       "      <th>norm-RMSE</th>\n",
       "      <th>INDEX</th>\n",
       "    </tr>\n",
       "  </thead>\n",
       "  <tbody>\n",
       "    <tr>\n",
       "      <th>0</th>\n",
       "      <td>80.000</td>\n",
       "      <td>80.000</td>\n",
       "      <td>64.000</td>\n",
       "      <td>2.000</td>\n",
       "      <td>0.779</td>\n",
       "      <td>0.285</td>\n",
       "      <td>13.974</td>\n",
       "      <td>0.433</td>\n",
       "      <td>0.992</td>\n",
       "      <td>0.976</td>\n",
       "      <td>0.950</td>\n",
       "      <td>1.000</td>\n",
       "      <td>0.977</td>\n",
       "    </tr>\n",
       "    <tr>\n",
       "      <th>1</th>\n",
       "      <td>112.000</td>\n",
       "      <td>112.000</td>\n",
       "      <td>96.000</td>\n",
       "      <td>2.000</td>\n",
       "      <td>0.780</td>\n",
       "      <td>0.079</td>\n",
       "      <td>13.082</td>\n",
       "      <td>0.451</td>\n",
       "      <td>0.994</td>\n",
       "      <td>0.888</td>\n",
       "      <td>1.000</td>\n",
       "      <td>0.960</td>\n",
       "      <td>0.954</td>\n",
       "    </tr>\n",
       "    <tr>\n",
       "      <th>2</th>\n",
       "      <td>64.000</td>\n",
       "      <td>64.000</td>\n",
       "      <td>64.000</td>\n",
       "      <td>2.000</td>\n",
       "      <td>0.758</td>\n",
       "      <td>0.257</td>\n",
       "      <td>14.101</td>\n",
       "      <td>0.454</td>\n",
       "      <td>0.954</td>\n",
       "      <td>0.964</td>\n",
       "      <td>0.943</td>\n",
       "      <td>0.951</td>\n",
       "      <td>0.953</td>\n",
       "    </tr>\n",
       "  </tbody>\n",
       "</table>\n",
       "</div>"
      ],
      "text/plain": [
       "    Neur1   Neur2  Neur3  Activ     r    r2  SMAPE  RMSE  norm-r  norm-r2  norm-SMAPE  norm-RMSE  INDEX\n",
       "0  80.000  80.000 64.000  2.000 0.779 0.285 13.974 0.433   0.992    0.976       0.950      1.000  0.977\n",
       "1 112.000 112.000 96.000  2.000 0.780 0.079 13.082 0.451   0.994    0.888       1.000      0.960  0.954\n",
       "2  64.000  64.000 64.000  2.000 0.758 0.257 14.101 0.454   0.954    0.964       0.943      0.951  0.953"
      ]
     },
     "execution_count": 19,
     "metadata": {},
     "output_type": "execute_result"
    }
   ],
   "source": [
    "best_nn_1 = []\n",
    "Neurons = range(0, 136,16)\n",
    "Activations = list(range(1,4)) #see dictionary definition in above function.\n",
    "for GSA_neur1 in tqdm(Neurons,desc='GSA Loop 1'): \n",
    "    for GSA_neur2 in tqdm(Neurons,desc='GSA Loop 2',leave = False):\n",
    "        for GSA_neur3 in tqdm(Neurons,desc='GSA Loop 3',leave = False): \n",
    "            for GSA_activ in Activations: \n",
    "                if GSA_neur3 > GSA_neur2 or GSA_neur2 > GSA_neur1 or GSA_neur1 == 0:\n",
    "                    continue\n",
    "                pred_y_nn_1, test_y_nn_1, best_nn_1 = train_and_test_NN(train_X = train_x, train_Y = train_y[:,0], test_X = test_x, test_Y = test_y[:,0], neur1 = GSA_neur1, neur2 = GSA_neur2, neur3 = GSA_neur3, activ = GSA_activ, splits = 5, GSA_BEST = best_nn_1)\n",
    "                \n",
    "#Convert returned GSA results to np array\n",
    "best_nn_1=np.vstack(best_nn_1)\n",
    "\n",
    "#Normalize metrics and compute reference index\n",
    "best_nn_1 = Ref_IDX(GSA_array = best_nn_1, num_desc = 4)    \n",
    "\n",
    "#Print 3 best configurations of each model\n",
    "pd.set_option('expand_frame_repr', False)\n",
    "pd.options.display.float_format = \"{:,.3f}\".format\n",
    "print('NOTE: for Activ column, 1 = sigmoid || 2 = relu || 3 = tanh')\n",
    "headings = ['Neur1', 'Neur2', 'Neur3', 'Activ','r','r2','SMAPE','RMSE','norm-r','norm-r2','norm-SMAPE','norm-RMSE','INDEX']\n",
    "best_nn_1 = pd.DataFrame(best_nn_1[:3],columns = headings)\n",
    "best_nn_1"
   ]
  },
  {
   "cell_type": "code",
   "execution_count": 20,
   "metadata": {},
   "outputs": [
    {
     "data": {
      "application/vnd.jupyter.widget-view+json": {
       "model_id": "324f18807ceb4bfaa8c248082dc8bd65",
       "version_major": 2,
       "version_minor": 0
      },
      "text/plain": [
       "HBox(children=(FloatProgress(value=0.0, description='GSA Loop 1', max=9.0, style=ProgressStyle(description_wid…"
      ]
     },
     "metadata": {},
     "output_type": "display_data"
    },
    {
     "data": {
      "application/vnd.jupyter.widget-view+json": {
       "model_id": "",
       "version_major": 2,
       "version_minor": 0
      },
      "text/plain": [
       "HBox(children=(FloatProgress(value=0.0, description='GSA Loop 2', max=9.0, style=ProgressStyle(description_wid…"
      ]
     },
     "metadata": {},
     "output_type": "display_data"
    },
    {
     "data": {
      "application/vnd.jupyter.widget-view+json": {
       "model_id": "",
       "version_major": 2,
       "version_minor": 0
      },
      "text/plain": [
       "HBox(children=(FloatProgress(value=0.0, description='GSA Loop 3', max=9.0, style=ProgressStyle(description_wid…"
      ]
     },
     "metadata": {},
     "output_type": "display_data"
    },
    {
     "data": {
      "application/vnd.jupyter.widget-view+json": {
       "model_id": "",
       "version_major": 2,
       "version_minor": 0
      },
      "text/plain": [
       "HBox(children=(FloatProgress(value=0.0, description='GSA Loop 3', max=9.0, style=ProgressStyle(description_wid…"
      ]
     },
     "metadata": {},
     "output_type": "display_data"
    },
    {
     "data": {
      "application/vnd.jupyter.widget-view+json": {
       "model_id": "",
       "version_major": 2,
       "version_minor": 0
      },
      "text/plain": [
       "HBox(children=(FloatProgress(value=0.0, description='GSA Loop 3', max=9.0, style=ProgressStyle(description_wid…"
      ]
     },
     "metadata": {},
     "output_type": "display_data"
    },
    {
     "data": {
      "application/vnd.jupyter.widget-view+json": {
       "model_id": "",
       "version_major": 2,
       "version_minor": 0
      },
      "text/plain": [
       "HBox(children=(FloatProgress(value=0.0, description='GSA Loop 3', max=9.0, style=ProgressStyle(description_wid…"
      ]
     },
     "metadata": {},
     "output_type": "display_data"
    },
    {
     "data": {
      "application/vnd.jupyter.widget-view+json": {
       "model_id": "",
       "version_major": 2,
       "version_minor": 0
      },
      "text/plain": [
       "HBox(children=(FloatProgress(value=0.0, description='GSA Loop 3', max=9.0, style=ProgressStyle(description_wid…"
      ]
     },
     "metadata": {},
     "output_type": "display_data"
    },
    {
     "data": {
      "application/vnd.jupyter.widget-view+json": {
       "model_id": "",
       "version_major": 2,
       "version_minor": 0
      },
      "text/plain": [
       "HBox(children=(FloatProgress(value=0.0, description='GSA Loop 3', max=9.0, style=ProgressStyle(description_wid…"
      ]
     },
     "metadata": {},
     "output_type": "display_data"
    },
    {
     "data": {
      "application/vnd.jupyter.widget-view+json": {
       "model_id": "",
       "version_major": 2,
       "version_minor": 0
      },
      "text/plain": [
       "HBox(children=(FloatProgress(value=0.0, description='GSA Loop 3', max=9.0, style=ProgressStyle(description_wid…"
      ]
     },
     "metadata": {},
     "output_type": "display_data"
    },
    {
     "data": {
      "application/vnd.jupyter.widget-view+json": {
       "model_id": "",
       "version_major": 2,
       "version_minor": 0
      },
      "text/plain": [
       "HBox(children=(FloatProgress(value=0.0, description='GSA Loop 3', max=9.0, style=ProgressStyle(description_wid…"
      ]
     },
     "metadata": {},
     "output_type": "display_data"
    },
    {
     "data": {
      "application/vnd.jupyter.widget-view+json": {
       "model_id": "",
       "version_major": 2,
       "version_minor": 0
      },
      "text/plain": [
       "HBox(children=(FloatProgress(value=0.0, description='GSA Loop 3', max=9.0, style=ProgressStyle(description_wid…"
      ]
     },
     "metadata": {},
     "output_type": "display_data"
    },
    {
     "data": {
      "application/vnd.jupyter.widget-view+json": {
       "model_id": "",
       "version_major": 2,
       "version_minor": 0
      },
      "text/plain": [
       "HBox(children=(FloatProgress(value=0.0, description='GSA Loop 2', max=9.0, style=ProgressStyle(description_wid…"
      ]
     },
     "metadata": {},
     "output_type": "display_data"
    },
    {
     "data": {
      "application/vnd.jupyter.widget-view+json": {
       "model_id": "",
       "version_major": 2,
       "version_minor": 0
      },
      "text/plain": [
       "HBox(children=(FloatProgress(value=0.0, description='GSA Loop 3', max=9.0, style=ProgressStyle(description_wid…"
      ]
     },
     "metadata": {},
     "output_type": "display_data"
    },
    {
     "data": {
      "application/vnd.jupyter.widget-view+json": {
       "model_id": "",
       "version_major": 2,
       "version_minor": 0
      },
      "text/plain": [
       "HBox(children=(FloatProgress(value=0.0, description='GSA Loop 3', max=9.0, style=ProgressStyle(description_wid…"
      ]
     },
     "metadata": {},
     "output_type": "display_data"
    },
    {
     "data": {
      "application/vnd.jupyter.widget-view+json": {
       "model_id": "",
       "version_major": 2,
       "version_minor": 0
      },
      "text/plain": [
       "HBox(children=(FloatProgress(value=0.0, description='GSA Loop 3', max=9.0, style=ProgressStyle(description_wid…"
      ]
     },
     "metadata": {},
     "output_type": "display_data"
    },
    {
     "data": {
      "application/vnd.jupyter.widget-view+json": {
       "model_id": "",
       "version_major": 2,
       "version_minor": 0
      },
      "text/plain": [
       "HBox(children=(FloatProgress(value=0.0, description='GSA Loop 3', max=9.0, style=ProgressStyle(description_wid…"
      ]
     },
     "metadata": {},
     "output_type": "display_data"
    },
    {
     "data": {
      "application/vnd.jupyter.widget-view+json": {
       "model_id": "",
       "version_major": 2,
       "version_minor": 0
      },
      "text/plain": [
       "HBox(children=(FloatProgress(value=0.0, description='GSA Loop 3', max=9.0, style=ProgressStyle(description_wid…"
      ]
     },
     "metadata": {},
     "output_type": "display_data"
    },
    {
     "data": {
      "application/vnd.jupyter.widget-view+json": {
       "model_id": "",
       "version_major": 2,
       "version_minor": 0
      },
      "text/plain": [
       "HBox(children=(FloatProgress(value=0.0, description='GSA Loop 3', max=9.0, style=ProgressStyle(description_wid…"
      ]
     },
     "metadata": {},
     "output_type": "display_data"
    },
    {
     "data": {
      "application/vnd.jupyter.widget-view+json": {
       "model_id": "",
       "version_major": 2,
       "version_minor": 0
      },
      "text/plain": [
       "HBox(children=(FloatProgress(value=0.0, description='GSA Loop 3', max=9.0, style=ProgressStyle(description_wid…"
      ]
     },
     "metadata": {},
     "output_type": "display_data"
    },
    {
     "data": {
      "application/vnd.jupyter.widget-view+json": {
       "model_id": "",
       "version_major": 2,
       "version_minor": 0
      },
      "text/plain": [
       "HBox(children=(FloatProgress(value=0.0, description='GSA Loop 3', max=9.0, style=ProgressStyle(description_wid…"
      ]
     },
     "metadata": {},
     "output_type": "display_data"
    },
    {
     "data": {
      "application/vnd.jupyter.widget-view+json": {
       "model_id": "",
       "version_major": 2,
       "version_minor": 0
      },
      "text/plain": [
       "HBox(children=(FloatProgress(value=0.0, description='GSA Loop 3', max=9.0, style=ProgressStyle(description_wid…"
      ]
     },
     "metadata": {},
     "output_type": "display_data"
    },
    {
     "data": {
      "application/vnd.jupyter.widget-view+json": {
       "model_id": "",
       "version_major": 2,
       "version_minor": 0
      },
      "text/plain": [
       "HBox(children=(FloatProgress(value=0.0, description='GSA Loop 2', max=9.0, style=ProgressStyle(description_wid…"
      ]
     },
     "metadata": {},
     "output_type": "display_data"
    },
    {
     "data": {
      "application/vnd.jupyter.widget-view+json": {
       "model_id": "",
       "version_major": 2,
       "version_minor": 0
      },
      "text/plain": [
       "HBox(children=(FloatProgress(value=0.0, description='GSA Loop 3', max=9.0, style=ProgressStyle(description_wid…"
      ]
     },
     "metadata": {},
     "output_type": "display_data"
    },
    {
     "data": {
      "application/vnd.jupyter.widget-view+json": {
       "model_id": "",
       "version_major": 2,
       "version_minor": 0
      },
      "text/plain": [
       "HBox(children=(FloatProgress(value=0.0, description='GSA Loop 3', max=9.0, style=ProgressStyle(description_wid…"
      ]
     },
     "metadata": {},
     "output_type": "display_data"
    },
    {
     "data": {
      "application/vnd.jupyter.widget-view+json": {
       "model_id": "",
       "version_major": 2,
       "version_minor": 0
      },
      "text/plain": [
       "HBox(children=(FloatProgress(value=0.0, description='GSA Loop 3', max=9.0, style=ProgressStyle(description_wid…"
      ]
     },
     "metadata": {},
     "output_type": "display_data"
    },
    {
     "data": {
      "application/vnd.jupyter.widget-view+json": {
       "model_id": "",
       "version_major": 2,
       "version_minor": 0
      },
      "text/plain": [
       "HBox(children=(FloatProgress(value=0.0, description='GSA Loop 3', max=9.0, style=ProgressStyle(description_wid…"
      ]
     },
     "metadata": {},
     "output_type": "display_data"
    },
    {
     "data": {
      "application/vnd.jupyter.widget-view+json": {
       "model_id": "",
       "version_major": 2,
       "version_minor": 0
      },
      "text/plain": [
       "HBox(children=(FloatProgress(value=0.0, description='GSA Loop 3', max=9.0, style=ProgressStyle(description_wid…"
      ]
     },
     "metadata": {},
     "output_type": "display_data"
    },
    {
     "data": {
      "application/vnd.jupyter.widget-view+json": {
       "model_id": "",
       "version_major": 2,
       "version_minor": 0
      },
      "text/plain": [
       "HBox(children=(FloatProgress(value=0.0, description='GSA Loop 3', max=9.0, style=ProgressStyle(description_wid…"
      ]
     },
     "metadata": {},
     "output_type": "display_data"
    },
    {
     "data": {
      "application/vnd.jupyter.widget-view+json": {
       "model_id": "",
       "version_major": 2,
       "version_minor": 0
      },
      "text/plain": [
       "HBox(children=(FloatProgress(value=0.0, description='GSA Loop 3', max=9.0, style=ProgressStyle(description_wid…"
      ]
     },
     "metadata": {},
     "output_type": "display_data"
    },
    {
     "data": {
      "application/vnd.jupyter.widget-view+json": {
       "model_id": "",
       "version_major": 2,
       "version_minor": 0
      },
      "text/plain": [
       "HBox(children=(FloatProgress(value=0.0, description='GSA Loop 3', max=9.0, style=ProgressStyle(description_wid…"
      ]
     },
     "metadata": {},
     "output_type": "display_data"
    },
    {
     "data": {
      "application/vnd.jupyter.widget-view+json": {
       "model_id": "",
       "version_major": 2,
       "version_minor": 0
      },
      "text/plain": [
       "HBox(children=(FloatProgress(value=0.0, description='GSA Loop 3', max=9.0, style=ProgressStyle(description_wid…"
      ]
     },
     "metadata": {},
     "output_type": "display_data"
    },
    {
     "data": {
      "application/vnd.jupyter.widget-view+json": {
       "model_id": "",
       "version_major": 2,
       "version_minor": 0
      },
      "text/plain": [
       "HBox(children=(FloatProgress(value=0.0, description='GSA Loop 2', max=9.0, style=ProgressStyle(description_wid…"
      ]
     },
     "metadata": {},
     "output_type": "display_data"
    },
    {
     "data": {
      "application/vnd.jupyter.widget-view+json": {
       "model_id": "",
       "version_major": 2,
       "version_minor": 0
      },
      "text/plain": [
       "HBox(children=(FloatProgress(value=0.0, description='GSA Loop 3', max=9.0, style=ProgressStyle(description_wid…"
      ]
     },
     "metadata": {},
     "output_type": "display_data"
    },
    {
     "data": {
      "application/vnd.jupyter.widget-view+json": {
       "model_id": "",
       "version_major": 2,
       "version_minor": 0
      },
      "text/plain": [
       "HBox(children=(FloatProgress(value=0.0, description='GSA Loop 3', max=9.0, style=ProgressStyle(description_wid…"
      ]
     },
     "metadata": {},
     "output_type": "display_data"
    },
    {
     "data": {
      "application/vnd.jupyter.widget-view+json": {
       "model_id": "",
       "version_major": 2,
       "version_minor": 0
      },
      "text/plain": [
       "HBox(children=(FloatProgress(value=0.0, description='GSA Loop 3', max=9.0, style=ProgressStyle(description_wid…"
      ]
     },
     "metadata": {},
     "output_type": "display_data"
    },
    {
     "data": {
      "application/vnd.jupyter.widget-view+json": {
       "model_id": "",
       "version_major": 2,
       "version_minor": 0
      },
      "text/plain": [
       "HBox(children=(FloatProgress(value=0.0, description='GSA Loop 3', max=9.0, style=ProgressStyle(description_wid…"
      ]
     },
     "metadata": {},
     "output_type": "display_data"
    },
    {
     "data": {
      "application/vnd.jupyter.widget-view+json": {
       "model_id": "",
       "version_major": 2,
       "version_minor": 0
      },
      "text/plain": [
       "HBox(children=(FloatProgress(value=0.0, description='GSA Loop 3', max=9.0, style=ProgressStyle(description_wid…"
      ]
     },
     "metadata": {},
     "output_type": "display_data"
    },
    {
     "data": {
      "application/vnd.jupyter.widget-view+json": {
       "model_id": "",
       "version_major": 2,
       "version_minor": 0
      },
      "text/plain": [
       "HBox(children=(FloatProgress(value=0.0, description='GSA Loop 3', max=9.0, style=ProgressStyle(description_wid…"
      ]
     },
     "metadata": {},
     "output_type": "display_data"
    },
    {
     "data": {
      "application/vnd.jupyter.widget-view+json": {
       "model_id": "",
       "version_major": 2,
       "version_minor": 0
      },
      "text/plain": [
       "HBox(children=(FloatProgress(value=0.0, description='GSA Loop 3', max=9.0, style=ProgressStyle(description_wid…"
      ]
     },
     "metadata": {},
     "output_type": "display_data"
    },
    {
     "data": {
      "application/vnd.jupyter.widget-view+json": {
       "model_id": "",
       "version_major": 2,
       "version_minor": 0
      },
      "text/plain": [
       "HBox(children=(FloatProgress(value=0.0, description='GSA Loop 3', max=9.0, style=ProgressStyle(description_wid…"
      ]
     },
     "metadata": {},
     "output_type": "display_data"
    },
    {
     "data": {
      "application/vnd.jupyter.widget-view+json": {
       "model_id": "",
       "version_major": 2,
       "version_minor": 0
      },
      "text/plain": [
       "HBox(children=(FloatProgress(value=0.0, description='GSA Loop 3', max=9.0, style=ProgressStyle(description_wid…"
      ]
     },
     "metadata": {},
     "output_type": "display_data"
    },
    {
     "data": {
      "application/vnd.jupyter.widget-view+json": {
       "model_id": "",
       "version_major": 2,
       "version_minor": 0
      },
      "text/plain": [
       "HBox(children=(FloatProgress(value=0.0, description='GSA Loop 2', max=9.0, style=ProgressStyle(description_wid…"
      ]
     },
     "metadata": {},
     "output_type": "display_data"
    },
    {
     "data": {
      "application/vnd.jupyter.widget-view+json": {
       "model_id": "",
       "version_major": 2,
       "version_minor": 0
      },
      "text/plain": [
       "HBox(children=(FloatProgress(value=0.0, description='GSA Loop 3', max=9.0, style=ProgressStyle(description_wid…"
      ]
     },
     "metadata": {},
     "output_type": "display_data"
    },
    {
     "data": {
      "application/vnd.jupyter.widget-view+json": {
       "model_id": "",
       "version_major": 2,
       "version_minor": 0
      },
      "text/plain": [
       "HBox(children=(FloatProgress(value=0.0, description='GSA Loop 3', max=9.0, style=ProgressStyle(description_wid…"
      ]
     },
     "metadata": {},
     "output_type": "display_data"
    },
    {
     "data": {
      "application/vnd.jupyter.widget-view+json": {
       "model_id": "",
       "version_major": 2,
       "version_minor": 0
      },
      "text/plain": [
       "HBox(children=(FloatProgress(value=0.0, description='GSA Loop 3', max=9.0, style=ProgressStyle(description_wid…"
      ]
     },
     "metadata": {},
     "output_type": "display_data"
    },
    {
     "data": {
      "application/vnd.jupyter.widget-view+json": {
       "model_id": "",
       "version_major": 2,
       "version_minor": 0
      },
      "text/plain": [
       "HBox(children=(FloatProgress(value=0.0, description='GSA Loop 3', max=9.0, style=ProgressStyle(description_wid…"
      ]
     },
     "metadata": {},
     "output_type": "display_data"
    },
    {
     "data": {
      "application/vnd.jupyter.widget-view+json": {
       "model_id": "",
       "version_major": 2,
       "version_minor": 0
      },
      "text/plain": [
       "HBox(children=(FloatProgress(value=0.0, description='GSA Loop 3', max=9.0, style=ProgressStyle(description_wid…"
      ]
     },
     "metadata": {},
     "output_type": "display_data"
    },
    {
     "data": {
      "application/vnd.jupyter.widget-view+json": {
       "model_id": "",
       "version_major": 2,
       "version_minor": 0
      },
      "text/plain": [
       "HBox(children=(FloatProgress(value=0.0, description='GSA Loop 3', max=9.0, style=ProgressStyle(description_wid…"
      ]
     },
     "metadata": {},
     "output_type": "display_data"
    },
    {
     "data": {
      "application/vnd.jupyter.widget-view+json": {
       "model_id": "",
       "version_major": 2,
       "version_minor": 0
      },
      "text/plain": [
       "HBox(children=(FloatProgress(value=0.0, description='GSA Loop 3', max=9.0, style=ProgressStyle(description_wid…"
      ]
     },
     "metadata": {},
     "output_type": "display_data"
    },
    {
     "data": {
      "application/vnd.jupyter.widget-view+json": {
       "model_id": "",
       "version_major": 2,
       "version_minor": 0
      },
      "text/plain": [
       "HBox(children=(FloatProgress(value=0.0, description='GSA Loop 3', max=9.0, style=ProgressStyle(description_wid…"
      ]
     },
     "metadata": {},
     "output_type": "display_data"
    },
    {
     "data": {
      "application/vnd.jupyter.widget-view+json": {
       "model_id": "",
       "version_major": 2,
       "version_minor": 0
      },
      "text/plain": [
       "HBox(children=(FloatProgress(value=0.0, description='GSA Loop 3', max=9.0, style=ProgressStyle(description_wid…"
      ]
     },
     "metadata": {},
     "output_type": "display_data"
    },
    {
     "data": {
      "application/vnd.jupyter.widget-view+json": {
       "model_id": "",
       "version_major": 2,
       "version_minor": 0
      },
      "text/plain": [
       "HBox(children=(FloatProgress(value=0.0, description='GSA Loop 2', max=9.0, style=ProgressStyle(description_wid…"
      ]
     },
     "metadata": {},
     "output_type": "display_data"
    },
    {
     "data": {
      "application/vnd.jupyter.widget-view+json": {
       "model_id": "",
       "version_major": 2,
       "version_minor": 0
      },
      "text/plain": [
       "HBox(children=(FloatProgress(value=0.0, description='GSA Loop 3', max=9.0, style=ProgressStyle(description_wid…"
      ]
     },
     "metadata": {},
     "output_type": "display_data"
    },
    {
     "data": {
      "application/vnd.jupyter.widget-view+json": {
       "model_id": "",
       "version_major": 2,
       "version_minor": 0
      },
      "text/plain": [
       "HBox(children=(FloatProgress(value=0.0, description='GSA Loop 3', max=9.0, style=ProgressStyle(description_wid…"
      ]
     },
     "metadata": {},
     "output_type": "display_data"
    },
    {
     "data": {
      "application/vnd.jupyter.widget-view+json": {
       "model_id": "",
       "version_major": 2,
       "version_minor": 0
      },
      "text/plain": [
       "HBox(children=(FloatProgress(value=0.0, description='GSA Loop 3', max=9.0, style=ProgressStyle(description_wid…"
      ]
     },
     "metadata": {},
     "output_type": "display_data"
    },
    {
     "data": {
      "application/vnd.jupyter.widget-view+json": {
       "model_id": "",
       "version_major": 2,
       "version_minor": 0
      },
      "text/plain": [
       "HBox(children=(FloatProgress(value=0.0, description='GSA Loop 3', max=9.0, style=ProgressStyle(description_wid…"
      ]
     },
     "metadata": {},
     "output_type": "display_data"
    },
    {
     "data": {
      "application/vnd.jupyter.widget-view+json": {
       "model_id": "",
       "version_major": 2,
       "version_minor": 0
      },
      "text/plain": [
       "HBox(children=(FloatProgress(value=0.0, description='GSA Loop 3', max=9.0, style=ProgressStyle(description_wid…"
      ]
     },
     "metadata": {},
     "output_type": "display_data"
    },
    {
     "data": {
      "application/vnd.jupyter.widget-view+json": {
       "model_id": "",
       "version_major": 2,
       "version_minor": 0
      },
      "text/plain": [
       "HBox(children=(FloatProgress(value=0.0, description='GSA Loop 3', max=9.0, style=ProgressStyle(description_wid…"
      ]
     },
     "metadata": {},
     "output_type": "display_data"
    },
    {
     "data": {
      "application/vnd.jupyter.widget-view+json": {
       "model_id": "",
       "version_major": 2,
       "version_minor": 0
      },
      "text/plain": [
       "HBox(children=(FloatProgress(value=0.0, description='GSA Loop 3', max=9.0, style=ProgressStyle(description_wid…"
      ]
     },
     "metadata": {},
     "output_type": "display_data"
    },
    {
     "data": {
      "application/vnd.jupyter.widget-view+json": {
       "model_id": "",
       "version_major": 2,
       "version_minor": 0
      },
      "text/plain": [
       "HBox(children=(FloatProgress(value=0.0, description='GSA Loop 3', max=9.0, style=ProgressStyle(description_wid…"
      ]
     },
     "metadata": {},
     "output_type": "display_data"
    },
    {
     "data": {
      "application/vnd.jupyter.widget-view+json": {
       "model_id": "",
       "version_major": 2,
       "version_minor": 0
      },
      "text/plain": [
       "HBox(children=(FloatProgress(value=0.0, description='GSA Loop 3', max=9.0, style=ProgressStyle(description_wid…"
      ]
     },
     "metadata": {},
     "output_type": "display_data"
    },
    {
     "data": {
      "application/vnd.jupyter.widget-view+json": {
       "model_id": "",
       "version_major": 2,
       "version_minor": 0
      },
      "text/plain": [
       "HBox(children=(FloatProgress(value=0.0, description='GSA Loop 2', max=9.0, style=ProgressStyle(description_wid…"
      ]
     },
     "metadata": {},
     "output_type": "display_data"
    },
    {
     "data": {
      "application/vnd.jupyter.widget-view+json": {
       "model_id": "",
       "version_major": 2,
       "version_minor": 0
      },
      "text/plain": [
       "HBox(children=(FloatProgress(value=0.0, description='GSA Loop 3', max=9.0, style=ProgressStyle(description_wid…"
      ]
     },
     "metadata": {},
     "output_type": "display_data"
    },
    {
     "data": {
      "application/vnd.jupyter.widget-view+json": {
       "model_id": "",
       "version_major": 2,
       "version_minor": 0
      },
      "text/plain": [
       "HBox(children=(FloatProgress(value=0.0, description='GSA Loop 3', max=9.0, style=ProgressStyle(description_wid…"
      ]
     },
     "metadata": {},
     "output_type": "display_data"
    },
    {
     "data": {
      "application/vnd.jupyter.widget-view+json": {
       "model_id": "",
       "version_major": 2,
       "version_minor": 0
      },
      "text/plain": [
       "HBox(children=(FloatProgress(value=0.0, description='GSA Loop 3', max=9.0, style=ProgressStyle(description_wid…"
      ]
     },
     "metadata": {},
     "output_type": "display_data"
    },
    {
     "data": {
      "application/vnd.jupyter.widget-view+json": {
       "model_id": "",
       "version_major": 2,
       "version_minor": 0
      },
      "text/plain": [
       "HBox(children=(FloatProgress(value=0.0, description='GSA Loop 3', max=9.0, style=ProgressStyle(description_wid…"
      ]
     },
     "metadata": {},
     "output_type": "display_data"
    },
    {
     "data": {
      "application/vnd.jupyter.widget-view+json": {
       "model_id": "",
       "version_major": 2,
       "version_minor": 0
      },
      "text/plain": [
       "HBox(children=(FloatProgress(value=0.0, description='GSA Loop 3', max=9.0, style=ProgressStyle(description_wid…"
      ]
     },
     "metadata": {},
     "output_type": "display_data"
    },
    {
     "data": {
      "application/vnd.jupyter.widget-view+json": {
       "model_id": "",
       "version_major": 2,
       "version_minor": 0
      },
      "text/plain": [
       "HBox(children=(FloatProgress(value=0.0, description='GSA Loop 3', max=9.0, style=ProgressStyle(description_wid…"
      ]
     },
     "metadata": {},
     "output_type": "display_data"
    },
    {
     "data": {
      "application/vnd.jupyter.widget-view+json": {
       "model_id": "",
       "version_major": 2,
       "version_minor": 0
      },
      "text/plain": [
       "HBox(children=(FloatProgress(value=0.0, description='GSA Loop 3', max=9.0, style=ProgressStyle(description_wid…"
      ]
     },
     "metadata": {},
     "output_type": "display_data"
    },
    {
     "data": {
      "application/vnd.jupyter.widget-view+json": {
       "model_id": "",
       "version_major": 2,
       "version_minor": 0
      },
      "text/plain": [
       "HBox(children=(FloatProgress(value=0.0, description='GSA Loop 3', max=9.0, style=ProgressStyle(description_wid…"
      ]
     },
     "metadata": {},
     "output_type": "display_data"
    },
    {
     "data": {
      "application/vnd.jupyter.widget-view+json": {
       "model_id": "",
       "version_major": 2,
       "version_minor": 0
      },
      "text/plain": [
       "HBox(children=(FloatProgress(value=0.0, description='GSA Loop 3', max=9.0, style=ProgressStyle(description_wid…"
      ]
     },
     "metadata": {},
     "output_type": "display_data"
    },
    {
     "data": {
      "application/vnd.jupyter.widget-view+json": {
       "model_id": "",
       "version_major": 2,
       "version_minor": 0
      },
      "text/plain": [
       "HBox(children=(FloatProgress(value=0.0, description='GSA Loop 2', max=9.0, style=ProgressStyle(description_wid…"
      ]
     },
     "metadata": {},
     "output_type": "display_data"
    },
    {
     "data": {
      "application/vnd.jupyter.widget-view+json": {
       "model_id": "",
       "version_major": 2,
       "version_minor": 0
      },
      "text/plain": [
       "HBox(children=(FloatProgress(value=0.0, description='GSA Loop 3', max=9.0, style=ProgressStyle(description_wid…"
      ]
     },
     "metadata": {},
     "output_type": "display_data"
    },
    {
     "data": {
      "application/vnd.jupyter.widget-view+json": {
       "model_id": "",
       "version_major": 2,
       "version_minor": 0
      },
      "text/plain": [
       "HBox(children=(FloatProgress(value=0.0, description='GSA Loop 3', max=9.0, style=ProgressStyle(description_wid…"
      ]
     },
     "metadata": {},
     "output_type": "display_data"
    },
    {
     "data": {
      "application/vnd.jupyter.widget-view+json": {
       "model_id": "",
       "version_major": 2,
       "version_minor": 0
      },
      "text/plain": [
       "HBox(children=(FloatProgress(value=0.0, description='GSA Loop 3', max=9.0, style=ProgressStyle(description_wid…"
      ]
     },
     "metadata": {},
     "output_type": "display_data"
    },
    {
     "data": {
      "application/vnd.jupyter.widget-view+json": {
       "model_id": "",
       "version_major": 2,
       "version_minor": 0
      },
      "text/plain": [
       "HBox(children=(FloatProgress(value=0.0, description='GSA Loop 3', max=9.0, style=ProgressStyle(description_wid…"
      ]
     },
     "metadata": {},
     "output_type": "display_data"
    },
    {
     "data": {
      "application/vnd.jupyter.widget-view+json": {
       "model_id": "",
       "version_major": 2,
       "version_minor": 0
      },
      "text/plain": [
       "HBox(children=(FloatProgress(value=0.0, description='GSA Loop 3', max=9.0, style=ProgressStyle(description_wid…"
      ]
     },
     "metadata": {},
     "output_type": "display_data"
    },
    {
     "data": {
      "application/vnd.jupyter.widget-view+json": {
       "model_id": "",
       "version_major": 2,
       "version_minor": 0
      },
      "text/plain": [
       "HBox(children=(FloatProgress(value=0.0, description='GSA Loop 3', max=9.0, style=ProgressStyle(description_wid…"
      ]
     },
     "metadata": {},
     "output_type": "display_data"
    },
    {
     "data": {
      "application/vnd.jupyter.widget-view+json": {
       "model_id": "",
       "version_major": 2,
       "version_minor": 0
      },
      "text/plain": [
       "HBox(children=(FloatProgress(value=0.0, description='GSA Loop 3', max=9.0, style=ProgressStyle(description_wid…"
      ]
     },
     "metadata": {},
     "output_type": "display_data"
    },
    {
     "data": {
      "application/vnd.jupyter.widget-view+json": {
       "model_id": "",
       "version_major": 2,
       "version_minor": 0
      },
      "text/plain": [
       "HBox(children=(FloatProgress(value=0.0, description='GSA Loop 3', max=9.0, style=ProgressStyle(description_wid…"
      ]
     },
     "metadata": {},
     "output_type": "display_data"
    },
    {
     "data": {
      "application/vnd.jupyter.widget-view+json": {
       "model_id": "",
       "version_major": 2,
       "version_minor": 0
      },
      "text/plain": [
       "HBox(children=(FloatProgress(value=0.0, description='GSA Loop 3', max=9.0, style=ProgressStyle(description_wid…"
      ]
     },
     "metadata": {},
     "output_type": "display_data"
    },
    {
     "data": {
      "application/vnd.jupyter.widget-view+json": {
       "model_id": "",
       "version_major": 2,
       "version_minor": 0
      },
      "text/plain": [
       "HBox(children=(FloatProgress(value=0.0, description='GSA Loop 2', max=9.0, style=ProgressStyle(description_wid…"
      ]
     },
     "metadata": {},
     "output_type": "display_data"
    },
    {
     "data": {
      "application/vnd.jupyter.widget-view+json": {
       "model_id": "",
       "version_major": 2,
       "version_minor": 0
      },
      "text/plain": [
       "HBox(children=(FloatProgress(value=0.0, description='GSA Loop 3', max=9.0, style=ProgressStyle(description_wid…"
      ]
     },
     "metadata": {},
     "output_type": "display_data"
    },
    {
     "data": {
      "application/vnd.jupyter.widget-view+json": {
       "model_id": "",
       "version_major": 2,
       "version_minor": 0
      },
      "text/plain": [
       "HBox(children=(FloatProgress(value=0.0, description='GSA Loop 3', max=9.0, style=ProgressStyle(description_wid…"
      ]
     },
     "metadata": {},
     "output_type": "display_data"
    },
    {
     "data": {
      "application/vnd.jupyter.widget-view+json": {
       "model_id": "",
       "version_major": 2,
       "version_minor": 0
      },
      "text/plain": [
       "HBox(children=(FloatProgress(value=0.0, description='GSA Loop 3', max=9.0, style=ProgressStyle(description_wid…"
      ]
     },
     "metadata": {},
     "output_type": "display_data"
    },
    {
     "data": {
      "application/vnd.jupyter.widget-view+json": {
       "model_id": "",
       "version_major": 2,
       "version_minor": 0
      },
      "text/plain": [
       "HBox(children=(FloatProgress(value=0.0, description='GSA Loop 3', max=9.0, style=ProgressStyle(description_wid…"
      ]
     },
     "metadata": {},
     "output_type": "display_data"
    },
    {
     "data": {
      "application/vnd.jupyter.widget-view+json": {
       "model_id": "",
       "version_major": 2,
       "version_minor": 0
      },
      "text/plain": [
       "HBox(children=(FloatProgress(value=0.0, description='GSA Loop 3', max=9.0, style=ProgressStyle(description_wid…"
      ]
     },
     "metadata": {},
     "output_type": "display_data"
    },
    {
     "data": {
      "application/vnd.jupyter.widget-view+json": {
       "model_id": "",
       "version_major": 2,
       "version_minor": 0
      },
      "text/plain": [
       "HBox(children=(FloatProgress(value=0.0, description='GSA Loop 3', max=9.0, style=ProgressStyle(description_wid…"
      ]
     },
     "metadata": {},
     "output_type": "display_data"
    },
    {
     "data": {
      "application/vnd.jupyter.widget-view+json": {
       "model_id": "",
       "version_major": 2,
       "version_minor": 0
      },
      "text/plain": [
       "HBox(children=(FloatProgress(value=0.0, description='GSA Loop 3', max=9.0, style=ProgressStyle(description_wid…"
      ]
     },
     "metadata": {},
     "output_type": "display_data"
    },
    {
     "data": {
      "application/vnd.jupyter.widget-view+json": {
       "model_id": "",
       "version_major": 2,
       "version_minor": 0
      },
      "text/plain": [
       "HBox(children=(FloatProgress(value=0.0, description='GSA Loop 3', max=9.0, style=ProgressStyle(description_wid…"
      ]
     },
     "metadata": {},
     "output_type": "display_data"
    },
    {
     "data": {
      "application/vnd.jupyter.widget-view+json": {
       "model_id": "",
       "version_major": 2,
       "version_minor": 0
      },
      "text/plain": [
       "HBox(children=(FloatProgress(value=0.0, description='GSA Loop 3', max=9.0, style=ProgressStyle(description_wid…"
      ]
     },
     "metadata": {},
     "output_type": "display_data"
    },
    {
     "name": "stdout",
     "output_type": "stream",
     "text": [
      "\n",
      "NOTE: for Activ column, 1 = sigmoid || 2 = relu || 3 = tanh\n"
     ]
    },
    {
     "data": {
      "text/html": [
       "<div>\n",
       "<style scoped>\n",
       "    .dataframe tbody tr th:only-of-type {\n",
       "        vertical-align: middle;\n",
       "    }\n",
       "\n",
       "    .dataframe tbody tr th {\n",
       "        vertical-align: top;\n",
       "    }\n",
       "\n",
       "    .dataframe thead th {\n",
       "        text-align: right;\n",
       "    }\n",
       "</style>\n",
       "<table border=\"1\" class=\"dataframe\">\n",
       "  <thead>\n",
       "    <tr style=\"text-align: right;\">\n",
       "      <th></th>\n",
       "      <th>Neur1</th>\n",
       "      <th>Neur2</th>\n",
       "      <th>Neur3</th>\n",
       "      <th>Activ</th>\n",
       "      <th>r</th>\n",
       "      <th>r2</th>\n",
       "      <th>SMAPE</th>\n",
       "      <th>RMSE</th>\n",
       "      <th>norm-r</th>\n",
       "      <th>norm-r2</th>\n",
       "      <th>norm-SMAPE</th>\n",
       "      <th>norm-RMSE</th>\n",
       "      <th>INDEX</th>\n",
       "    </tr>\n",
       "  </thead>\n",
       "  <tbody>\n",
       "    <tr>\n",
       "      <th>0</th>\n",
       "      <td>128.000</td>\n",
       "      <td>112.000</td>\n",
       "      <td>48.000</td>\n",
       "      <td>2.000</td>\n",
       "      <td>0.818</td>\n",
       "      <td>0.560</td>\n",
       "      <td>18.427</td>\n",
       "      <td>0.723</td>\n",
       "      <td>0.979</td>\n",
       "      <td>1.000</td>\n",
       "      <td>1.000</td>\n",
       "      <td>1.000</td>\n",
       "      <td>0.998</td>\n",
       "    </tr>\n",
       "    <tr>\n",
       "      <th>1</th>\n",
       "      <td>128.000</td>\n",
       "      <td>112.000</td>\n",
       "      <td>80.000</td>\n",
       "      <td>2.000</td>\n",
       "      <td>0.803</td>\n",
       "      <td>0.540</td>\n",
       "      <td>18.442</td>\n",
       "      <td>0.750</td>\n",
       "      <td>0.961</td>\n",
       "      <td>0.983</td>\n",
       "      <td>0.999</td>\n",
       "      <td>0.951</td>\n",
       "      <td>0.976</td>\n",
       "    </tr>\n",
       "    <tr>\n",
       "      <th>2</th>\n",
       "      <td>96.000</td>\n",
       "      <td>48.000</td>\n",
       "      <td>48.000</td>\n",
       "      <td>2.000</td>\n",
       "      <td>0.797</td>\n",
       "      <td>0.554</td>\n",
       "      <td>20.012</td>\n",
       "      <td>0.725</td>\n",
       "      <td>0.954</td>\n",
       "      <td>0.995</td>\n",
       "      <td>0.920</td>\n",
       "      <td>0.996</td>\n",
       "      <td>0.969</td>\n",
       "    </tr>\n",
       "  </tbody>\n",
       "</table>\n",
       "</div>"
      ],
      "text/plain": [
       "    Neur1   Neur2  Neur3  Activ     r    r2  SMAPE  RMSE  norm-r  norm-r2  norm-SMAPE  norm-RMSE  INDEX\n",
       "0 128.000 112.000 48.000  2.000 0.818 0.560 18.427 0.723   0.979    1.000       1.000      1.000  0.998\n",
       "1 128.000 112.000 80.000  2.000 0.803 0.540 18.442 0.750   0.961    0.983       0.999      0.951  0.976\n",
       "2  96.000  48.000 48.000  2.000 0.797 0.554 20.012 0.725   0.954    0.995       0.920      0.996  0.969"
      ]
     },
     "execution_count": 20,
     "metadata": {},
     "output_type": "execute_result"
    }
   ],
   "source": [
    "best_nn_2 = []\n",
    "Neurons = range(0, 136,16)\n",
    "Activations = list(range(1,4)) #see dictionary definition in above function.\n",
    "for GSA_neur1 in tqdm(Neurons,desc='GSA Loop 1'): \n",
    "    for GSA_neur2 in tqdm(Neurons,desc='GSA Loop 2',leave = False):\n",
    "        for GSA_neur3 in tqdm(Neurons,desc='GSA Loop 3',leave = False): \n",
    "            for GSA_activ in Activations: \n",
    "                if GSA_neur3 > GSA_neur2 or GSA_neur2 > GSA_neur1 or GSA_neur1 == 0:\n",
    "                    continue\n",
    "                pred_y_nn_2, test_y_nn_2, best_nn_2 = train_and_test_NN(train_X = train_x, train_Y = train_y[:,1], test_X = test_x, test_Y = test_y[:,1], neur1 = GSA_neur1, neur2 = GSA_neur2, neur3 = GSA_neur3, activ = GSA_activ, splits = 5, GSA_BEST = best_nn_2)\n",
    "                \n",
    "#Convert returned GSA results to np array\n",
    "best_nn_2=np.vstack(best_nn_2)\n",
    "\n",
    "#Normalize metrics and compute reference index\n",
    "best_nn_2 = Ref_IDX(GSA_array = best_nn_2, num_desc = 4)     \n",
    "\n",
    "#Print 3 best configurations of each model\n",
    "pd.set_option('expand_frame_repr', False)\n",
    "pd.options.display.float_format = \"{:,.3f}\".format\n",
    "print('NOTE: for Activ column, 1 = sigmoid || 2 = relu || 3 = tanh')\n",
    "headings = ['Neur1', 'Neur2', 'Neur3', 'Activ','r','r2','SMAPE','RMSE','norm-r','norm-r2','norm-SMAPE','norm-RMSE','INDEX']\n",
    "best_nn_2 = pd.DataFrame(best_nn_2[:3],columns = headings)\n",
    "best_nn_2"
   ]
  },
  {
   "cell_type": "code",
   "execution_count": 21,
   "metadata": {},
   "outputs": [
    {
     "data": {
      "application/vnd.jupyter.widget-view+json": {
       "model_id": "e07830340469478a9c82ae507f79c619",
       "version_major": 2,
       "version_minor": 0
      },
      "text/plain": [
       "HBox(children=(FloatProgress(value=0.0, description='GSA Loop 1', max=9.0, style=ProgressStyle(description_wid…"
      ]
     },
     "metadata": {},
     "output_type": "display_data"
    },
    {
     "data": {
      "application/vnd.jupyter.widget-view+json": {
       "model_id": "",
       "version_major": 2,
       "version_minor": 0
      },
      "text/plain": [
       "HBox(children=(FloatProgress(value=0.0, description='GSA Loop 2', max=9.0, style=ProgressStyle(description_wid…"
      ]
     },
     "metadata": {},
     "output_type": "display_data"
    },
    {
     "data": {
      "application/vnd.jupyter.widget-view+json": {
       "model_id": "",
       "version_major": 2,
       "version_minor": 0
      },
      "text/plain": [
       "HBox(children=(FloatProgress(value=0.0, description='GSA Loop 3', max=9.0, style=ProgressStyle(description_wid…"
      ]
     },
     "metadata": {},
     "output_type": "display_data"
    },
    {
     "data": {
      "application/vnd.jupyter.widget-view+json": {
       "model_id": "",
       "version_major": 2,
       "version_minor": 0
      },
      "text/plain": [
       "HBox(children=(FloatProgress(value=0.0, description='GSA Loop 3', max=9.0, style=ProgressStyle(description_wid…"
      ]
     },
     "metadata": {},
     "output_type": "display_data"
    },
    {
     "data": {
      "application/vnd.jupyter.widget-view+json": {
       "model_id": "",
       "version_major": 2,
       "version_minor": 0
      },
      "text/plain": [
       "HBox(children=(FloatProgress(value=0.0, description='GSA Loop 3', max=9.0, style=ProgressStyle(description_wid…"
      ]
     },
     "metadata": {},
     "output_type": "display_data"
    },
    {
     "data": {
      "application/vnd.jupyter.widget-view+json": {
       "model_id": "",
       "version_major": 2,
       "version_minor": 0
      },
      "text/plain": [
       "HBox(children=(FloatProgress(value=0.0, description='GSA Loop 3', max=9.0, style=ProgressStyle(description_wid…"
      ]
     },
     "metadata": {},
     "output_type": "display_data"
    },
    {
     "data": {
      "application/vnd.jupyter.widget-view+json": {
       "model_id": "",
       "version_major": 2,
       "version_minor": 0
      },
      "text/plain": [
       "HBox(children=(FloatProgress(value=0.0, description='GSA Loop 3', max=9.0, style=ProgressStyle(description_wid…"
      ]
     },
     "metadata": {},
     "output_type": "display_data"
    },
    {
     "data": {
      "application/vnd.jupyter.widget-view+json": {
       "model_id": "",
       "version_major": 2,
       "version_minor": 0
      },
      "text/plain": [
       "HBox(children=(FloatProgress(value=0.0, description='GSA Loop 3', max=9.0, style=ProgressStyle(description_wid…"
      ]
     },
     "metadata": {},
     "output_type": "display_data"
    },
    {
     "data": {
      "application/vnd.jupyter.widget-view+json": {
       "model_id": "",
       "version_major": 2,
       "version_minor": 0
      },
      "text/plain": [
       "HBox(children=(FloatProgress(value=0.0, description='GSA Loop 3', max=9.0, style=ProgressStyle(description_wid…"
      ]
     },
     "metadata": {},
     "output_type": "display_data"
    },
    {
     "data": {
      "application/vnd.jupyter.widget-view+json": {
       "model_id": "",
       "version_major": 2,
       "version_minor": 0
      },
      "text/plain": [
       "HBox(children=(FloatProgress(value=0.0, description='GSA Loop 3', max=9.0, style=ProgressStyle(description_wid…"
      ]
     },
     "metadata": {},
     "output_type": "display_data"
    },
    {
     "data": {
      "application/vnd.jupyter.widget-view+json": {
       "model_id": "",
       "version_major": 2,
       "version_minor": 0
      },
      "text/plain": [
       "HBox(children=(FloatProgress(value=0.0, description='GSA Loop 3', max=9.0, style=ProgressStyle(description_wid…"
      ]
     },
     "metadata": {},
     "output_type": "display_data"
    },
    {
     "data": {
      "application/vnd.jupyter.widget-view+json": {
       "model_id": "",
       "version_major": 2,
       "version_minor": 0
      },
      "text/plain": [
       "HBox(children=(FloatProgress(value=0.0, description='GSA Loop 2', max=9.0, style=ProgressStyle(description_wid…"
      ]
     },
     "metadata": {},
     "output_type": "display_data"
    },
    {
     "data": {
      "application/vnd.jupyter.widget-view+json": {
       "model_id": "",
       "version_major": 2,
       "version_minor": 0
      },
      "text/plain": [
       "HBox(children=(FloatProgress(value=0.0, description='GSA Loop 3', max=9.0, style=ProgressStyle(description_wid…"
      ]
     },
     "metadata": {},
     "output_type": "display_data"
    },
    {
     "data": {
      "application/vnd.jupyter.widget-view+json": {
       "model_id": "",
       "version_major": 2,
       "version_minor": 0
      },
      "text/plain": [
       "HBox(children=(FloatProgress(value=0.0, description='GSA Loop 3', max=9.0, style=ProgressStyle(description_wid…"
      ]
     },
     "metadata": {},
     "output_type": "display_data"
    },
    {
     "data": {
      "application/vnd.jupyter.widget-view+json": {
       "model_id": "",
       "version_major": 2,
       "version_minor": 0
      },
      "text/plain": [
       "HBox(children=(FloatProgress(value=0.0, description='GSA Loop 3', max=9.0, style=ProgressStyle(description_wid…"
      ]
     },
     "metadata": {},
     "output_type": "display_data"
    },
    {
     "data": {
      "application/vnd.jupyter.widget-view+json": {
       "model_id": "",
       "version_major": 2,
       "version_minor": 0
      },
      "text/plain": [
       "HBox(children=(FloatProgress(value=0.0, description='GSA Loop 3', max=9.0, style=ProgressStyle(description_wid…"
      ]
     },
     "metadata": {},
     "output_type": "display_data"
    },
    {
     "data": {
      "application/vnd.jupyter.widget-view+json": {
       "model_id": "",
       "version_major": 2,
       "version_minor": 0
      },
      "text/plain": [
       "HBox(children=(FloatProgress(value=0.0, description='GSA Loop 3', max=9.0, style=ProgressStyle(description_wid…"
      ]
     },
     "metadata": {},
     "output_type": "display_data"
    },
    {
     "data": {
      "application/vnd.jupyter.widget-view+json": {
       "model_id": "",
       "version_major": 2,
       "version_minor": 0
      },
      "text/plain": [
       "HBox(children=(FloatProgress(value=0.0, description='GSA Loop 3', max=9.0, style=ProgressStyle(description_wid…"
      ]
     },
     "metadata": {},
     "output_type": "display_data"
    },
    {
     "data": {
      "application/vnd.jupyter.widget-view+json": {
       "model_id": "",
       "version_major": 2,
       "version_minor": 0
      },
      "text/plain": [
       "HBox(children=(FloatProgress(value=0.0, description='GSA Loop 3', max=9.0, style=ProgressStyle(description_wid…"
      ]
     },
     "metadata": {},
     "output_type": "display_data"
    },
    {
     "data": {
      "application/vnd.jupyter.widget-view+json": {
       "model_id": "",
       "version_major": 2,
       "version_minor": 0
      },
      "text/plain": [
       "HBox(children=(FloatProgress(value=0.0, description='GSA Loop 3', max=9.0, style=ProgressStyle(description_wid…"
      ]
     },
     "metadata": {},
     "output_type": "display_data"
    },
    {
     "data": {
      "application/vnd.jupyter.widget-view+json": {
       "model_id": "",
       "version_major": 2,
       "version_minor": 0
      },
      "text/plain": [
       "HBox(children=(FloatProgress(value=0.0, description='GSA Loop 3', max=9.0, style=ProgressStyle(description_wid…"
      ]
     },
     "metadata": {},
     "output_type": "display_data"
    },
    {
     "data": {
      "application/vnd.jupyter.widget-view+json": {
       "model_id": "",
       "version_major": 2,
       "version_minor": 0
      },
      "text/plain": [
       "HBox(children=(FloatProgress(value=0.0, description='GSA Loop 2', max=9.0, style=ProgressStyle(description_wid…"
      ]
     },
     "metadata": {},
     "output_type": "display_data"
    },
    {
     "data": {
      "application/vnd.jupyter.widget-view+json": {
       "model_id": "",
       "version_major": 2,
       "version_minor": 0
      },
      "text/plain": [
       "HBox(children=(FloatProgress(value=0.0, description='GSA Loop 3', max=9.0, style=ProgressStyle(description_wid…"
      ]
     },
     "metadata": {},
     "output_type": "display_data"
    },
    {
     "data": {
      "application/vnd.jupyter.widget-view+json": {
       "model_id": "",
       "version_major": 2,
       "version_minor": 0
      },
      "text/plain": [
       "HBox(children=(FloatProgress(value=0.0, description='GSA Loop 3', max=9.0, style=ProgressStyle(description_wid…"
      ]
     },
     "metadata": {},
     "output_type": "display_data"
    },
    {
     "data": {
      "application/vnd.jupyter.widget-view+json": {
       "model_id": "",
       "version_major": 2,
       "version_minor": 0
      },
      "text/plain": [
       "HBox(children=(FloatProgress(value=0.0, description='GSA Loop 3', max=9.0, style=ProgressStyle(description_wid…"
      ]
     },
     "metadata": {},
     "output_type": "display_data"
    },
    {
     "data": {
      "application/vnd.jupyter.widget-view+json": {
       "model_id": "",
       "version_major": 2,
       "version_minor": 0
      },
      "text/plain": [
       "HBox(children=(FloatProgress(value=0.0, description='GSA Loop 3', max=9.0, style=ProgressStyle(description_wid…"
      ]
     },
     "metadata": {},
     "output_type": "display_data"
    },
    {
     "data": {
      "application/vnd.jupyter.widget-view+json": {
       "model_id": "",
       "version_major": 2,
       "version_minor": 0
      },
      "text/plain": [
       "HBox(children=(FloatProgress(value=0.0, description='GSA Loop 3', max=9.0, style=ProgressStyle(description_wid…"
      ]
     },
     "metadata": {},
     "output_type": "display_data"
    },
    {
     "data": {
      "application/vnd.jupyter.widget-view+json": {
       "model_id": "",
       "version_major": 2,
       "version_minor": 0
      },
      "text/plain": [
       "HBox(children=(FloatProgress(value=0.0, description='GSA Loop 3', max=9.0, style=ProgressStyle(description_wid…"
      ]
     },
     "metadata": {},
     "output_type": "display_data"
    },
    {
     "data": {
      "application/vnd.jupyter.widget-view+json": {
       "model_id": "",
       "version_major": 2,
       "version_minor": 0
      },
      "text/plain": [
       "HBox(children=(FloatProgress(value=0.0, description='GSA Loop 3', max=9.0, style=ProgressStyle(description_wid…"
      ]
     },
     "metadata": {},
     "output_type": "display_data"
    },
    {
     "data": {
      "application/vnd.jupyter.widget-view+json": {
       "model_id": "",
       "version_major": 2,
       "version_minor": 0
      },
      "text/plain": [
       "HBox(children=(FloatProgress(value=0.0, description='GSA Loop 3', max=9.0, style=ProgressStyle(description_wid…"
      ]
     },
     "metadata": {},
     "output_type": "display_data"
    },
    {
     "data": {
      "application/vnd.jupyter.widget-view+json": {
       "model_id": "",
       "version_major": 2,
       "version_minor": 0
      },
      "text/plain": [
       "HBox(children=(FloatProgress(value=0.0, description='GSA Loop 3', max=9.0, style=ProgressStyle(description_wid…"
      ]
     },
     "metadata": {},
     "output_type": "display_data"
    },
    {
     "data": {
      "application/vnd.jupyter.widget-view+json": {
       "model_id": "",
       "version_major": 2,
       "version_minor": 0
      },
      "text/plain": [
       "HBox(children=(FloatProgress(value=0.0, description='GSA Loop 2', max=9.0, style=ProgressStyle(description_wid…"
      ]
     },
     "metadata": {},
     "output_type": "display_data"
    },
    {
     "data": {
      "application/vnd.jupyter.widget-view+json": {
       "model_id": "",
       "version_major": 2,
       "version_minor": 0
      },
      "text/plain": [
       "HBox(children=(FloatProgress(value=0.0, description='GSA Loop 3', max=9.0, style=ProgressStyle(description_wid…"
      ]
     },
     "metadata": {},
     "output_type": "display_data"
    },
    {
     "data": {
      "application/vnd.jupyter.widget-view+json": {
       "model_id": "",
       "version_major": 2,
       "version_minor": 0
      },
      "text/plain": [
       "HBox(children=(FloatProgress(value=0.0, description='GSA Loop 3', max=9.0, style=ProgressStyle(description_wid…"
      ]
     },
     "metadata": {},
     "output_type": "display_data"
    },
    {
     "data": {
      "application/vnd.jupyter.widget-view+json": {
       "model_id": "",
       "version_major": 2,
       "version_minor": 0
      },
      "text/plain": [
       "HBox(children=(FloatProgress(value=0.0, description='GSA Loop 3', max=9.0, style=ProgressStyle(description_wid…"
      ]
     },
     "metadata": {},
     "output_type": "display_data"
    },
    {
     "data": {
      "application/vnd.jupyter.widget-view+json": {
       "model_id": "",
       "version_major": 2,
       "version_minor": 0
      },
      "text/plain": [
       "HBox(children=(FloatProgress(value=0.0, description='GSA Loop 3', max=9.0, style=ProgressStyle(description_wid…"
      ]
     },
     "metadata": {},
     "output_type": "display_data"
    },
    {
     "data": {
      "application/vnd.jupyter.widget-view+json": {
       "model_id": "",
       "version_major": 2,
       "version_minor": 0
      },
      "text/plain": [
       "HBox(children=(FloatProgress(value=0.0, description='GSA Loop 3', max=9.0, style=ProgressStyle(description_wid…"
      ]
     },
     "metadata": {},
     "output_type": "display_data"
    },
    {
     "data": {
      "application/vnd.jupyter.widget-view+json": {
       "model_id": "",
       "version_major": 2,
       "version_minor": 0
      },
      "text/plain": [
       "HBox(children=(FloatProgress(value=0.0, description='GSA Loop 3', max=9.0, style=ProgressStyle(description_wid…"
      ]
     },
     "metadata": {},
     "output_type": "display_data"
    },
    {
     "data": {
      "application/vnd.jupyter.widget-view+json": {
       "model_id": "",
       "version_major": 2,
       "version_minor": 0
      },
      "text/plain": [
       "HBox(children=(FloatProgress(value=0.0, description='GSA Loop 3', max=9.0, style=ProgressStyle(description_wid…"
      ]
     },
     "metadata": {},
     "output_type": "display_data"
    },
    {
     "data": {
      "application/vnd.jupyter.widget-view+json": {
       "model_id": "",
       "version_major": 2,
       "version_minor": 0
      },
      "text/plain": [
       "HBox(children=(FloatProgress(value=0.0, description='GSA Loop 3', max=9.0, style=ProgressStyle(description_wid…"
      ]
     },
     "metadata": {},
     "output_type": "display_data"
    },
    {
     "data": {
      "application/vnd.jupyter.widget-view+json": {
       "model_id": "",
       "version_major": 2,
       "version_minor": 0
      },
      "text/plain": [
       "HBox(children=(FloatProgress(value=0.0, description='GSA Loop 3', max=9.0, style=ProgressStyle(description_wid…"
      ]
     },
     "metadata": {},
     "output_type": "display_data"
    },
    {
     "data": {
      "application/vnd.jupyter.widget-view+json": {
       "model_id": "",
       "version_major": 2,
       "version_minor": 0
      },
      "text/plain": [
       "HBox(children=(FloatProgress(value=0.0, description='GSA Loop 2', max=9.0, style=ProgressStyle(description_wid…"
      ]
     },
     "metadata": {},
     "output_type": "display_data"
    },
    {
     "data": {
      "application/vnd.jupyter.widget-view+json": {
       "model_id": "",
       "version_major": 2,
       "version_minor": 0
      },
      "text/plain": [
       "HBox(children=(FloatProgress(value=0.0, description='GSA Loop 3', max=9.0, style=ProgressStyle(description_wid…"
      ]
     },
     "metadata": {},
     "output_type": "display_data"
    },
    {
     "data": {
      "application/vnd.jupyter.widget-view+json": {
       "model_id": "",
       "version_major": 2,
       "version_minor": 0
      },
      "text/plain": [
       "HBox(children=(FloatProgress(value=0.0, description='GSA Loop 3', max=9.0, style=ProgressStyle(description_wid…"
      ]
     },
     "metadata": {},
     "output_type": "display_data"
    },
    {
     "data": {
      "application/vnd.jupyter.widget-view+json": {
       "model_id": "",
       "version_major": 2,
       "version_minor": 0
      },
      "text/plain": [
       "HBox(children=(FloatProgress(value=0.0, description='GSA Loop 3', max=9.0, style=ProgressStyle(description_wid…"
      ]
     },
     "metadata": {},
     "output_type": "display_data"
    },
    {
     "data": {
      "application/vnd.jupyter.widget-view+json": {
       "model_id": "",
       "version_major": 2,
       "version_minor": 0
      },
      "text/plain": [
       "HBox(children=(FloatProgress(value=0.0, description='GSA Loop 3', max=9.0, style=ProgressStyle(description_wid…"
      ]
     },
     "metadata": {},
     "output_type": "display_data"
    },
    {
     "data": {
      "application/vnd.jupyter.widget-view+json": {
       "model_id": "",
       "version_major": 2,
       "version_minor": 0
      },
      "text/plain": [
       "HBox(children=(FloatProgress(value=0.0, description='GSA Loop 3', max=9.0, style=ProgressStyle(description_wid…"
      ]
     },
     "metadata": {},
     "output_type": "display_data"
    },
    {
     "data": {
      "application/vnd.jupyter.widget-view+json": {
       "model_id": "",
       "version_major": 2,
       "version_minor": 0
      },
      "text/plain": [
       "HBox(children=(FloatProgress(value=0.0, description='GSA Loop 3', max=9.0, style=ProgressStyle(description_wid…"
      ]
     },
     "metadata": {},
     "output_type": "display_data"
    },
    {
     "data": {
      "application/vnd.jupyter.widget-view+json": {
       "model_id": "",
       "version_major": 2,
       "version_minor": 0
      },
      "text/plain": [
       "HBox(children=(FloatProgress(value=0.0, description='GSA Loop 3', max=9.0, style=ProgressStyle(description_wid…"
      ]
     },
     "metadata": {},
     "output_type": "display_data"
    },
    {
     "data": {
      "application/vnd.jupyter.widget-view+json": {
       "model_id": "",
       "version_major": 2,
       "version_minor": 0
      },
      "text/plain": [
       "HBox(children=(FloatProgress(value=0.0, description='GSA Loop 3', max=9.0, style=ProgressStyle(description_wid…"
      ]
     },
     "metadata": {},
     "output_type": "display_data"
    },
    {
     "data": {
      "application/vnd.jupyter.widget-view+json": {
       "model_id": "",
       "version_major": 2,
       "version_minor": 0
      },
      "text/plain": [
       "HBox(children=(FloatProgress(value=0.0, description='GSA Loop 3', max=9.0, style=ProgressStyle(description_wid…"
      ]
     },
     "metadata": {},
     "output_type": "display_data"
    },
    {
     "data": {
      "application/vnd.jupyter.widget-view+json": {
       "model_id": "",
       "version_major": 2,
       "version_minor": 0
      },
      "text/plain": [
       "HBox(children=(FloatProgress(value=0.0, description='GSA Loop 2', max=9.0, style=ProgressStyle(description_wid…"
      ]
     },
     "metadata": {},
     "output_type": "display_data"
    },
    {
     "data": {
      "application/vnd.jupyter.widget-view+json": {
       "model_id": "",
       "version_major": 2,
       "version_minor": 0
      },
      "text/plain": [
       "HBox(children=(FloatProgress(value=0.0, description='GSA Loop 3', max=9.0, style=ProgressStyle(description_wid…"
      ]
     },
     "metadata": {},
     "output_type": "display_data"
    },
    {
     "data": {
      "application/vnd.jupyter.widget-view+json": {
       "model_id": "",
       "version_major": 2,
       "version_minor": 0
      },
      "text/plain": [
       "HBox(children=(FloatProgress(value=0.0, description='GSA Loop 3', max=9.0, style=ProgressStyle(description_wid…"
      ]
     },
     "metadata": {},
     "output_type": "display_data"
    },
    {
     "data": {
      "application/vnd.jupyter.widget-view+json": {
       "model_id": "",
       "version_major": 2,
       "version_minor": 0
      },
      "text/plain": [
       "HBox(children=(FloatProgress(value=0.0, description='GSA Loop 3', max=9.0, style=ProgressStyle(description_wid…"
      ]
     },
     "metadata": {},
     "output_type": "display_data"
    },
    {
     "data": {
      "application/vnd.jupyter.widget-view+json": {
       "model_id": "",
       "version_major": 2,
       "version_minor": 0
      },
      "text/plain": [
       "HBox(children=(FloatProgress(value=0.0, description='GSA Loop 3', max=9.0, style=ProgressStyle(description_wid…"
      ]
     },
     "metadata": {},
     "output_type": "display_data"
    },
    {
     "data": {
      "application/vnd.jupyter.widget-view+json": {
       "model_id": "",
       "version_major": 2,
       "version_minor": 0
      },
      "text/plain": [
       "HBox(children=(FloatProgress(value=0.0, description='GSA Loop 3', max=9.0, style=ProgressStyle(description_wid…"
      ]
     },
     "metadata": {},
     "output_type": "display_data"
    },
    {
     "data": {
      "application/vnd.jupyter.widget-view+json": {
       "model_id": "",
       "version_major": 2,
       "version_minor": 0
      },
      "text/plain": [
       "HBox(children=(FloatProgress(value=0.0, description='GSA Loop 3', max=9.0, style=ProgressStyle(description_wid…"
      ]
     },
     "metadata": {},
     "output_type": "display_data"
    },
    {
     "data": {
      "application/vnd.jupyter.widget-view+json": {
       "model_id": "",
       "version_major": 2,
       "version_minor": 0
      },
      "text/plain": [
       "HBox(children=(FloatProgress(value=0.0, description='GSA Loop 3', max=9.0, style=ProgressStyle(description_wid…"
      ]
     },
     "metadata": {},
     "output_type": "display_data"
    },
    {
     "data": {
      "application/vnd.jupyter.widget-view+json": {
       "model_id": "",
       "version_major": 2,
       "version_minor": 0
      },
      "text/plain": [
       "HBox(children=(FloatProgress(value=0.0, description='GSA Loop 3', max=9.0, style=ProgressStyle(description_wid…"
      ]
     },
     "metadata": {},
     "output_type": "display_data"
    },
    {
     "data": {
      "application/vnd.jupyter.widget-view+json": {
       "model_id": "",
       "version_major": 2,
       "version_minor": 0
      },
      "text/plain": [
       "HBox(children=(FloatProgress(value=0.0, description='GSA Loop 3', max=9.0, style=ProgressStyle(description_wid…"
      ]
     },
     "metadata": {},
     "output_type": "display_data"
    },
    {
     "data": {
      "application/vnd.jupyter.widget-view+json": {
       "model_id": "",
       "version_major": 2,
       "version_minor": 0
      },
      "text/plain": [
       "HBox(children=(FloatProgress(value=0.0, description='GSA Loop 2', max=9.0, style=ProgressStyle(description_wid…"
      ]
     },
     "metadata": {},
     "output_type": "display_data"
    },
    {
     "data": {
      "application/vnd.jupyter.widget-view+json": {
       "model_id": "",
       "version_major": 2,
       "version_minor": 0
      },
      "text/plain": [
       "HBox(children=(FloatProgress(value=0.0, description='GSA Loop 3', max=9.0, style=ProgressStyle(description_wid…"
      ]
     },
     "metadata": {},
     "output_type": "display_data"
    },
    {
     "data": {
      "application/vnd.jupyter.widget-view+json": {
       "model_id": "",
       "version_major": 2,
       "version_minor": 0
      },
      "text/plain": [
       "HBox(children=(FloatProgress(value=0.0, description='GSA Loop 3', max=9.0, style=ProgressStyle(description_wid…"
      ]
     },
     "metadata": {},
     "output_type": "display_data"
    },
    {
     "data": {
      "application/vnd.jupyter.widget-view+json": {
       "model_id": "",
       "version_major": 2,
       "version_minor": 0
      },
      "text/plain": [
       "HBox(children=(FloatProgress(value=0.0, description='GSA Loop 3', max=9.0, style=ProgressStyle(description_wid…"
      ]
     },
     "metadata": {},
     "output_type": "display_data"
    },
    {
     "data": {
      "application/vnd.jupyter.widget-view+json": {
       "model_id": "",
       "version_major": 2,
       "version_minor": 0
      },
      "text/plain": [
       "HBox(children=(FloatProgress(value=0.0, description='GSA Loop 3', max=9.0, style=ProgressStyle(description_wid…"
      ]
     },
     "metadata": {},
     "output_type": "display_data"
    },
    {
     "data": {
      "application/vnd.jupyter.widget-view+json": {
       "model_id": "",
       "version_major": 2,
       "version_minor": 0
      },
      "text/plain": [
       "HBox(children=(FloatProgress(value=0.0, description='GSA Loop 3', max=9.0, style=ProgressStyle(description_wid…"
      ]
     },
     "metadata": {},
     "output_type": "display_data"
    },
    {
     "data": {
      "application/vnd.jupyter.widget-view+json": {
       "model_id": "",
       "version_major": 2,
       "version_minor": 0
      },
      "text/plain": [
       "HBox(children=(FloatProgress(value=0.0, description='GSA Loop 3', max=9.0, style=ProgressStyle(description_wid…"
      ]
     },
     "metadata": {},
     "output_type": "display_data"
    },
    {
     "data": {
      "application/vnd.jupyter.widget-view+json": {
       "model_id": "",
       "version_major": 2,
       "version_minor": 0
      },
      "text/plain": [
       "HBox(children=(FloatProgress(value=0.0, description='GSA Loop 3', max=9.0, style=ProgressStyle(description_wid…"
      ]
     },
     "metadata": {},
     "output_type": "display_data"
    },
    {
     "data": {
      "application/vnd.jupyter.widget-view+json": {
       "model_id": "",
       "version_major": 2,
       "version_minor": 0
      },
      "text/plain": [
       "HBox(children=(FloatProgress(value=0.0, description='GSA Loop 3', max=9.0, style=ProgressStyle(description_wid…"
      ]
     },
     "metadata": {},
     "output_type": "display_data"
    },
    {
     "data": {
      "application/vnd.jupyter.widget-view+json": {
       "model_id": "",
       "version_major": 2,
       "version_minor": 0
      },
      "text/plain": [
       "HBox(children=(FloatProgress(value=0.0, description='GSA Loop 3', max=9.0, style=ProgressStyle(description_wid…"
      ]
     },
     "metadata": {},
     "output_type": "display_data"
    },
    {
     "data": {
      "application/vnd.jupyter.widget-view+json": {
       "model_id": "",
       "version_major": 2,
       "version_minor": 0
      },
      "text/plain": [
       "HBox(children=(FloatProgress(value=0.0, description='GSA Loop 2', max=9.0, style=ProgressStyle(description_wid…"
      ]
     },
     "metadata": {},
     "output_type": "display_data"
    },
    {
     "data": {
      "application/vnd.jupyter.widget-view+json": {
       "model_id": "",
       "version_major": 2,
       "version_minor": 0
      },
      "text/plain": [
       "HBox(children=(FloatProgress(value=0.0, description='GSA Loop 3', max=9.0, style=ProgressStyle(description_wid…"
      ]
     },
     "metadata": {},
     "output_type": "display_data"
    },
    {
     "data": {
      "application/vnd.jupyter.widget-view+json": {
       "model_id": "",
       "version_major": 2,
       "version_minor": 0
      },
      "text/plain": [
       "HBox(children=(FloatProgress(value=0.0, description='GSA Loop 3', max=9.0, style=ProgressStyle(description_wid…"
      ]
     },
     "metadata": {},
     "output_type": "display_data"
    },
    {
     "data": {
      "application/vnd.jupyter.widget-view+json": {
       "model_id": "",
       "version_major": 2,
       "version_minor": 0
      },
      "text/plain": [
       "HBox(children=(FloatProgress(value=0.0, description='GSA Loop 3', max=9.0, style=ProgressStyle(description_wid…"
      ]
     },
     "metadata": {},
     "output_type": "display_data"
    },
    {
     "data": {
      "application/vnd.jupyter.widget-view+json": {
       "model_id": "",
       "version_major": 2,
       "version_minor": 0
      },
      "text/plain": [
       "HBox(children=(FloatProgress(value=0.0, description='GSA Loop 3', max=9.0, style=ProgressStyle(description_wid…"
      ]
     },
     "metadata": {},
     "output_type": "display_data"
    },
    {
     "data": {
      "application/vnd.jupyter.widget-view+json": {
       "model_id": "",
       "version_major": 2,
       "version_minor": 0
      },
      "text/plain": [
       "HBox(children=(FloatProgress(value=0.0, description='GSA Loop 3', max=9.0, style=ProgressStyle(description_wid…"
      ]
     },
     "metadata": {},
     "output_type": "display_data"
    },
    {
     "data": {
      "application/vnd.jupyter.widget-view+json": {
       "model_id": "",
       "version_major": 2,
       "version_minor": 0
      },
      "text/plain": [
       "HBox(children=(FloatProgress(value=0.0, description='GSA Loop 3', max=9.0, style=ProgressStyle(description_wid…"
      ]
     },
     "metadata": {},
     "output_type": "display_data"
    },
    {
     "data": {
      "application/vnd.jupyter.widget-view+json": {
       "model_id": "",
       "version_major": 2,
       "version_minor": 0
      },
      "text/plain": [
       "HBox(children=(FloatProgress(value=0.0, description='GSA Loop 3', max=9.0, style=ProgressStyle(description_wid…"
      ]
     },
     "metadata": {},
     "output_type": "display_data"
    },
    {
     "data": {
      "application/vnd.jupyter.widget-view+json": {
       "model_id": "",
       "version_major": 2,
       "version_minor": 0
      },
      "text/plain": [
       "HBox(children=(FloatProgress(value=0.0, description='GSA Loop 3', max=9.0, style=ProgressStyle(description_wid…"
      ]
     },
     "metadata": {},
     "output_type": "display_data"
    },
    {
     "data": {
      "application/vnd.jupyter.widget-view+json": {
       "model_id": "",
       "version_major": 2,
       "version_minor": 0
      },
      "text/plain": [
       "HBox(children=(FloatProgress(value=0.0, description='GSA Loop 3', max=9.0, style=ProgressStyle(description_wid…"
      ]
     },
     "metadata": {},
     "output_type": "display_data"
    },
    {
     "data": {
      "application/vnd.jupyter.widget-view+json": {
       "model_id": "",
       "version_major": 2,
       "version_minor": 0
      },
      "text/plain": [
       "HBox(children=(FloatProgress(value=0.0, description='GSA Loop 2', max=9.0, style=ProgressStyle(description_wid…"
      ]
     },
     "metadata": {},
     "output_type": "display_data"
    },
    {
     "data": {
      "application/vnd.jupyter.widget-view+json": {
       "model_id": "",
       "version_major": 2,
       "version_minor": 0
      },
      "text/plain": [
       "HBox(children=(FloatProgress(value=0.0, description='GSA Loop 3', max=9.0, style=ProgressStyle(description_wid…"
      ]
     },
     "metadata": {},
     "output_type": "display_data"
    },
    {
     "data": {
      "application/vnd.jupyter.widget-view+json": {
       "model_id": "",
       "version_major": 2,
       "version_minor": 0
      },
      "text/plain": [
       "HBox(children=(FloatProgress(value=0.0, description='GSA Loop 3', max=9.0, style=ProgressStyle(description_wid…"
      ]
     },
     "metadata": {},
     "output_type": "display_data"
    },
    {
     "data": {
      "application/vnd.jupyter.widget-view+json": {
       "model_id": "",
       "version_major": 2,
       "version_minor": 0
      },
      "text/plain": [
       "HBox(children=(FloatProgress(value=0.0, description='GSA Loop 3', max=9.0, style=ProgressStyle(description_wid…"
      ]
     },
     "metadata": {},
     "output_type": "display_data"
    },
    {
     "data": {
      "application/vnd.jupyter.widget-view+json": {
       "model_id": "",
       "version_major": 2,
       "version_minor": 0
      },
      "text/plain": [
       "HBox(children=(FloatProgress(value=0.0, description='GSA Loop 3', max=9.0, style=ProgressStyle(description_wid…"
      ]
     },
     "metadata": {},
     "output_type": "display_data"
    },
    {
     "data": {
      "application/vnd.jupyter.widget-view+json": {
       "model_id": "",
       "version_major": 2,
       "version_minor": 0
      },
      "text/plain": [
       "HBox(children=(FloatProgress(value=0.0, description='GSA Loop 3', max=9.0, style=ProgressStyle(description_wid…"
      ]
     },
     "metadata": {},
     "output_type": "display_data"
    },
    {
     "data": {
      "application/vnd.jupyter.widget-view+json": {
       "model_id": "",
       "version_major": 2,
       "version_minor": 0
      },
      "text/plain": [
       "HBox(children=(FloatProgress(value=0.0, description='GSA Loop 3', max=9.0, style=ProgressStyle(description_wid…"
      ]
     },
     "metadata": {},
     "output_type": "display_data"
    },
    {
     "data": {
      "application/vnd.jupyter.widget-view+json": {
       "model_id": "",
       "version_major": 2,
       "version_minor": 0
      },
      "text/plain": [
       "HBox(children=(FloatProgress(value=0.0, description='GSA Loop 3', max=9.0, style=ProgressStyle(description_wid…"
      ]
     },
     "metadata": {},
     "output_type": "display_data"
    },
    {
     "data": {
      "application/vnd.jupyter.widget-view+json": {
       "model_id": "",
       "version_major": 2,
       "version_minor": 0
      },
      "text/plain": [
       "HBox(children=(FloatProgress(value=0.0, description='GSA Loop 3', max=9.0, style=ProgressStyle(description_wid…"
      ]
     },
     "metadata": {},
     "output_type": "display_data"
    },
    {
     "data": {
      "application/vnd.jupyter.widget-view+json": {
       "model_id": "",
       "version_major": 2,
       "version_minor": 0
      },
      "text/plain": [
       "HBox(children=(FloatProgress(value=0.0, description='GSA Loop 3', max=9.0, style=ProgressStyle(description_wid…"
      ]
     },
     "metadata": {},
     "output_type": "display_data"
    },
    {
     "name": "stdout",
     "output_type": "stream",
     "text": [
      "\n",
      "NOTE: for Activ column, 1 = sigmoid || 2 = relu || 3 = tanh\n"
     ]
    },
    {
     "data": {
      "text/html": [
       "<div>\n",
       "<style scoped>\n",
       "    .dataframe tbody tr th:only-of-type {\n",
       "        vertical-align: middle;\n",
       "    }\n",
       "\n",
       "    .dataframe tbody tr th {\n",
       "        vertical-align: top;\n",
       "    }\n",
       "\n",
       "    .dataframe thead th {\n",
       "        text-align: right;\n",
       "    }\n",
       "</style>\n",
       "<table border=\"1\" class=\"dataframe\">\n",
       "  <thead>\n",
       "    <tr style=\"text-align: right;\">\n",
       "      <th></th>\n",
       "      <th>Neur1</th>\n",
       "      <th>Neur2</th>\n",
       "      <th>Neur3</th>\n",
       "      <th>Activ</th>\n",
       "      <th>r</th>\n",
       "      <th>r2</th>\n",
       "      <th>SMAPE</th>\n",
       "      <th>RMSE</th>\n",
       "      <th>norm-r</th>\n",
       "      <th>norm-r2</th>\n",
       "      <th>norm-SMAPE</th>\n",
       "      <th>norm-RMSE</th>\n",
       "      <th>INDEX</th>\n",
       "    </tr>\n",
       "  </thead>\n",
       "  <tbody>\n",
       "    <tr>\n",
       "      <th>0</th>\n",
       "      <td>112.000</td>\n",
       "      <td>112.000</td>\n",
       "      <td>80.000</td>\n",
       "      <td>2.000</td>\n",
       "      <td>0.839</td>\n",
       "      <td>0.576</td>\n",
       "      <td>15.343</td>\n",
       "      <td>1.073</td>\n",
       "      <td>0.978</td>\n",
       "      <td>1.000</td>\n",
       "      <td>0.990</td>\n",
       "      <td>1.000</td>\n",
       "      <td>0.995</td>\n",
       "    </tr>\n",
       "    <tr>\n",
       "      <th>1</th>\n",
       "      <td>128.000</td>\n",
       "      <td>112.000</td>\n",
       "      <td>112.000</td>\n",
       "      <td>2.000</td>\n",
       "      <td>0.846</td>\n",
       "      <td>0.569</td>\n",
       "      <td>15.255</td>\n",
       "      <td>1.094</td>\n",
       "      <td>0.986</td>\n",
       "      <td>0.992</td>\n",
       "      <td>0.996</td>\n",
       "      <td>0.980</td>\n",
       "      <td>0.989</td>\n",
       "    </tr>\n",
       "    <tr>\n",
       "      <th>2</th>\n",
       "      <td>128.000</td>\n",
       "      <td>128.000</td>\n",
       "      <td>96.000</td>\n",
       "      <td>2.000</td>\n",
       "      <td>0.830</td>\n",
       "      <td>0.548</td>\n",
       "      <td>15.195</td>\n",
       "      <td>1.110</td>\n",
       "      <td>0.968</td>\n",
       "      <td>0.972</td>\n",
       "      <td>1.000</td>\n",
       "      <td>0.964</td>\n",
       "      <td>0.977</td>\n",
       "    </tr>\n",
       "  </tbody>\n",
       "</table>\n",
       "</div>"
      ],
      "text/plain": [
       "    Neur1   Neur2   Neur3  Activ     r    r2  SMAPE  RMSE  norm-r  norm-r2  norm-SMAPE  norm-RMSE  INDEX\n",
       "0 112.000 112.000  80.000  2.000 0.839 0.576 15.343 1.073   0.978    1.000       0.990      1.000  0.995\n",
       "1 128.000 112.000 112.000  2.000 0.846 0.569 15.255 1.094   0.986    0.992       0.996      0.980  0.989\n",
       "2 128.000 128.000  96.000  2.000 0.830 0.548 15.195 1.110   0.968    0.972       1.000      0.964  0.977"
      ]
     },
     "execution_count": 21,
     "metadata": {},
     "output_type": "execute_result"
    }
   ],
   "source": [
    "best_nn_3 = []\n",
    "Neurons = range(0, 136,16)\n",
    "Activations = list(range(1,4)) #see dictionary definition in above function.\n",
    "for GSA_neur1 in tqdm(Neurons,desc='GSA Loop 1'): \n",
    "    for GSA_neur2 in tqdm(Neurons,desc='GSA Loop 2',leave = False):\n",
    "        for GSA_neur3 in tqdm(Neurons,desc='GSA Loop 3',leave = False): \n",
    "            for GSA_activ in Activations: \n",
    "                if GSA_neur3 > GSA_neur2 or GSA_neur2 > GSA_neur1 or GSA_neur1 == 0:\n",
    "                    continue\n",
    "                pred_y_nn_3, test_y_nn_3, best_nn_3 = train_and_test_NN(train_X = train_x, train_Y = train_y[:,2], test_X = test_x, test_Y = test_y[:,2], neur1 = GSA_neur1, neur2 = GSA_neur2, neur3 = GSA_neur3, activ = GSA_activ, splits = 5, GSA_BEST = best_nn_3)\n",
    "                \n",
    "#Convert returned GSA results to np array\n",
    "best_nn_3=np.vstack(best_nn_3)\n",
    "\n",
    "#Normalize metrics and compute reference index\n",
    "best_nn_3 = Ref_IDX(GSA_array = best_nn_3, num_desc = 4)  \n",
    "\n",
    "#Print 3 best configurations of each model\n",
    "pd.set_option('expand_frame_repr', False)\n",
    "pd.options.display.float_format = \"{:,.3f}\".format\n",
    "print('NOTE: for Activ column, 1 = sigmoid || 2 = relu || 3 = tanh')\n",
    "headings = ['Neur1', 'Neur2', 'Neur3', 'Activ','r','r2','SMAPE','RMSE','norm-r','norm-r2','norm-SMAPE','norm-RMSE','INDEX']\n",
    "best_nn_3 = pd.DataFrame(best_nn_3[:3],columns = headings)\n",
    "best_nn_3"
   ]
  },
  {
   "cell_type": "code",
   "execution_count": 22,
   "metadata": {},
   "outputs": [
    {
     "name": "stdout",
     "output_type": "stream",
     "text": [
      "      r     r2  SMAPE  RMSE\n",
      "0 0.301 -0.122 21.277 0.623\n",
      "      r     r2  SMAPE  RMSE\n",
      "0 0.451 -0.046 26.797 1.069\n",
      "      r     r2  SMAPE  RMSE\n",
      "0 0.441 -0.275 28.646 1.994\n"
     ]
    }
   ],
   "source": [
    "best_lr_1,best_lr_2, best_lr_3 = [], [], []\n",
    "pred_y_lr_1, test_y_lr_1, best_lr_1  = train_and_test_LR(train_X = train_x, train_Y = train_y[:,0], test_X = test_x, test_Y = test_y[:,0],splits = 5, GSA_BEST = best_lr_1)\n",
    "pred_y_lr_2, test_y_lr_2, best_lr_2 = train_and_test_LR(train_X = train_x, train_Y = train_y[:,1], test_X = test_x, test_Y = test_y[:,1],splits = 5, GSA_BEST = best_lr_2)\n",
    "pred_y_lr_3, test_y_lr_3, best_lr_3 = train_and_test_LR(train_X = train_x, train_Y = train_y[:,2], test_X = test_x, test_Y = test_y[:,2],splits = 5, GSA_BEST = best_lr_3)\n",
    "\n",
    "#Convert returned GSA results to np array\n",
    "best_lr_1=np.vstack(best_lr_1)\n",
    "best_lr_2=np.vstack(best_lr_2)\n",
    "best_lr_3=np.vstack(best_lr_3)\n",
    "\n",
    "#Print best configuration of each model\n",
    "pd.set_option('expand_frame_repr', False)\n",
    "pd.options.display.float_format = \"{:,.3f}\".format\n",
    "headings = ['r','r2','SMAPE','RMSE']\n",
    "best_lr_1 = pd.DataFrame(best_lr_1[:1],columns = headings)\n",
    "print(best_lr_1)\n",
    "best_lr_2 = pd.DataFrame(best_lr_2[:1],columns = headings)\n",
    "print(best_lr_2)\n",
    "best_lr_3 = pd.DataFrame(best_lr_3[:1],columns = headings)\n",
    "print(best_lr_3)\n"
   ]
  },
  {
   "cell_type": "code",
   "execution_count": 23,
   "metadata": {},
   "outputs": [
    {
     "name": "stdout",
     "output_type": "stream",
     "text": [
      "   RR_Alpha        r        r2     SMAPE     RMSE   norm-r  norm-r2  norm-SMAPE  norm-RMSE    INDEX\n",
      "0  1.000000 0.294052 -0.042403 20.855159 0.605376 0.583202 1.000000    1.000000   1.000000 0.958320\n",
      "1  0.100000 0.298408 -0.083046 20.959576 0.610888 0.850969 0.491058    0.937576   0.823318 0.760683\n",
      "2  0.010000 0.300502 -0.114208 21.221940 0.620518 0.979675 0.100839    0.780726   0.514580 0.516811\n",
      "   RR_Alpha        r        r2     SMAPE     RMSE   norm-r  norm-r2  norm-SMAPE  norm-RMSE    INDEX\n",
      "0  0.000010 0.450722 -0.045609 26.797433 1.069142 1.000000 0.892295    1.000000   0.996726 0.966706\n",
      "1  0.000100 0.450718 -0.045585 26.800162 1.069138 0.999957 0.892438    0.998220   0.996768 0.966223\n",
      "2  0.001000 0.450679 -0.045344 26.827134 1.069099 0.999514 0.893852    0.980619   0.997178 0.961446\n",
      "   RR_Alpha        r        r2     SMAPE     RMSE   norm-r  norm-r2  norm-SMAPE  norm-RMSE    INDEX\n",
      "0  1.000000 0.503895  0.066529 24.460260 1.762208 0.690768 1.000000    1.000000   1.000000 0.969077\n",
      "1  0.100000 0.458122 -0.129089 27.469602 1.898154 0.188113 0.505112    0.320767   0.587663 0.442874\n",
      "2 10.000000 0.532055 -0.176333 27.487462 1.975822 1.000000 0.385589    0.316736   0.352088 0.416324\n"
     ]
    }
   ],
   "source": [
    "best_rr_1,best_rr_2, best_rr_3 = [], [], []\n",
    "# Train and test 3 models, GSA Alpha Values from 10^-6 to 10^6\n",
    "for GSA_Alpha in [0.00001, 0.0001, 0.001, 0.01, 0.1, 1, 10, 100, 1000, 10000, 100000, 1000000]: \n",
    "    pred_y_rr_1, test_y_rr_1, best_rr_1  = train_and_test_RR(train_X = train_x, train_Y = train_y[:,0], test_X = test_x, test_Y = test_y[:,0],RR_Alpha = GSA_Alpha, splits = 5, GSA_BEST = best_rr_1)\n",
    "    pred_y_rr_2, test_y_rr_2, best_rr_2 = train_and_test_RR(train_X = train_x, train_Y = train_y[:,1], test_X = test_x, test_Y = test_y[:,1],RR_Alpha = GSA_Alpha, splits = 5, GSA_BEST = best_rr_2)\n",
    "    pred_y_rr_3, test_y_rr_3, best_rr_3 = train_and_test_RR(train_X = train_x, train_Y = train_y[:,2], test_X = test_x, test_Y = test_y[:,2],RR_Alpha = GSA_Alpha, splits = 5, GSA_BEST = best_rr_3)\n",
    "    \n",
    "#Convert returned GSA results to np array\n",
    "best_rr_1=np.vstack(best_rr_1)\n",
    "best_rr_2=np.vstack(best_rr_2)\n",
    "best_rr_3=np.vstack(best_rr_3)\n",
    "\n",
    "#Normalize metrics and compute reference index\n",
    "best_rr_1 = Ref_IDX(GSA_array = best_rr_1, num_desc = 1)    \n",
    "best_rr_2 = Ref_IDX(GSA_array = best_rr_2, num_desc = 1)     \n",
    "best_rr_3 = Ref_IDX(GSA_array = best_rr_3, num_desc = 1)  \n",
    "\n",
    "#Print 3 best configurations of each model\n",
    "pd.set_option('expand_frame_repr', False)\n",
    "pd.options.display.float_format = \"{:,.6f}\".format\n",
    "headings = ['RR_Alpha','r', 'r2','SMAPE','RMSE','norm-r', 'norm-r2','norm-SMAPE','norm-RMSE','INDEX']\n",
    "best_rr_1 = pd.DataFrame(best_rr_1[:3],columns = headings)\n",
    "print(best_rr_1)\n",
    "best_rr_2 = pd.DataFrame(best_rr_2[:3],columns = headings)\n",
    "print(best_rr_2)\n",
    "best_rr_3 = pd.DataFrame(best_rr_3[:3],columns = headings)\n",
    "print(best_rr_3)"
   ]
  },
  {
   "cell_type": "code",
   "execution_count": 24,
   "metadata": {},
   "outputs": [
    {
     "name": "stdout",
     "output_type": "stream",
     "text": [
      "   Lasso_Alpha        r        r2     SMAPE     RMSE   norm-r  norm-r2  norm-SMAPE  norm-RMSE    INDEX\n",
      "0     0.010000 0.274815 -0.065882 20.895626 0.611413 0.911857 1.000000    0.985836   1.000000 0.986937\n",
      "1     0.001000 0.301380 -0.103189 20.872176 0.617483 1.000000 0.336097    1.000000   0.758742 0.728451\n",
      "2     0.000100 0.300834 -0.120325 21.234391 0.622370 0.998190 0.031147    0.781232   0.564475 0.512875\n",
      "   Lasso_Alpha        r        r2     SMAPE     RMSE   norm-r  norm-r2  norm-SMAPE  norm-RMSE    INDEX\n",
      "0     0.000010 0.450718 -0.045519 26.802597 1.069126 1.000000 0.959387    1.000000   0.993434 0.985846\n",
      "1     0.000100 0.450682 -0.044692 26.851229 1.068983 0.999918 0.964598    0.976123   0.994921 0.980684\n",
      "2     0.001000 0.449565 -0.039073 27.289192 1.068495 0.997440 1.000000    0.761095   1.000000 0.928073\n",
      "   Lasso_Alpha        r        r2     SMAPE     RMSE   norm-r  norm-r2  norm-SMAPE  norm-RMSE    INDEX\n",
      "0     0.010000 0.477294 -0.121470 27.167006 1.889165 0.994855 1.000000    0.872892   1.000000 0.961353\n",
      "1     0.100000 0.479762 -0.165949 26.915995 1.959426 1.000000 0.785418    1.000000   0.653441 0.831658\n",
      "2     0.001000 0.446375 -0.253115 28.468714 1.979337 0.930409 0.364892    0.213728   0.555232 0.433197\n"
     ]
    }
   ],
   "source": [
    "best_lasso_1,best_lasso_2, best_lasso_3 = [], [], []\n",
    "# Train and test 3 models, GSA Alpha Values from 10^-6 to 10^6\n",
    "for GSA_Alpha in [0.00001, 0.0001, 0.001, 0.01, 0.1, 1, 10, 100, 1000, 10000, 100000, 1000000]: \n",
    "    pred_y_Lasso_1, test_y_Lasso_1, best_lasso_1  = train_and_test_lasso(train_X = train_x, train_Y = train_y[:,0], test_X = test_x, test_Y = test_y[:,0],Lasso_Alpha = GSA_Alpha, splits = 5, GSA_BEST = best_lasso_1)\n",
    "    pred_y_Lasso_2, test_y_Lasso_2, best_lasso_2 = train_and_test_lasso(train_X = train_x, train_Y = train_y[:,1], test_X = test_x, test_Y = test_y[:,1],Lasso_Alpha = GSA_Alpha, splits = 5, GSA_BEST = best_lasso_2)\n",
    "    pred_y_Lasso_3, test_y_Lasso_3, best_lasso_3 = train_and_test_lasso(train_X = train_x, train_Y = train_y[:,2], test_X = test_x, test_Y = test_y[:,2],Lasso_Alpha = GSA_Alpha, splits = 5, GSA_BEST = best_lasso_3)\n",
    "    \n",
    "#Convert returned GSA results to np array\n",
    "best_lasso_1=np.vstack(best_lasso_1)\n",
    "best_lasso_2=np.vstack(best_lasso_2)\n",
    "best_lasso_3=np.vstack(best_lasso_3)\n",
    "\n",
    "#Normalize metrics and compute reference index\n",
    "best_lasso_1 = Ref_IDX(GSA_array = best_lasso_1, num_desc = 1)    \n",
    "best_lasso_2 = Ref_IDX(GSA_array = best_lasso_2, num_desc = 1)     \n",
    "best_lasso_3 = Ref_IDX(GSA_array = best_lasso_3, num_desc = 1)  \n",
    "\n",
    "#Print 3 best configurations of each model\n",
    "pd.set_option('expand_frame_repr', False)\n",
    "pd.options.display.float_format = \"{:,.6f}\".format\n",
    "headings = ['Lasso_Alpha','r', 'r2','SMAPE','RMSE','norm-r', 'norm-r2','norm-SMAPE','norm-RMSE','INDEX']\n",
    "best_lasso_1 = pd.DataFrame(best_lasso_1[:3],columns = headings)\n",
    "print(best_lasso_1)\n",
    "best_lasso_2 = pd.DataFrame(best_lasso_2[:3],columns = headings)\n",
    "print(best_lasso_2)\n",
    "best_lasso_3 = pd.DataFrame(best_lasso_3[:3],columns = headings)\n",
    "print(best_lasso_3)"
   ]
  },
  {
   "cell_type": "code",
   "execution_count": 25,
   "metadata": {},
   "outputs": [
    {
     "name": "stdout",
     "output_type": "stream",
     "text": [
      "    #NN     r     r2  SMAPE  RMSE  norm-r  norm-r2  norm-SMAPE  norm-RMSE  INDEX\n",
      "0 7.000 0.501 -0.375 19.722 0.633   1.000    1.000       0.851      1.000  0.955\n",
      "1 6.000 0.495 -0.413 19.609 0.638   0.960    0.855       0.876      0.902  0.886\n",
      "2 8.000 0.474 -0.432 20.643 0.642   0.828    0.782       0.644      0.797  0.750\n",
      "    #NN     r    r2  SMAPE  RMSE  norm-r  norm-r2  norm-SMAPE  norm-RMSE  INDEX\n",
      "0 5.000 0.696 0.229 24.048 0.936   0.810    1.000       0.974      1.000  0.973\n",
      "1 4.000 0.674 0.193 24.167 0.957   0.653    0.934       0.954      0.887  0.898\n",
      "2 6.000 0.722 0.192 25.104 0.951   1.000    0.933       0.798      0.922  0.896\n",
      "     #NN     r    r2  SMAPE  RMSE  norm-r  norm-r2  norm-SMAPE  norm-RMSE  INDEX\n",
      "0 11.000 0.700 0.272 21.441 1.541   0.998    1.000       0.994      0.998  0.997\n",
      "1 10.000 0.699 0.268 21.420 1.540   0.984    0.985       1.000      1.000  0.994\n",
      "2  9.000 0.693 0.260 21.582 1.551   0.934    0.954       0.956      0.961  0.955\n"
     ]
    }
   ],
   "source": [
    "best_knn_1,best_knn_2, best_knn_3 = [], [], []\n",
    "# Train and test 3 models, GSA Neighbour Amounts from 2 to 25\n",
    "for GSA_NN in range(2,26): \n",
    "    pred_y_knn_1, test_y_knn_1,best_knn_1 = train_and_test_KNN(train_X = train_x, train_Y = train_y[:,0], test_X = test_x, test_Y = test_y[:,0], N_neighbors = GSA_NN, splits = 5, GSA_BEST = best_knn_1 )\n",
    "    pred_y_knn_2, test_y_knn_2,best_knn_2 = train_and_test_KNN(train_X = train_x, train_Y = train_y[:,1], test_X = test_x, test_Y = test_y[:,1], N_neighbors = GSA_NN, splits = 5, GSA_BEST = best_knn_2 )\n",
    "    pred_y_knn_3, test_y_knn_3,best_knn_3 = train_and_test_KNN(train_X = train_x, train_Y = train_y[:,2], test_X = test_x, test_Y = test_y[:,2], N_neighbors = GSA_NN, splits = 5, GSA_BEST = best_knn_3 )\n",
    "\n",
    "#Convert returned GSA results to np array\n",
    "best_knn_1=np.vstack(best_knn_1)\n",
    "best_knn_2=np.vstack(best_knn_2)\n",
    "best_knn_3=np.vstack(best_knn_3)\n",
    "\n",
    "#Normalize metrics and compute reference index\n",
    "best_knn_1 = Ref_IDX(GSA_array = best_knn_1, num_desc = 1)    \n",
    "best_knn_2 = Ref_IDX(GSA_array = best_knn_2, num_desc = 1)     \n",
    "best_knn_3 = Ref_IDX(GSA_array = best_knn_3, num_desc = 1)  \n",
    "\n",
    "#Print 3 best configurations of each model\n",
    "pd.set_option('expand_frame_repr', False)\n",
    "pd.options.display.float_format = \"{:,.3f}\".format\n",
    "headings = ['#NN','r', 'r2','SMAPE','RMSE','norm-r', 'norm-r2','norm-SMAPE','norm-RMSE','INDEX']\n",
    "best_knn_1 = pd.DataFrame(best_knn_1[:3],columns = headings)\n",
    "print(best_knn_1)\n",
    "best_knn_2 = pd.DataFrame(best_knn_2[:3],columns = headings)\n",
    "print(best_knn_2)\n",
    "best_knn_3 = pd.DataFrame(best_knn_3[:3],columns = headings)\n",
    "print(best_knn_3)"
   ]
  },
  {
   "cell_type": "code",
   "execution_count": 26,
   "metadata": {},
   "outputs": [
    {
     "name": "stdout",
     "output_type": "stream",
     "text": [
      "  Max_Depth     r     r2  SMAPE  RMSE norm-r norm-r2 norm-SMAPE norm-RMSE INDEX\n",
      "0     1.000 0.635  0.403 16.998 0.485  1.000   1.000      1.000     1.000 1.000\n",
      "1     2.000 0.546 -0.282 17.553 0.579  0.479   0.600      0.802     0.576 0.641\n",
      "2     3.000 0.558 -0.686 18.374 0.626  0.547   0.364      0.510     0.368 0.427\n",
      "  Max_Depth     r    r2  SMAPE  RMSE norm-r norm-r2 norm-SMAPE norm-RMSE INDEX\n",
      "0     3.000 0.593 0.116 24.287 0.976  0.951   1.000      1.000     1.000 0.995\n",
      "1     4.000 0.600 0.101 24.664 0.989  0.962   0.978      0.958     0.955 0.964\n",
      "2     8.000 0.615 0.062 26.019 1.021  0.989   0.921      0.808     0.847 0.872\n",
      "  Max_Depth     r    r2  SMAPE  RMSE norm-r norm-r2 norm-SMAPE norm-RMSE INDEX\n",
      "0     6.000 0.647 0.169 20.143 1.643  0.964   1.000      1.000     1.000 0.996\n",
      "1     4.000 0.659 0.160 20.967 1.670  1.000   0.978      0.856     0.922 0.927\n",
      "2     7.000 0.574 0.085 20.992 1.732  0.750   0.780      0.852     0.739 0.786\n"
     ]
    }
   ],
   "source": [
    "best_dt_1,best_dt_2, best_dt_3 = [], [], []\n",
    "# Train and test 3 models, GSA max_depths Amounts from 0 (None) to 10\n",
    "for Depths in range(0,11): \n",
    "    pred_y_dt_1, test_y_dt_1,best_dt_1 = train_and_test_DT(train_X = train_x, train_Y = train_y[:,0], test_X = test_x, test_Y = test_y[:,0], GSA_depth = Depths, splits = 5, GSA_BEST = best_dt_1 )\n",
    "    pred_y_dt_2, test_y_dt_2,best_dt_2 = train_and_test_DT(train_X = train_x, train_Y = train_y[:,1], test_X = test_x, test_Y = test_y[:,1], GSA_depth = Depths, splits = 5, GSA_BEST = best_dt_2 )\n",
    "    pred_y_dt_3, test_y_dt_3,best_dt_3 = train_and_test_DT(train_X = train_x, train_Y = train_y[:,2], test_X = test_x, test_Y = test_y[:,2], GSA_depth = Depths, splits = 5, GSA_BEST = best_dt_3 )\n",
    "\n",
    "#Convert returned GSA results to np array\n",
    "best_dt_1=np.vstack(best_dt_1)\n",
    "best_dt_2=np.vstack(best_dt_2)\n",
    "best_dt_3=np.vstack(best_dt_3)\n",
    "\n",
    "#Normalize metrics and compute reference index\n",
    "best_dt_1 = Ref_IDX(GSA_array = best_dt_1, num_desc = 1)    \n",
    "best_dt_2 = Ref_IDX(GSA_array = best_dt_2, num_desc = 1)     \n",
    "best_dt_3 = Ref_IDX(GSA_array = best_dt_3, num_desc = 1)  \n",
    "\n",
    "#Print 3 best configurations of each model\n",
    "pd.set_option('expand_frame_repr', False)\n",
    "pd.options.display.float_format = \"{:,.3f}\".format\n",
    "headings = ['Max_Depth','r', 'r2','SMAPE','RMSE','norm-r', 'norm-r2','norm-SMAPE','norm-RMSE','INDEX']\n",
    "best_dt_1 = pd.DataFrame(best_dt_1[:3],columns = headings)\n",
    "print(best_dt_1)\n",
    "best_dt_2 = pd.DataFrame(best_dt_2[:3],columns = headings)\n",
    "print(best_dt_2)\n",
    "best_dt_3 = pd.DataFrame(best_dt_3[:3],columns = headings)\n",
    "print(best_dt_3)"
   ]
  },
  {
   "cell_type": "code",
   "execution_count": 27,
   "metadata": {},
   "outputs": [
    {
     "data": {
      "application/vnd.jupyter.widget-view+json": {
       "model_id": "a8c8ce2e7288442f9e1fd11fac2c0e1b",
       "version_major": 2,
       "version_minor": 0
      },
      "text/plain": [
       "HBox(children=(FloatProgress(value=0.0, description='GSA Loop 1', max=5.0, style=ProgressStyle(description_wid…"
      ]
     },
     "metadata": {},
     "output_type": "display_data"
    },
    {
     "data": {
      "application/vnd.jupyter.widget-view+json": {
       "model_id": "",
       "version_major": 2,
       "version_minor": 0
      },
      "text/plain": [
       "HBox(children=(FloatProgress(value=0.0, description='GSA Loop 2', max=20.0, style=ProgressStyle(description_wi…"
      ]
     },
     "metadata": {},
     "output_type": "display_data"
    },
    {
     "data": {
      "application/vnd.jupyter.widget-view+json": {
       "model_id": "",
       "version_major": 2,
       "version_minor": 0
      },
      "text/plain": [
       "HBox(children=(FloatProgress(value=0.0, description='GSA Loop 2', max=20.0, style=ProgressStyle(description_wi…"
      ]
     },
     "metadata": {},
     "output_type": "display_data"
    },
    {
     "data": {
      "application/vnd.jupyter.widget-view+json": {
       "model_id": "",
       "version_major": 2,
       "version_minor": 0
      },
      "text/plain": [
       "HBox(children=(FloatProgress(value=0.0, description='GSA Loop 2', max=20.0, style=ProgressStyle(description_wi…"
      ]
     },
     "metadata": {},
     "output_type": "display_data"
    },
    {
     "data": {
      "application/vnd.jupyter.widget-view+json": {
       "model_id": "",
       "version_major": 2,
       "version_minor": 0
      },
      "text/plain": [
       "HBox(children=(FloatProgress(value=0.0, description='GSA Loop 2', max=20.0, style=ProgressStyle(description_wi…"
      ]
     },
     "metadata": {},
     "output_type": "display_data"
    },
    {
     "data": {
      "application/vnd.jupyter.widget-view+json": {
       "model_id": "",
       "version_major": 2,
       "version_minor": 0
      },
      "text/plain": [
       "HBox(children=(FloatProgress(value=0.0, description='GSA Loop 2', max=20.0, style=ProgressStyle(description_wi…"
      ]
     },
     "metadata": {},
     "output_type": "display_data"
    },
    {
     "name": "stdout",
     "output_type": "stream",
     "text": [
      "\n",
      "      m   Trees     r    r2  SMAPE  RMSE  norm-r  norm-r2  norm-SMAPE  norm-RMSE  INDEX\n",
      "0 5.000  50.000 0.577 0.158 19.899 0.566   0.924    1.000       1.000      1.000  0.992\n",
      "1 5.000 100.000 0.592 0.139 20.011 0.572   0.947    0.930       0.964      0.911  0.936\n",
      "2 4.000  50.000 0.625 0.120 20.014 0.576   1.000    0.862       0.963      0.862  0.906\n",
      "      m     Trees     r     r2  SMAPE  RMSE  norm-r  norm-r2  norm-SMAPE  norm-RMSE  INDEX\n",
      "0 5.000 1,000.000 0.631 -0.051 27.936 1.053   0.949    1.000       0.679      1.000  0.899\n",
      "1 5.000   950.000 0.629 -0.052 27.926 1.053   0.946    0.991       0.686      0.999  0.897\n",
      "2 5.000   600.000 0.648 -0.066 27.845 1.055   0.974    0.900       0.739      0.985  0.885\n",
      "      m   Trees     r    r2  SMAPE  RMSE  norm-r  norm-r2  norm-SMAPE  norm-RMSE  INDEX\n",
      "0 3.000  50.000 0.594 0.062 23.858 1.745   0.878    0.984       1.000      1.000  0.983\n",
      "1 5.000 100.000 0.581 0.061 24.045 1.753   0.859    0.981       0.966      0.980  0.964\n",
      "2 5.000 250.000 0.606 0.070 24.342 1.750   0.896    1.000       0.911      0.988  0.960\n"
     ]
    }
   ],
   "source": [
    "best_rf_1,best_rf_2, best_rf_3 = [], [], []\n",
    "# Train and test 3 models, GSA Tree amount Values from 50 to 1500, m values = 2,3,4,5\n",
    "\n",
    "m_values = range(1,6)\n",
    "tree_amounts = range(50,1050,50)\n",
    "\n",
    "for GSA_m in tqdm(m_values,desc='GSA Loop 1'): \n",
    "    for GSA_trees in tqdm(tree_amounts,desc='GSA Loop 2',leave = False): \n",
    "        pred_y_rf_1, test_y_rf_1, best_rf_1 = train_and_test_RF(train_X = train_x, train_Y = train_y[:,0], test_X = test_x, test_Y = test_y[:,0],M_Bootstrap = GSA_m, Estimators = GSA_trees, splits = 5, GSA_BEST = best_rf_1)\n",
    "        pred_y_rf_2, test_y_rf_2, best_rf_2 = train_and_test_RF(train_X = train_x, train_Y = train_y[:,1], test_X = test_x, test_Y = test_y[:,1],M_Bootstrap = GSA_m, Estimators = GSA_trees, splits = 5, GSA_BEST = best_rf_2)\n",
    "        pred_y_rf_3, test_y_rf_3, best_rf_3 = train_and_test_RF(train_X = train_x, train_Y = train_y[:,2], test_X = test_x, test_Y = test_y[:,2],M_Bootstrap = GSA_m, Estimators = GSA_trees, splits = 5, GSA_BEST = best_rf_3)\n",
    "    \n",
    "#Convert returned GSA results to np array\n",
    "best_rf_1=np.vstack(best_rf_1)\n",
    "best_rf_2=np.vstack(best_rf_2)\n",
    "best_rf_3=np.vstack(best_rf_3)\n",
    "\n",
    "#Normalize metrics and compute reference index\n",
    "best_rf_1 = Ref_IDX(GSA_array = best_rf_1, num_desc = 2)    \n",
    "best_rf_2 = Ref_IDX(GSA_array = best_rf_2, num_desc = 2)     \n",
    "best_rf_3 = Ref_IDX(GSA_array = best_rf_3, num_desc = 2)  \n",
    "\n",
    "#Print 3 best configurations of each model\n",
    "pd.set_option('expand_frame_repr', False)\n",
    "pd.options.display.float_format = \"{:,.3f}\".format\n",
    "headings = ['m','Trees','r', 'r2','SMAPE','RMSE','norm-r', 'norm-r2','norm-SMAPE','norm-RMSE','INDEX']\n",
    "best_rf_1 = pd.DataFrame(best_rf_1[:3],columns = headings)\n",
    "print(best_rf_1)\n",
    "best_rf_2 = pd.DataFrame(best_rf_2[:3],columns = headings)\n",
    "print(best_rf_2)\n",
    "best_rf_3 = pd.DataFrame(best_rf_3[:3],columns = headings)\n",
    "print(best_rf_3)"
   ]
  },
  {
   "cell_type": "code",
   "execution_count": 28,
   "metadata": {},
   "outputs": [
    {
     "name": "stdout",
     "output_type": "stream",
     "text": [
      "   Kern       C  degr   eps     r    r2  SMAPE  RMSE  norm-r  norm-r2  norm-SMAPE  norm-RMSE  INDEX\n",
      "0 3.000 100.000 5.000 0.010 0.468 0.055 17.898 0.577   0.979    0.997       0.999      0.994  0.995\n",
      "1 3.000 100.000 5.000 0.000 0.464 0.052 17.863 0.577   0.973    0.997       1.000      0.994  0.995\n",
      "2 3.000 100.000 5.000 0.001 0.465 0.052 17.878 0.577   0.974    0.997       1.000      0.994  0.995\n",
      "   Kern       C  degr   eps     r    r2  SMAPE  RMSE  norm-r  norm-r2  norm-SMAPE  norm-RMSE  INDEX\n",
      "0 1.000  50.000 5.000 0.100 0.464 0.101 23.501 1.038   0.810    1.000       0.993      0.998  0.978\n",
      "1 4.000 100.000 5.000 0.001 0.463 0.075 23.265 1.053   0.809    0.998       0.998      0.993  0.978\n",
      "2 1.000 100.000 5.000 0.100 0.457 0.098 23.624 1.040   0.801    1.000       0.990      0.997  0.976\n",
      "   Kern       C  degr   eps     r    r2  SMAPE  RMSE  norm-r  norm-r2  norm-SMAPE  norm-RMSE  INDEX\n",
      "0 2.000 550.000 4.000 0.000 0.588 0.098 22.940 1.720   0.893    0.999       0.977      0.999  0.982\n",
      "1 2.000 550.000 4.000 0.000 0.588 0.098 22.939 1.720   0.893    0.999       0.977      0.999  0.982\n",
      "2 2.000 550.000 4.000 0.001 0.588 0.097 22.943 1.721   0.893    0.999       0.977      0.999  0.982\n"
     ]
    }
   ],
   "source": [
    "best_svmr_1,best_svmr_2, best_svmr_3 = [], [], []\n",
    "# Train and test 3 models, Various GSA parameters (This takes a while)\n",
    "Kernels = list(range(1,5)) #see dictionary definition in above function.\n",
    "C_list = [*range(1,11)] + [*range(50,1050,50)]\n",
    "Degrees = list(range(3,6))\n",
    "Epsilons = [0.00001, 0.0001, 0.001, 0.01, 0.1, 1, 10, 100, 1000, 10000, 100000, 1000000]\n",
    "\n",
    "for GSA_kern in Kernels: \n",
    "    for GSA_C in C_list: \n",
    "        for GSA_degr in Degrees: \n",
    "            for GSA_eps in Epsilons: \n",
    "                if GSA_kern != 2 and GSA_degr != 5:\n",
    "                    continue\n",
    "                pred_y_svmr_1, test_y_svmr_1, best_svmr_1 = train_and_test_SVR(train_X = train_x, train_Y = train_y[:,0], test_X = test_x, test_Y = test_y[:,0], kern = GSA_kern, SVR_C = GSA_C, degr = GSA_degr, SV_epsilon = GSA_eps, splits = 5, GSA_BEST = best_svmr_1)\n",
    "                pred_y_svmr_2, test_y_svmr_2, best_svmr_2 = train_and_test_SVR(train_X = train_x, train_Y = train_y[:,1], test_X = test_x, test_Y = test_y[:,1], kern = GSA_kern, SVR_C = GSA_C, degr = GSA_degr, SV_epsilon = GSA_eps, splits = 5, GSA_BEST = best_svmr_2)\n",
    "                pred_y_svmr_3, test_y_svmr_3, best_svmr_3 = train_and_test_SVR(train_X = train_x, train_Y = train_y[:,2], test_X = test_x, test_Y = test_y[:,2], kern = GSA_kern, SVR_C = GSA_C, degr = GSA_degr, SV_epsilon = GSA_eps, splits = 5, GSA_BEST = best_svmr_3)\n",
    "                \n",
    "#Convert returned GSA results to np array\n",
    "best_svmr_1=np.vstack(best_svmr_1)\n",
    "best_svmr_2=np.vstack(best_svmr_2)\n",
    "best_svmr_3=np.vstack(best_svmr_3)\n",
    "\n",
    "#Normalize metrics and compute reference index\n",
    "best_svmr_1 = Ref_IDX(GSA_array = best_svmr_1, num_desc = 4)    \n",
    "best_svmr_2 = Ref_IDX(GSA_array = best_svmr_2, num_desc = 4)     \n",
    "best_svmr_3 = Ref_IDX(GSA_array = best_svmr_3, num_desc = 4)  \n",
    "\n",
    "#Print 3 best configurations of each model\n",
    "pd.set_option('expand_frame_repr', False)\n",
    "pd.options.display.float_format = \"{:,.5f}\".format\n",
    "headings = ['Kern', 'C', 'degr', 'eps','r', 'r2','SMAPE','RMSE','norm-r', 'norm-r2','norm-SMAPE','norm-RMSE','INDEX']\n",
    "best_svmr_1 = pd.DataFrame(best_svmr_1[:3],columns = headings)\n",
    "print(best_svmr_1)\n",
    "best_svmr_2 = pd.DataFrame(best_svmr_2[:3],columns = headings)\n",
    "print(best_svmr_2)\n",
    "best_svmr_3 = pd.DataFrame(best_svmr_3[:3],columns = headings)\n",
    "print(best_svmr_3)"
   ]
  },
  {
   "cell_type": "markdown",
   "metadata": {},
   "source": [
    "## Optimal Model Configurations"
   ]
  },
  {
   "cell_type": "code",
   "execution_count": 31,
   "metadata": {},
   "outputs": [],
   "source": [
    "best_nn_1,best_nn_2, best_nn_3 = [], [], []\n",
    "pred_y_nn_1, test_y_nn_1, best_nn_1 = train_and_test_NN(train_X = train_x, train_Y = train_y[:,0], test_X = test_x, test_Y = test_y[:,0], neur1 = 80, neur2 = 80, neur3 = 64, activ = 2, splits = 1, GSA_BEST = best_nn_1)\n",
    "pred_y_nn_2, test_y_nn_2, best_nn_2 = train_and_test_NN(train_X = train_x, train_Y = train_y[:,1], test_X = test_x, test_Y = test_y[:,1], neur1 = 128, neur2 = 112, neur3 = 48, activ = 2, splits = 1, GSA_BEST = best_nn_2)\n",
    "pred_y_nn_3, test_y_nn_3, best_nn_3 = train_and_test_NN(train_X = train_x, train_Y = train_y[:,2], test_X = test_x, test_Y = test_y[:,2], neur1 = 112, neur2 = 112, neur3 = 80, activ = 2, splits = 1, GSA_BEST = best_nn_3)\n",
    "headings = ['Neur1', 'Neur2', 'Neur3', 'Activ','r','r2','SMAPE','RMSE']\n",
    "best_nn_1 = pd.DataFrame(best_nn_1,columns = headings)\n",
    "best_nn_2 = pd.DataFrame(best_nn_2,columns = headings)\n",
    "best_nn_3 = pd.DataFrame(best_nn_3,columns = headings)\n",
    "\n",
    "best_lr_1,best_lr_2, best_lr_3 = [], [], []\n",
    "pred_y_lr_1, test_y_lr_1, best_lr_1  = train_and_test_LR(train_X = train_x, train_Y = train_y[:,0], test_X = test_x, test_Y = test_y[:,0],splits = 1, GSA_BEST = best_lr_1)\n",
    "pred_y_lr_2, test_y_lr_2, best_lr_2 = train_and_test_LR(train_X = train_x, train_Y = train_y[:,1], test_X = test_x, test_Y = test_y[:,1],splits = 1, GSA_BEST = best_lr_2)\n",
    "pred_y_lr_3, test_y_lr_3, best_lr_3 = train_and_test_LR(train_X = train_x, train_Y = train_y[:,2], test_X = test_x, test_Y = test_y[:,2],splits = 1, GSA_BEST = best_lr_3)\n",
    "headings = ['r','r2','SMAPE','RMSE']\n",
    "best_lr_1 = pd.DataFrame(best_lr_1,columns = headings)\n",
    "best_lr_2 = pd.DataFrame(best_lr_2,columns = headings)\n",
    "best_lr_3 = pd.DataFrame(best_lr_3,columns = headings)\n",
    "\n",
    "best_rr_1,best_rr_2, best_rr_3 = [], [], []\n",
    "pred_y_rr_1, test_y_rr_1, best_rr_1 = train_and_test_RR(train_X = train_x, train_Y = train_y[:,0], test_X = test_x, test_Y = test_y[:,0],RR_Alpha = 1.000000, splits = 1, GSA_BEST = best_rr_1)\n",
    "pred_y_rr_2, test_y_rr_2, best_rr_2 = train_and_test_RR(train_X = train_x, train_Y = train_y[:,1], test_X = test_x, test_Y = test_y[:,1],RR_Alpha = 0.000010, splits = 1, GSA_BEST = best_rr_2)\n",
    "pred_y_rr_3, test_y_rr_3, best_rr_3 = train_and_test_RR(train_X = train_x, train_Y = train_y[:,2], test_X = test_x, test_Y = test_y[:,2],RR_Alpha = 1.000000, splits = 1, GSA_BEST = best_rr_3)\n",
    "headings = ['RR_Alpha','r','r2','SMAPE','RMSE']\n",
    "best_rr_1 = pd.DataFrame(best_rr_1,columns = headings)\n",
    "best_rr_2 = pd.DataFrame(best_rr_2,columns = headings)\n",
    "best_rr_3 = pd.DataFrame(best_rr_3,columns = headings)\n",
    "\n",
    "best_lasso_1,best_lasso_2, best_lasso_3 = [], [], []\n",
    "pred_y_Lasso_1, test_y_Lasso_1, best_lasso_1  = train_and_test_lasso(train_X = train_x, train_Y = train_y[:,0], test_X = test_x, test_Y = test_y[:,0],Lasso_Alpha = 0.010000 , splits = 1, GSA_BEST = best_lasso_1)\n",
    "pred_y_Lasso_2, test_y_Lasso_2, best_lasso_2 = train_and_test_lasso(train_X = train_x, train_Y = train_y[:,1], test_X = test_x, test_Y = test_y[:,1],Lasso_Alpha = 0.000010 , splits = 1, GSA_BEST = best_lasso_2)\n",
    "pred_y_Lasso_3, test_y_Lasso_3, best_lasso_3 = train_and_test_lasso(train_X = train_x, train_Y = train_y[:,2], test_X = test_x, test_Y = test_y[:,2],Lasso_Alpha = 0.010000 , splits = 1, GSA_BEST = best_lasso_3)\n",
    "headings = ['Lasso_Alpha','r','r2','SMAPE','RMSE']\n",
    "best_lasso_1 = pd.DataFrame(best_lasso_1,columns = headings)\n",
    "best_lasso_2 = pd.DataFrame(best_lasso_2,columns = headings)\n",
    "best_lasso_3 = pd.DataFrame(best_lasso_3,columns = headings)\n",
    "\n",
    "best_knn_1,best_knn_2, best_knn_3 = [], [], []\n",
    "pred_y_knn_1, test_y_knn_1,best_knn_1 = train_and_test_KNN(train_X = train_x, train_Y = train_y[:,0], test_X = test_x, test_Y = test_y[:,0], N_neighbors = 7, splits = 1, GSA_BEST = best_knn_1 )\n",
    "pred_y_knn_2, test_y_knn_2,best_knn_2 = train_and_test_KNN(train_X = train_x, train_Y = train_y[:,1], test_X = test_x, test_Y = test_y[:,1], N_neighbors = 5, splits = 1, GSA_BEST = best_knn_2 )\n",
    "pred_y_knn_3, test_y_knn_3,best_knn_3 = train_and_test_KNN(train_X = train_x, train_Y = train_y[:,2], test_X = test_x, test_Y = test_y[:,2], N_neighbors = 11, splits = 1, GSA_BEST = best_knn_3 )\n",
    "headings = ['# NN','r','r2','SMAPE','RMSE']\n",
    "best_knn_1 = pd.DataFrame(best_knn_1,columns = headings)\n",
    "best_knn_2 = pd.DataFrame(best_knn_2,columns = headings)\n",
    "best_knn_3 = pd.DataFrame(best_knn_3,columns = headings)\n",
    "\n",
    "best_dt_1,best_dt_2, best_dt_3 = [], [], []\n",
    "pred_y_dt_1, test_y_dt_1,best_dt_1 = train_and_test_DT(train_X = train_x, train_Y = train_y[:,0], test_X = test_x, test_Y = test_y[:,0], GSA_depth = 1, splits = 1, GSA_BEST = best_dt_1 )\n",
    "pred_y_dt_2, test_y_dt_2,best_dt_2 = train_and_test_DT(train_X = train_x, train_Y = train_y[:,1], test_X = test_x, test_Y = test_y[:,1], GSA_depth = 3, splits = 1, GSA_BEST = best_dt_2 )\n",
    "pred_y_dt_3, test_y_dt_3,best_dt_3 = train_and_test_DT(train_X = train_x, train_Y = train_y[:,2], test_X = test_x, test_Y = test_y[:,2], GSA_depth = 6, splits = 1, GSA_BEST = best_dt_3 )\n",
    "headings = ['Max_Depth','r','r2','SMAPE','RMSE']\n",
    "best_dt_1 = pd.DataFrame(best_dt_1[:5],columns = headings)\n",
    "best_dt_2 = pd.DataFrame(best_dt_2[:5],columns = headings)\n",
    "best_dt_3 = pd.DataFrame(best_dt_3[:5],columns = headings)\n",
    "\n",
    "best_rf_1,best_rf_2, best_rf_3 = [], [], []\n",
    "pred_y_rf_1, test_y_rf_1, best_rf_1 = train_and_test_RF(train_X = train_x, train_Y = train_y[:,0], test_X = test_x, test_Y = test_y[:,0],M_Bootstrap = 5, Estimators = 50, splits = 1, GSA_BEST = best_rf_1)\n",
    "pred_y_rf_2, test_y_rf_2, best_rf_2 = train_and_test_RF(train_X = train_x, train_Y = train_y[:,1], test_X = test_x, test_Y = test_y[:,1],M_Bootstrap = 5, Estimators = 1000, splits = 1, GSA_BEST = best_rf_2)\n",
    "pred_y_rf_3, test_y_rf_3, best_rf_3 = train_and_test_RF(train_X = train_x, train_Y = train_y[:,2], test_X = test_x, test_Y = test_y[:,2],M_Bootstrap = 5, Estimators = 50, splits = 1, GSA_BEST = best_rf_3)\n",
    "headings = ['m','# Estimators','r','r2','SMAPE','RMSE']\n",
    "best_rf_1 = pd.DataFrame(best_rf_1,columns = headings)\n",
    "best_rf_2 = pd.DataFrame(best_rf_2,columns = headings)\n",
    "best_rf_3 = pd.DataFrame(best_rf_3,columns = headings)\n",
    "\n",
    "best_svmr_1,best_svmr_2, best_svmr_3 = [], [], []\n",
    "pred_y_svmr_1, test_y_svmr_1, best_svmr_1 = train_and_test_SVR(train_X = train_x, train_Y = train_y[:,0], test_X = test_x, test_Y = test_y[:,0], kern = 3, SVR_C = 100, degr = 5, SV_epsilon = 0.01000, splits = 1, GSA_BEST = best_svmr_1)\n",
    "pred_y_svmr_2, test_y_svmr_2, best_svmr_2 = train_and_test_SVR(train_X = train_x, train_Y = train_y[:,1], test_X = test_x, test_Y = test_y[:,1], kern = 1, SVR_C = 50, degr = 5, SV_epsilon = 0.10000, splits = 1, GSA_BEST = best_svmr_2)\n",
    "pred_y_svmr_3, test_y_svmr_3, best_svmr_3 = train_and_test_SVR(train_X = train_x, train_Y = train_y[:,2], test_X = test_x, test_Y = test_y[:,2], kern = 2, SVR_C = 550, degr = 4, SV_epsilon = 0.00001, splits = 1, GSA_BEST = best_svmr_3)\n",
    "headings = ['Kern', 'C', 'degr', 'eps','r','r2','SMAPE','RMSE']\n",
    "best_svmr_1 = pd.DataFrame(best_svmr_1[:5],columns = headings)\n",
    "best_svmr_2 = pd.DataFrame(best_svmr_2[:5],columns = headings)\n",
    "best_svmr_3 = pd.DataFrame(best_svmr_3[:5],columns = headings)\n"
   ]
  },
  {
   "cell_type": "markdown",
   "metadata": {},
   "source": [
    "## Split test inputs and outputs for clarity in following tables"
   ]
  },
  {
   "cell_type": "code",
   "execution_count": 32,
   "metadata": {},
   "outputs": [],
   "source": [
    "test_y_1, test_y_2, test_y_3 = [], [], []\n",
    "test_x_original_1, test_x_original_2, test_x_original_3 = pd.DataFrame(test_x_original), pd.DataFrame(test_x_original), pd.DataFrame(test_x_original)\n",
    "\n",
    "for i in range(len(test_y)):\n",
    "    if np.isnan(test_y[:,0][i]) == False:\n",
    "        test_y_1.append(test_y[:,0][i])\n",
    "    else:\n",
    "        test_x_original_1 = test_x_original_1.drop(labels = i, axis = 0)\n",
    "    if np.isnan(test_y[:,1][i]) == False:\n",
    "        test_y_2.append(test_y[:,1][i])\n",
    "    else:\n",
    "        test_x_original_2 = test_x_original_2.drop(labels = i, axis = 0)\n",
    "    if np.isnan(test_y[:,2][i]) == False:\n",
    "        test_y_3.append(test_y[:,2][i])\n",
    "    else:\n",
    "        test_x_original_3 = test_x_original_3.drop(labels = i, axis = 0)\n",
    "test_y_1 = np.array(test_y_1)\n",
    "test_y_2 = np.array(test_y_2)\n",
    "test_y_3 = np.array(test_y_3)    "
   ]
  },
  {
   "cell_type": "markdown",
   "metadata": {},
   "source": [
    "## Define Normalizing func for results"
   ]
  },
  {
   "cell_type": "code",
   "execution_count": 33,
   "metadata": {},
   "outputs": [],
   "source": [
    "#Add 4 normalized columns to array\n",
    "def Norm(Array):\n",
    "    norm_array = []\n",
    "    #iterate through column and normalize metric scores\n",
    "    for i in range(len(Array)):\n",
    "        norm_array.append((Array[i]-min(Array))/(max(Array)-min(Array)))\n",
    "    #Force list\n",
    "    norm_array = list(norm_array)\n",
    "    return norm_array\n",
    "\n",
    "def Norm_inv(Array):\n",
    "    invnorm_array = []\n",
    "    #iterate through column and normalize metric scores\n",
    "    for i in range(len(Array)):\n",
    "        invnorm_array.append(1-((Array[i]-min(Array))/(max(Array)-min(Array))))\n",
    "    #Force list\n",
    "    invnorm_array = list(invnorm_array)\n",
    "    return invnorm_array\n",
    "\n",
    "def List_AVG(var1, var2, var3, var4):\n",
    "    AVG = []\n",
    "    #iterate through column and normalize metric scores\n",
    "    for i in range(len(var1)):\n",
    "        AVG.append((0.1*var1[i])+(0.3*var2[i])+(0.3*var3[i])+(0.3*var4[i]))\n",
    "    #Force list\n",
    "    AVG = list(AVG)\n",
    "    return AVG"
   ]
  },
  {
   "cell_type": "markdown",
   "metadata": {},
   "source": [
    "## Print Core Crushing Results"
   ]
  },
  {
   "cell_type": "code",
   "execution_count": 34,
   "metadata": {},
   "outputs": [
    {
     "data": {
      "text/html": [
       "<div>\n",
       "<style scoped>\n",
       "    .dataframe tbody tr th:only-of-type {\n",
       "        vertical-align: middle;\n",
       "    }\n",
       "\n",
       "    .dataframe tbody tr th {\n",
       "        vertical-align: top;\n",
       "    }\n",
       "\n",
       "    .dataframe thead th {\n",
       "        text-align: right;\n",
       "    }\n",
       "</style>\n",
       "<table border=\"1\" class=\"dataframe\">\n",
       "  <thead>\n",
       "    <tr style=\"text-align: right;\">\n",
       "      <th></th>\n",
       "      <th>0</th>\n",
       "      <th>1</th>\n",
       "      <th>2</th>\n",
       "      <th>3</th>\n",
       "      <th>4</th>\n",
       "      <th>5</th>\n",
       "      <th>6</th>\n",
       "      <th>7</th>\n",
       "      <th>8</th>\n",
       "      <th>9</th>\n",
       "      <th>10</th>\n",
       "      <th>11</th>\n",
       "      <th>12</th>\n",
       "      <th>13</th>\n",
       "      <th>14</th>\n",
       "      <th>15</th>\n",
       "    </tr>\n",
       "  </thead>\n",
       "  <tbody>\n",
       "    <tr>\n",
       "      <th>0</th>\n",
       "      <td>Axial Load Ratio</td>\n",
       "      <td>f'c (MPa)</td>\n",
       "      <td>Aspect Ratio</td>\n",
       "      <td>fy, Longitudinal Bars (Mpa)</td>\n",
       "      <td>rho Long (%)</td>\n",
       "      <td>fy, Transverse Bars (Mpa)</td>\n",
       "      <td>rho Spiral (%)</td>\n",
       "      <td>Core Crushing Drift (%)</td>\n",
       "      <td>ANN Prediction</td>\n",
       "      <td>Linear Regression Prediction</td>\n",
       "      <td>Ridge Regression Prediction</td>\n",
       "      <td>Lasso Regression Prediction</td>\n",
       "      <td>KNN Prediction</td>\n",
       "      <td>Decision Tree Prediction</td>\n",
       "      <td>Random Forest Prediction</td>\n",
       "      <td>Support Vector Prediction</td>\n",
       "    </tr>\n",
       "    <tr>\n",
       "      <th>1</th>\n",
       "      <td>0.1</td>\n",
       "      <td>24.4</td>\n",
       "      <td>3</td>\n",
       "      <td>446</td>\n",
       "      <td>1.96</td>\n",
       "      <td>441</td>\n",
       "      <td>1.41</td>\n",
       "      <td>2.84</td>\n",
       "      <td>2.69729</td>\n",
       "      <td>2.3469</td>\n",
       "      <td>2.22361</td>\n",
       "      <td>2.22963</td>\n",
       "      <td>2.85688</td>\n",
       "      <td>2.48636</td>\n",
       "      <td>2.45346</td>\n",
       "      <td>2.35976</td>\n",
       "    </tr>\n",
       "    <tr>\n",
       "      <th>2</th>\n",
       "      <td>0.069</td>\n",
       "      <td>35.8</td>\n",
       "      <td>6.01316</td>\n",
       "      <td>475</td>\n",
       "      <td>2</td>\n",
       "      <td>493</td>\n",
       "      <td>0.63</td>\n",
       "      <td>1.95842</td>\n",
       "      <td>2.61849</td>\n",
       "      <td>2.55758</td>\n",
       "      <td>2.47489</td>\n",
       "      <td>2.45593</td>\n",
       "      <td>2.78973</td>\n",
       "      <td>2.48636</td>\n",
       "      <td>2.41196</td>\n",
       "      <td>2.46485</td>\n",
       "    </tr>\n",
       "    <tr>\n",
       "      <th>3</th>\n",
       "      <td>0.322</td>\n",
       "      <td>33</td>\n",
       "      <td>3.72</td>\n",
       "      <td>294</td>\n",
       "      <td>2.18</td>\n",
       "      <td>207</td>\n",
       "      <td>2.48</td>\n",
       "      <td>1.07527</td>\n",
       "      <td>0.226421</td>\n",
       "      <td>1.24913</td>\n",
       "      <td>1.56278</td>\n",
       "      <td>1.58343</td>\n",
       "      <td>1.64758</td>\n",
       "      <td>1.58029</td>\n",
       "      <td>2.25867</td>\n",
       "      <td>0.549049</td>\n",
       "    </tr>\n",
       "    <tr>\n",
       "      <th>4</th>\n",
       "      <td>0.386</td>\n",
       "      <td>32.9</td>\n",
       "      <td>2</td>\n",
       "      <td>303</td>\n",
       "      <td>2.43</td>\n",
       "      <td>423</td>\n",
       "      <td>0.8</td>\n",
       "      <td>0.625</td>\n",
       "      <td>1.33559</td>\n",
       "      <td>1.55476</td>\n",
       "      <td>1.56643</td>\n",
       "      <td>1.49439</td>\n",
       "      <td>1.78193</td>\n",
       "      <td>2.48636</td>\n",
       "      <td>2.32175</td>\n",
       "      <td>1.45851</td>\n",
       "    </tr>\n",
       "    <tr>\n",
       "      <th>5</th>\n",
       "      <td>0.094</td>\n",
       "      <td>29</td>\n",
       "      <td>4.49836</td>\n",
       "      <td>448</td>\n",
       "      <td>2.04</td>\n",
       "      <td>434</td>\n",
       "      <td>0.94</td>\n",
       "      <td>1.96793</td>\n",
       "      <td>3.00552</td>\n",
       "      <td>2.3381</td>\n",
       "      <td>2.29155</td>\n",
       "      <td>2.29568</td>\n",
       "      <td>2.8863</td>\n",
       "      <td>2.48636</td>\n",
       "      <td>2.62669</td>\n",
       "      <td>2.34123</td>\n",
       "    </tr>\n",
       "    <tr>\n",
       "      <th>6</th>\n",
       "      <td>0.227</td>\n",
       "      <td>28.4</td>\n",
       "      <td>2</td>\n",
       "      <td>303</td>\n",
       "      <td>2.43</td>\n",
       "      <td>300</td>\n",
       "      <td>0.75</td>\n",
       "      <td>0.833333</td>\n",
       "      <td>1.21622</td>\n",
       "      <td>1.51705</td>\n",
       "      <td>1.65596</td>\n",
       "      <td>1.66306</td>\n",
       "      <td>1.81649</td>\n",
       "      <td>1.58029</td>\n",
       "      <td>2.20544</td>\n",
       "      <td>1.09229</td>\n",
       "    </tr>\n",
       "    <tr>\n",
       "      <th>7</th>\n",
       "      <td>0.093</td>\n",
       "      <td>32.8</td>\n",
       "      <td>4.49836</td>\n",
       "      <td>448</td>\n",
       "      <td>2.04</td>\n",
       "      <td>434</td>\n",
       "      <td>0.94</td>\n",
       "      <td>1.45773</td>\n",
       "      <td>2.87038</td>\n",
       "      <td>2.33639</td>\n",
       "      <td>2.29403</td>\n",
       "      <td>2.29683</td>\n",
       "      <td>2.33236</td>\n",
       "      <td>2.48636</td>\n",
       "      <td>2.60994</td>\n",
       "      <td>2.34719</td>\n",
       "    </tr>\n",
       "    <tr>\n",
       "      <th>8</th>\n",
       "      <td>0.072</td>\n",
       "      <td>31</td>\n",
       "      <td>4</td>\n",
       "      <td>462</td>\n",
       "      <td>2.98</td>\n",
       "      <td>606.8</td>\n",
       "      <td>0.7</td>\n",
       "      <td>1.5625</td>\n",
       "      <td>3.33119</td>\n",
       "      <td>2.89549</td>\n",
       "      <td>2.4465</td>\n",
       "      <td>2.35803</td>\n",
       "      <td>3.10095</td>\n",
       "      <td>2.48636</td>\n",
       "      <td>2.42946</td>\n",
       "      <td>2.56365</td>\n",
       "    </tr>\n",
       "  </tbody>\n",
       "</table>\n",
       "</div>"
      ],
      "text/plain": [
       "                  0           1             2                            3  \\\n",
       "0  Axial Load Ratio  f'c (MPa)   Aspect Ratio  fy, Longitudinal Bars (Mpa)   \n",
       "1               0.1        24.4             3                          446   \n",
       "2             0.069        35.8       6.01316                          475   \n",
       "3             0.322          33          3.72                          294   \n",
       "4             0.386        32.9             2                          303   \n",
       "5             0.094          29       4.49836                          448   \n",
       "6             0.227        28.4             2                          303   \n",
       "7             0.093        32.8       4.49836                          448   \n",
       "8             0.072          31             4                          462   \n",
       "\n",
       "              4                          5               6  \\\n",
       "0  rho Long (%)  fy, Transverse Bars (Mpa)  rho Spiral (%)   \n",
       "1          1.96                        441            1.41   \n",
       "2             2                        493            0.63   \n",
       "3          2.18                        207            2.48   \n",
       "4          2.43                        423             0.8   \n",
       "5          2.04                        434            0.94   \n",
       "6          2.43                        300            0.75   \n",
       "7          2.04                        434            0.94   \n",
       "8          2.98                      606.8             0.7   \n",
       "\n",
       "                         7               8                             9  \\\n",
       "0  Core Crushing Drift (%)  ANN Prediction  Linear Regression Prediction   \n",
       "1                     2.84         2.69729                        2.3469   \n",
       "2                  1.95842         2.61849                       2.55758   \n",
       "3                  1.07527        0.226421                       1.24913   \n",
       "4                    0.625         1.33559                       1.55476   \n",
       "5                  1.96793         3.00552                        2.3381   \n",
       "6                 0.833333         1.21622                       1.51705   \n",
       "7                  1.45773         2.87038                       2.33639   \n",
       "8                   1.5625         3.33119                       2.89549   \n",
       "\n",
       "                            10                           11              12  \\\n",
       "0  Ridge Regression Prediction  Lasso Regression Prediction  KNN Prediction   \n",
       "1                      2.22361                      2.22963         2.85688   \n",
       "2                      2.47489                      2.45593         2.78973   \n",
       "3                      1.56278                      1.58343         1.64758   \n",
       "4                      1.56643                      1.49439         1.78193   \n",
       "5                      2.29155                      2.29568          2.8863   \n",
       "6                      1.65596                      1.66306         1.81649   \n",
       "7                      2.29403                      2.29683         2.33236   \n",
       "8                       2.4465                      2.35803         3.10095   \n",
       "\n",
       "                         13                        14  \\\n",
       "0  Decision Tree Prediction  Random Forest Prediction   \n",
       "1                   2.48636                   2.45346   \n",
       "2                   2.48636                   2.41196   \n",
       "3                   1.58029                   2.25867   \n",
       "4                   2.48636                   2.32175   \n",
       "5                   2.48636                   2.62669   \n",
       "6                   1.58029                   2.20544   \n",
       "7                   2.48636                   2.60994   \n",
       "8                   2.48636                   2.42946   \n",
       "\n",
       "                          15  \n",
       "0  Support Vector Prediction  \n",
       "1                    2.35976  \n",
       "2                    2.46485  \n",
       "3                   0.549049  \n",
       "4                    1.45851  \n",
       "5                    2.34123  \n",
       "6                    1.09229  \n",
       "7                    2.34719  \n",
       "8                    2.56365  "
      ]
     },
     "execution_count": 34,
     "metadata": {},
     "output_type": "execute_result"
    }
   ],
   "source": [
    "# show the inputs and predicted outputs\n",
    "result = []\n",
    "df = pd.read_excel(FILE_PATH)\n",
    "head = list(df.columns[:8])\n",
    "head.append(df.columns[8])\n",
    "head.append(\"ANN Prediction\")\n",
    "head.append(\"Linear Regression Prediction\")\n",
    "head.append(\"Ridge Regression Prediction\")\n",
    "head.append(\"Lasso Regression Prediction\")\n",
    "head.append(\"KNN Prediction\")\n",
    "head.append(\"Decision Tree Prediction\")\n",
    "head.append(\"Random Forest Prediction\")\n",
    "head.append(\"Support Vector Prediction\")\n",
    "result.append(head[1:])\n",
    "\n",
    "for i in range(len(test_y_1)):\n",
    "    tmp = list(test_x_original_1.to_numpy()[i])\n",
    "    tmp.append(test_y_1[i])\n",
    "    tmp.append(pred_y_nn_1[i])\n",
    "    tmp.append(pred_y_lr_1[i])\n",
    "    tmp.append(pred_y_rr_1[i])\n",
    "    tmp.append(pred_y_Lasso_1[i])\n",
    "    tmp.append(pred_y_knn_1[i])\n",
    "    tmp.append(pred_y_dt_1[i])\n",
    "    tmp.append(pred_y_rf_1[i])\n",
    "    tmp.append(pred_y_svmr_1[i])    \n",
    "    result.append(tmp)\n",
    "result = pd.DataFrame(result)\n",
    "\n",
    "result"
   ]
  },
  {
   "cell_type": "markdown",
   "metadata": {},
   "source": [
    "## Print Concrete Spalling Results"
   ]
  },
  {
   "cell_type": "code",
   "execution_count": 35,
   "metadata": {},
   "outputs": [
    {
     "data": {
      "text/html": [
       "<div>\n",
       "<style scoped>\n",
       "    .dataframe tbody tr th:only-of-type {\n",
       "        vertical-align: middle;\n",
       "    }\n",
       "\n",
       "    .dataframe tbody tr th {\n",
       "        vertical-align: top;\n",
       "    }\n",
       "\n",
       "    .dataframe thead th {\n",
       "        text-align: right;\n",
       "    }\n",
       "</style>\n",
       "<table border=\"1\" class=\"dataframe\">\n",
       "  <thead>\n",
       "    <tr style=\"text-align: right;\">\n",
       "      <th></th>\n",
       "      <th>0</th>\n",
       "      <th>1</th>\n",
       "      <th>2</th>\n",
       "      <th>3</th>\n",
       "      <th>4</th>\n",
       "      <th>5</th>\n",
       "      <th>6</th>\n",
       "      <th>7</th>\n",
       "      <th>8</th>\n",
       "      <th>9</th>\n",
       "      <th>10</th>\n",
       "      <th>11</th>\n",
       "      <th>12</th>\n",
       "      <th>13</th>\n",
       "      <th>14</th>\n",
       "      <th>15</th>\n",
       "    </tr>\n",
       "  </thead>\n",
       "  <tbody>\n",
       "    <tr>\n",
       "      <th>0</th>\n",
       "      <td>Axial Load Ratio</td>\n",
       "      <td>f'c (MPa)</td>\n",
       "      <td>Aspect Ratio</td>\n",
       "      <td>fy, Longitudinal Bars (Mpa)</td>\n",
       "      <td>rho Long (%)</td>\n",
       "      <td>fy, Transverse Bars (Mpa)</td>\n",
       "      <td>rho Spiral (%)</td>\n",
       "      <td>Concrete Spalling Drift (%)</td>\n",
       "      <td>ANN Prediction</td>\n",
       "      <td>Linear Regression Prediction</td>\n",
       "      <td>Ridge Regression Prediction</td>\n",
       "      <td>Lasso Regression Prediction</td>\n",
       "      <td>KNN Prediction</td>\n",
       "      <td>Decision Tree Prediction</td>\n",
       "      <td>Random Forest Prediction</td>\n",
       "      <td>Support Vector Prediction</td>\n",
       "    </tr>\n",
       "    <tr>\n",
       "      <th>1</th>\n",
       "      <td>0.05</td>\n",
       "      <td>30</td>\n",
       "      <td>5.997</td>\n",
       "      <td>420</td>\n",
       "      <td>2.19</td>\n",
       "      <td>420</td>\n",
       "      <td>0.294436</td>\n",
       "      <td>2.6</td>\n",
       "      <td>3.83366</td>\n",
       "      <td>3.33184</td>\n",
       "      <td>3.33184</td>\n",
       "      <td>3.33189</td>\n",
       "      <td>3.716</td>\n",
       "      <td>2.8299</td>\n",
       "      <td>3.39608</td>\n",
       "      <td>2.86966</td>\n",
       "    </tr>\n",
       "    <tr>\n",
       "      <th>2</th>\n",
       "      <td>0.1</td>\n",
       "      <td>24.4</td>\n",
       "      <td>3</td>\n",
       "      <td>446</td>\n",
       "      <td>1.96</td>\n",
       "      <td>441</td>\n",
       "      <td>1.41</td>\n",
       "      <td>4.26667</td>\n",
       "      <td>4.6569</td>\n",
       "      <td>3.63607</td>\n",
       "      <td>3.63605</td>\n",
       "      <td>3.63578</td>\n",
       "      <td>4.34302</td>\n",
       "      <td>4.75779</td>\n",
       "      <td>3.46617</td>\n",
       "      <td>3.20451</td>\n",
       "    </tr>\n",
       "    <tr>\n",
       "      <th>3</th>\n",
       "      <td>0.069</td>\n",
       "      <td>35.8</td>\n",
       "      <td>6.01316</td>\n",
       "      <td>475</td>\n",
       "      <td>2</td>\n",
       "      <td>493</td>\n",
       "      <td>0.63</td>\n",
       "      <td>2.94311</td>\n",
       "      <td>3.85166</td>\n",
       "      <td>3.4595</td>\n",
       "      <td>3.4595</td>\n",
       "      <td>3.45947</td>\n",
       "      <td>4.79285</td>\n",
       "      <td>3.21897</td>\n",
       "      <td>3.33146</td>\n",
       "      <td>3.03553</td>\n",
       "    </tr>\n",
       "    <tr>\n",
       "      <th>4</th>\n",
       "      <td>0.127</td>\n",
       "      <td>56.2</td>\n",
       "      <td>3</td>\n",
       "      <td>455</td>\n",
       "      <td>0.99</td>\n",
       "      <td>455</td>\n",
       "      <td>0.13</td>\n",
       "      <td>1.9685</td>\n",
       "      <td>2.98033</td>\n",
       "      <td>1.94298</td>\n",
       "      <td>1.94299</td>\n",
       "      <td>1.94336</td>\n",
       "      <td>2.98574</td>\n",
       "      <td>2.62787</td>\n",
       "      <td>3.01449</td>\n",
       "      <td>1.94147</td>\n",
       "    </tr>\n",
       "    <tr>\n",
       "      <th>5</th>\n",
       "      <td>0.322</td>\n",
       "      <td>33</td>\n",
       "      <td>3.72</td>\n",
       "      <td>294</td>\n",
       "      <td>2.18</td>\n",
       "      <td>207</td>\n",
       "      <td>2.48</td>\n",
       "      <td>2.15054</td>\n",
       "      <td>2.46679</td>\n",
       "      <td>2.50356</td>\n",
       "      <td>2.50358</td>\n",
       "      <td>2.50352</td>\n",
       "      <td>2.47521</td>\n",
       "      <td>2.92151</td>\n",
       "      <td>3.01759</td>\n",
       "      <td>2.37886</td>\n",
       "    </tr>\n",
       "    <tr>\n",
       "      <th>6</th>\n",
       "      <td>0.386</td>\n",
       "      <td>32.9</td>\n",
       "      <td>2</td>\n",
       "      <td>303</td>\n",
       "      <td>2.43</td>\n",
       "      <td>423</td>\n",
       "      <td>0.8</td>\n",
       "      <td>1.25</td>\n",
       "      <td>2.23935</td>\n",
       "      <td>2.55852</td>\n",
       "      <td>2.55848</td>\n",
       "      <td>2.55796</td>\n",
       "      <td>2.50288</td>\n",
       "      <td>2.8299</td>\n",
       "      <td>3.07533</td>\n",
       "      <td>2.63298</td>\n",
       "    </tr>\n",
       "    <tr>\n",
       "      <th>7</th>\n",
       "      <td>0.13</td>\n",
       "      <td>32.3</td>\n",
       "      <td>4</td>\n",
       "      <td>337</td>\n",
       "      <td>2.43</td>\n",
       "      <td>466</td>\n",
       "      <td>0.62</td>\n",
       "      <td>1.425</td>\n",
       "      <td>3.18934</td>\n",
       "      <td>3.64267</td>\n",
       "      <td>3.64264</td>\n",
       "      <td>3.64203</td>\n",
       "      <td>2.88623</td>\n",
       "      <td>4.75779</td>\n",
       "      <td>3.25718</td>\n",
       "      <td>3.44914</td>\n",
       "    </tr>\n",
       "    <tr>\n",
       "      <th>8</th>\n",
       "      <td>0.094</td>\n",
       "      <td>29</td>\n",
       "      <td>4.49836</td>\n",
       "      <td>448</td>\n",
       "      <td>2.04</td>\n",
       "      <td>434</td>\n",
       "      <td>0.94</td>\n",
       "      <td>1.96793</td>\n",
       "      <td>4.6136</td>\n",
       "      <td>3.37939</td>\n",
       "      <td>3.37939</td>\n",
       "      <td>3.37932</td>\n",
       "      <td>2.91545</td>\n",
       "      <td>4.75779</td>\n",
       "      <td>3.63232</td>\n",
       "      <td>2.9446</td>\n",
       "    </tr>\n",
       "    <tr>\n",
       "      <th>9</th>\n",
       "      <td>0.227</td>\n",
       "      <td>28.4</td>\n",
       "      <td>2</td>\n",
       "      <td>303</td>\n",
       "      <td>2.43</td>\n",
       "      <td>300</td>\n",
       "      <td>0.75</td>\n",
       "      <td>1.66667</td>\n",
       "      <td>1.99879</td>\n",
       "      <td>2.56182</td>\n",
       "      <td>2.56181</td>\n",
       "      <td>2.56163</td>\n",
       "      <td>2.86337</td>\n",
       "      <td>2.92151</td>\n",
       "      <td>3.02185</td>\n",
       "      <td>2.40661</td>\n",
       "    </tr>\n",
       "    <tr>\n",
       "      <th>10</th>\n",
       "      <td>0.093</td>\n",
       "      <td>32.8</td>\n",
       "      <td>4.49836</td>\n",
       "      <td>448</td>\n",
       "      <td>2.04</td>\n",
       "      <td>434</td>\n",
       "      <td>0.94</td>\n",
       "      <td>5.8309</td>\n",
       "      <td>4.26861</td>\n",
       "      <td>3.30268</td>\n",
       "      <td>3.30268</td>\n",
       "      <td>3.30262</td>\n",
       "      <td>4.22741</td>\n",
       "      <td>4.75779</td>\n",
       "      <td>3.59723</td>\n",
       "      <td>2.90657</td>\n",
       "    </tr>\n",
       "    <tr>\n",
       "      <th>11</th>\n",
       "      <td>0.5</td>\n",
       "      <td>40</td>\n",
       "      <td>4</td>\n",
       "      <td>474</td>\n",
       "      <td>1.82</td>\n",
       "      <td>372</td>\n",
       "      <td>0.64</td>\n",
       "      <td>1.18125</td>\n",
       "      <td>1.14295</td>\n",
       "      <td>0.988058</td>\n",
       "      <td>0.988085</td>\n",
       "      <td>0.988768</td>\n",
       "      <td>2.64491</td>\n",
       "      <td>0.63125</td>\n",
       "      <td>2.72674</td>\n",
       "      <td>0.913275</td>\n",
       "    </tr>\n",
       "    <tr>\n",
       "      <th>12</th>\n",
       "      <td>0.072</td>\n",
       "      <td>31</td>\n",
       "      <td>4</td>\n",
       "      <td>462</td>\n",
       "      <td>2.98</td>\n",
       "      <td>606.8</td>\n",
       "      <td>0.7</td>\n",
       "      <td>2.08333</td>\n",
       "      <td>5.60101</td>\n",
       "      <td>4.47037</td>\n",
       "      <td>4.47031</td>\n",
       "      <td>4.46944</td>\n",
       "      <td>4.96376</td>\n",
       "      <td>3.21897</td>\n",
       "      <td>3.19401</td>\n",
       "      <td>4.06251</td>\n",
       "    </tr>\n",
       "  </tbody>\n",
       "</table>\n",
       "</div>"
      ],
      "text/plain": [
       "                   0           1             2                            3  \\\n",
       "0   Axial Load Ratio  f'c (MPa)   Aspect Ratio  fy, Longitudinal Bars (Mpa)   \n",
       "1               0.05          30         5.997                          420   \n",
       "2                0.1        24.4             3                          446   \n",
       "3              0.069        35.8       6.01316                          475   \n",
       "4              0.127        56.2             3                          455   \n",
       "5              0.322          33          3.72                          294   \n",
       "6              0.386        32.9             2                          303   \n",
       "7               0.13        32.3             4                          337   \n",
       "8              0.094          29       4.49836                          448   \n",
       "9              0.227        28.4             2                          303   \n",
       "10             0.093        32.8       4.49836                          448   \n",
       "11               0.5          40             4                          474   \n",
       "12             0.072          31             4                          462   \n",
       "\n",
       "               4                          5               6  \\\n",
       "0   rho Long (%)  fy, Transverse Bars (Mpa)  rho Spiral (%)   \n",
       "1           2.19                        420        0.294436   \n",
       "2           1.96                        441            1.41   \n",
       "3              2                        493            0.63   \n",
       "4           0.99                        455            0.13   \n",
       "5           2.18                        207            2.48   \n",
       "6           2.43                        423             0.8   \n",
       "7           2.43                        466            0.62   \n",
       "8           2.04                        434            0.94   \n",
       "9           2.43                        300            0.75   \n",
       "10          2.04                        434            0.94   \n",
       "11          1.82                        372            0.64   \n",
       "12          2.98                      606.8             0.7   \n",
       "\n",
       "                              7               8                             9  \\\n",
       "0   Concrete Spalling Drift (%)  ANN Prediction  Linear Regression Prediction   \n",
       "1                           2.6         3.83366                       3.33184   \n",
       "2                       4.26667          4.6569                       3.63607   \n",
       "3                       2.94311         3.85166                        3.4595   \n",
       "4                        1.9685         2.98033                       1.94298   \n",
       "5                       2.15054         2.46679                       2.50356   \n",
       "6                          1.25         2.23935                       2.55852   \n",
       "7                         1.425         3.18934                       3.64267   \n",
       "8                       1.96793          4.6136                       3.37939   \n",
       "9                       1.66667         1.99879                       2.56182   \n",
       "10                       5.8309         4.26861                       3.30268   \n",
       "11                      1.18125         1.14295                      0.988058   \n",
       "12                      2.08333         5.60101                       4.47037   \n",
       "\n",
       "                             10                           11              12  \\\n",
       "0   Ridge Regression Prediction  Lasso Regression Prediction  KNN Prediction   \n",
       "1                       3.33184                      3.33189           3.716   \n",
       "2                       3.63605                      3.63578         4.34302   \n",
       "3                        3.4595                      3.45947         4.79285   \n",
       "4                       1.94299                      1.94336         2.98574   \n",
       "5                       2.50358                      2.50352         2.47521   \n",
       "6                       2.55848                      2.55796         2.50288   \n",
       "7                       3.64264                      3.64203         2.88623   \n",
       "8                       3.37939                      3.37932         2.91545   \n",
       "9                       2.56181                      2.56163         2.86337   \n",
       "10                      3.30268                      3.30262         4.22741   \n",
       "11                     0.988085                     0.988768         2.64491   \n",
       "12                      4.47031                      4.46944         4.96376   \n",
       "\n",
       "                          13                        14  \\\n",
       "0   Decision Tree Prediction  Random Forest Prediction   \n",
       "1                     2.8299                   3.39608   \n",
       "2                    4.75779                   3.46617   \n",
       "3                    3.21897                   3.33146   \n",
       "4                    2.62787                   3.01449   \n",
       "5                    2.92151                   3.01759   \n",
       "6                     2.8299                   3.07533   \n",
       "7                    4.75779                   3.25718   \n",
       "8                    4.75779                   3.63232   \n",
       "9                    2.92151                   3.02185   \n",
       "10                   4.75779                   3.59723   \n",
       "11                   0.63125                   2.72674   \n",
       "12                   3.21897                   3.19401   \n",
       "\n",
       "                           15  \n",
       "0   Support Vector Prediction  \n",
       "1                     2.86966  \n",
       "2                     3.20451  \n",
       "3                     3.03553  \n",
       "4                     1.94147  \n",
       "5                     2.37886  \n",
       "6                     2.63298  \n",
       "7                     3.44914  \n",
       "8                      2.9446  \n",
       "9                     2.40661  \n",
       "10                    2.90657  \n",
       "11                   0.913275  \n",
       "12                    4.06251  "
      ]
     },
     "execution_count": 35,
     "metadata": {},
     "output_type": "execute_result"
    }
   ],
   "source": [
    "# show the inputs and predicted outputs\n",
    "result = []\n",
    "df = pd.read_excel(FILE_PATH)\n",
    "head = list(df.columns[:8])\n",
    "head.append(df.columns[9])\n",
    "head.append(\"ANN Prediction\")\n",
    "head.append(\"Linear Regression Prediction\")\n",
    "head.append(\"Ridge Regression Prediction\")\n",
    "head.append(\"Lasso Regression Prediction\")\n",
    "head.append(\"KNN Prediction\")\n",
    "head.append(\"Decision Tree Prediction\")\n",
    "head.append(\"Random Forest Prediction\")\n",
    "head.append(\"Support Vector Prediction\")\n",
    "result.append(head[1:])\n",
    "\n",
    "for i in range(len(test_y_2)):\n",
    "    tmp = list(test_x_original_2.to_numpy()[i])\n",
    "    tmp.append(test_y_2[i])\n",
    "    tmp.append(pred_y_nn_2[i])\n",
    "    tmp.append(pred_y_lr_2[i])\n",
    "    tmp.append(pred_y_rr_2[i])\n",
    "    tmp.append(pred_y_Lasso_2[i])\n",
    "    tmp.append(pred_y_knn_2[i])\n",
    "    tmp.append(pred_y_dt_2[i])\n",
    "    tmp.append(pred_y_rf_2[i])\n",
    "    tmp.append(pred_y_svmr_2[i])    \n",
    "    result.append(tmp)\n",
    "result = pd.DataFrame(result)\n",
    "\n",
    "result"
   ]
  },
  {
   "cell_type": "markdown",
   "metadata": {},
   "source": [
    "## Print Bar Buckling Results"
   ]
  },
  {
   "cell_type": "code",
   "execution_count": 36,
   "metadata": {},
   "outputs": [
    {
     "data": {
      "text/html": [
       "<div>\n",
       "<style scoped>\n",
       "    .dataframe tbody tr th:only-of-type {\n",
       "        vertical-align: middle;\n",
       "    }\n",
       "\n",
       "    .dataframe tbody tr th {\n",
       "        vertical-align: top;\n",
       "    }\n",
       "\n",
       "    .dataframe thead th {\n",
       "        text-align: right;\n",
       "    }\n",
       "</style>\n",
       "<table border=\"1\" class=\"dataframe\">\n",
       "  <thead>\n",
       "    <tr style=\"text-align: right;\">\n",
       "      <th></th>\n",
       "      <th>0</th>\n",
       "      <th>1</th>\n",
       "      <th>2</th>\n",
       "      <th>3</th>\n",
       "      <th>4</th>\n",
       "      <th>5</th>\n",
       "      <th>6</th>\n",
       "      <th>7</th>\n",
       "      <th>8</th>\n",
       "      <th>9</th>\n",
       "      <th>10</th>\n",
       "      <th>11</th>\n",
       "      <th>12</th>\n",
       "      <th>13</th>\n",
       "      <th>14</th>\n",
       "      <th>15</th>\n",
       "    </tr>\n",
       "  </thead>\n",
       "  <tbody>\n",
       "    <tr>\n",
       "      <th>0</th>\n",
       "      <td>Axial Load Ratio</td>\n",
       "      <td>f'c (MPa)</td>\n",
       "      <td>Aspect Ratio</td>\n",
       "      <td>fy, Longitudinal Bars (Mpa)</td>\n",
       "      <td>rho Long (%)</td>\n",
       "      <td>fy, Transverse Bars (Mpa)</td>\n",
       "      <td>rho Spiral (%)</td>\n",
       "      <td>Bar Buckling Drift (%)</td>\n",
       "      <td>ANN Prediction</td>\n",
       "      <td>Linear Regression Prediction</td>\n",
       "      <td>Ridge Regression Prediction</td>\n",
       "      <td>Lasso Regression Prediction</td>\n",
       "      <td>KNN Prediction</td>\n",
       "      <td>Decision Tree Prediction</td>\n",
       "      <td>Random Forest Prediction</td>\n",
       "      <td>Support Vector Prediction</td>\n",
       "    </tr>\n",
       "    <tr>\n",
       "      <th>1</th>\n",
       "      <td>0.05</td>\n",
       "      <td>30</td>\n",
       "      <td>5.997</td>\n",
       "      <td>420</td>\n",
       "      <td>2.19</td>\n",
       "      <td>420</td>\n",
       "      <td>0.294436</td>\n",
       "      <td>6.06889</td>\n",
       "      <td>5.18004</td>\n",
       "      <td>5.93857</td>\n",
       "      <td>6.00136</td>\n",
       "      <td>5.99681</td>\n",
       "      <td>5.18652</td>\n",
       "      <td>5.30222</td>\n",
       "      <td>5.65903</td>\n",
       "      <td>5.73492</td>\n",
       "    </tr>\n",
       "    <tr>\n",
       "      <th>2</th>\n",
       "      <td>0.1</td>\n",
       "      <td>24.4</td>\n",
       "      <td>3</td>\n",
       "      <td>446</td>\n",
       "      <td>1.96</td>\n",
       "      <td>441</td>\n",
       "      <td>1.41</td>\n",
       "      <td>7.10667</td>\n",
       "      <td>6.68617</td>\n",
       "      <td>6.46545</td>\n",
       "      <td>6.04139</td>\n",
       "      <td>6.34413</td>\n",
       "      <td>5.75217</td>\n",
       "      <td>5.86334</td>\n",
       "      <td>5.77217</td>\n",
       "      <td>5.64814</td>\n",
       "    </tr>\n",
       "    <tr>\n",
       "      <th>3</th>\n",
       "      <td>0.069</td>\n",
       "      <td>35.8</td>\n",
       "      <td>6.01316</td>\n",
       "      <td>475</td>\n",
       "      <td>2</td>\n",
       "      <td>493</td>\n",
       "      <td>0.63</td>\n",
       "      <td>5.88621</td>\n",
       "      <td>7.26641</td>\n",
       "      <td>7.21158</td>\n",
       "      <td>6.89595</td>\n",
       "      <td>7.15081</td>\n",
       "      <td>6.33847</td>\n",
       "      <td>6.23632</td>\n",
       "      <td>6.78536</td>\n",
       "      <td>7.05688</td>\n",
       "    </tr>\n",
       "    <tr>\n",
       "      <th>4</th>\n",
       "      <td>0.091</td>\n",
       "      <td>34.5</td>\n",
       "      <td>3</td>\n",
       "      <td>441.3</td>\n",
       "      <td>2.73</td>\n",
       "      <td>606.8</td>\n",
       "      <td>0.89</td>\n",
       "      <td>6.83508</td>\n",
       "      <td>5.98914</td>\n",
       "      <td>6.07807</td>\n",
       "      <td>5.95019</td>\n",
       "      <td>5.61138</td>\n",
       "      <td>5.88501</td>\n",
       "      <td>5.30222</td>\n",
       "      <td>6.14548</td>\n",
       "      <td>5.98513</td>\n",
       "    </tr>\n",
       "    <tr>\n",
       "      <th>5</th>\n",
       "      <td>0.127</td>\n",
       "      <td>56.2</td>\n",
       "      <td>3</td>\n",
       "      <td>455</td>\n",
       "      <td>0.99</td>\n",
       "      <td>455</td>\n",
       "      <td>0.13</td>\n",
       "      <td>3.1168</td>\n",
       "      <td>3.65156</td>\n",
       "      <td>4.27479</td>\n",
       "      <td>5.08923</td>\n",
       "      <td>4.43157</td>\n",
       "      <td>4.00504</td>\n",
       "      <td>3.71391</td>\n",
       "      <td>6.06485</td>\n",
       "      <td>5.00672</td>\n",
       "    </tr>\n",
       "    <tr>\n",
       "      <th>6</th>\n",
       "      <td>0.13</td>\n",
       "      <td>32.3</td>\n",
       "      <td>4</td>\n",
       "      <td>337</td>\n",
       "      <td>2.43</td>\n",
       "      <td>466</td>\n",
       "      <td>0.62</td>\n",
       "      <td>2.85</td>\n",
       "      <td>5.04564</td>\n",
       "      <td>4.06531</td>\n",
       "      <td>4.5892</td>\n",
       "      <td>3.90836</td>\n",
       "      <td>4.37515</td>\n",
       "      <td>4</td>\n",
       "      <td>5.58921</td>\n",
       "      <td>4.90863</td>\n",
       "    </tr>\n",
       "    <tr>\n",
       "      <th>7</th>\n",
       "      <td>0.12</td>\n",
       "      <td>37.2</td>\n",
       "      <td>4</td>\n",
       "      <td>462</td>\n",
       "      <td>1.49</td>\n",
       "      <td>606.8</td>\n",
       "      <td>0.7</td>\n",
       "      <td>5.20833</td>\n",
       "      <td>6.66063</td>\n",
       "      <td>6.03328</td>\n",
       "      <td>6.10239</td>\n",
       "      <td>5.84816</td>\n",
       "      <td>6.31712</td>\n",
       "      <td>5.30222</td>\n",
       "      <td>6.348</td>\n",
       "      <td>5.8782</td>\n",
       "    </tr>\n",
       "    <tr>\n",
       "      <th>8</th>\n",
       "      <td>0.093</td>\n",
       "      <td>32.8</td>\n",
       "      <td>4.49836</td>\n",
       "      <td>448</td>\n",
       "      <td>2.04</td>\n",
       "      <td>434</td>\n",
       "      <td>0.94</td>\n",
       "      <td>5.8309</td>\n",
       "      <td>6.72123</td>\n",
       "      <td>6.44343</td>\n",
       "      <td>6.21756</td>\n",
       "      <td>6.39833</td>\n",
       "      <td>5.8309</td>\n",
       "      <td>5.30222</td>\n",
       "      <td>5.87621</td>\n",
       "      <td>5.99629</td>\n",
       "    </tr>\n",
       "    <tr>\n",
       "      <th>9</th>\n",
       "      <td>0.419</td>\n",
       "      <td>90</td>\n",
       "      <td>6.58</td>\n",
       "      <td>419</td>\n",
       "      <td>3.28</td>\n",
       "      <td>1000</td>\n",
       "      <td>1.54</td>\n",
       "      <td>4.49848</td>\n",
       "      <td>5.52023</td>\n",
       "      <td>6.98156</td>\n",
       "      <td>7.06202</td>\n",
       "      <td>5.75569</td>\n",
       "      <td>7.89896</td>\n",
       "      <td>4</td>\n",
       "      <td>6.66529</td>\n",
       "      <td>8.86119</td>\n",
       "    </tr>\n",
       "    <tr>\n",
       "      <th>10</th>\n",
       "      <td>0.072</td>\n",
       "      <td>31</td>\n",
       "      <td>4</td>\n",
       "      <td>462</td>\n",
       "      <td>2.98</td>\n",
       "      <td>606.8</td>\n",
       "      <td>0.7</td>\n",
       "      <td>7.29987</td>\n",
       "      <td>5.7683</td>\n",
       "      <td>6.63779</td>\n",
       "      <td>6.38612</td>\n",
       "      <td>6.19888</td>\n",
       "      <td>6.07377</td>\n",
       "      <td>5.30222</td>\n",
       "      <td>6.23425</td>\n",
       "      <td>6.59016</td>\n",
       "    </tr>\n",
       "  </tbody>\n",
       "</table>\n",
       "</div>"
      ],
      "text/plain": [
       "                   0           1             2                            3  \\\n",
       "0   Axial Load Ratio  f'c (MPa)   Aspect Ratio  fy, Longitudinal Bars (Mpa)   \n",
       "1               0.05          30         5.997                          420   \n",
       "2                0.1        24.4             3                          446   \n",
       "3              0.069        35.8       6.01316                          475   \n",
       "4              0.091        34.5             3                        441.3   \n",
       "5              0.127        56.2             3                          455   \n",
       "6               0.13        32.3             4                          337   \n",
       "7               0.12        37.2             4                          462   \n",
       "8              0.093        32.8       4.49836                          448   \n",
       "9              0.419          90          6.58                          419   \n",
       "10             0.072          31             4                          462   \n",
       "\n",
       "               4                          5               6  \\\n",
       "0   rho Long (%)  fy, Transverse Bars (Mpa)  rho Spiral (%)   \n",
       "1           2.19                        420        0.294436   \n",
       "2           1.96                        441            1.41   \n",
       "3              2                        493            0.63   \n",
       "4           2.73                      606.8            0.89   \n",
       "5           0.99                        455            0.13   \n",
       "6           2.43                        466            0.62   \n",
       "7           1.49                      606.8             0.7   \n",
       "8           2.04                        434            0.94   \n",
       "9           3.28                       1000            1.54   \n",
       "10          2.98                      606.8             0.7   \n",
       "\n",
       "                         7               8                             9  \\\n",
       "0   Bar Buckling Drift (%)  ANN Prediction  Linear Regression Prediction   \n",
       "1                  6.06889         5.18004                       5.93857   \n",
       "2                  7.10667         6.68617                       6.46545   \n",
       "3                  5.88621         7.26641                       7.21158   \n",
       "4                  6.83508         5.98914                       6.07807   \n",
       "5                   3.1168         3.65156                       4.27479   \n",
       "6                     2.85         5.04564                       4.06531   \n",
       "7                  5.20833         6.66063                       6.03328   \n",
       "8                   5.8309         6.72123                       6.44343   \n",
       "9                  4.49848         5.52023                       6.98156   \n",
       "10                 7.29987          5.7683                       6.63779   \n",
       "\n",
       "                             10                           11              12  \\\n",
       "0   Ridge Regression Prediction  Lasso Regression Prediction  KNN Prediction   \n",
       "1                       6.00136                      5.99681         5.18652   \n",
       "2                       6.04139                      6.34413         5.75217   \n",
       "3                       6.89595                      7.15081         6.33847   \n",
       "4                       5.95019                      5.61138         5.88501   \n",
       "5                       5.08923                      4.43157         4.00504   \n",
       "6                        4.5892                      3.90836         4.37515   \n",
       "7                       6.10239                      5.84816         6.31712   \n",
       "8                       6.21756                      6.39833          5.8309   \n",
       "9                       7.06202                      5.75569         7.89896   \n",
       "10                      6.38612                      6.19888         6.07377   \n",
       "\n",
       "                          13                        14  \\\n",
       "0   Decision Tree Prediction  Random Forest Prediction   \n",
       "1                    5.30222                   5.65903   \n",
       "2                    5.86334                   5.77217   \n",
       "3                    6.23632                   6.78536   \n",
       "4                    5.30222                   6.14548   \n",
       "5                    3.71391                   6.06485   \n",
       "6                          4                   5.58921   \n",
       "7                    5.30222                     6.348   \n",
       "8                    5.30222                   5.87621   \n",
       "9                          4                   6.66529   \n",
       "10                   5.30222                   6.23425   \n",
       "\n",
       "                           15  \n",
       "0   Support Vector Prediction  \n",
       "1                     5.73492  \n",
       "2                     5.64814  \n",
       "3                     7.05688  \n",
       "4                     5.98513  \n",
       "5                     5.00672  \n",
       "6                     4.90863  \n",
       "7                      5.8782  \n",
       "8                     5.99629  \n",
       "9                     8.86119  \n",
       "10                    6.59016  "
      ]
     },
     "execution_count": 36,
     "metadata": {},
     "output_type": "execute_result"
    }
   ],
   "source": [
    "# show the inputs and predicted outputs\n",
    "result = []\n",
    "df = pd.read_excel(FILE_PATH)\n",
    "head = list(df.columns[:8])\n",
    "head.append(df.columns[10])\n",
    "head.append(\"ANN Prediction\")\n",
    "head.append(\"Linear Regression Prediction\")\n",
    "head.append(\"Ridge Regression Prediction\")\n",
    "head.append(\"Lasso Regression Prediction\")\n",
    "head.append(\"KNN Prediction\")\n",
    "head.append(\"Decision Tree Prediction\")\n",
    "head.append(\"Random Forest Prediction\")\n",
    "head.append(\"Support Vector Prediction\")\n",
    "result.append(head[1:])\n",
    "\n",
    "for i in range(len(test_y_3)):\n",
    "    tmp = list(test_x_original_3.to_numpy()[i])\n",
    "    tmp.append(test_y_3[i])\n",
    "    tmp.append(pred_y_nn_3[i])\n",
    "    tmp.append(pred_y_lr_3[i])\n",
    "    tmp.append(pred_y_rr_3[i])\n",
    "    tmp.append(pred_y_Lasso_3[i])\n",
    "    tmp.append(pred_y_knn_3[i])\n",
    "    tmp.append(pred_y_dt_3[i])\n",
    "    tmp.append(pred_y_rf_3[i])\n",
    "    tmp.append(pred_y_svmr_3[i])    \n",
    "    result.append(tmp)\n",
    "result = pd.DataFrame(result)\n",
    "\n",
    "result"
   ]
  },
  {
   "cell_type": "markdown",
   "metadata": {},
   "source": [
    "## Create Polar Graphs for Manuscript"
   ]
  },
  {
   "cell_type": "code",
   "execution_count": 41,
   "metadata": {},
   "outputs": [
    {
     "name": "stdout",
     "output_type": "stream",
     "text": [
      "Best Concrete Spalling Model: SVMR\n",
      "Best Core Crushing Model: SVMR\n",
      "Best Bar Buckling Model: DT\n"
     ]
    },
    {
     "data": {
      "text/plain": [
       "<matplotlib.legend.Legend at 0x22aa13dc0c8>"
      ]
     },
     "execution_count": 41,
     "metadata": {},
     "output_type": "execute_result"
    },
    {
     "data": {
      "image/png": "[encoded data removed]",
      "text/plain": [
       "<Figure size 1080x288 with 3 Axes>"
      ]
     },
     "metadata": {
      "needs_background": "light"
     },
     "output_type": "display_data"
    }
   ],
   "source": [
    "labels=np.array(['ANN', 'LR', 'RR', 'Lasso', 'KNN', 'DT', 'RF', 'SVMR'])\n",
    "models = {0:'ANN',1: 'LR',2: 'RR',3: 'Lasso',4: 'KNN',5: 'DT',6: 'RF',7: 'SVMR'}\n",
    "best_1, best_2, best_3 = [],[],[]\n",
    "best_model = {0: best_1,1: best_2,2: best_3}\n",
    "title_lbl= {1:'Core Crushing', 0:'Concrete Spalling', 2:'Bar Buckling'}\n",
    "legend_lbl=np.array(['Pearson r','R²','SMAPE','RMSE','Reference Index'])\n",
    "varlist_1= {0:best_nn_1, 1:best_lr_1, 2:best_rr_1, 3:best_lasso_1, 4:best_knn_1, 5:best_dt_1, 6:best_rf_1, 7:best_svmr_1}\n",
    "varlist_2= {0:best_nn_2, 1:best_lr_2, 2:best_rr_2, 3:best_lasso_2, 4:best_knn_2, 5:best_dt_2, 6:best_rf_2, 7:best_svmr_2}\n",
    "varlist_3= {0:best_nn_3, 1:best_lr_3, 2:best_rr_3, 3:best_lasso_3, 4:best_knn_3, 5:best_dt_3, 6:best_rf_3, 7:best_svmr_3}\n",
    "list_of_lists= {0:varlist_2, 1:varlist_1, 2:varlist_3}\n",
    "\n",
    "palette = [\"#264653\", \"#2a9d8f\", \"#e9c46a\", \"#f4a261\", \"#e76f51\"]\n",
    "sns.set_palette(palette)\n",
    "fig, ax = plt.subplots(1, 3, subplot_kw=dict(projection='polar'), figsize=(15,4))\n",
    "\n",
    "for i in range(len(list_of_lists)):\n",
    "    plt_title = title_lbl.get(i) \n",
    "    radial_r, radial_r2, radial_SMAPE, radial_RMSE, radial_RefIDX = [], [], [], [], []\n",
    "    angles=np.linspace(0, 2*np.pi, len(labels), endpoint=False)\n",
    "    for j in range(len(list_of_lists[i])):\n",
    "        radial_r.append(list_of_lists[i][j].at[0,'r'])\n",
    "        radial_r2.append(list_of_lists[i][j].at[0,'r2'])\n",
    "        radial_SMAPE.append(list_of_lists[i][j].at[0,'SMAPE'])\n",
    "        radial_RMSE.append(list_of_lists[i][j].at[0,'RMSE'])    \n",
    "\n",
    "    angles=np.concatenate((angles,[angles[0]]))\n",
    "    radial_r=np.concatenate((radial_r,[radial_r[0]]))\n",
    "    radial_r2=np.concatenate((radial_r2,[radial_r2[0]]))\n",
    "    radial_SMAPE=np.concatenate((radial_SMAPE,[radial_SMAPE[0]]))\n",
    "    radial_RMSE=np.concatenate((radial_RMSE,[radial_RMSE[0]]))\n",
    "    radial_r = Norm(radial_r)\n",
    "    radial_r2 = Norm(radial_r2)\n",
    "    radial_SMAPE = Norm_inv(radial_SMAPE)\n",
    "    radial_RMSE = Norm_inv(radial_RMSE)\n",
    "    radialplt= {0:radial_r, 1:radial_r2, 2:radial_SMAPE, 3:radial_RMSE}\n",
    "    radial_RefIDX = List_AVG(radial_r, radial_r2, radial_SMAPE, radial_RMSE)\n",
    "    for j in range(len(radialplt)):\n",
    "        ax[i].plot(angles, radialplt[j], marker = '.', ls = '--', lw = 1, alpha=1)\n",
    "        ax[i].fill(angles, radialplt[j], alpha=0.1)\n",
    "    \n",
    "    ax[i].plot(angles, radial_RefIDX, 'o-', alpha=1, lw = 2)\n",
    "    ax[i].fill(angles, radial_RefIDX, alpha=.5)\n",
    "    ax[i].set_thetagrids(angles * 180/np.pi, labels, fontsize = 12, y =-.025)\n",
    "    ax[i].set_title(plt_title, fontsize = 15, y=1.15)\n",
    "    best_model[i] = (radial_RefIDX[:8])\n",
    "    print(\"Best\",title_lbl[i], \"Model:\",models.get(best_model[i].index(max(best_model[i]))))\n",
    "ax[2].legend(legend_lbl,title=\"Normalized Values\", title_fontsize = 14,loc='upper center', bbox_to_anchor=(1.6, 0.8), shadow=True, ncol=1,fontsize = 14)"
   ]
  },
  {
   "cell_type": "markdown",
   "metadata": {},
   "source": [
    "## Create Scatter Plots for Manuscript"
   ]
  },
  {
   "cell_type": "code",
   "execution_count": 44,
   "metadata": {},
   "outputs": [
    {
     "data": {
      "text/plain": [
       "<matplotlib.legend.Legend at 0x22aa14a0f08>"
      ]
     },
     "execution_count": 44,
     "metadata": {},
     "output_type": "execute_result"
    },
    {
     "data": {
      "image/png": "[encoded data removed]",
      "text/plain": [
       "<Figure size 1080x288 with 3 Axes>"
      ]
     },
     "metadata": {
      "needs_background": "light"
     },
     "output_type": "display_data"
    }
   ],
   "source": [
    "legend_lbl=np.array(['ANN', 'LR', 'RR', 'Lasso', 'KNN', 'DT', 'RF', 'SVMR'])\n",
    "title_lbl= {0:'Concrete Spalling', 1:'Core Crushing', 2:'Bar Buckling'}\n",
    "\n",
    "y_list_1= {0:pred_y_nn_1, 1:pred_y_lr_1, 2:pred_y_rr_1, 3:pred_y_Lasso_1, 4:pred_y_knn_1, 5:pred_y_dt_1, 6:pred_y_rf_1, 7:pred_y_svmr_1}\n",
    "y_list_2= {0:pred_y_nn_2, 1:pred_y_lr_2, 2:pred_y_rr_2, 3:pred_y_Lasso_2, 4:pred_y_knn_2, 5:pred_y_dt_2, 6:pred_y_rf_2, 7:pred_y_svmr_2}\n",
    "y_list_3= {0:pred_y_nn_3, 1:pred_y_lr_3, 2:pred_y_rr_3, 3:pred_y_Lasso_3, 4:pred_y_knn_3, 5:pred_y_dt_3, 6:pred_y_rf_3, 7:pred_y_svmr_3}\n",
    "perf_fit = [[0,6],[0,3],[0,8]]\n",
    "x_list= {0:test_y_2, 1:test_y_1, 2:test_y_3}\n",
    "y_all= {0:y_list_2, 1:y_list_1, 2:y_list_3}\n",
    "\n",
    "palette = [\"#F94144\", \"#F3722C\", \"#F8961E\", \"#F9844A\", \"#F9C74F\", \"#90BE6D\", \"#43AA8B\", \"#4D908E\"]\n",
    "sns.set_palette(palette)\n",
    "fig, ax = plt.subplots(1, 3, sharey=False, figsize=(15,4))\n",
    "lgnd_h = []\n",
    "for i in range(len(y_all)):\n",
    "    plt_title = title_lbl.get(i) \n",
    "    for j in range(len(labels)):\n",
    "        ax[i].plot(x_list.get(i),y_all.get(i).get(j), marker = 'o', lw = 0)\n",
    "        if i == 0:\n",
    "            lgnd_h.append(Line2D(x_list.get(i),y_all.get(i).get(j), marker = 'o', color= palette[j], lw = 0))\n",
    "        # Display Linear Trendline for each series\n",
    "        trend_x = np.polyfit(x_list.get(i), y_all.get(i).get(j), 1)\n",
    "        trend_fit = np.poly1d(trend_x)\n",
    "        ax[i].plot([0,perf_fit[i][1]],[trend_fit(0),trend_fit(perf_fit[i][1])],ls = '--',lw = 1)\n",
    "    ax[i].plot(perf_fit[i],perf_fit[i], 'r-', lw = 1.5)\n",
    "    ax[i].set_title(plt_title, y=1, fontsize = 12)\n",
    "    ax[i].set_ylim(bottom=0); ax[i].set_xlim(left=0)\n",
    "    ax[i].grid(linestyle='-', linewidth=0.5)\n",
    "ax[0].set_ylabel('Predicted Drift (%)', fontsize=14)\n",
    "ax[1].set_xlabel('Actual Drift (%)', fontsize=14)\n",
    "ax[2].legend(handles =lgnd_h, labels = list(legend_lbl), loc='upper center', bbox_to_anchor=(1.3, .9), shadow=True, ncol=1, fontsize = 14)"
   ]
  },
  {
   "cell_type": "markdown",
   "metadata": {},
   "source": [
    "## Plot Histograms for Manuscript"
   ]
  },
  {
   "cell_type": "code",
   "execution_count": 46,
   "metadata": {},
   "outputs": [
    {
     "data": {
      "text/plain": [
       "Text(0.5, 0, 'Drift Ratio (%) \\n(f)')"
      ]
     },
     "execution_count": 46,
     "metadata": {},
     "output_type": "execute_result"
    },
    {
     "data": {
      "image/png": "[encoded data removed]",
      "text/plain": [
       "<Figure size 1080x288 with 3 Axes>"
      ]
     },
     "metadata": {
      "needs_background": "light"
     },
     "output_type": "display_data"
    }
   ],
   "source": [
    "fig, ax = plt.subplots(1, 3, tight_layout=True, figsize=(15,4))\n",
    "n_bins = 20\n",
    "ax[0].grid(linestyle='-', linewidth=0.5)\n",
    "ax[0].hist(X[:,1], bins=n_bins,edgecolor='black', linewidth=1, color = '#90BE6D')\n",
    "ax[0].set_xlabel(\"fc' (MPa) \\n(d)\", fontsize=14)\n",
    "ax[0].set_ylabel(\"frequency\", fontsize=14)\n",
    "\n",
    "ax[1].grid(linestyle='-', linewidth=0.5)\n",
    "ax[1].hist(X[:,3], bins=n_bins,edgecolor='black', linewidth=1, color = '#90BE6D')\n",
    "ax[1].set_xlabel(\"fy (MPa) \\n(e)\", fontsize=14)\n",
    "\n",
    "ax[2].grid(linestyle='-', linewidth=0.5)\n",
    "Hist_Y = np.concatenate((Y[:,0],Y[:,1],Y[:,2]))\n",
    "ax[2].hist(Hist_Y, bins=n_bins,edgecolor='black', linewidth=1, color = '#90BE6D')\n",
    "ax[2].set_xlabel(\"Drift Ratio (%) \\n(f)\", fontsize=14)\n"
   ]
  },
  {
   "cell_type": "markdown",
   "metadata": {},
   "source": [
    "## Comparison With Existing Methods"
   ]
  },
  {
   "cell_type": "code",
   "execution_count": 40,
   "metadata": {},
   "outputs": [
    {
     "name": "stdout",
     "output_type": "stream",
     "text": [
      "Circular Concrete Spalling Ratio:  0.9321735039353697 |  COV:  46.29015354832023\n",
      "Improvement over Berry & Eberhard (2003) Concrete Spalling Ratio:  0.2 % |  COV:  -32.26 % \n",
      "\n",
      "Circular Bar Buckling Ratio:  1.0724699518108356 |  COV:  18.088089043782038\n",
      "Improvement over Berry & Eberhard (2003) Bar Buckling Ratio:  -4.38 % |  COV:  24.63 %\n",
      "Improvement over Goodnight (2015) Bar Buckling Ratio:  1.61 % |  COV:  24.95 % \n",
      "\n"
     ]
    }
   ],
   "source": [
    "def Method_Comparison(actual, prediction):\n",
    "    pred_ratio = []\n",
    "    for i in range(len(actual)):\n",
    "        pred_ratio.append(actual[i]/prediction[i])\n",
    "    avg_ratio = sum(pred_ratio)/len(pred_ratio)\n",
    "    std_ratio = np.std(pred_ratio)\n",
    "    avg_cov = 100*std_ratio/avg_ratio\n",
    "    return avg_ratio, avg_cov\n",
    "\n",
    "if FILE_PATH == 'Rect_Dataset.xlsx':\n",
    "    cs_ratio, cs_cov = Method_Comparison(test_y_2,pred_y_svmr_2)\n",
    "    print(\"Rectangular Concrete Spalling Ratio: \",cs_ratio, \"|  COV: \",cs_cov)\n",
    "    print(\"Improvement over Berry & Eberhard (2003) Concrete Spalling Ratio: \",round((0.03-abs(cs_ratio-1))/(0.97/100),2),\"%\", \"|  COV: \",round((43-cs_cov)/(43/100),2),\"%\",'\\n')\n",
    "    bb_ratio, bb_cov = Method_Comparison(test_y_3,pred_y_dt_3)\n",
    "    print(\"Rectangular Bar Buckling Ratio: \",bb_ratio, \"|  COV: \",bb_cov)\n",
    "    print(\"Improvement over Berry & Eberhard (2003) Bar Buckling Ratio: \",round((0.01-abs(bb_ratio-1))/(1.01/100),2),\"%\",\"|  COV: \",round((25-bb_cov)/(25/100),2),\"%\",'\\n')\n",
    "\n",
    "if FILE_PATH == 'Circ_Dataset.xlsx':\n",
    "    cs_ratio, cs_cov = Method_Comparison(test_y_2,pred_y_svmr_2)\n",
    "    print(\"Circular Concrete Spalling Ratio: \",cs_ratio, \"|  COV: \",cs_cov)\n",
    "    print(\"Improvement over Berry & Eberhard (2003) Concrete Spalling Ratio: \",round((0.07-abs(cs_ratio-1))/(1.07/100),2),\"%\", \"|  COV: \",round((35-cs_cov)/(35/100),2),\"%\",'\\n')\n",
    "    bb_ratio, bb_cov = Method_Comparison(test_y_3,pred_y_dt_3)\n",
    "    print(\"Circular Bar Buckling Ratio: \",bb_ratio, \"|  COV: \",bb_cov)\n",
    "    print(\"Improvement over Berry & Eberhard (2003) Bar Buckling Ratio: \",round((0.03-abs(bb_ratio-1))/(0.97/100),2),\"%\", \"|  COV: \",round((24-bb_cov)/(24/100),2),\"%\")\n",
    "    print(\"Improvement over Goodnight (2015) Bar Buckling Ratio: \",round((0.09-abs(bb_ratio-1))/(1.09/100),2),\"%\", \"|  COV: \",round((24.1-bb_cov)/(24.1/100),2),\"%\",'\\n')\n"
   ]
  },
  {
   "cell_type": "code",
   "execution_count": null,
   "metadata": {},
   "outputs": [],
   "source": []
  },
  {
   "cell_type": "code",
   "execution_count": null,
   "metadata": {},
   "outputs": [],
   "source": []
  },
  {
   "cell_type": "code",
   "execution_count": null,
   "metadata": {},
   "outputs": [],
   "source": []
  }
 ],
 "metadata": {
  "kernelspec": {
   "display_name": "Python 3",
   "language": "python",
   "name": "python3"
  },
  "language_info": {
   "codemirror_mode": {
    "name": "ipython",
    "version": 3
   },
   "file_extension": ".py",
   "mimetype": "text/x-python",
   "name": "python",
   "nbconvert_exporter": "python",
   "pygments_lexer": "ipython3",
   "version": "3.7.4"
  }
 },
 "nbformat": 4,
 "nbformat_minor": 2
}
